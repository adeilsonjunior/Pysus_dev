{
 "cells": [
  {
   "cell_type": "code",
   "execution_count": 1,
   "id": "4ed051e9-d502-489e-ba2a-518bd598af0a",
   "metadata": {},
   "outputs": [
    {
     "name": "stdout",
     "output_type": "stream",
     "text": [
      "[2024-09-09 15:26:54.492409] Processo iniciado.\n",
      "[2024-09-09 15:26:56.209384] Tentando carregar arquivos do grupo PA para o ano 2023.\n",
      "[2024-09-09 15:26:56.404408] Arquivos carregados para PA-2023: [PAAC2301.dbc, PAAC2302.dbc, PAAC2303.dbc, PAAC2304.dbc, PAAC2305.dbc, PAAC2306.dbc, PAAC2307.dbc, PAAC2308.dbc, PAAC2309.dbc, PAAC2310.dbc, PAAC2311.dbc, PAAC2312.dbc, PAAL2301.dbc, PAAL2302.dbc, PAAL2303.dbc, PAAL2304.dbc, PAAL2305.dbc, PAAL2306.dbc, PAAL2307.dbc, PAAL2308.dbc, PAAL2309.dbc, PAAL2310.dbc, PAAL2311.dbc, PAAL2312.dbc, PAAM2301.dbc, PAAM2302.dbc, PAAM2303.dbc, PAAM2304.dbc, PAAM2305.dbc, PAAM2306.dbc, PAAM2307.dbc, PAAM2308.dbc, PAAM2309.dbc, PAAM2310.dbc, PAAM2311.dbc, PAAM2312.dbc, PAAP2301.dbc, PAAP2302.dbc, PAAP2303.dbc, PAAP2304.dbc, PAAP2305.dbc, PAAP2306.dbc, PAAP2307.dbc, PAAP2308.dbc, PAAP2309.dbc, PAAP2310.dbc, PAAP2311.dbc, PAAP2312.dbc, PABA2301.dbc, PABA2302.dbc, PABA2303.dbc, PABA2304.dbc, PABA2305.dbc, PABA2306.dbc, PABA2307.dbc, PABA2308.dbc, PABA2309.dbc, PABA2310.dbc, PABA2311.dbc, PABA2312.dbc, PACE2301.dbc, PACE2302.dbc, PACE2303.dbc, PACE2304.dbc, PACE2305.dbc, PACE2306.dbc, PACE2307.dbc, PACE2308.dbc, PACE2309.dbc, PACE2310.dbc, PACE2311.dbc, PACE2312.dbc, PADF2301.dbc, PADF2302.dbc, PADF2303.dbc, PADF2304.dbc, PADF2305.dbc, PADF2306.dbc, PADF2307.dbc, PADF2308.dbc, PADF2309.dbc, PADF2310.dbc, PADF2311.dbc, PADF2312.dbc, PAES2301.dbc, PAES2302.dbc, PAES2303.dbc, PAES2304.dbc, PAES2305.dbc, PAES2306.dbc, PAES2307.dbc, PAES2308.dbc, PAES2309.dbc, PAES2310.dbc, PAES2311.dbc, PAES2312.dbc, PAGO2301.dbc, PAGO2302.dbc, PAGO2303.dbc, PAGO2304.dbc, PAGO2305.dbc, PAGO2306.dbc, PAGO2307.dbc, PAGO2308.dbc, PAGO2309.dbc, PAGO2310.dbc, PAGO2311.dbc, PAGO2312.dbc, PAMA2301.dbc, PAMA2302.dbc, PAMA2303.dbc, PAMA2304.dbc, PAMA2305.dbc, PAMA2306.dbc, PAMA2307.dbc, PAMA2308.dbc, PAMA2309.dbc, PAMA2310.dbc, PAMA2311.dbc, PAMA2312.dbc, PAMG2301a.dbc, PAMG2301b.dbc, PAMG2302a.dbc, PAMG2302b.dbc, PAMG2303a.dbc, PAMG2303b.dbc, PAMG2304a.dbc, PAMG2304b.dbc, PAMG2305a.dbc, PAMG2305b.dbc, PAMG2306a.dbc, PAMG2306b.dbc, PAMG2307a.dbc, PAMG2307b.dbc, PAMG2308a.dbc, PAMG2308b.dbc, PAMG2309a.dbc, PAMG2309b.dbc, PAMG2310a.dbc, PAMG2310b.dbc, PAMG2311a.dbc, PAMG2311b.dbc, PAMG2312a.dbc, PAMG2312b.dbc, PAMS2301.dbc, PAMS2302.dbc, PAMS2303.dbc, PAMS2304.dbc, PAMS2305.dbc, PAMS2306.dbc, PAMS2307.dbc, PAMS2308.dbc, PAMS2309.dbc, PAMS2310.dbc, PAMS2311.dbc, PAMS2312.dbc, PAMT2301.dbc, PAMT2302.dbc, PAMT2303.dbc, PAMT2304.dbc, PAMT2305.dbc, PAMT2306.dbc, PAMT2307.dbc, PAMT2308.dbc, PAMT2309.dbc, PAMT2310.dbc, PAMT2311.dbc, PAMT2312.dbc, PAPA2301.dbc, PAPA2302.dbc, PAPA2303.dbc, PAPA2304.dbc, PAPA2305.dbc, PAPA2306.dbc, PAPA2307.dbc, PAPA2308.dbc, PAPA2309.dbc, PAPA2310.dbc, PAPA2311.dbc, PAPA2312.dbc, PAPB2301.dbc, PAPB2302.dbc, PAPB2303.dbc, PAPB2304.dbc, PAPB2305.dbc, PAPB2306.dbc, PAPB2307.dbc, PAPB2308.dbc, PAPB2309.dbc, PAPB2310.dbc, PAPB2311.dbc, PAPB2312.dbc, PAPE2301.dbc, PAPE2302.dbc, PAPE2303.dbc, PAPE2304.dbc, PAPE2305.dbc, PAPE2306.dbc, PAPE2307.dbc, PAPE2308.dbc, PAPE2309.dbc, PAPE2310.dbc, PAPE2311.dbc, PAPE2312.dbc, PAPI2301.dbc, PAPI2302.dbc, PAPI2303.dbc, PAPI2304.dbc, PAPI2305.dbc, PAPI2306.dbc, PAPI2307.dbc, PAPI2308.dbc, PAPI2309.dbc, PAPI2310.dbc, PAPI2311.dbc, PAPI2312.dbc, PAPR2301.dbc, PAPR2302.dbc, PAPR2303.dbc, PAPR2304.dbc, PAPR2305.dbc, PAPR2306.dbc, PAPR2307.dbc, PAPR2308.dbc, PAPR2309.dbc, PAPR2310.dbc, PAPR2311.dbc, PAPR2312.dbc, PARJ2301a.dbc, PARJ2301b.dbc, PARJ2302a.dbc, PARJ2302b.dbc, PARJ2303a.dbc, PARJ2303b.dbc, PARJ2304a.dbc, PARJ2304b.dbc, PARJ2305a.dbc, PARJ2305b.dbc, PARJ2306a.dbc, PARJ2306b.dbc, PARJ2307a.dbc, PARJ2307b.dbc, PARJ2308a.dbc, PARJ2308b.dbc, PARJ2309a.dbc, PARJ2309b.dbc, PARJ2310a.dbc, PARJ2310b.dbc, PARJ2311a.dbc, PARJ2311b.dbc, PARJ2312a.dbc, PARJ2312b.dbc, PARN2301.dbc, PARN2302.dbc, PARN2303.dbc, PARN2304.dbc, PARN2305.dbc, PARN2306.dbc, PARN2307.dbc, PARN2308.dbc, PARN2309.dbc, PARN2310.dbc, PARN2311.dbc, PARN2312.dbc, PARO2301.dbc, PARO2302.dbc, PARO2303.dbc, PARO2304.dbc, PARO2305.dbc, PARO2306.dbc, PARO2307.dbc, PARO2308.dbc, PARO2309.dbc, PARO2310.dbc, PARO2311.dbc, PARO2312.dbc, PARR2301.dbc, PARR2302.dbc, PARR2303.dbc, PARR2304.dbc, PARR2305.dbc, PARR2306.dbc, PARR2307.dbc, PARR2308.dbc, PARR2309.dbc, PARR2310.dbc, PARR2311.dbc, PARR2312.dbc, PARS2301.dbc, PARS2302.dbc, PARS2303.dbc, PARS2304.dbc, PARS2305.dbc, PARS2306.dbc, PARS2307.dbc, PARS2308.dbc, PARS2309.dbc, PARS2310.dbc, PARS2311.dbc, PARS2312.dbc, PASC2301.dbc, PASC2302.dbc, PASC2303.dbc, PASC2304.dbc, PASC2305.dbc, PASC2306.dbc, PASC2307.dbc, PASC2308.dbc, PASC2309.dbc, PASC2310.dbc, PASC2311.dbc, PASC2312.dbc, PASE2301.dbc, PASE2302.dbc, PASE2303.dbc, PASE2304.dbc, PASE2305.dbc, PASE2306.dbc, PASE2307.dbc, PASE2308.dbc, PASE2309.dbc, PASE2310.dbc, PASE2311.dbc, PASE2312.dbc, PASP2301a.dbc, PASP2301b.dbc, PASP2301c.dbc, PASP2302a.dbc, PASP2302b.dbc, PASP2302c.dbc, PASP2303a.dbc, PASP2303b.dbc, PASP2303c.dbc, PASP2304a.dbc, PASP2304b.dbc, PASP2304c.dbc, PASP2305a.dbc, PASP2305b.dbc, PASP2305c.dbc, PASP2306a.dbc, PASP2306b.dbc, PASP2306c.dbc, PASP2307a.dbc, PASP2307b.dbc, PASP2307c.dbc, PASP2308a.dbc, PASP2308b.dbc, PASP2308c.dbc, PASP2309a.dbc, PASP2309b.dbc, PASP2309c.dbc, PASP2310a.dbc, PASP2310b.dbc, PASP2310c.dbc, PASP2311a.dbc, PASP2311b.dbc, PASP2311c.dbc, PASP2312a.dbc, PASP2312b.dbc, PASP2312c.dbc, PATO2301.dbc, PATO2302.dbc, PATO2303.dbc, PATO2304.dbc, PATO2305.dbc, PATO2306.dbc, PATO2307.dbc, PATO2308.dbc, PATO2309.dbc, PATO2310.dbc, PATO2311.dbc, PATO2312.dbc]\n",
      "[2024-09-09 15:26:56.406062] Arquivos listados: 372 disponíveis.\n",
      "[2024-09-09 15:26:56.452646] Baixando e processando PAAC2301.dbc.\n"
     ]
    },
    {
     "name": "stderr",
     "output_type": "stream",
     "text": [
      "100%|███████████████████████████████████████████████████████████████████████████████████████████████████████████████████████████████████████████████████████████████████████| 2.85M/2.85M [00:00<00:00, 1.25GB/s]\n"
     ]
    },
    {
     "name": "stdout",
     "output_type": "stream",
     "text": [
      "[2024-09-09 15:26:56.466368] Arquivo PAAC2301.dbc salvo em /home/amcjr/pysus/PAAC2301.dbc.parquet.\n",
      "Arquivos processados: 1 de 372\n",
      "Percentual de processamento: 0%\n",
      "[2024-09-09 15:26:56.612756] Baixando e processando PAAC2302.dbc.\n"
     ]
    },
    {
     "name": "stderr",
     "output_type": "stream",
     "text": [
      "100%|███████████████████████████████████████████████████████████████████████████████████████████████████████████████████████████████████████████████████████████████████████| 3.34M/3.34M [00:00<00:00, 1.41GB/s]"
     ]
    },
    {
     "name": "stdout",
     "output_type": "stream",
     "text": [
      "[2024-09-09 15:26:56.618520] Arquivo PAAC2302.dbc salvo em /home/amcjr/pysus/PAAC2302.dbc.parquet.\n",
      "Arquivos processados: 2 de 372\n",
      "Percentual de processamento: 1%\n"
     ]
    },
    {
     "name": "stderr",
     "output_type": "stream",
     "text": [
      "\n"
     ]
    },
    {
     "name": "stdout",
     "output_type": "stream",
     "text": [
      "[2024-09-09 15:26:56.773401] Baixando e processando PAAC2303.dbc.\n"
     ]
    },
    {
     "name": "stderr",
     "output_type": "stream",
     "text": [
      "100%|████████████████████████████████████████████████████████████████████████████████████████████████████████████████████████████████████████████████████████████████████████| 3.52M/3.52M [00:00<00:00, 795MB/s]\n"
     ]
    },
    {
     "name": "stdout",
     "output_type": "stream",
     "text": [
      "[2024-09-09 15:26:56.791082] Arquivo PAAC2303.dbc salvo em /home/amcjr/pysus/PAAC2303.dbc.parquet.\n",
      "Arquivos processados: 3 de 372\n",
      "Percentual de processamento: 1%\n",
      "[2024-09-09 15:26:56.940863] Baixando e processando PAAC2304.dbc.\n"
     ]
    },
    {
     "name": "stderr",
     "output_type": "stream",
     "text": [
      "100%|████████████████████████████████████████████████████████████████████████████████████████████████████████████████████████████████████████████████████████████████████████| 2.84M/2.84M [00:00<00:00, 427MB/s]"
     ]
    },
    {
     "name": "stdout",
     "output_type": "stream",
     "text": [
      "[2024-09-09 15:26:56.962009] Arquivo PAAC2304.dbc salvo em /home/amcjr/pysus/PAAC2304.dbc.parquet.\n",
      "Arquivos processados: 4 de 372\n",
      "Percentual de processamento: 1%\n"
     ]
    },
    {
     "name": "stderr",
     "output_type": "stream",
     "text": [
      "\n"
     ]
    },
    {
     "name": "stdout",
     "output_type": "stream",
     "text": [
      "[2024-09-09 15:26:57.118362] Baixando e processando PAAC2305.dbc.\n"
     ]
    },
    {
     "name": "stderr",
     "output_type": "stream",
     "text": [
      "100%|███████████████████████████████████████████████████████████████████████████████████████████████████████████████████████████████████████████████████████████████████████| 3.71M/3.71M [00:00<00:00, 1.88GB/s]"
     ]
    },
    {
     "name": "stdout",
     "output_type": "stream",
     "text": [
      "[2024-09-09 15:26:57.123555] Arquivo PAAC2305.dbc salvo em /home/amcjr/pysus/PAAC2305.dbc.parquet.\n"
     ]
    },
    {
     "name": "stderr",
     "output_type": "stream",
     "text": [
      "\n"
     ]
    },
    {
     "name": "stdout",
     "output_type": "stream",
     "text": [
      "Arquivos processados: 5 de 372\n",
      "Percentual de processamento: 1%\n",
      "[2024-09-09 15:26:57.250508] Baixando e processando PAAC2306.dbc.\n"
     ]
    },
    {
     "name": "stderr",
     "output_type": "stream",
     "text": [
      "100%|████████████████████████████████████████████████████████████████████████████████████████████████████████████████████████████████████████████████████████████████████████| 3.19M/3.19M [00:00<00:00, 415MB/s]\n"
     ]
    },
    {
     "name": "stdout",
     "output_type": "stream",
     "text": [
      "[2024-09-09 15:26:57.272068] Arquivo PAAC2306.dbc salvo em /home/amcjr/pysus/PAAC2306.dbc.parquet.\n",
      "Arquivos processados: 6 de 372\n",
      "Percentual de processamento: 2%\n",
      "[2024-09-09 15:26:57.414260] Baixando e processando PAAC2307.dbc.\n"
     ]
    },
    {
     "name": "stderr",
     "output_type": "stream",
     "text": [
      "100%|███████████████████████████████████████████████████████████████████████████████████████████████████████████████████████████████████████████████████████████████████████| 3.63M/3.63M [00:00<00:00, 1.57GB/s]\n"
     ]
    },
    {
     "name": "stdout",
     "output_type": "stream",
     "text": [
      "[2024-09-09 15:26:57.421324] Arquivo PAAC2307.dbc salvo em /home/amcjr/pysus/PAAC2307.dbc.parquet.\n",
      "Arquivos processados: 7 de 372\n",
      "Percentual de processamento: 2%\n",
      "[2024-09-09 15:26:57.537793] Baixando e processando PAAC2308.dbc.\n"
     ]
    },
    {
     "name": "stderr",
     "output_type": "stream",
     "text": [
      "100%|████████████████████████████████████████████████████████████████████████████████████████████████████████████████████████████████████████████████████████████████████████| 3.38M/3.38M [00:00<00:00, 582MB/s]\n"
     ]
    },
    {
     "name": "stdout",
     "output_type": "stream",
     "text": [
      "[2024-09-09 15:26:57.553096] Arquivo PAAC2308.dbc salvo em /home/amcjr/pysus/PAAC2308.dbc.parquet.\n",
      "Arquivos processados: 8 de 372\n",
      "Percentual de processamento: 2%\n",
      "[2024-09-09 15:26:57.689721] Baixando e processando PAAC2309.dbc.\n"
     ]
    },
    {
     "name": "stderr",
     "output_type": "stream",
     "text": [
      "100%|████████████████████████████████████████████████████████████████████████████████████████████████████████████████████████████████████████████████████████████████████████| 3.24M/3.24M [00:00<00:00, 654MB/s]\n"
     ]
    },
    {
     "name": "stdout",
     "output_type": "stream",
     "text": [
      "[2024-09-09 15:26:57.701280] Arquivo PAAC2309.dbc salvo em /home/amcjr/pysus/PAAC2309.dbc.parquet.\n",
      "Arquivos processados: 9 de 372\n",
      "Percentual de processamento: 2%\n",
      "[2024-09-09 15:26:57.830315] Baixando e processando PAAC2310.dbc.\n"
     ]
    },
    {
     "name": "stderr",
     "output_type": "stream",
     "text": [
      "100%|███████████████████████████████████████████████████████████████████████████████████████████████████████████████████████████████████████████████████████████████████████| 3.50M/3.50M [00:00<00:00, 1.72GB/s]\n"
     ]
    },
    {
     "name": "stdout",
     "output_type": "stream",
     "text": [
      "[2024-09-09 15:26:57.835999] Arquivo PAAC2310.dbc salvo em /home/amcjr/pysus/PAAC2310.dbc.parquet.\n",
      "Arquivos processados: 10 de 372\n",
      "Percentual de processamento: 3%\n",
      "[2024-09-09 15:26:57.954412] Baixando e processando PAAC2311.dbc.\n"
     ]
    },
    {
     "name": "stderr",
     "output_type": "stream",
     "text": [
      "100%|███████████████████████████████████████████████████████████████████████████████████████████████████████████████████████████████████████████████████████████████████████| 3.11M/3.11M [00:00<00:00, 1.13GB/s]\n"
     ]
    },
    {
     "name": "stdout",
     "output_type": "stream",
     "text": [
      "[2024-09-09 15:26:57.961890] Arquivo PAAC2311.dbc salvo em /home/amcjr/pysus/PAAC2311.dbc.parquet.\n",
      "Arquivos processados: 11 de 372\n",
      "Percentual de processamento: 3%\n",
      "[2024-09-09 15:26:58.085919] Baixando e processando PAAC2312.dbc.\n"
     ]
    },
    {
     "name": "stderr",
     "output_type": "stream",
     "text": [
      "100%|████████████████████████████████████████████████████████████████████████████████████████████████████████████████████████████████████████████████████████████████████████| 3.56M/3.56M [00:00<00:00, 757MB/s]\n"
     ]
    },
    {
     "name": "stdout",
     "output_type": "stream",
     "text": [
      "[2024-09-09 15:26:58.102816] Arquivo PAAC2312.dbc salvo em /home/amcjr/pysus/PAAC2312.dbc.parquet.\n",
      "Arquivos processados: 12 de 372\n",
      "Percentual de processamento: 3%\n",
      "[2024-09-09 15:26:58.234096] Baixando e processando PAAL2301.dbc.\n"
     ]
    },
    {
     "name": "stderr",
     "output_type": "stream",
     "text": [
      "100%|███████████████████████████████████████████████████████████████████████████████████████████████████████████████████████████████████████████████████████████████████████| 21.7M/21.7M [00:00<00:00, 3.29GB/s]\n"
     ]
    },
    {
     "name": "stdout",
     "output_type": "stream",
     "text": [
      "[2024-09-09 15:26:58.252714] Arquivo PAAL2301.dbc salvo em /home/amcjr/pysus/PAAL2301.dbc.parquet.\n",
      "Arquivos processados: 13 de 372\n",
      "Percentual de processamento: 3%\n",
      "[2024-09-09 15:26:58.381051] Baixando e processando PAAL2302.dbc.\n"
     ]
    },
    {
     "name": "stderr",
     "output_type": "stream",
     "text": [
      "100%|███████████████████████████████████████████████████████████████████████████████████████████████████████████████████████████████████████████████████████████████████████| 20.8M/20.8M [00:00<00:00, 2.37GB/s]\n"
     ]
    },
    {
     "name": "stdout",
     "output_type": "stream",
     "text": [
      "[2024-09-09 15:26:58.398151] Arquivo PAAL2302.dbc salvo em /home/amcjr/pysus/PAAL2302.dbc.parquet.\n",
      "Arquivos processados: 14 de 372\n",
      "Percentual de processamento: 4%\n",
      "[2024-09-09 15:26:58.522592] Baixando e processando PAAL2303.dbc.\n"
     ]
    },
    {
     "name": "stderr",
     "output_type": "stream",
     "text": [
      "100%|███████████████████████████████████████████████████████████████████████████████████████████████████████████████████████████████████████████████████████████████████████| 24.9M/24.9M [00:00<00:00, 9.83GB/s]\n"
     ]
    },
    {
     "name": "stdout",
     "output_type": "stream",
     "text": [
      "[2024-09-09 15:26:58.528191] Arquivo PAAL2303.dbc salvo em /home/amcjr/pysus/PAAL2303.dbc.parquet.\n",
      "Arquivos processados: 15 de 372\n",
      "Percentual de processamento: 4%\n",
      "[2024-09-09 15:26:58.643205] Baixando e processando PAAL2304.dbc.\n"
     ]
    },
    {
     "name": "stderr",
     "output_type": "stream",
     "text": [
      "100%|███████████████████████████████████████████████████████████████████████████████████████████████████████████████████████████████████████████████████████████████████████| 22.8M/22.8M [00:00<00:00, 8.36GB/s]\n"
     ]
    },
    {
     "name": "stdout",
     "output_type": "stream",
     "text": [
      "[2024-09-09 15:26:58.648791] Arquivo PAAL2304.dbc salvo em /home/amcjr/pysus/PAAL2304.dbc.parquet.\n",
      "Arquivos processados: 16 de 372\n",
      "Percentual de processamento: 4%\n",
      "[2024-09-09 15:26:58.768574] Baixando e processando PAAL2305.dbc.\n"
     ]
    },
    {
     "name": "stderr",
     "output_type": "stream",
     "text": [
      "100%|███████████████████████████████████████████████████████████████████████████████████████████████████████████████████████████████████████████████████████████████████████| 26.6M/26.6M [00:00<00:00, 11.8GB/s]\n"
     ]
    },
    {
     "name": "stdout",
     "output_type": "stream",
     "text": [
      "[2024-09-09 15:26:58.774294] Arquivo PAAL2305.dbc salvo em /home/amcjr/pysus/PAAL2305.dbc.parquet.\n",
      "Arquivos processados: 17 de 372\n",
      "Percentual de processamento: 5%\n",
      "[2024-09-09 15:26:58.890794] Baixando e processando PAAL2306.dbc.\n"
     ]
    },
    {
     "name": "stderr",
     "output_type": "stream",
     "text": [
      "100%|███████████████████████████████████████████████████████████████████████████████████████████████████████████████████████████████████████████████████████████████████████| 21.9M/21.9M [00:00<00:00, 9.56GB/s]\n"
     ]
    },
    {
     "name": "stdout",
     "output_type": "stream",
     "text": [
      "[2024-09-09 15:26:58.896197] Arquivo PAAL2306.dbc salvo em /home/amcjr/pysus/PAAL2306.dbc.parquet.\n",
      "Arquivos processados: 18 de 372\n",
      "Percentual de processamento: 5%\n",
      "[2024-09-09 15:26:59.011531] Baixando e processando PAAL2307.dbc.\n"
     ]
    },
    {
     "name": "stderr",
     "output_type": "stream",
     "text": [
      "100%|███████████████████████████████████████████████████████████████████████████████████████████████████████████████████████████████████████████████████████████████████████| 25.8M/25.8M [00:00<00:00, 11.1GB/s]\n"
     ]
    },
    {
     "name": "stdout",
     "output_type": "stream",
     "text": [
      "[2024-09-09 15:26:59.017076] Arquivo PAAL2307.dbc salvo em /home/amcjr/pysus/PAAL2307.dbc.parquet.\n",
      "Arquivos processados: 19 de 372\n",
      "Percentual de processamento: 5%\n",
      "[2024-09-09 15:26:59.170765] Baixando e processando PAAL2308.dbc.\n"
     ]
    },
    {
     "name": "stderr",
     "output_type": "stream",
     "text": [
      "100%|███████████████████████████████████████████████████████████████████████████████████████████████████████████████████████████████████████████████████████████████████████| 25.0M/25.0M [00:00<00:00, 10.6GB/s]"
     ]
    },
    {
     "name": "stdout",
     "output_type": "stream",
     "text": [
      "[2024-09-09 15:26:59.176493] Arquivo PAAL2308.dbc salvo em /home/amcjr/pysus/PAAL2308.dbc.parquet.\n"
     ]
    },
    {
     "name": "stderr",
     "output_type": "stream",
     "text": [
      "\n"
     ]
    },
    {
     "name": "stdout",
     "output_type": "stream",
     "text": [
      "Arquivos processados: 20 de 372\n",
      "Percentual de processamento: 5%\n",
      "[2024-09-09 15:26:59.327372] Baixando e processando PAAL2309.dbc.\n"
     ]
    },
    {
     "name": "stderr",
     "output_type": "stream",
     "text": [
      "100%|███████████████████████████████████████████████████████████████████████████████████████████████████████████████████████████████████████████████████████████████████████| 24.9M/24.9M [00:00<00:00, 10.2GB/s]"
     ]
    },
    {
     "name": "stdout",
     "output_type": "stream",
     "text": [
      "[2024-09-09 15:26:59.333319] Arquivo PAAL2309.dbc salvo em /home/amcjr/pysus/PAAL2309.dbc.parquet.\n",
      "Arquivos processados: 21 de 372\n",
      "Percentual de processamento: 6%\n"
     ]
    },
    {
     "name": "stderr",
     "output_type": "stream",
     "text": [
      "\n"
     ]
    },
    {
     "name": "stdout",
     "output_type": "stream",
     "text": [
      "[2024-09-09 15:26:59.451937] Baixando e processando PAAL2310.dbc.\n"
     ]
    },
    {
     "name": "stderr",
     "output_type": "stream",
     "text": [
      "100%|███████████████████████████████████████████████████████████████████████████████████████████████████████████████████████████████████████████████████████████████████████| 23.7M/23.7M [00:00<00:00, 9.36GB/s]"
     ]
    },
    {
     "name": "stdout",
     "output_type": "stream",
     "text": [
      "[2024-09-09 15:26:59.458372] Arquivo PAAL2310.dbc salvo em /home/amcjr/pysus/PAAL2310.dbc.parquet.\n",
      "Arquivos processados: 22 de 372\n",
      "Percentual de processamento: 6%\n"
     ]
    },
    {
     "name": "stderr",
     "output_type": "stream",
     "text": [
      "\n"
     ]
    },
    {
     "name": "stdout",
     "output_type": "stream",
     "text": [
      "[2024-09-09 15:26:59.602295] Baixando e processando PAAL2311.dbc.\n"
     ]
    },
    {
     "name": "stderr",
     "output_type": "stream",
     "text": [
      "100%|███████████████████████████████████████████████████████████████████████████████████████████████████████████████████████████████████████████████████████████████████████| 22.6M/22.6M [00:00<00:00, 6.19GB/s]"
     ]
    },
    {
     "name": "stdout",
     "output_type": "stream",
     "text": [
      "[2024-09-09 15:26:59.610358] Arquivo PAAL2311.dbc salvo em /home/amcjr/pysus/PAAL2311.dbc.parquet.\n"
     ]
    },
    {
     "name": "stderr",
     "output_type": "stream",
     "text": [
      "\n"
     ]
    },
    {
     "name": "stdout",
     "output_type": "stream",
     "text": [
      "Arquivos processados: 23 de 372\n",
      "Percentual de processamento: 6%\n",
      "[2024-09-09 15:26:59.756068] Baixando e processando PAAL2312.dbc.\n"
     ]
    },
    {
     "name": "stderr",
     "output_type": "stream",
     "text": [
      "100%|███████████████████████████████████████████████████████████████████████████████████████████████████████████████████████████████████████████████████████████████████████| 23.6M/23.6M [00:00<00:00, 8.77GB/s]"
     ]
    },
    {
     "name": "stdout",
     "output_type": "stream",
     "text": [
      "[2024-09-09 15:26:59.762825] Arquivo PAAL2312.dbc salvo em /home/amcjr/pysus/PAAL2312.dbc.parquet.\n"
     ]
    },
    {
     "name": "stderr",
     "output_type": "stream",
     "text": [
      "\n"
     ]
    },
    {
     "name": "stdout",
     "output_type": "stream",
     "text": [
      "Arquivos processados: 24 de 372\n",
      "Percentual de processamento: 6%\n",
      "[2024-09-09 15:26:59.912378] Baixando e processando PAAM2301.dbc.\n"
     ]
    },
    {
     "name": "stderr",
     "output_type": "stream",
     "text": [
      "100%|███████████████████████████████████████████████████████████████████████████████████████████████████████████████████████████████████████████████████████████████████████| 35.4M/35.4M [00:00<00:00, 12.5GB/s]"
     ]
    },
    {
     "name": "stdout",
     "output_type": "stream",
     "text": [
      "[2024-09-09 15:26:59.919853] Arquivo PAAM2301.dbc salvo em /home/amcjr/pysus/PAAM2301.dbc.parquet.\n"
     ]
    },
    {
     "name": "stderr",
     "output_type": "stream",
     "text": [
      "\n"
     ]
    },
    {
     "name": "stdout",
     "output_type": "stream",
     "text": [
      "Arquivos processados: 25 de 372\n",
      "Percentual de processamento: 7%\n",
      "[2024-09-09 15:27:00.066352] Baixando e processando PAAM2302.dbc.\n"
     ]
    },
    {
     "name": "stderr",
     "output_type": "stream",
     "text": [
      "100%|███████████████████████████████████████████████████████████████████████████████████████████████████████████████████████████████████████████████████████████████████████| 34.6M/34.6M [00:00<00:00, 13.2GB/s]"
     ]
    },
    {
     "name": "stdout",
     "output_type": "stream",
     "text": [
      "[2024-09-09 15:27:00.072843] Arquivo PAAM2302.dbc salvo em /home/amcjr/pysus/PAAM2302.dbc.parquet.\n",
      "Arquivos processados: 26 de 372\n",
      "Percentual de processamento: 7%\n"
     ]
    },
    {
     "name": "stderr",
     "output_type": "stream",
     "text": [
      "\n"
     ]
    },
    {
     "name": "stdout",
     "output_type": "stream",
     "text": [
      "[2024-09-09 15:27:00.230353] Baixando e processando PAAM2303.dbc.\n"
     ]
    },
    {
     "name": "stderr",
     "output_type": "stream",
     "text": [
      "100%|███████████████████████████████████████████████████████████████████████████████████████████████████████████████████████████████████████████████████████████████████████| 34.5M/34.5M [00:00<00:00, 15.1GB/s]"
     ]
    },
    {
     "name": "stdout",
     "output_type": "stream",
     "text": [
      "[2024-09-09 15:27:00.235926] Arquivo PAAM2303.dbc salvo em /home/amcjr/pysus/PAAM2303.dbc.parquet.\n"
     ]
    },
    {
     "name": "stderr",
     "output_type": "stream",
     "text": [
      "\n"
     ]
    },
    {
     "name": "stdout",
     "output_type": "stream",
     "text": [
      "Arquivos processados: 27 de 372\n",
      "Percentual de processamento: 7%\n",
      "[2024-09-09 15:27:00.397709] Baixando e processando PAAM2304.dbc.\n"
     ]
    },
    {
     "name": "stderr",
     "output_type": "stream",
     "text": [
      "100%|███████████████████████████████████████████████████████████████████████████████████████████████████████████████████████████████████████████████████████████████████████| 28.7M/28.7M [00:00<00:00, 3.17GB/s]"
     ]
    },
    {
     "name": "stdout",
     "output_type": "stream",
     "text": [
      "[2024-09-09 15:27:00.410821] Arquivo PAAM2304.dbc salvo em /home/amcjr/pysus/PAAM2304.dbc.parquet.\n"
     ]
    },
    {
     "name": "stderr",
     "output_type": "stream",
     "text": [
      "\n"
     ]
    },
    {
     "name": "stdout",
     "output_type": "stream",
     "text": [
      "Arquivos processados: 28 de 372\n",
      "Percentual de processamento: 8%\n",
      "[2024-09-09 15:27:00.558830] Baixando e processando PAAM2305.dbc.\n"
     ]
    },
    {
     "name": "stderr",
     "output_type": "stream",
     "text": [
      "100%|███████████████████████████████████████████████████████████████████████████████████████████████████████████████████████████████████████████████████████████████████████| 33.5M/33.5M [00:00<00:00, 15.9GB/s]"
     ]
    },
    {
     "name": "stdout",
     "output_type": "stream",
     "text": [
      "[2024-09-09 15:27:00.564903] Arquivo PAAM2305.dbc salvo em /home/amcjr/pysus/PAAM2305.dbc.parquet.\n",
      "Arquivos processados: 29 de 372\n",
      "Percentual de processamento: 8%\n"
     ]
    },
    {
     "name": "stderr",
     "output_type": "stream",
     "text": [
      "\n"
     ]
    },
    {
     "name": "stdout",
     "output_type": "stream",
     "text": [
      "[2024-09-09 15:27:00.725991] Baixando e processando PAAM2306.dbc.\n"
     ]
    },
    {
     "name": "stderr",
     "output_type": "stream",
     "text": [
      "100%|███████████████████████████████████████████████████████████████████████████████████████████████████████████████████████████████████████████████████████████████████████| 34.6M/34.6M [00:00<00:00, 5.55GB/s]"
     ]
    },
    {
     "name": "stdout",
     "output_type": "stream",
     "text": [
      "[2024-09-09 15:27:00.741099] Arquivo PAAM2306.dbc salvo em /home/amcjr/pysus/PAAM2306.dbc.parquet.\n",
      "Arquivos processados: 30 de 372\n",
      "Percentual de processamento: 8%\n"
     ]
    },
    {
     "name": "stderr",
     "output_type": "stream",
     "text": [
      "\n"
     ]
    },
    {
     "name": "stdout",
     "output_type": "stream",
     "text": [
      "[2024-09-09 15:27:00.932248] Baixando e processando PAAM2307.dbc.\n"
     ]
    },
    {
     "name": "stderr",
     "output_type": "stream",
     "text": [
      "100%|███████████████████████████████████████████████████████████████████████████████████████████████████████████████████████████████████████████████████████████████████████| 31.0M/31.0M [00:00<00:00, 12.8GB/s]\n"
     ]
    },
    {
     "name": "stdout",
     "output_type": "stream",
     "text": [
      "[2024-09-09 15:27:00.938300] Arquivo PAAM2307.dbc salvo em /home/amcjr/pysus/PAAM2307.dbc.parquet.\n",
      "Arquivos processados: 31 de 372\n",
      "Percentual de processamento: 8%\n",
      "[2024-09-09 15:27:01.066287] Baixando e processando PAAM2308.dbc.\n"
     ]
    },
    {
     "name": "stderr",
     "output_type": "stream",
     "text": [
      "100%|███████████████████████████████████████████████████████████████████████████████████████████████████████████████████████████████████████████████████████████████████████| 34.6M/34.6M [00:00<00:00, 7.62GB/s]"
     ]
    },
    {
     "name": "stdout",
     "output_type": "stream",
     "text": [
      "[2024-09-09 15:27:01.079678] Arquivo PAAM2308.dbc salvo em /home/amcjr/pysus/PAAM2308.dbc.parquet.\n"
     ]
    },
    {
     "name": "stderr",
     "output_type": "stream",
     "text": [
      "\n"
     ]
    },
    {
     "name": "stdout",
     "output_type": "stream",
     "text": [
      "Arquivos processados: 32 de 372\n",
      "Percentual de processamento: 9%\n",
      "[2024-09-09 15:27:01.211530] Baixando e processando PAAM2309.dbc.\n"
     ]
    },
    {
     "name": "stderr",
     "output_type": "stream",
     "text": [
      "100%|███████████████████████████████████████████████████████████████████████████████████████████████████████████████████████████████████████████████████████████████████████| 32.4M/32.4M [00:00<00:00, 12.1GB/s]\n"
     ]
    },
    {
     "name": "stdout",
     "output_type": "stream",
     "text": [
      "[2024-09-09 15:27:01.217238] Arquivo PAAM2309.dbc salvo em /home/amcjr/pysus/PAAM2309.dbc.parquet.\n",
      "Arquivos processados: 33 de 372\n",
      "Percentual de processamento: 9%\n",
      "[2024-09-09 15:27:01.345667] Baixando e processando PAAM2310.dbc.\n"
     ]
    },
    {
     "name": "stderr",
     "output_type": "stream",
     "text": [
      "100%|███████████████████████████████████████████████████████████████████████████████████████████████████████████████████████████████████████████████████████████████████████| 37.0M/37.0M [00:00<00:00, 11.6GB/s]\n"
     ]
    },
    {
     "name": "stdout",
     "output_type": "stream",
     "text": [
      "[2024-09-09 15:27:01.353203] Arquivo PAAM2310.dbc salvo em /home/amcjr/pysus/PAAM2310.dbc.parquet.\n",
      "Arquivos processados: 34 de 372\n",
      "Percentual de processamento: 9%\n",
      "[2024-09-09 15:27:01.485920] Baixando e processando PAAM2311.dbc.\n"
     ]
    },
    {
     "name": "stderr",
     "output_type": "stream",
     "text": [
      "100%|███████████████████████████████████████████████████████████████████████████████████████████████████████████████████████████████████████████████████████████████████████| 34.1M/34.1M [00:00<00:00, 4.13GB/s]"
     ]
    },
    {
     "name": "stdout",
     "output_type": "stream",
     "text": [
      "[2024-09-09 15:27:01.502708] Arquivo PAAM2311.dbc salvo em /home/amcjr/pysus/PAAM2311.dbc.parquet.\n",
      "Arquivos processados: 35 de 372\n",
      "Percentual de processamento: 9%\n"
     ]
    },
    {
     "name": "stderr",
     "output_type": "stream",
     "text": [
      "\n"
     ]
    },
    {
     "name": "stdout",
     "output_type": "stream",
     "text": [
      "[2024-09-09 15:27:01.631185] Baixando e processando PAAM2312.dbc.\n"
     ]
    },
    {
     "name": "stderr",
     "output_type": "stream",
     "text": [
      "100%|███████████████████████████████████████████████████████████████████████████████████████████████████████████████████████████████████████████████████████████████████████| 27.3M/27.3M [00:00<00:00, 20.8GB/s]\n"
     ]
    },
    {
     "name": "stdout",
     "output_type": "stream",
     "text": [
      "[2024-09-09 15:27:01.635500] Arquivo PAAM2312.dbc salvo em /home/amcjr/pysus/PAAM2312.dbc.parquet.\n",
      "Arquivos processados: 36 de 372\n",
      "Percentual de processamento: 10%\n",
      "[2024-09-09 15:27:01.754043] Baixando e processando PAAP2301.dbc.\n"
     ]
    },
    {
     "name": "stderr",
     "output_type": "stream",
     "text": [
      "100%|███████████████████████████████████████████████████████████████████████████████████████████████████████████████████████████████████████████████████████████████████████| 1.62M/1.62M [00:00<00:00, 1.43GB/s]\n"
     ]
    },
    {
     "name": "stdout",
     "output_type": "stream",
     "text": [
      "[2024-09-09 15:27:01.758445] Arquivo PAAP2301.dbc salvo em /home/amcjr/pysus/PAAP2301.dbc.parquet.\n",
      "Arquivos processados: 37 de 372\n",
      "Percentual de processamento: 10%\n",
      "[2024-09-09 15:27:01.875407] Baixando e processando PAAP2302.dbc.\n"
     ]
    },
    {
     "name": "stderr",
     "output_type": "stream",
     "text": [
      "100%|███████████████████████████████████████████████████████████████████████████████████████████████████████████████████████████████████████████████████████████████████████| 2.44M/2.44M [00:00<00:00, 1.16GB/s]"
     ]
    },
    {
     "name": "stdout",
     "output_type": "stream",
     "text": [
      "[2024-09-09 15:27:01.881116] Arquivo PAAP2302.dbc salvo em /home/amcjr/pysus/PAAP2302.dbc.parquet.\n"
     ]
    },
    {
     "name": "stderr",
     "output_type": "stream",
     "text": [
      "\n"
     ]
    },
    {
     "name": "stdout",
     "output_type": "stream",
     "text": [
      "Arquivos processados: 38 de 372\n",
      "Percentual de processamento: 10%\n",
      "[2024-09-09 15:27:01.997391] Baixando e processando PAAP2303.dbc.\n"
     ]
    },
    {
     "name": "stderr",
     "output_type": "stream",
     "text": [
      "100%|███████████████████████████████████████████████████████████████████████████████████████████████████████████████████████████████████████████████████████████████████████| 2.62M/2.62M [00:00<00:00, 1.15GB/s]\n"
     ]
    },
    {
     "name": "stdout",
     "output_type": "stream",
     "text": [
      "[2024-09-09 15:27:02.003072] Arquivo PAAP2303.dbc salvo em /home/amcjr/pysus/PAAP2303.dbc.parquet.\n",
      "Arquivos processados: 39 de 372\n",
      "Percentual de processamento: 10%\n",
      "[2024-09-09 15:27:02.126692] Baixando e processando PAAP2304.dbc.\n"
     ]
    },
    {
     "name": "stderr",
     "output_type": "stream",
     "text": [
      "100%|███████████████████████████████████████████████████████████████████████████████████████████████████████████████████████████████████████████████████████████████████████| 2.50M/2.50M [00:00<00:00, 1.45GB/s]\n"
     ]
    },
    {
     "name": "stdout",
     "output_type": "stream",
     "text": [
      "[2024-09-09 15:27:02.131261] Arquivo PAAP2304.dbc salvo em /home/amcjr/pysus/PAAP2304.dbc.parquet.\n",
      "Arquivos processados: 40 de 372\n",
      "Percentual de processamento: 11%\n",
      "[2024-09-09 15:27:02.248723] Baixando e processando PAAP2305.dbc.\n"
     ]
    },
    {
     "name": "stderr",
     "output_type": "stream",
     "text": [
      "100%|███████████████████████████████████████████████████████████████████████████████████████████████████████████████████████████████████████████████████████████████████████| 3.11M/3.11M [00:00<00:00, 1.47GB/s]\n"
     ]
    },
    {
     "name": "stdout",
     "output_type": "stream",
     "text": [
      "[2024-09-09 15:27:02.253799] Arquivo PAAP2305.dbc salvo em /home/amcjr/pysus/PAAP2305.dbc.parquet.\n",
      "Arquivos processados: 41 de 372\n",
      "Percentual de processamento: 11%\n",
      "[2024-09-09 15:27:02.371493] Baixando e processando PAAP2306.dbc.\n"
     ]
    },
    {
     "name": "stderr",
     "output_type": "stream",
     "text": [
      "100%|████████████████████████████████████████████████████████████████████████████████████████████████████████████████████████████████████████████████████████████████████████| 3.29M/3.29M [00:00<00:00, 559MB/s]\n"
     ]
    },
    {
     "name": "stdout",
     "output_type": "stream",
     "text": [
      "[2024-09-09 15:27:02.386763] Arquivo PAAP2306.dbc salvo em /home/amcjr/pysus/PAAP2306.dbc.parquet.\n",
      "Arquivos processados: 42 de 372\n",
      "Percentual de processamento: 11%\n",
      "[2024-09-09 15:27:02.505126] Baixando e processando PAAP2307.dbc.\n"
     ]
    },
    {
     "name": "stderr",
     "output_type": "stream",
     "text": [
      "100%|███████████████████████████████████████████████████████████████████████████████████████████████████████████████████████████████████████████████████████████████████████| 2.74M/2.74M [00:00<00:00, 1.16GB/s]\n"
     ]
    },
    {
     "name": "stdout",
     "output_type": "stream",
     "text": [
      "[2024-09-09 15:27:02.510770] Arquivo PAAP2307.dbc salvo em /home/amcjr/pysus/PAAP2307.dbc.parquet.\n",
      "Arquivos processados: 43 de 372\n",
      "Percentual de processamento: 12%\n",
      "[2024-09-09 15:27:02.629983] Baixando e processando PAAP2308.dbc.\n"
     ]
    },
    {
     "name": "stderr",
     "output_type": "stream",
     "text": [
      "100%|███████████████████████████████████████████████████████████████████████████████████████████████████████████████████████████████████████████████████████████████████████| 2.71M/2.71M [00:00<00:00, 1.43GB/s]\n"
     ]
    },
    {
     "name": "stdout",
     "output_type": "stream",
     "text": [
      "[2024-09-09 15:27:02.635072] Arquivo PAAP2308.dbc salvo em /home/amcjr/pysus/PAAP2308.dbc.parquet.\n",
      "Arquivos processados: 44 de 372\n",
      "Percentual de processamento: 12%\n",
      "[2024-09-09 15:27:02.757748] Baixando e processando PAAP2309.dbc.\n"
     ]
    },
    {
     "name": "stderr",
     "output_type": "stream",
     "text": [
      "100%|███████████████████████████████████████████████████████████████████████████████████████████████████████████████████████████████████████████████████████████████████████| 2.59M/2.59M [00:00<00:00, 1.32GB/s]\n"
     ]
    },
    {
     "name": "stdout",
     "output_type": "stream",
     "text": [
      "[2024-09-09 15:27:02.762913] Arquivo PAAP2309.dbc salvo em /home/amcjr/pysus/PAAP2309.dbc.parquet.\n",
      "Arquivos processados: 45 de 372\n",
      "Percentual de processamento: 12%\n",
      "[2024-09-09 15:27:02.877600] Baixando e processando PAAP2310.dbc.\n"
     ]
    },
    {
     "name": "stderr",
     "output_type": "stream",
     "text": [
      "100%|███████████████████████████████████████████████████████████████████████████████████████████████████████████████████████████████████████████████████████████████████████| 2.38M/2.38M [00:00<00:00, 1.23GB/s]\n"
     ]
    },
    {
     "name": "stdout",
     "output_type": "stream",
     "text": [
      "[2024-09-09 15:27:02.882507] Arquivo PAAP2310.dbc salvo em /home/amcjr/pysus/PAAP2310.dbc.parquet.\n",
      "Arquivos processados: 46 de 372\n",
      "Percentual de processamento: 12%\n",
      "[2024-09-09 15:27:02.994637] Baixando e processando PAAP2311.dbc.\n"
     ]
    },
    {
     "name": "stderr",
     "output_type": "stream",
     "text": [
      "100%|███████████████████████████████████████████████████████████████████████████████████████████████████████████████████████████████████████████████████████████████████████| 2.07M/2.07M [00:00<00:00, 1.21GB/s]\n"
     ]
    },
    {
     "name": "stdout",
     "output_type": "stream",
     "text": [
      "[2024-09-09 15:27:02.999269] Arquivo PAAP2311.dbc salvo em /home/amcjr/pysus/PAAP2311.dbc.parquet.\n",
      "Arquivos processados: 47 de 372\n",
      "Percentual de processamento: 13%\n",
      "[2024-09-09 15:27:03.117321] Baixando e processando PAAP2312.dbc.\n"
     ]
    },
    {
     "name": "stderr",
     "output_type": "stream",
     "text": [
      "100%|███████████████████████████████████████████████████████████████████████████████████████████████████████████████████████████████████████████████████████████████████████| 2.05M/2.05M [00:00<00:00, 1.07GB/s]\n"
     ]
    },
    {
     "name": "stdout",
     "output_type": "stream",
     "text": [
      "[2024-09-09 15:27:03.122256] Arquivo PAAP2312.dbc salvo em /home/amcjr/pysus/PAAP2312.dbc.parquet.\n",
      "Arquivos processados: 48 de 372\n",
      "Percentual de processamento: 13%\n",
      "[2024-09-09 15:27:03.235455] Baixando e processando PABA2301.dbc.\n"
     ]
    },
    {
     "name": "stderr",
     "output_type": "stream",
     "text": [
      "100%|███████████████████████████████████████████████████████████████████████████████████████████████████████████████████████████████████████████████████████████████████████| 74.8M/74.8M [00:00<00:00, 36.0GB/s]\n"
     ]
    },
    {
     "name": "stdout",
     "output_type": "stream",
     "text": [
      "[2024-09-09 15:27:03.241131] Arquivo PABA2301.dbc salvo em /home/amcjr/pysus/PABA2301.dbc.parquet.\n",
      "Arquivos processados: 49 de 372\n",
      "Percentual de processamento: 13%\n",
      "[2024-09-09 15:27:03.361039] Baixando e processando PABA2302.dbc.\n"
     ]
    },
    {
     "name": "stderr",
     "output_type": "stream",
     "text": [
      "100%|███████████████████████████████████████████████████████████████████████████████████████████████████████████████████████████████████████████████████████████████████████| 84.7M/84.7M [00:00<00:00, 31.8GB/s]\n"
     ]
    },
    {
     "name": "stdout",
     "output_type": "stream",
     "text": [
      "[2024-09-09 15:27:03.366548] Arquivo PABA2302.dbc salvo em /home/amcjr/pysus/PABA2302.dbc.parquet.\n",
      "Arquivos processados: 50 de 372\n",
      "Percentual de processamento: 13%\n",
      "[2024-09-09 15:27:03.481028] Baixando e processando PABA2303.dbc.\n"
     ]
    },
    {
     "name": "stderr",
     "output_type": "stream",
     "text": [
      "100%|███████████████████████████████████████████████████████████████████████████████████████████████████████████████████████████████████████████████████████████████████████| 99.4M/99.4M [00:00<00:00, 35.7GB/s]"
     ]
    },
    {
     "name": "stdout",
     "output_type": "stream",
     "text": [
      "[2024-09-09 15:27:03.487399] Arquivo PABA2303.dbc salvo em /home/amcjr/pysus/PABA2303.dbc.parquet.\n"
     ]
    },
    {
     "name": "stderr",
     "output_type": "stream",
     "text": [
      "\n"
     ]
    },
    {
     "name": "stdout",
     "output_type": "stream",
     "text": [
      "Arquivos processados: 51 de 372\n",
      "Percentual de processamento: 14%\n",
      "[2024-09-09 15:27:03.613948] Baixando e processando PABA2304.dbc.\n"
     ]
    },
    {
     "name": "stderr",
     "output_type": "stream",
     "text": [
      "100%|███████████████████████████████████████████████████████████████████████████████████████████████████████████████████████████████████████████████████████████████████████| 86.1M/86.1M [00:00<00:00, 26.4GB/s]\n"
     ]
    },
    {
     "name": "stdout",
     "output_type": "stream",
     "text": [
      "[2024-09-09 15:27:03.620159] Arquivo PABA2304.dbc salvo em /home/amcjr/pysus/PABA2304.dbc.parquet.\n",
      "Arquivos processados: 52 de 372\n",
      "Percentual de processamento: 14%\n",
      "[2024-09-09 15:27:03.741586] Baixando e processando PABA2305.dbc.\n"
     ]
    },
    {
     "name": "stderr",
     "output_type": "stream",
     "text": [
      "100%|█████████████████████████████████████████████████████████████████████████████████████████████████████████████████████████████████████████████████████████████████████████| 106M/106M [00:00<00:00, 35.1GB/s]\n"
     ]
    },
    {
     "name": "stdout",
     "output_type": "stream",
     "text": [
      "[2024-09-09 15:27:03.748158] Arquivo PABA2305.dbc salvo em /home/amcjr/pysus/PABA2305.dbc.parquet.\n",
      "Arquivos processados: 53 de 372\n",
      "Percentual de processamento: 14%\n",
      "[2024-09-09 15:27:03.864795] Baixando e processando PABA2306.dbc.\n"
     ]
    },
    {
     "name": "stderr",
     "output_type": "stream",
     "text": [
      "100%|███████████████████████████████████████████████████████████████████████████████████████████████████████████████████████████████████████████████████████████████████████| 91.7M/91.7M [00:00<00:00, 30.2GB/s]\n"
     ]
    },
    {
     "name": "stdout",
     "output_type": "stream",
     "text": [
      "[2024-09-09 15:27:03.870885] Arquivo PABA2306.dbc salvo em /home/amcjr/pysus/PABA2306.dbc.parquet.\n",
      "Arquivos processados: 54 de 372\n",
      "Percentual de processamento: 15%\n",
      "[2024-09-09 15:27:03.994679] Baixando e processando PABA2307.dbc.\n"
     ]
    },
    {
     "name": "stderr",
     "output_type": "stream",
     "text": [
      "100%|█████████████████████████████████████████████████████████████████████████████████████████████████████████████████████████████████████████████████████████████████████████| 109M/109M [00:00<00:00, 45.0GB/s]"
     ]
    },
    {
     "name": "stdout",
     "output_type": "stream",
     "text": [
      "[2024-09-09 15:27:04.000397] Arquivo PABA2307.dbc salvo em /home/amcjr/pysus/PABA2307.dbc.parquet.\n"
     ]
    },
    {
     "name": "stderr",
     "output_type": "stream",
     "text": [
      "\n"
     ]
    },
    {
     "name": "stdout",
     "output_type": "stream",
     "text": [
      "Arquivos processados: 55 de 372\n",
      "Percentual de processamento: 15%\n",
      "[2024-09-09 15:27:04.113953] Baixando e processando PABA2308.dbc.\n"
     ]
    },
    {
     "name": "stderr",
     "output_type": "stream",
     "text": [
      "100%|███████████████████████████████████████████████████████████████████████████████████████████████████████████████████████████████████████████████████████████████████████| 94.8M/94.8M [00:00<00:00, 31.1GB/s]\n"
     ]
    },
    {
     "name": "stdout",
     "output_type": "stream",
     "text": [
      "[2024-09-09 15:27:04.120494] Arquivo PABA2308.dbc salvo em /home/amcjr/pysus/PABA2308.dbc.parquet.\n",
      "Arquivos processados: 56 de 372\n",
      "Percentual de processamento: 15%\n",
      "[2024-09-09 15:27:04.234516] Baixando e processando PABA2309.dbc.\n"
     ]
    },
    {
     "name": "stderr",
     "output_type": "stream",
     "text": [
      "100%|█████████████████████████████████████████████████████████████████████████████████████████████████████████████████████████████████████████████████████████████████████████| 101M/101M [00:00<00:00, 36.0GB/s]\n"
     ]
    },
    {
     "name": "stdout",
     "output_type": "stream",
     "text": [
      "[2024-09-09 15:27:04.240832] Arquivo PABA2309.dbc salvo em /home/amcjr/pysus/PABA2309.dbc.parquet.\n",
      "Arquivos processados: 57 de 372\n",
      "Percentual de processamento: 15%\n",
      "[2024-09-09 15:27:04.360601] Baixando e processando PABA2310.dbc.\n"
     ]
    },
    {
     "name": "stderr",
     "output_type": "stream",
     "text": [
      "100%|███████████████████████████████████████████████████████████████████████████████████████████████████████████████████████████████████████████████████████████████████████| 92.3M/92.3M [00:00<00:00, 30.0GB/s]\n"
     ]
    },
    {
     "name": "stdout",
     "output_type": "stream",
     "text": [
      "[2024-09-09 15:27:04.366928] Arquivo PABA2310.dbc salvo em /home/amcjr/pysus/PABA2310.dbc.parquet.\n",
      "Arquivos processados: 58 de 372\n",
      "Percentual de processamento: 16%\n",
      "[2024-09-09 15:27:04.499066] Baixando e processando PABA2311.dbc.\n"
     ]
    },
    {
     "name": "stderr",
     "output_type": "stream",
     "text": [
      "100%|███████████████████████████████████████████████████████████████████████████████████████████████████████████████████████████████████████████████████████████████████████| 92.5M/92.5M [00:00<00:00, 33.8GB/s]\n"
     ]
    },
    {
     "name": "stdout",
     "output_type": "stream",
     "text": [
      "[2024-09-09 15:27:04.504584] Arquivo PABA2311.dbc salvo em /home/amcjr/pysus/PABA2311.dbc.parquet.\n",
      "Arquivos processados: 59 de 372\n",
      "Percentual de processamento: 16%\n",
      "[2024-09-09 15:27:04.623142] Baixando e processando PABA2312.dbc.\n"
     ]
    },
    {
     "name": "stderr",
     "output_type": "stream",
     "text": [
      "100%|███████████████████████████████████████████████████████████████████████████████████████████████████████████████████████████████████████████████████████████████████████| 90.4M/90.4M [00:00<00:00, 26.9GB/s]"
     ]
    },
    {
     "name": "stdout",
     "output_type": "stream",
     "text": [
      "[2024-09-09 15:27:04.629219] Arquivo PABA2312.dbc salvo em /home/amcjr/pysus/PABA2312.dbc.parquet.\n"
     ]
    },
    {
     "name": "stderr",
     "output_type": "stream",
     "text": [
      "\n"
     ]
    },
    {
     "name": "stdout",
     "output_type": "stream",
     "text": [
      "Arquivos processados: 60 de 372\n",
      "Percentual de processamento: 16%\n",
      "[2024-09-09 15:27:04.741789] Baixando e processando PACE2301.dbc.\n"
     ]
    },
    {
     "name": "stderr",
     "output_type": "stream",
     "text": [
      "100%|███████████████████████████████████████████████████████████████████████████████████████████████████████████████████████████████████████████████████████████████████████| 52.6M/52.6M [00:00<00:00, 5.96GB/s]\n"
     ]
    },
    {
     "name": "stdout",
     "output_type": "stream",
     "text": [
      "[2024-09-09 15:27:04.758045] Arquivo PACE2301.dbc salvo em /home/amcjr/pysus/PACE2301.dbc.parquet.\n",
      "Arquivos processados: 61 de 372\n",
      "Percentual de processamento: 16%\n",
      "[2024-09-09 15:27:04.874745] Baixando e processando PACE2302.dbc.\n"
     ]
    },
    {
     "name": "stderr",
     "output_type": "stream",
     "text": [
      "100%|███████████████████████████████████████████████████████████████████████████████████████████████████████████████████████████████████████████████████████████████████████| 54.8M/54.8M [00:00<00:00, 20.9GB/s]\n"
     ]
    },
    {
     "name": "stdout",
     "output_type": "stream",
     "text": [
      "[2024-09-09 15:27:04.880423] Arquivo PACE2302.dbc salvo em /home/amcjr/pysus/PACE2302.dbc.parquet.\n",
      "Arquivos processados: 62 de 372\n",
      "Percentual de processamento: 17%\n",
      "[2024-09-09 15:27:04.993571] Baixando e processando PACE2303.dbc.\n"
     ]
    },
    {
     "name": "stderr",
     "output_type": "stream",
     "text": [
      "100%|███████████████████████████████████████████████████████████████████████████████████████████████████████████████████████████████████████████████████████████████████████| 65.2M/65.2M [00:00<00:00, 18.9GB/s]\n"
     ]
    },
    {
     "name": "stdout",
     "output_type": "stream",
     "text": [
      "[2024-09-09 15:27:05.000715] Arquivo PACE2303.dbc salvo em /home/amcjr/pysus/PACE2303.dbc.parquet.\n",
      "Arquivos processados: 63 de 372\n",
      "Percentual de processamento: 17%\n",
      "[2024-09-09 15:27:05.151624] Baixando e processando PACE2304.dbc.\n"
     ]
    },
    {
     "name": "stderr",
     "output_type": "stream",
     "text": [
      "100%|███████████████████████████████████████████████████████████████████████████████████████████████████████████████████████████████████████████████████████████████████████| 54.5M/54.5M [00:00<00:00, 2.70GB/s]\n"
     ]
    },
    {
     "name": "stdout",
     "output_type": "stream",
     "text": [
      "[2024-09-09 15:27:05.181457] Arquivo PACE2304.dbc salvo em /home/amcjr/pysus/PACE2304.dbc.parquet.\n",
      "Arquivos processados: 64 de 372\n",
      "Percentual de processamento: 17%\n",
      "[2024-09-09 15:27:05.313595] Baixando e processando PACE2305.dbc.\n"
     ]
    },
    {
     "name": "stderr",
     "output_type": "stream",
     "text": [
      "100%|███████████████████████████████████████████████████████████████████████████████████████████████████████████████████████████████████████████████████████████████████████| 63.6M/63.6M [00:00<00:00, 4.73GB/s]"
     ]
    },
    {
     "name": "stdout",
     "output_type": "stream",
     "text": [
      "[2024-09-09 15:27:05.337995] Arquivo PACE2305.dbc salvo em /home/amcjr/pysus/PACE2305.dbc.parquet.\n",
      "Arquivos processados: 65 de 372\n",
      "Percentual de processamento: 17%\n"
     ]
    },
    {
     "name": "stderr",
     "output_type": "stream",
     "text": [
      "\n"
     ]
    },
    {
     "name": "stdout",
     "output_type": "stream",
     "text": [
      "[2024-09-09 15:27:05.470898] Baixando e processando PACE2306.dbc.\n"
     ]
    },
    {
     "name": "stderr",
     "output_type": "stream",
     "text": [
      "100%|███████████████████████████████████████████████████████████████████████████████████████████████████████████████████████████████████████████████████████████████████████| 55.8M/55.8M [00:00<00:00, 13.8GB/s]"
     ]
    },
    {
     "name": "stdout",
     "output_type": "stream",
     "text": [
      "[2024-09-09 15:27:05.485332] Arquivo PACE2306.dbc salvo em /home/amcjr/pysus/PACE2306.dbc.parquet.\n"
     ]
    },
    {
     "name": "stderr",
     "output_type": "stream",
     "text": [
      "\n"
     ]
    },
    {
     "name": "stdout",
     "output_type": "stream",
     "text": [
      "Arquivos processados: 66 de 372\n",
      "Percentual de processamento: 18%\n",
      "[2024-09-09 15:27:05.615707] Baixando e processando PACE2307.dbc.\n"
     ]
    },
    {
     "name": "stderr",
     "output_type": "stream",
     "text": [
      "100%|███████████████████████████████████████████████████████████████████████████████████████████████████████████████████████████████████████████████████████████████████████| 60.7M/60.7M [00:00<00:00, 24.0GB/s]"
     ]
    },
    {
     "name": "stdout",
     "output_type": "stream",
     "text": [
      "[2024-09-09 15:27:05.621657] Arquivo PACE2307.dbc salvo em /home/amcjr/pysus/PACE2307.dbc.parquet.\n"
     ]
    },
    {
     "name": "stderr",
     "output_type": "stream",
     "text": [
      "\n"
     ]
    },
    {
     "name": "stdout",
     "output_type": "stream",
     "text": [
      "Arquivos processados: 67 de 372\n",
      "Percentual de processamento: 18%\n",
      "[2024-09-09 15:27:05.733382] Baixando e processando PACE2308.dbc.\n"
     ]
    },
    {
     "name": "stderr",
     "output_type": "stream",
     "text": [
      "100%|███████████████████████████████████████████████████████████████████████████████████████████████████████████████████████████████████████████████████████████████████████| 62.1M/62.1M [00:00<00:00, 21.2GB/s]\n"
     ]
    },
    {
     "name": "stdout",
     "output_type": "stream",
     "text": [
      "[2024-09-09 15:27:05.739614] Arquivo PACE2308.dbc salvo em /home/amcjr/pysus/PACE2308.dbc.parquet.\n",
      "Arquivos processados: 68 de 372\n",
      "Percentual de processamento: 18%\n",
      "[2024-09-09 15:27:05.853213] Baixando e processando PACE2309.dbc.\n"
     ]
    },
    {
     "name": "stderr",
     "output_type": "stream",
     "text": [
      "100%|███████████████████████████████████████████████████████████████████████████████████████████████████████████████████████████████████████████████████████████████████████| 63.7M/63.7M [00:00<00:00, 20.8GB/s]\n"
     ]
    },
    {
     "name": "stdout",
     "output_type": "stream",
     "text": [
      "[2024-09-09 15:27:05.858999] Arquivo PACE2309.dbc salvo em /home/amcjr/pysus/PACE2309.dbc.parquet.\n",
      "Arquivos processados: 69 de 372\n",
      "Percentual de processamento: 19%\n",
      "[2024-09-09 15:27:07.001923] Baixando e processando PACE2310.dbc.\n"
     ]
    },
    {
     "name": "stderr",
     "output_type": "stream",
     "text": [
      "100%|███████████████████████████████████████████████████████████████████████████████████████████████████████████████████████████████████████████████████████████████████████| 64.7M/64.7M [00:00<00:00, 21.3GB/s]\n"
     ]
    },
    {
     "name": "stdout",
     "output_type": "stream",
     "text": [
      "[2024-09-09 15:27:07.009484] Arquivo PACE2310.dbc salvo em /home/amcjr/pysus/PACE2310.dbc.parquet.\n",
      "Arquivos processados: 70 de 372\n",
      "Percentual de processamento: 19%\n",
      "[2024-09-09 15:27:07.127713] Baixando e processando PACE2311.dbc.\n"
     ]
    },
    {
     "name": "stderr",
     "output_type": "stream",
     "text": [
      "100%|███████████████████████████████████████████████████████████████████████████████████████████████████████████████████████████████████████████████████████████████████████| 61.9M/61.9M [00:00<00:00, 8.81GB/s]"
     ]
    },
    {
     "name": "stdout",
     "output_type": "stream",
     "text": [
      "[2024-09-09 15:27:07.142426] Arquivo PACE2311.dbc salvo em /home/amcjr/pysus/PACE2311.dbc.parquet.\n",
      "Arquivos processados: 71 de 372\n",
      "Percentual de processamento: 19%\n"
     ]
    },
    {
     "name": "stderr",
     "output_type": "stream",
     "text": [
      "\n"
     ]
    },
    {
     "name": "stdout",
     "output_type": "stream",
     "text": [
      "[2024-09-09 15:27:07.262098] Baixando e processando PACE2312.dbc.\n"
     ]
    },
    {
     "name": "stderr",
     "output_type": "stream",
     "text": [
      "100%|███████████████████████████████████████████████████████████████████████████████████████████████████████████████████████████████████████████████████████████████████████| 64.3M/64.3M [00:00<00:00, 14.8GB/s]\n"
     ]
    },
    {
     "name": "stdout",
     "output_type": "stream",
     "text": [
      "[2024-09-09 15:27:07.272576] Arquivo PACE2312.dbc salvo em /home/amcjr/pysus/PACE2312.dbc.parquet.\n",
      "Arquivos processados: 72 de 372\n",
      "Percentual de processamento: 19%\n",
      "[2024-09-09 15:27:07.387755] Baixando e processando PADF2301.dbc.\n"
     ]
    },
    {
     "name": "stderr",
     "output_type": "stream",
     "text": [
      "100%|███████████████████████████████████████████████████████████████████████████████████████████████████████████████████████████████████████████████████████████████████████| 13.8M/13.8M [00:00<00:00, 5.70GB/s]\n"
     ]
    },
    {
     "name": "stdout",
     "output_type": "stream",
     "text": [
      "[2024-09-09 15:27:07.393491] Arquivo PADF2301.dbc salvo em /home/amcjr/pysus/PADF2301.dbc.parquet.\n",
      "Arquivos processados: 73 de 372\n",
      "Percentual de processamento: 20%\n",
      "[2024-09-09 15:27:07.535393] Baixando e processando PADF2302.dbc.\n"
     ]
    },
    {
     "name": "stderr",
     "output_type": "stream",
     "text": [
      "100%|███████████████████████████████████████████████████████████████████████████████████████████████████████████████████████████████████████████████████████████████████████| 13.5M/13.5M [00:00<00:00, 6.63GB/s]\n"
     ]
    },
    {
     "name": "stdout",
     "output_type": "stream",
     "text": [
      "[2024-09-09 15:27:07.541301] Arquivo PADF2302.dbc salvo em /home/amcjr/pysus/PADF2302.dbc.parquet.\n",
      "Arquivos processados: 74 de 372\n",
      "Percentual de processamento: 20%\n",
      "[2024-09-09 15:27:07.663668] Baixando e processando PADF2303.dbc.\n"
     ]
    },
    {
     "name": "stderr",
     "output_type": "stream",
     "text": [
      "100%|███████████████████████████████████████████████████████████████████████████████████████████████████████████████████████████████████████████████████████████████████████| 15.6M/15.6M [00:00<00:00, 8.17GB/s]"
     ]
    },
    {
     "name": "stdout",
     "output_type": "stream",
     "text": [
      "[2024-09-09 15:27:07.669067] Arquivo PADF2303.dbc salvo em /home/amcjr/pysus/PADF2303.dbc.parquet.\n"
     ]
    },
    {
     "name": "stderr",
     "output_type": "stream",
     "text": [
      "\n"
     ]
    },
    {
     "name": "stdout",
     "output_type": "stream",
     "text": [
      "Arquivos processados: 75 de 372\n",
      "Percentual de processamento: 20%\n",
      "[2024-09-09 15:27:07.802326] Baixando e processando PADF2304.dbc.\n"
     ]
    },
    {
     "name": "stderr",
     "output_type": "stream",
     "text": [
      "100%|███████████████████████████████████████████████████████████████████████████████████████████████████████████████████████████████████████████████████████████████████████| 13.6M/13.6M [00:00<00:00, 2.54GB/s]"
     ]
    },
    {
     "name": "stdout",
     "output_type": "stream",
     "text": [
      "[2024-09-09 15:27:07.815833] Arquivo PADF2304.dbc salvo em /home/amcjr/pysus/PADF2304.dbc.parquet.\n"
     ]
    },
    {
     "name": "stderr",
     "output_type": "stream",
     "text": [
      "\n"
     ]
    },
    {
     "name": "stdout",
     "output_type": "stream",
     "text": [
      "Arquivos processados: 76 de 372\n",
      "Percentual de processamento: 20%\n",
      "[2024-09-09 15:27:07.937757] Baixando e processando PADF2305.dbc.\n"
     ]
    },
    {
     "name": "stderr",
     "output_type": "stream",
     "text": [
      "100%|███████████████████████████████████████████████████████████████████████████████████████████████████████████████████████████████████████████████████████████████████████| 16.5M/16.5M [00:00<00:00, 6.14GB/s]\n"
     ]
    },
    {
     "name": "stdout",
     "output_type": "stream",
     "text": [
      "[2024-09-09 15:27:07.943558] Arquivo PADF2305.dbc salvo em /home/amcjr/pysus/PADF2305.dbc.parquet.\n",
      "Arquivos processados: 77 de 372\n",
      "Percentual de processamento: 21%\n",
      "[2024-09-09 15:27:08.056521] Baixando e processando PADF2306.dbc.\n"
     ]
    },
    {
     "name": "stderr",
     "output_type": "stream",
     "text": [
      "100%|███████████████████████████████████████████████████████████████████████████████████████████████████████████████████████████████████████████████████████████████████████| 13.9M/13.9M [00:00<00:00, 5.14GB/s]\n"
     ]
    },
    {
     "name": "stdout",
     "output_type": "stream",
     "text": [
      "[2024-09-09 15:27:08.062423] Arquivo PADF2306.dbc salvo em /home/amcjr/pysus/PADF2306.dbc.parquet.\n",
      "Arquivos processados: 78 de 372\n",
      "Percentual de processamento: 21%\n",
      "[2024-09-09 15:27:08.182515] Baixando e processando PADF2307.dbc.\n"
     ]
    },
    {
     "name": "stderr",
     "output_type": "stream",
     "text": [
      "100%|███████████████████████████████████████████████████████████████████████████████████████████████████████████████████████████████████████████████████████████████████████| 15.5M/15.5M [00:00<00:00, 7.62GB/s]\n"
     ]
    },
    {
     "name": "stdout",
     "output_type": "stream",
     "text": [
      "[2024-09-09 15:27:08.187708] Arquivo PADF2307.dbc salvo em /home/amcjr/pysus/PADF2307.dbc.parquet.\n",
      "Arquivos processados: 79 de 372\n",
      "Percentual de processamento: 21%\n",
      "[2024-09-09 15:27:08.321470] Baixando e processando PADF2308.dbc.\n"
     ]
    },
    {
     "name": "stderr",
     "output_type": "stream",
     "text": [
      "100%|███████████████████████████████████████████████████████████████████████████████████████████████████████████████████████████████████████████████████████████████████████| 15.7M/15.7M [00:00<00:00, 7.33GB/s]\n"
     ]
    },
    {
     "name": "stdout",
     "output_type": "stream",
     "text": [
      "[2024-09-09 15:27:08.326928] Arquivo PADF2308.dbc salvo em /home/amcjr/pysus/PADF2308.dbc.parquet.\n",
      "Arquivos processados: 80 de 372\n",
      "Percentual de processamento: 22%\n",
      "[2024-09-09 15:27:08.446973] Baixando e processando PADF2309.dbc.\n"
     ]
    },
    {
     "name": "stderr",
     "output_type": "stream",
     "text": [
      "100%|███████████████████████████████████████████████████████████████████████████████████████████████████████████████████████████████████████████████████████████████████████| 16.4M/16.4M [00:00<00:00, 7.68GB/s]\n"
     ]
    },
    {
     "name": "stdout",
     "output_type": "stream",
     "text": [
      "[2024-09-09 15:27:08.452914] Arquivo PADF2309.dbc salvo em /home/amcjr/pysus/PADF2309.dbc.parquet.\n",
      "Arquivos processados: 81 de 372\n",
      "Percentual de processamento: 22%\n",
      "[2024-09-09 15:27:08.570907] Baixando e processando PADF2310.dbc.\n"
     ]
    },
    {
     "name": "stderr",
     "output_type": "stream",
     "text": [
      "100%|███████████████████████████████████████████████████████████████████████████████████████████████████████████████████████████████████████████████████████████████████████| 16.2M/16.2M [00:00<00:00, 7.25GB/s]\n"
     ]
    },
    {
     "name": "stdout",
     "output_type": "stream",
     "text": [
      "[2024-09-09 15:27:08.576508] Arquivo PADF2310.dbc salvo em /home/amcjr/pysus/PADF2310.dbc.parquet.\n",
      "Arquivos processados: 82 de 372\n",
      "Percentual de processamento: 22%\n",
      "[2024-09-09 15:27:08.745056] Baixando e processando PADF2311.dbc.\n"
     ]
    },
    {
     "name": "stderr",
     "output_type": "stream",
     "text": [
      "100%|███████████████████████████████████████████████████████████████████████████████████████████████████████████████████████████████████████████████████████████████████████| 15.0M/15.0M [00:00<00:00, 8.28GB/s]\n"
     ]
    },
    {
     "name": "stdout",
     "output_type": "stream",
     "text": [
      "[2024-09-09 15:27:08.750242] Arquivo PADF2311.dbc salvo em /home/amcjr/pysus/PADF2311.dbc.parquet.\n",
      "Arquivos processados: 83 de 372\n",
      "Percentual de processamento: 22%\n",
      "[2024-09-09 15:27:08.873824] Baixando e processando PADF2312.dbc.\n"
     ]
    },
    {
     "name": "stderr",
     "output_type": "stream",
     "text": [
      "100%|███████████████████████████████████████████████████████████████████████████████████████████████████████████████████████████████████████████████████████████████████████| 15.9M/15.9M [00:00<00:00, 8.61GB/s]"
     ]
    },
    {
     "name": "stdout",
     "output_type": "stream",
     "text": [
      "[2024-09-09 15:27:08.879807] Arquivo PADF2312.dbc salvo em /home/amcjr/pysus/PADF2312.dbc.parquet.\n",
      "Arquivos processados: 84 de 372\n",
      "Percentual de processamento: 23%\n"
     ]
    },
    {
     "name": "stderr",
     "output_type": "stream",
     "text": [
      "\n"
     ]
    },
    {
     "name": "stdout",
     "output_type": "stream",
     "text": [
      "[2024-09-09 15:27:09.001131] Baixando e processando PAES2301.dbc.\n"
     ]
    },
    {
     "name": "stderr",
     "output_type": "stream",
     "text": [
      "100%|███████████████████████████████████████████████████████████████████████████████████████████████████████████████████████████████████████████████████████████████████████| 23.4M/23.4M [00:00<00:00, 9.82GB/s]\n"
     ]
    },
    {
     "name": "stdout",
     "output_type": "stream",
     "text": [
      "[2024-09-09 15:27:09.006830] Arquivo PAES2301.dbc salvo em /home/amcjr/pysus/PAES2301.dbc.parquet.\n",
      "Arquivos processados: 85 de 372\n",
      "Percentual de processamento: 23%\n",
      "[2024-09-09 15:27:09.124504] Baixando e processando PAES2302.dbc.\n"
     ]
    },
    {
     "name": "stderr",
     "output_type": "stream",
     "text": [
      "100%|███████████████████████████████████████████████████████████████████████████████████████████████████████████████████████████████████████████████████████████████████████| 25.5M/25.5M [00:00<00:00, 9.02GB/s]\n"
     ]
    },
    {
     "name": "stdout",
     "output_type": "stream",
     "text": [
      "[2024-09-09 15:27:09.130199] Arquivo PAES2302.dbc salvo em /home/amcjr/pysus/PAES2302.dbc.parquet.\n",
      "Arquivos processados: 86 de 372\n",
      "Percentual de processamento: 23%\n",
      "[2024-09-09 15:27:09.242139] Baixando e processando PAES2303.dbc.\n"
     ]
    },
    {
     "name": "stderr",
     "output_type": "stream",
     "text": [
      "100%|███████████████████████████████████████████████████████████████████████████████████████████████████████████████████████████████████████████████████████████████████████| 29.8M/29.8M [00:00<00:00, 10.3GB/s]\n"
     ]
    },
    {
     "name": "stdout",
     "output_type": "stream",
     "text": [
      "[2024-09-09 15:27:09.249564] Arquivo PAES2303.dbc salvo em /home/amcjr/pysus/PAES2303.dbc.parquet.\n",
      "Arquivos processados: 87 de 372\n",
      "Percentual de processamento: 23%\n",
      "[2024-09-09 15:27:09.363423] Baixando e processando PAES2304.dbc.\n"
     ]
    },
    {
     "name": "stderr",
     "output_type": "stream",
     "text": [
      "100%|███████████████████████████████████████████████████████████████████████████████████████████████████████████████████████████████████████████████████████████████████████| 22.7M/22.7M [00:00<00:00, 9.09GB/s]\n"
     ]
    },
    {
     "name": "stdout",
     "output_type": "stream",
     "text": [
      "[2024-09-09 15:27:09.368864] Arquivo PAES2304.dbc salvo em /home/amcjr/pysus/PAES2304.dbc.parquet.\n",
      "Arquivos processados: 88 de 372\n",
      "Percentual de processamento: 24%\n",
      "[2024-09-09 15:27:09.497553] Baixando e processando PAES2305.dbc.\n"
     ]
    },
    {
     "name": "stderr",
     "output_type": "stream",
     "text": [
      "100%|███████████████████████████████████████████████████████████████████████████████████████████████████████████████████████████████████████████████████████████████████████| 30.6M/30.6M [00:00<00:00, 11.2GB/s]\n"
     ]
    },
    {
     "name": "stdout",
     "output_type": "stream",
     "text": [
      "[2024-09-09 15:27:09.503157] Arquivo PAES2305.dbc salvo em /home/amcjr/pysus/PAES2305.dbc.parquet.\n",
      "Arquivos processados: 89 de 372\n",
      "Percentual de processamento: 24%\n",
      "[2024-09-09 15:27:09.621646] Baixando e processando PAES2306.dbc.\n"
     ]
    },
    {
     "name": "stderr",
     "output_type": "stream",
     "text": [
      "100%|███████████████████████████████████████████████████████████████████████████████████████████████████████████████████████████████████████████████████████████████████████| 25.5M/25.5M [00:00<00:00, 11.7GB/s]\n"
     ]
    },
    {
     "name": "stdout",
     "output_type": "stream",
     "text": [
      "[2024-09-09 15:27:09.626802] Arquivo PAES2306.dbc salvo em /home/amcjr/pysus/PAES2306.dbc.parquet.\n",
      "Arquivos processados: 90 de 372\n",
      "Percentual de processamento: 24%\n",
      "[2024-09-09 15:27:09.747204] Baixando e processando PAES2307.dbc.\n"
     ]
    },
    {
     "name": "stderr",
     "output_type": "stream",
     "text": [
      "100%|███████████████████████████████████████████████████████████████████████████████████████████████████████████████████████████████████████████████████████████████████████| 32.4M/32.4M [00:00<00:00, 14.3GB/s]\n"
     ]
    },
    {
     "name": "stdout",
     "output_type": "stream",
     "text": [
      "[2024-09-09 15:27:09.752963] Arquivo PAES2307.dbc salvo em /home/amcjr/pysus/PAES2307.dbc.parquet.\n",
      "Arquivos processados: 91 de 372\n",
      "Percentual de processamento: 24%\n",
      "[2024-09-09 15:27:09.891264] Baixando e processando PAES2308.dbc.\n"
     ]
    },
    {
     "name": "stderr",
     "output_type": "stream",
     "text": [
      "100%|███████████████████████████████████████████████████████████████████████████████████████████████████████████████████████████████████████████████████████████████████████| 31.7M/31.7M [00:00<00:00, 9.15GB/s]"
     ]
    },
    {
     "name": "stdout",
     "output_type": "stream",
     "text": [
      "[2024-09-09 15:27:09.899007] Arquivo PAES2308.dbc salvo em /home/amcjr/pysus/PAES2308.dbc.parquet.\n"
     ]
    },
    {
     "name": "stderr",
     "output_type": "stream",
     "text": [
      "\n"
     ]
    },
    {
     "name": "stdout",
     "output_type": "stream",
     "text": [
      "Arquivos processados: 92 de 372\n",
      "Percentual de processamento: 25%\n",
      "[2024-09-09 15:27:10.034997] Baixando e processando PAES2309.dbc.\n"
     ]
    },
    {
     "name": "stderr",
     "output_type": "stream",
     "text": [
      "100%|███████████████████████████████████████████████████████████████████████████████████████████████████████████████████████████████████████████████████████████████████████| 32.0M/32.0M [00:00<00:00, 11.9GB/s]\n"
     ]
    },
    {
     "name": "stdout",
     "output_type": "stream",
     "text": [
      "[2024-09-09 15:27:10.040638] Arquivo PAES2309.dbc salvo em /home/amcjr/pysus/PAES2309.dbc.parquet.\n",
      "Arquivos processados: 93 de 372\n",
      "Percentual de processamento: 25%\n",
      "[2024-09-09 15:27:10.188048] Baixando e processando PAES2310.dbc.\n"
     ]
    },
    {
     "name": "stderr",
     "output_type": "stream",
     "text": [
      "100%|███████████████████████████████████████████████████████████████████████████████████████████████████████████████████████████████████████████████████████████████████████| 32.4M/32.4M [00:00<00:00, 12.0GB/s]"
     ]
    },
    {
     "name": "stdout",
     "output_type": "stream",
     "text": [
      "[2024-09-09 15:27:10.194193] Arquivo PAES2310.dbc salvo em /home/amcjr/pysus/PAES2310.dbc.parquet.\n"
     ]
    },
    {
     "name": "stderr",
     "output_type": "stream",
     "text": [
      "\n"
     ]
    },
    {
     "name": "stdout",
     "output_type": "stream",
     "text": [
      "Arquivos processados: 94 de 372\n",
      "Percentual de processamento: 25%\n",
      "[2024-09-09 15:27:10.317364] Baixando e processando PAES2311.dbc.\n"
     ]
    },
    {
     "name": "stderr",
     "output_type": "stream",
     "text": [
      "100%|███████████████████████████████████████████████████████████████████████████████████████████████████████████████████████████████████████████████████████████████████████| 32.5M/32.5M [00:00<00:00, 12.7GB/s]"
     ]
    },
    {
     "name": "stdout",
     "output_type": "stream",
     "text": [
      "[2024-09-09 15:27:10.323491] Arquivo PAES2311.dbc salvo em /home/amcjr/pysus/PAES2311.dbc.parquet.\n"
     ]
    },
    {
     "name": "stderr",
     "output_type": "stream",
     "text": [
      "\n"
     ]
    },
    {
     "name": "stdout",
     "output_type": "stream",
     "text": [
      "Arquivos processados: 95 de 372\n",
      "Percentual de processamento: 26%\n",
      "[2024-09-09 15:27:10.447748] Baixando e processando PAES2312.dbc.\n"
     ]
    },
    {
     "name": "stderr",
     "output_type": "stream",
     "text": [
      "100%|███████████████████████████████████████████████████████████████████████████████████████████████████████████████████████████████████████████████████████████████████████| 35.9M/35.9M [00:00<00:00, 5.86GB/s]\n"
     ]
    },
    {
     "name": "stdout",
     "output_type": "stream",
     "text": [
      "[2024-09-09 15:27:10.462716] Arquivo PAES2312.dbc salvo em /home/amcjr/pysus/PAES2312.dbc.parquet.\n",
      "Arquivos processados: 96 de 372\n",
      "Percentual de processamento: 26%\n",
      "[2024-09-09 15:27:10.604606] Baixando e processando PAGO2301.dbc.\n"
     ]
    },
    {
     "name": "stderr",
     "output_type": "stream",
     "text": [
      "100%|███████████████████████████████████████████████████████████████████████████████████████████████████████████████████████████████████████████████████████████████████████| 37.9M/37.9M [00:00<00:00, 8.19GB/s]\n"
     ]
    },
    {
     "name": "stdout",
     "output_type": "stream",
     "text": [
      "[2024-09-09 15:27:10.618083] Arquivo PAGO2301.dbc salvo em /home/amcjr/pysus/PAGO2301.dbc.parquet.\n",
      "Arquivos processados: 97 de 372\n",
      "Percentual de processamento: 26%\n",
      "[2024-09-09 15:27:10.767861] Baixando e processando PAGO2302.dbc.\n"
     ]
    },
    {
     "name": "stderr",
     "output_type": "stream",
     "text": [
      "100%|███████████████████████████████████████████████████████████████████████████████████████████████████████████████████████████████████████████████████████████████████████| 43.5M/43.5M [00:00<00:00, 22.0GB/s]"
     ]
    },
    {
     "name": "stdout",
     "output_type": "stream",
     "text": [
      "[2024-09-09 15:27:10.773433] Arquivo PAGO2302.dbc salvo em /home/amcjr/pysus/PAGO2302.dbc.parquet.\n"
     ]
    },
    {
     "name": "stderr",
     "output_type": "stream",
     "text": [
      "\n"
     ]
    },
    {
     "name": "stdout",
     "output_type": "stream",
     "text": [
      "Arquivos processados: 98 de 372\n",
      "Percentual de processamento: 26%\n",
      "[2024-09-09 15:27:10.919696] Baixando e processando PAGO2303.dbc.\n"
     ]
    },
    {
     "name": "stderr",
     "output_type": "stream",
     "text": [
      "100%|███████████████████████████████████████████████████████████████████████████████████████████████████████████████████████████████████████████████████████████████████████| 50.8M/50.8M [00:00<00:00, 21.5GB/s]"
     ]
    },
    {
     "name": "stdout",
     "output_type": "stream",
     "text": [
      "[2024-09-09 15:27:10.925131] Arquivo PAGO2303.dbc salvo em /home/amcjr/pysus/PAGO2303.dbc.parquet.\n"
     ]
    },
    {
     "name": "stderr",
     "output_type": "stream",
     "text": [
      "\n"
     ]
    },
    {
     "name": "stdout",
     "output_type": "stream",
     "text": [
      "Arquivos processados: 99 de 372\n",
      "Percentual de processamento: 27%\n",
      "[2024-09-09 15:27:11.063689] Baixando e processando PAGO2304.dbc.\n"
     ]
    },
    {
     "name": "stderr",
     "output_type": "stream",
     "text": [
      "100%|███████████████████████████████████████████████████████████████████████████████████████████████████████████████████████████████████████████████████████████████████████| 41.1M/41.1M [00:00<00:00, 18.4GB/s]"
     ]
    },
    {
     "name": "stdout",
     "output_type": "stream",
     "text": [
      "[2024-09-09 15:27:11.069114] Arquivo PAGO2304.dbc salvo em /home/amcjr/pysus/PAGO2304.dbc.parquet.\n"
     ]
    },
    {
     "name": "stderr",
     "output_type": "stream",
     "text": [
      "\n"
     ]
    },
    {
     "name": "stdout",
     "output_type": "stream",
     "text": [
      "Arquivos processados: 100 de 372\n",
      "Percentual de processamento: 27%\n",
      "[2024-09-09 15:27:11.196826] Baixando e processando PAGO2305.dbc.\n"
     ]
    },
    {
     "name": "stderr",
     "output_type": "stream",
     "text": [
      "100%|███████████████████████████████████████████████████████████████████████████████████████████████████████████████████████████████████████████████████████████████████████| 56.6M/56.6M [00:00<00:00, 18.8GB/s]"
     ]
    },
    {
     "name": "stdout",
     "output_type": "stream",
     "text": [
      "[2024-09-09 15:27:11.203190] Arquivo PAGO2305.dbc salvo em /home/amcjr/pysus/PAGO2305.dbc.parquet.\n"
     ]
    },
    {
     "name": "stderr",
     "output_type": "stream",
     "text": [
      "\n"
     ]
    },
    {
     "name": "stdout",
     "output_type": "stream",
     "text": [
      "Arquivos processados: 101 de 372\n",
      "Percentual de processamento: 27%\n",
      "[2024-09-09 15:27:11.322154] Baixando e processando PAGO2306.dbc.\n"
     ]
    },
    {
     "name": "stderr",
     "output_type": "stream",
     "text": [
      "100%|███████████████████████████████████████████████████████████████████████████████████████████████████████████████████████████████████████████████████████████████████████| 47.2M/47.2M [00:00<00:00, 17.9GB/s]\n"
     ]
    },
    {
     "name": "stdout",
     "output_type": "stream",
     "text": [
      "[2024-09-09 15:27:11.328553] Arquivo PAGO2306.dbc salvo em /home/amcjr/pysus/PAGO2306.dbc.parquet.\n",
      "Arquivos processados: 102 de 372\n",
      "Percentual de processamento: 27%\n",
      "[2024-09-09 15:27:11.478868] Baixando e processando PAGO2307.dbc.\n"
     ]
    },
    {
     "name": "stderr",
     "output_type": "stream",
     "text": [
      "100%|███████████████████████████████████████████████████████████████████████████████████████████████████████████████████████████████████████████████████████████████████████| 47.6M/47.6M [00:00<00:00, 17.7GB/s]\n"
     ]
    },
    {
     "name": "stdout",
     "output_type": "stream",
     "text": [
      "[2024-09-09 15:27:11.485171] Arquivo PAGO2307.dbc salvo em /home/amcjr/pysus/PAGO2307.dbc.parquet.\n",
      "Arquivos processados: 103 de 372\n",
      "Percentual de processamento: 28%\n",
      "[2024-09-09 15:27:11.622093] Baixando e processando PAGO2308.dbc.\n"
     ]
    },
    {
     "name": "stderr",
     "output_type": "stream",
     "text": [
      "100%|███████████████████████████████████████████████████████████████████████████████████████████████████████████████████████████████████████████████████████████████████████| 44.3M/44.3M [00:00<00:00, 15.0GB/s]"
     ]
    },
    {
     "name": "stdout",
     "output_type": "stream",
     "text": [
      "[2024-09-09 15:27:11.628277] Arquivo PAGO2308.dbc salvo em /home/amcjr/pysus/PAGO2308.dbc.parquet.\n",
      "Arquivos processados: 104 de 372\n",
      "Percentual de processamento: 28%\n"
     ]
    },
    {
     "name": "stderr",
     "output_type": "stream",
     "text": [
      "\n"
     ]
    },
    {
     "name": "stdout",
     "output_type": "stream",
     "text": [
      "[2024-09-09 15:27:11.748613] Baixando e processando PAGO2309.dbc.\n"
     ]
    },
    {
     "name": "stderr",
     "output_type": "stream",
     "text": [
      "100%|███████████████████████████████████████████████████████████████████████████████████████████████████████████████████████████████████████████████████████████████████████| 48.0M/48.0M [00:00<00:00, 20.0GB/s]\n"
     ]
    },
    {
     "name": "stdout",
     "output_type": "stream",
     "text": [
      "[2024-09-09 15:27:11.753853] Arquivo PAGO2309.dbc salvo em /home/amcjr/pysus/PAGO2309.dbc.parquet.\n",
      "Arquivos processados: 105 de 372\n",
      "Percentual de processamento: 28%\n",
      "[2024-09-09 15:27:11.868907] Baixando e processando PAGO2310.dbc.\n"
     ]
    },
    {
     "name": "stderr",
     "output_type": "stream",
     "text": [
      "100%|███████████████████████████████████████████████████████████████████████████████████████████████████████████████████████████████████████████████████████████████████████| 45.3M/45.3M [00:00<00:00, 17.3GB/s]\n"
     ]
    },
    {
     "name": "stdout",
     "output_type": "stream",
     "text": [
      "[2024-09-09 15:27:11.874374] Arquivo PAGO2310.dbc salvo em /home/amcjr/pysus/PAGO2310.dbc.parquet.\n",
      "Arquivos processados: 106 de 372\n",
      "Percentual de processamento: 28%\n",
      "[2024-09-09 15:27:12.006678] Baixando e processando PAGO2311.dbc.\n"
     ]
    },
    {
     "name": "stderr",
     "output_type": "stream",
     "text": [
      "100%|███████████████████████████████████████████████████████████████████████████████████████████████████████████████████████████████████████████████████████████████████████| 43.9M/43.9M [00:00<00:00, 16.4GB/s]\n"
     ]
    },
    {
     "name": "stdout",
     "output_type": "stream",
     "text": [
      "[2024-09-09 15:27:12.012620] Arquivo PAGO2311.dbc salvo em /home/amcjr/pysus/PAGO2311.dbc.parquet.\n",
      "Arquivos processados: 107 de 372\n",
      "Percentual de processamento: 29%\n",
      "[2024-09-09 15:27:12.160298] Baixando e processando PAGO2312.dbc.\n"
     ]
    },
    {
     "name": "stderr",
     "output_type": "stream",
     "text": [
      "100%|███████████████████████████████████████████████████████████████████████████████████████████████████████████████████████████████████████████████████████████████████████| 47.7M/47.7M [00:00<00:00, 22.2GB/s]"
     ]
    },
    {
     "name": "stdout",
     "output_type": "stream",
     "text": [
      "[2024-09-09 15:27:12.166590] Arquivo PAGO2312.dbc salvo em /home/amcjr/pysus/PAGO2312.dbc.parquet.\n"
     ]
    },
    {
     "name": "stderr",
     "output_type": "stream",
     "text": [
      "\n"
     ]
    },
    {
     "name": "stdout",
     "output_type": "stream",
     "text": [
      "Arquivos processados: 108 de 372\n",
      "Percentual de processamento: 29%\n",
      "[2024-09-09 15:27:12.322069] Baixando e processando PAMA2301.dbc.\n"
     ]
    },
    {
     "name": "stderr",
     "output_type": "stream",
     "text": [
      "100%|███████████████████████████████████████████████████████████████████████████████████████████████████████████████████████████████████████████████████████████████████████| 28.1M/28.1M [00:00<00:00, 12.3GB/s]"
     ]
    },
    {
     "name": "stdout",
     "output_type": "stream",
     "text": [
      "[2024-09-09 15:27:12.327617] Arquivo PAMA2301.dbc salvo em /home/amcjr/pysus/PAMA2301.dbc.parquet.\n",
      "Arquivos processados: 109 de 372\n",
      "Percentual de processamento: 29%\n"
     ]
    },
    {
     "name": "stderr",
     "output_type": "stream",
     "text": [
      "\n"
     ]
    },
    {
     "name": "stdout",
     "output_type": "stream",
     "text": [
      "[2024-09-09 15:27:12.490634] Baixando e processando PAMA2302.dbc.\n"
     ]
    },
    {
     "name": "stderr",
     "output_type": "stream",
     "text": [
      "100%|███████████████████████████████████████████████████████████████████████████████████████████████████████████████████████████████████████████████████████████████████████| 31.3M/31.3M [00:00<00:00, 3.23GB/s]"
     ]
    },
    {
     "name": "stdout",
     "output_type": "stream",
     "text": [
      "[2024-09-09 15:27:12.508065] Arquivo PAMA2302.dbc salvo em /home/amcjr/pysus/PAMA2302.dbc.parquet.\n"
     ]
    },
    {
     "name": "stderr",
     "output_type": "stream",
     "text": [
      "\n"
     ]
    },
    {
     "name": "stdout",
     "output_type": "stream",
     "text": [
      "Arquivos processados: 110 de 372\n",
      "Percentual de processamento: 30%\n",
      "[2024-09-09 15:27:12.637620] Baixando e processando PAMA2303.dbc.\n"
     ]
    },
    {
     "name": "stderr",
     "output_type": "stream",
     "text": [
      "100%|███████████████████████████████████████████████████████████████████████████████████████████████████████████████████████████████████████████████████████████████████████| 36.3M/36.3M [00:00<00:00, 13.6GB/s]"
     ]
    },
    {
     "name": "stdout",
     "output_type": "stream",
     "text": [
      "[2024-09-09 15:27:12.644368] Arquivo PAMA2303.dbc salvo em /home/amcjr/pysus/PAMA2303.dbc.parquet.\n",
      "Arquivos processados: 111 de 372\n",
      "Percentual de processamento: 30%\n"
     ]
    },
    {
     "name": "stderr",
     "output_type": "stream",
     "text": [
      "\n"
     ]
    },
    {
     "name": "stdout",
     "output_type": "stream",
     "text": [
      "[2024-09-09 15:27:12.764505] Baixando e processando PAMA2304.dbc.\n"
     ]
    },
    {
     "name": "stderr",
     "output_type": "stream",
     "text": [
      "100%|███████████████████████████████████████████████████████████████████████████████████████████████████████████████████████████████████████████████████████████████████████| 27.3M/27.3M [00:00<00:00, 4.92GB/s]\n"
     ]
    },
    {
     "name": "stdout",
     "output_type": "stream",
     "text": [
      "[2024-09-09 15:27:12.778694] Arquivo PAMA2304.dbc salvo em /home/amcjr/pysus/PAMA2304.dbc.parquet.\n",
      "Arquivos processados: 112 de 372\n",
      "Percentual de processamento: 30%\n",
      "[2024-09-09 15:27:12.906323] Baixando e processando PAMA2305.dbc.\n"
     ]
    },
    {
     "name": "stderr",
     "output_type": "stream",
     "text": [
      "100%|███████████████████████████████████████████████████████████████████████████████████████████████████████████████████████████████████████████████████████████████████████| 35.2M/35.2M [00:00<00:00, 14.4GB/s]\n"
     ]
    },
    {
     "name": "stdout",
     "output_type": "stream",
     "text": [
      "[2024-09-09 15:27:12.911902] Arquivo PAMA2305.dbc salvo em /home/amcjr/pysus/PAMA2305.dbc.parquet.\n",
      "Arquivos processados: 113 de 372\n",
      "Percentual de processamento: 30%\n",
      "[2024-09-09 15:27:13.026574] Baixando e processando PAMA2306.dbc.\n"
     ]
    },
    {
     "name": "stderr",
     "output_type": "stream",
     "text": [
      "100%|███████████████████████████████████████████████████████████████████████████████████████████████████████████████████████████████████████████████████████████████████████| 27.4M/27.4M [00:00<00:00, 15.0GB/s]\n"
     ]
    },
    {
     "name": "stdout",
     "output_type": "stream",
     "text": [
      "[2024-09-09 15:27:13.031627] Arquivo PAMA2306.dbc salvo em /home/amcjr/pysus/PAMA2306.dbc.parquet.\n",
      "Arquivos processados: 114 de 372\n",
      "Percentual de processamento: 31%\n",
      "[2024-09-09 15:27:13.148650] Baixando e processando PAMA2307.dbc.\n"
     ]
    },
    {
     "name": "stderr",
     "output_type": "stream",
     "text": [
      "100%|███████████████████████████████████████████████████████████████████████████████████████████████████████████████████████████████████████████████████████████████████████| 34.4M/34.4M [00:00<00:00, 4.78GB/s]\n"
     ]
    },
    {
     "name": "stdout",
     "output_type": "stream",
     "text": [
      "[2024-09-09 15:27:13.164773] Arquivo PAMA2307.dbc salvo em /home/amcjr/pysus/PAMA2307.dbc.parquet.\n",
      "Arquivos processados: 115 de 372\n",
      "Percentual de processamento: 31%\n",
      "[2024-09-09 15:27:13.296952] Baixando e processando PAMA2308.dbc.\n"
     ]
    },
    {
     "name": "stderr",
     "output_type": "stream",
     "text": [
      "100%|███████████████████████████████████████████████████████████████████████████████████████████████████████████████████████████████████████████████████████████████████████| 30.7M/30.7M [00:00<00:00, 13.2GB/s]"
     ]
    },
    {
     "name": "stdout",
     "output_type": "stream",
     "text": [
      "[2024-09-09 15:27:13.302630] Arquivo PAMA2308.dbc salvo em /home/amcjr/pysus/PAMA2308.dbc.parquet.\n"
     ]
    },
    {
     "name": "stderr",
     "output_type": "stream",
     "text": [
      "\n"
     ]
    },
    {
     "name": "stdout",
     "output_type": "stream",
     "text": [
      "Arquivos processados: 116 de 372\n",
      "Percentual de processamento: 31%\n",
      "[2024-09-09 15:27:13.435787] Baixando e processando PAMA2309.dbc.\n"
     ]
    },
    {
     "name": "stderr",
     "output_type": "stream",
     "text": [
      "100%|███████████████████████████████████████████████████████████████████████████████████████████████████████████████████████████████████████████████████████████████████████| 37.7M/37.7M [00:00<00:00, 15.5GB/s]\n"
     ]
    },
    {
     "name": "stdout",
     "output_type": "stream",
     "text": [
      "[2024-09-09 15:27:13.441223] Arquivo PAMA2309.dbc salvo em /home/amcjr/pysus/PAMA2309.dbc.parquet.\n",
      "Arquivos processados: 117 de 372\n",
      "Percentual de processamento: 31%\n",
      "[2024-09-09 15:27:13.554712] Baixando e processando PAMA2310.dbc.\n"
     ]
    },
    {
     "name": "stderr",
     "output_type": "stream",
     "text": [
      "100%|███████████████████████████████████████████████████████████████████████████████████████████████████████████████████████████████████████████████████████████████████████| 34.1M/34.1M [00:00<00:00, 13.9GB/s]\n"
     ]
    },
    {
     "name": "stdout",
     "output_type": "stream",
     "text": [
      "[2024-09-09 15:27:13.560331] Arquivo PAMA2310.dbc salvo em /home/amcjr/pysus/PAMA2310.dbc.parquet.\n",
      "Arquivos processados: 118 de 372\n",
      "Percentual de processamento: 32%\n",
      "[2024-09-09 15:27:13.677957] Baixando e processando PAMA2311.dbc.\n"
     ]
    },
    {
     "name": "stderr",
     "output_type": "stream",
     "text": [
      "100%|███████████████████████████████████████████████████████████████████████████████████████████████████████████████████████████████████████████████████████████████████████| 31.2M/31.2M [00:00<00:00, 13.2GB/s]\n"
     ]
    },
    {
     "name": "stdout",
     "output_type": "stream",
     "text": [
      "[2024-09-09 15:27:13.683238] Arquivo PAMA2311.dbc salvo em /home/amcjr/pysus/PAMA2311.dbc.parquet.\n",
      "Arquivos processados: 119 de 372\n",
      "Percentual de processamento: 32%\n",
      "[2024-09-09 15:27:13.800036] Baixando e processando PAMA2312.dbc.\n"
     ]
    },
    {
     "name": "stderr",
     "output_type": "stream",
     "text": [
      "100%|███████████████████████████████████████████████████████████████████████████████████████████████████████████████████████████████████████████████████████████████████████| 36.0M/36.0M [00:00<00:00, 15.4GB/s]\n"
     ]
    },
    {
     "name": "stdout",
     "output_type": "stream",
     "text": [
      "[2024-09-09 15:27:13.805270] Arquivo PAMA2312.dbc salvo em /home/amcjr/pysus/PAMA2312.dbc.parquet.\n",
      "Arquivos processados: 120 de 372\n",
      "Percentual de processamento: 32%\n",
      "[2024-09-09 15:27:13.925903] Baixando e processando PAMG2301a.dbc.\n"
     ]
    },
    {
     "name": "stderr",
     "output_type": "stream",
     "text": [
      "100%|███████████████████████████████████████████████████████████████████████████████████████████████████████████████████████████████████████████████████████████████████████| 58.3M/58.3M [00:00<00:00, 23.0GB/s]\n"
     ]
    },
    {
     "name": "stdout",
     "output_type": "stream",
     "text": [
      "[2024-09-09 15:27:13.931827] Arquivo PAMG2301a.dbc salvo em /home/amcjr/pysus/PAMG2301a.dbc.parquet.\n",
      "Arquivos processados: 121 de 372\n",
      "Percentual de processamento: 33%\n",
      "[2024-09-09 15:27:14.049906] Baixando e processando PAMG2301b.dbc.\n"
     ]
    },
    {
     "name": "stderr",
     "output_type": "stream",
     "text": [
      "100%|█████████████████████████████████████████████████████████████████████████████████████████████████████████████████████████████████████████████████████████████████████████| 131M/131M [00:00<00:00, 37.6GB/s]\n"
     ]
    },
    {
     "name": "stdout",
     "output_type": "stream",
     "text": [
      "[2024-09-09 15:27:14.056886] Arquivo PAMG2301b.dbc salvo em /home/amcjr/pysus/PAMG2301b.dbc.parquet.\n",
      "Arquivos processados: 122 de 372\n",
      "Percentual de processamento: 33%\n",
      "[2024-09-09 15:27:14.197048] Baixando e processando PAMG2302a.dbc.\n"
     ]
    },
    {
     "name": "stderr",
     "output_type": "stream",
     "text": [
      "100%|███████████████████████████████████████████████████████████████████████████████████████████████████████████████████████████████████████████████████████████████████████| 58.1M/58.1M [00:00<00:00, 8.50GB/s]\n"
     ]
    },
    {
     "name": "stdout",
     "output_type": "stream",
     "text": [
      "[2024-09-09 15:27:14.214901] Arquivo PAMG2302a.dbc salvo em /home/amcjr/pysus/PAMG2302a.dbc.parquet.\n",
      "Arquivos processados: 123 de 372\n",
      "Percentual de processamento: 33%\n",
      "[2024-09-09 15:27:14.332950] Baixando e processando PAMG2302b.dbc.\n"
     ]
    },
    {
     "name": "stderr",
     "output_type": "stream",
     "text": [
      "100%|█████████████████████████████████████████████████████████████████████████████████████████████████████████████████████████████████████████████████████████████████████████| 146M/146M [00:00<00:00, 13.4GB/s]\n"
     ]
    },
    {
     "name": "stdout",
     "output_type": "stream",
     "text": [
      "[2024-09-09 15:27:14.360342] Arquivo PAMG2302b.dbc salvo em /home/amcjr/pysus/PAMG2302b.dbc.parquet.\n",
      "Arquivos processados: 124 de 372\n",
      "Percentual de processamento: 33%\n",
      "[2024-09-09 15:27:14.480665] Baixando e processando PAMG2303a.dbc.\n"
     ]
    },
    {
     "name": "stderr",
     "output_type": "stream",
     "text": [
      "100%|███████████████████████████████████████████████████████████████████████████████████████████████████████████████████████████████████████████████████████████████████████| 67.1M/67.1M [00:00<00:00, 4.93GB/s]"
     ]
    },
    {
     "name": "stdout",
     "output_type": "stream",
     "text": [
      "[2024-09-09 15:27:14.502286] Arquivo PAMG2303a.dbc salvo em /home/amcjr/pysus/PAMG2303a.dbc.parquet.\n"
     ]
    },
    {
     "name": "stderr",
     "output_type": "stream",
     "text": [
      "\n"
     ]
    },
    {
     "name": "stdout",
     "output_type": "stream",
     "text": [
      "Arquivos processados: 125 de 372\n",
      "Percentual de processamento: 34%\n",
      "[2024-09-09 15:27:14.620555] Baixando e processando PAMG2303b.dbc.\n"
     ]
    },
    {
     "name": "stderr",
     "output_type": "stream",
     "text": [
      "100%|█████████████████████████████████████████████████████████████████████████████████████████████████████████████████████████████████████████████████████████████████████████| 176M/176M [00:00<00:00, 44.3GB/s]\n"
     ]
    },
    {
     "name": "stdout",
     "output_type": "stream",
     "text": [
      "[2024-09-09 15:27:14.627991] Arquivo PAMG2303b.dbc salvo em /home/amcjr/pysus/PAMG2303b.dbc.parquet.\n",
      "Arquivos processados: 126 de 372\n",
      "Percentual de processamento: 34%\n",
      "[2024-09-09 15:27:14.755549] Baixando e processando PAMG2304a.dbc.\n"
     ]
    },
    {
     "name": "stderr",
     "output_type": "stream",
     "text": [
      "100%|███████████████████████████████████████████████████████████████████████████████████████████████████████████████████████████████████████████████████████████████████████| 62.3M/62.3M [00:00<00:00, 20.0GB/s]\n"
     ]
    },
    {
     "name": "stdout",
     "output_type": "stream",
     "text": [
      "[2024-09-09 15:27:14.762486] Arquivo PAMG2304a.dbc salvo em /home/amcjr/pysus/PAMG2304a.dbc.parquet.\n",
      "Arquivos processados: 127 de 372\n",
      "Percentual de processamento: 34%\n",
      "[2024-09-09 15:27:14.879697] Baixando e processando PAMG2304b.dbc.\n"
     ]
    },
    {
     "name": "stderr",
     "output_type": "stream",
     "text": [
      "100%|█████████████████████████████████████████████████████████████████████████████████████████████████████████████████████████████████████████████████████████████████████████| 148M/148M [00:00<00:00, 41.3GB/s]\n"
     ]
    },
    {
     "name": "stdout",
     "output_type": "stream",
     "text": [
      "[2024-09-09 15:27:14.886351] Arquivo PAMG2304b.dbc salvo em /home/amcjr/pysus/PAMG2304b.dbc.parquet.\n",
      "Arquivos processados: 128 de 372\n",
      "Percentual de processamento: 34%\n",
      "[2024-09-09 15:27:15.004408] Baixando e processando PAMG2305a.dbc.\n"
     ]
    },
    {
     "name": "stderr",
     "output_type": "stream",
     "text": [
      "100%|█████████████████████████████████████████████████████████████████████████████████████████████████████████████████████████████████████████████████████████████████████████| 171M/171M [00:00<00:00, 44.6GB/s]\n"
     ]
    },
    {
     "name": "stdout",
     "output_type": "stream",
     "text": [
      "[2024-09-09 15:27:15.011142] Arquivo PAMG2305a.dbc salvo em /home/amcjr/pysus/PAMG2305a.dbc.parquet.\n",
      "Arquivos processados: 129 de 372\n",
      "Percentual de processamento: 35%\n",
      "[2024-09-09 15:27:15.131403] Baixando e processando PAMG2305b.dbc.\n"
     ]
    },
    {
     "name": "stderr",
     "output_type": "stream",
     "text": [
      "100%|███████████████████████████████████████████████████████████████████████████████████████████████████████████████████████████████████████████████████████████████████████| 76.5M/76.5M [00:00<00:00, 35.9GB/s]\n"
     ]
    },
    {
     "name": "stdout",
     "output_type": "stream",
     "text": [
      "[2024-09-09 15:27:15.136317] Arquivo PAMG2305b.dbc salvo em /home/amcjr/pysus/PAMG2305b.dbc.parquet.\n",
      "Arquivos processados: 130 de 372\n",
      "Percentual de processamento: 35%\n",
      "[2024-09-09 15:27:15.260949] Baixando e processando PAMG2306a.dbc.\n"
     ]
    },
    {
     "name": "stderr",
     "output_type": "stream",
     "text": [
      "100%|█████████████████████████████████████████████████████████████████████████████████████████████████████████████████████████████████████████████████████████████████████████| 169M/169M [00:00<00:00, 50.1GB/s]\n"
     ]
    },
    {
     "name": "stdout",
     "output_type": "stream",
     "text": [
      "[2024-09-09 15:27:15.267061] Arquivo PAMG2306a.dbc salvo em /home/amcjr/pysus/PAMG2306a.dbc.parquet.\n",
      "Arquivos processados: 131 de 372\n",
      "Percentual de processamento: 35%\n",
      "[2024-09-09 15:27:15.382535] Baixando e processando PAMG2306b.dbc.\n"
     ]
    },
    {
     "name": "stderr",
     "output_type": "stream",
     "text": [
      "100%|███████████████████████████████████████████████████████████████████████████████████████████████████████████████████████████████████████████████████████████████████████| 58.3M/58.3M [00:00<00:00, 23.4GB/s]\n"
     ]
    },
    {
     "name": "stdout",
     "output_type": "stream",
     "text": [
      "[2024-09-09 15:27:15.388474] Arquivo PAMG2306b.dbc salvo em /home/amcjr/pysus/PAMG2306b.dbc.parquet.\n",
      "Arquivos processados: 132 de 372\n",
      "Percentual de processamento: 35%\n",
      "[2024-09-09 15:27:15.511647] Baixando e processando PAMG2307a.dbc.\n"
     ]
    },
    {
     "name": "stderr",
     "output_type": "stream",
     "text": [
      "100%|█████████████████████████████████████████████████████████████████████████████████████████████████████████████████████████████████████████████████████████████████████████| 173M/173M [00:00<00:00, 43.7GB/s]\n"
     ]
    },
    {
     "name": "stdout",
     "output_type": "stream",
     "text": [
      "[2024-09-09 15:27:15.518483] Arquivo PAMG2307a.dbc salvo em /home/amcjr/pysus/PAMG2307a.dbc.parquet.\n",
      "Arquivos processados: 133 de 372\n",
      "Percentual de processamento: 36%\n",
      "[2024-09-09 15:27:15.635779] Baixando e processando PAMG2307b.dbc.\n"
     ]
    },
    {
     "name": "stderr",
     "output_type": "stream",
     "text": [
      "100%|███████████████████████████████████████████████████████████████████████████████████████████████████████████████████████████████████████████████████████████████████████| 72.7M/72.7M [00:00<00:00, 8.56GB/s]\n"
     ]
    },
    {
     "name": "stdout",
     "output_type": "stream",
     "text": [
      "[2024-09-09 15:27:15.652874] Arquivo PAMG2307b.dbc salvo em /home/amcjr/pysus/PAMG2307b.dbc.parquet.\n",
      "Arquivos processados: 134 de 372\n",
      "Percentual de processamento: 36%\n",
      "[2024-09-09 15:27:15.776807] Baixando e processando PAMG2308a.dbc.\n"
     ]
    },
    {
     "name": "stderr",
     "output_type": "stream",
     "text": [
      "100%|█████████████████████████████████████████████████████████████████████████████████████████████████████████████████████████████████████████████████████████████████████████| 170M/170M [00:00<00:00, 45.6GB/s]\n"
     ]
    },
    {
     "name": "stdout",
     "output_type": "stream",
     "text": [
      "[2024-09-09 15:27:15.783462] Arquivo PAMG2308a.dbc salvo em /home/amcjr/pysus/PAMG2308a.dbc.parquet.\n",
      "Arquivos processados: 135 de 372\n",
      "Percentual de processamento: 36%\n",
      "[2024-09-09 15:27:15.897321] Baixando e processando PAMG2308b.dbc.\n"
     ]
    },
    {
     "name": "stderr",
     "output_type": "stream",
     "text": [
      "100%|███████████████████████████████████████████████████████████████████████████████████████████████████████████████████████████████████████████████████████████████████████| 73.4M/73.4M [00:00<00:00, 28.9GB/s]\n"
     ]
    },
    {
     "name": "stdout",
     "output_type": "stream",
     "text": [
      "[2024-09-09 15:27:15.903500] Arquivo PAMG2308b.dbc salvo em /home/amcjr/pysus/PAMG2308b.dbc.parquet.\n",
      "Arquivos processados: 136 de 372\n",
      "Percentual de processamento: 37%\n",
      "[2024-09-09 15:27:16.047274] Baixando e processando PAMG2309a.dbc.\n"
     ]
    },
    {
     "name": "stderr",
     "output_type": "stream",
     "text": [
      "100%|█████████████████████████████████████████████████████████████████████████████████████████████████████████████████████████████████████████████████████████████████████████| 173M/173M [00:00<00:00, 9.31GB/s]\n"
     ]
    },
    {
     "name": "stdout",
     "output_type": "stream",
     "text": [
      "[2024-09-09 15:27:16.075778] Arquivo PAMG2309a.dbc salvo em /home/amcjr/pysus/PAMG2309a.dbc.parquet.\n",
      "Arquivos processados: 137 de 372\n",
      "Percentual de processamento: 37%\n",
      "[2024-09-09 15:27:16.193509] Baixando e processando PAMG2309b.dbc.\n"
     ]
    },
    {
     "name": "stderr",
     "output_type": "stream",
     "text": [
      "100%|███████████████████████████████████████████████████████████████████████████████████████████████████████████████████████████████████████████████████████████████████████| 70.1M/70.1M [00:00<00:00, 6.68GB/s]\n"
     ]
    },
    {
     "name": "stdout",
     "output_type": "stream",
     "text": [
      "[2024-09-09 15:27:16.213140] Arquivo PAMG2309b.dbc salvo em /home/amcjr/pysus/PAMG2309b.dbc.parquet.\n",
      "Arquivos processados: 138 de 372\n",
      "Percentual de processamento: 37%\n",
      "[2024-09-09 15:27:16.331813] Baixando e processando PAMG2310a.dbc.\n"
     ]
    },
    {
     "name": "stderr",
     "output_type": "stream",
     "text": [
      "100%|█████████████████████████████████████████████████████████████████████████████████████████████████████████████████████████████████████████████████████████████████████████| 169M/169M [00:00<00:00, 36.1GB/s]\n"
     ]
    },
    {
     "name": "stdout",
     "output_type": "stream",
     "text": [
      "[2024-09-09 15:27:16.347233] Arquivo PAMG2310a.dbc salvo em /home/amcjr/pysus/PAMG2310a.dbc.parquet.\n",
      "Arquivos processados: 139 de 372\n",
      "Percentual de processamento: 37%\n",
      "[2024-09-09 15:27:16.468319] Baixando e processando PAMG2310b.dbc.\n"
     ]
    },
    {
     "name": "stderr",
     "output_type": "stream",
     "text": [
      "100%|███████████████████████████████████████████████████████████████████████████████████████████████████████████████████████████████████████████████████████████████████████| 71.5M/71.5M [00:00<00:00, 28.9GB/s]\n"
     ]
    },
    {
     "name": "stdout",
     "output_type": "stream",
     "text": [
      "[2024-09-09 15:27:16.473722] Arquivo PAMG2310b.dbc salvo em /home/amcjr/pysus/PAMG2310b.dbc.parquet.\n",
      "Arquivos processados: 140 de 372\n",
      "Percentual de processamento: 38%\n",
      "[2024-09-09 15:27:16.602707] Baixando e processando PAMG2311a.dbc.\n"
     ]
    },
    {
     "name": "stderr",
     "output_type": "stream",
     "text": [
      "100%|█████████████████████████████████████████████████████████████████████████████████████████████████████████████████████████████████████████████████████████████████████████| 169M/169M [00:00<00:00, 35.7GB/s]\n"
     ]
    },
    {
     "name": "stdout",
     "output_type": "stream",
     "text": [
      "[2024-09-09 15:27:16.610566] Arquivo PAMG2311a.dbc salvo em /home/amcjr/pysus/PAMG2311a.dbc.parquet.\n",
      "Arquivos processados: 141 de 372\n",
      "Percentual de processamento: 38%\n",
      "[2024-09-09 15:27:16.728605] Baixando e processando PAMG2311b.dbc.\n"
     ]
    },
    {
     "name": "stderr",
     "output_type": "stream",
     "text": [
      "100%|███████████████████████████████████████████████████████████████████████████████████████████████████████████████████████████████████████████████████████████████████████| 61.7M/61.7M [00:00<00:00, 24.6GB/s]\n"
     ]
    },
    {
     "name": "stdout",
     "output_type": "stream",
     "text": [
      "[2024-09-09 15:27:16.733699] Arquivo PAMG2311b.dbc salvo em /home/amcjr/pysus/PAMG2311b.dbc.parquet.\n",
      "Arquivos processados: 142 de 372\n",
      "Percentual de processamento: 38%\n",
      "[2024-09-09 15:27:16.852270] Baixando e processando PAMG2312a.dbc.\n"
     ]
    },
    {
     "name": "stderr",
     "output_type": "stream",
     "text": [
      "100%|█████████████████████████████████████████████████████████████████████████████████████████████████████████████████████████████████████████████████████████████████████████| 177M/177M [00:00<00:00, 44.6GB/s]\n"
     ]
    },
    {
     "name": "stdout",
     "output_type": "stream",
     "text": [
      "[2024-09-09 15:27:16.859445] Arquivo PAMG2312a.dbc salvo em /home/amcjr/pysus/PAMG2312a.dbc.parquet.\n",
      "Arquivos processados: 143 de 372\n",
      "Percentual de processamento: 38%\n",
      "[2024-09-09 15:27:16.973248] Baixando e processando PAMG2312b.dbc.\n"
     ]
    },
    {
     "name": "stderr",
     "output_type": "stream",
     "text": [
      "100%|███████████████████████████████████████████████████████████████████████████████████████████████████████████████████████████████████████████████████████████████████████| 52.6M/52.6M [00:00<00:00, 20.0GB/s]\n"
     ]
    },
    {
     "name": "stdout",
     "output_type": "stream",
     "text": [
      "[2024-09-09 15:27:16.979248] Arquivo PAMG2312b.dbc salvo em /home/amcjr/pysus/PAMG2312b.dbc.parquet.\n",
      "Arquivos processados: 144 de 372\n",
      "Percentual de processamento: 39%\n",
      "[2024-09-09 15:27:17.099221] Baixando e processando PAMS2301.dbc.\n"
     ]
    },
    {
     "name": "stderr",
     "output_type": "stream",
     "text": [
      "100%|███████████████████████████████████████████████████████████████████████████████████████████████████████████████████████████████████████████████████████████████████████| 20.4M/20.4M [00:00<00:00, 7.89GB/s]\n"
     ]
    },
    {
     "name": "stdout",
     "output_type": "stream",
     "text": [
      "[2024-09-09 15:27:17.105282] Arquivo PAMS2301.dbc salvo em /home/amcjr/pysus/PAMS2301.dbc.parquet.\n",
      "Arquivos processados: 145 de 372\n",
      "Percentual de processamento: 39%\n",
      "[2024-09-09 15:27:17.224397] Baixando e processando PAMS2302.dbc.\n"
     ]
    },
    {
     "name": "stderr",
     "output_type": "stream",
     "text": [
      "100%|███████████████████████████████████████████████████████████████████████████████████████████████████████████████████████████████████████████████████████████████████████| 22.8M/22.8M [00:00<00:00, 5.09GB/s]\n"
     ]
    },
    {
     "name": "stdout",
     "output_type": "stream",
     "text": [
      "[2024-09-09 15:27:17.240024] Arquivo PAMS2302.dbc salvo em /home/amcjr/pysus/PAMS2302.dbc.parquet.\n",
      "Arquivos processados: 146 de 372\n",
      "Percentual de processamento: 39%\n",
      "[2024-09-09 15:27:17.360625] Baixando e processando PAMS2303.dbc.\n"
     ]
    },
    {
     "name": "stderr",
     "output_type": "stream",
     "text": [
      "100%|███████████████████████████████████████████████████████████████████████████████████████████████████████████████████████████████████████████████████████████████████████| 28.1M/28.1M [00:00<00:00, 12.9GB/s]\n"
     ]
    },
    {
     "name": "stdout",
     "output_type": "stream",
     "text": [
      "[2024-09-09 15:27:17.365614] Arquivo PAMS2303.dbc salvo em /home/amcjr/pysus/PAMS2303.dbc.parquet.\n",
      "Arquivos processados: 147 de 372\n",
      "Percentual de processamento: 40%\n",
      "[2024-09-09 15:27:17.479792] Baixando e processando PAMS2304.dbc.\n"
     ]
    },
    {
     "name": "stderr",
     "output_type": "stream",
     "text": [
      "100%|███████████████████████████████████████████████████████████████████████████████████████████████████████████████████████████████████████████████████████████████████████| 22.0M/22.0M [00:00<00:00, 11.4GB/s]\n"
     ]
    },
    {
     "name": "stdout",
     "output_type": "stream",
     "text": [
      "[2024-09-09 15:27:17.484641] Arquivo PAMS2304.dbc salvo em /home/amcjr/pysus/PAMS2304.dbc.parquet.\n",
      "Arquivos processados: 148 de 372\n",
      "Percentual de processamento: 40%\n",
      "[2024-09-09 15:27:17.599818] Baixando e processando PAMS2305.dbc.\n"
     ]
    },
    {
     "name": "stderr",
     "output_type": "stream",
     "text": [
      "100%|███████████████████████████████████████████████████████████████████████████████████████████████████████████████████████████████████████████████████████████████████████| 27.6M/27.6M [00:00<00:00, 12.4GB/s]\n"
     ]
    },
    {
     "name": "stdout",
     "output_type": "stream",
     "text": [
      "[2024-09-09 15:27:17.604913] Arquivo PAMS2305.dbc salvo em /home/amcjr/pysus/PAMS2305.dbc.parquet.\n",
      "Arquivos processados: 149 de 372\n",
      "Percentual de processamento: 40%\n",
      "[2024-09-09 15:27:17.721764] Baixando e processando PAMS2306.dbc.\n"
     ]
    },
    {
     "name": "stderr",
     "output_type": "stream",
     "text": [
      "100%|███████████████████████████████████████████████████████████████████████████████████████████████████████████████████████████████████████████████████████████████████████| 21.5M/21.5M [00:00<00:00, 9.28GB/s]\n"
     ]
    },
    {
     "name": "stdout",
     "output_type": "stream",
     "text": [
      "[2024-09-09 15:27:17.727103] Arquivo PAMS2306.dbc salvo em /home/amcjr/pysus/PAMS2306.dbc.parquet.\n",
      "Arquivos processados: 150 de 372\n",
      "Percentual de processamento: 40%\n",
      "[2024-09-09 15:27:17.842322] Baixando e processando PAMS2307.dbc.\n"
     ]
    },
    {
     "name": "stderr",
     "output_type": "stream",
     "text": [
      "100%|███████████████████████████████████████████████████████████████████████████████████████████████████████████████████████████████████████████████████████████████████████| 25.2M/25.2M [00:00<00:00, 10.7GB/s]\n"
     ]
    },
    {
     "name": "stdout",
     "output_type": "stream",
     "text": [
      "[2024-09-09 15:27:17.848038] Arquivo PAMS2307.dbc salvo em /home/amcjr/pysus/PAMS2307.dbc.parquet.\n",
      "Arquivos processados: 151 de 372\n",
      "Percentual de processamento: 41%\n",
      "[2024-09-09 15:27:17.982295] Baixando e processando PAMS2308.dbc.\n"
     ]
    },
    {
     "name": "stderr",
     "output_type": "stream",
     "text": [
      "100%|███████████████████████████████████████████████████████████████████████████████████████████████████████████████████████████████████████████████████████████████████████| 24.6M/24.6M [00:00<00:00, 9.78GB/s]\n"
     ]
    },
    {
     "name": "stdout",
     "output_type": "stream",
     "text": [
      "[2024-09-09 15:27:17.988538] Arquivo PAMS2308.dbc salvo em /home/amcjr/pysus/PAMS2308.dbc.parquet.\n",
      "Arquivos processados: 152 de 372\n",
      "Percentual de processamento: 41%\n",
      "[2024-09-09 15:27:18.132896] Baixando e processando PAMS2309.dbc.\n"
     ]
    },
    {
     "name": "stderr",
     "output_type": "stream",
     "text": [
      "100%|███████████████████████████████████████████████████████████████████████████████████████████████████████████████████████████████████████████████████████████████████████| 24.6M/24.6M [00:00<00:00, 9.66GB/s]"
     ]
    },
    {
     "name": "stdout",
     "output_type": "stream",
     "text": [
      "[2024-09-09 15:27:18.138368] Arquivo PAMS2309.dbc salvo em /home/amcjr/pysus/PAMS2309.dbc.parquet.\n"
     ]
    },
    {
     "name": "stderr",
     "output_type": "stream",
     "text": [
      "\n"
     ]
    },
    {
     "name": "stdout",
     "output_type": "stream",
     "text": [
      "Arquivos processados: 153 de 372\n",
      "Percentual de processamento: 41%\n",
      "[2024-09-09 15:27:18.255078] Baixando e processando PAMS2310.dbc.\n"
     ]
    },
    {
     "name": "stderr",
     "output_type": "stream",
     "text": [
      "100%|███████████████████████████████████████████████████████████████████████████████████████████████████████████████████████████████████████████████████████████████████████| 22.8M/22.8M [00:00<00:00, 9.61GB/s]"
     ]
    },
    {
     "name": "stdout",
     "output_type": "stream",
     "text": [
      "[2024-09-09 15:27:18.260629] Arquivo PAMS2310.dbc salvo em /home/amcjr/pysus/PAMS2310.dbc.parquet.\n",
      "Arquivos processados: 154 de 372\n",
      "Percentual de processamento: 41%\n"
     ]
    },
    {
     "name": "stderr",
     "output_type": "stream",
     "text": [
      "\n"
     ]
    },
    {
     "name": "stdout",
     "output_type": "stream",
     "text": [
      "[2024-09-09 15:27:18.376548] Baixando e processando PAMS2311.dbc.\n"
     ]
    },
    {
     "name": "stderr",
     "output_type": "stream",
     "text": [
      "100%|███████████████████████████████████████████████████████████████████████████████████████████████████████████████████████████████████████████████████████████████████████| 23.1M/23.1M [00:00<00:00, 9.45GB/s]\n"
     ]
    },
    {
     "name": "stdout",
     "output_type": "stream",
     "text": [
      "[2024-09-09 15:27:18.382433] Arquivo PAMS2311.dbc salvo em /home/amcjr/pysus/PAMS2311.dbc.parquet.\n",
      "Arquivos processados: 155 de 372\n",
      "Percentual de processamento: 42%\n",
      "[2024-09-09 15:27:18.497294] Baixando e processando PAMS2312.dbc.\n"
     ]
    },
    {
     "name": "stderr",
     "output_type": "stream",
     "text": [
      "100%|███████████████████████████████████████████████████████████████████████████████████████████████████████████████████████████████████████████████████████████████████████| 22.8M/22.8M [00:00<00:00, 9.58GB/s]\n"
     ]
    },
    {
     "name": "stdout",
     "output_type": "stream",
     "text": [
      "[2024-09-09 15:27:18.502750] Arquivo PAMS2312.dbc salvo em /home/amcjr/pysus/PAMS2312.dbc.parquet.\n",
      "Arquivos processados: 156 de 372\n",
      "Percentual de processamento: 42%\n",
      "[2024-09-09 15:27:18.621034] Baixando e processando PAMT2301.dbc.\n"
     ]
    },
    {
     "name": "stderr",
     "output_type": "stream",
     "text": [
      "100%|███████████████████████████████████████████████████████████████████████████████████████████████████████████████████████████████████████████████████████████████████████| 33.7M/33.7M [00:00<00:00, 15.6GB/s]\n"
     ]
    },
    {
     "name": "stdout",
     "output_type": "stream",
     "text": [
      "[2024-09-09 15:27:18.626198] Arquivo PAMT2301.dbc salvo em /home/amcjr/pysus/PAMT2301.dbc.parquet.\n",
      "Arquivos processados: 157 de 372\n",
      "Percentual de processamento: 42%\n",
      "[2024-09-09 15:27:18.743025] Baixando e processando PAMT2302.dbc.\n"
     ]
    },
    {
     "name": "stderr",
     "output_type": "stream",
     "text": [
      "100%|███████████████████████████████████████████████████████████████████████████████████████████████████████████████████████████████████████████████████████████████████████| 37.3M/37.3M [00:00<00:00, 15.2GB/s]\n"
     ]
    },
    {
     "name": "stdout",
     "output_type": "stream",
     "text": [
      "[2024-09-09 15:27:18.748632] Arquivo PAMT2302.dbc salvo em /home/amcjr/pysus/PAMT2302.dbc.parquet.\n",
      "Arquivos processados: 158 de 372\n",
      "Percentual de processamento: 42%\n",
      "[2024-09-09 15:27:18.866416] Baixando e processando PAMT2303.dbc.\n"
     ]
    },
    {
     "name": "stderr",
     "output_type": "stream",
     "text": [
      "100%|███████████████████████████████████████████████████████████████████████████████████████████████████████████████████████████████████████████████████████████████████████| 45.4M/45.4M [00:00<00:00, 17.0GB/s]\n"
     ]
    },
    {
     "name": "stdout",
     "output_type": "stream",
     "text": [
      "[2024-09-09 15:27:18.872873] Arquivo PAMT2303.dbc salvo em /home/amcjr/pysus/PAMT2303.dbc.parquet.\n",
      "Arquivos processados: 159 de 372\n",
      "Percentual de processamento: 43%\n",
      "[2024-09-09 15:27:18.987256] Baixando e processando PAMT2304.dbc.\n"
     ]
    },
    {
     "name": "stderr",
     "output_type": "stream",
     "text": [
      "100%|███████████████████████████████████████████████████████████████████████████████████████████████████████████████████████████████████████████████████████████████████████| 39.8M/39.8M [00:00<00:00, 16.0GB/s]\n"
     ]
    },
    {
     "name": "stdout",
     "output_type": "stream",
     "text": [
      "[2024-09-09 15:27:18.993037] Arquivo PAMT2304.dbc salvo em /home/amcjr/pysus/PAMT2304.dbc.parquet.\n",
      "Arquivos processados: 160 de 372\n",
      "Percentual de processamento: 43%\n",
      "[2024-09-09 15:27:19.119001] Baixando e processando PAMT2305.dbc.\n"
     ]
    },
    {
     "name": "stderr",
     "output_type": "stream",
     "text": [
      "100%|███████████████████████████████████████████████████████████████████████████████████████████████████████████████████████████████████████████████████████████████████████| 44.8M/44.8M [00:00<00:00, 16.3GB/s]\n"
     ]
    },
    {
     "name": "stdout",
     "output_type": "stream",
     "text": [
      "[2024-09-09 15:27:19.125522] Arquivo PAMT2305.dbc salvo em /home/amcjr/pysus/PAMT2305.dbc.parquet.\n",
      "Arquivos processados: 161 de 372\n",
      "Percentual de processamento: 43%\n",
      "[2024-09-09 15:27:19.254469] Baixando e processando PAMT2306.dbc.\n"
     ]
    },
    {
     "name": "stderr",
     "output_type": "stream",
     "text": [
      "100%|███████████████████████████████████████████████████████████████████████████████████████████████████████████████████████████████████████████████████████████████████████| 42.7M/42.7M [00:00<00:00, 11.9GB/s]\n"
     ]
    },
    {
     "name": "stdout",
     "output_type": "stream",
     "text": [
      "[2024-09-09 15:27:19.262257] Arquivo PAMT2306.dbc salvo em /home/amcjr/pysus/PAMT2306.dbc.parquet.\n",
      "Arquivos processados: 162 de 372\n",
      "Percentual de processamento: 44%\n",
      "[2024-09-09 15:27:19.376017] Baixando e processando PAMT2307.dbc.\n"
     ]
    },
    {
     "name": "stderr",
     "output_type": "stream",
     "text": [
      "100%|███████████████████████████████████████████████████████████████████████████████████████████████████████████████████████████████████████████████████████████████████████| 46.2M/46.2M [00:00<00:00, 9.34GB/s]\n"
     ]
    },
    {
     "name": "stdout",
     "output_type": "stream",
     "text": [
      "[2024-09-09 15:27:19.388325] Arquivo PAMT2307.dbc salvo em /home/amcjr/pysus/PAMT2307.dbc.parquet.\n",
      "Arquivos processados: 163 de 372\n",
      "Percentual de processamento: 44%\n",
      "[2024-09-09 15:27:19.509728] Baixando e processando PAMT2308.dbc.\n"
     ]
    },
    {
     "name": "stderr",
     "output_type": "stream",
     "text": [
      "100%|███████████████████████████████████████████████████████████████████████████████████████████████████████████████████████████████████████████████████████████████████████| 53.5M/53.5M [00:00<00:00, 5.51GB/s]\n"
     ]
    },
    {
     "name": "stdout",
     "output_type": "stream",
     "text": [
      "[2024-09-09 15:27:19.528584] Arquivo PAMT2308.dbc salvo em /home/amcjr/pysus/PAMT2308.dbc.parquet.\n",
      "Arquivos processados: 164 de 372\n",
      "Percentual de processamento: 44%\n",
      "[2024-09-09 15:27:19.653659] Baixando e processando PAMT2309.dbc.\n"
     ]
    },
    {
     "name": "stderr",
     "output_type": "stream",
     "text": [
      "100%|███████████████████████████████████████████████████████████████████████████████████████████████████████████████████████████████████████████████████████████████████████| 52.9M/52.9M [00:00<00:00, 5.82GB/s]\n"
     ]
    },
    {
     "name": "stdout",
     "output_type": "stream",
     "text": [
      "[2024-09-09 15:27:19.672869] Arquivo PAMT2309.dbc salvo em /home/amcjr/pysus/PAMT2309.dbc.parquet.\n",
      "Arquivos processados: 165 de 372\n",
      "Percentual de processamento: 44%\n",
      "[2024-09-09 15:27:19.797441] Baixando e processando PAMT2310.dbc.\n"
     ]
    },
    {
     "name": "stderr",
     "output_type": "stream",
     "text": [
      "100%|███████████████████████████████████████████████████████████████████████████████████████████████████████████████████████████████████████████████████████████████████████| 59.3M/59.3M [00:00<00:00, 19.0GB/s]\n"
     ]
    },
    {
     "name": "stdout",
     "output_type": "stream",
     "text": [
      "[2024-09-09 15:27:19.803549] Arquivo PAMT2310.dbc salvo em /home/amcjr/pysus/PAMT2310.dbc.parquet.\n",
      "Arquivos processados: 166 de 372\n",
      "Percentual de processamento: 45%\n",
      "[2024-09-09 15:27:19.922508] Baixando e processando PAMT2311.dbc.\n"
     ]
    },
    {
     "name": "stderr",
     "output_type": "stream",
     "text": [
      "100%|███████████████████████████████████████████████████████████████████████████████████████████████████████████████████████████████████████████████████████████████████████| 48.0M/48.0M [00:00<00:00, 5.63GB/s]\n"
     ]
    },
    {
     "name": "stdout",
     "output_type": "stream",
     "text": [
      "[2024-09-09 15:27:19.938543] Arquivo PAMT2311.dbc salvo em /home/amcjr/pysus/PAMT2311.dbc.parquet.\n",
      "Arquivos processados: 167 de 372\n",
      "Percentual de processamento: 45%\n",
      "[2024-09-09 15:27:20.075338] Baixando e processando PAMT2312.dbc.\n"
     ]
    },
    {
     "name": "stderr",
     "output_type": "stream",
     "text": [
      "100%|███████████████████████████████████████████████████████████████████████████████████████████████████████████████████████████████████████████████████████████████████████| 48.6M/48.6M [00:00<00:00, 15.9GB/s]"
     ]
    },
    {
     "name": "stdout",
     "output_type": "stream",
     "text": [
      "[2024-09-09 15:27:20.081152] Arquivo PAMT2312.dbc salvo em /home/amcjr/pysus/PAMT2312.dbc.parquet.\n"
     ]
    },
    {
     "name": "stderr",
     "output_type": "stream",
     "text": [
      "\n"
     ]
    },
    {
     "name": "stdout",
     "output_type": "stream",
     "text": [
      "Arquivos processados: 168 de 372\n",
      "Percentual de processamento: 45%\n",
      "[2024-09-09 15:27:20.213104] Baixando e processando PAPA2301.dbc.\n"
     ]
    },
    {
     "name": "stderr",
     "output_type": "stream",
     "text": [
      "100%|███████████████████████████████████████████████████████████████████████████████████████████████████████████████████████████████████████████████████████████████████████| 36.3M/36.3M [00:00<00:00, 14.3GB/s]"
     ]
    },
    {
     "name": "stdout",
     "output_type": "stream",
     "text": [
      "[2024-09-09 15:27:20.218618] Arquivo PAPA2301.dbc salvo em /home/amcjr/pysus/PAPA2301.dbc.parquet.\n"
     ]
    },
    {
     "name": "stderr",
     "output_type": "stream",
     "text": [
      "\n"
     ]
    },
    {
     "name": "stdout",
     "output_type": "stream",
     "text": [
      "Arquivos processados: 169 de 372\n",
      "Percentual de processamento: 45%\n",
      "[2024-09-09 15:27:21.413211] Baixando e processando PAPA2302.dbc.\n"
     ]
    },
    {
     "name": "stderr",
     "output_type": "stream",
     "text": [
      "100%|███████████████████████████████████████████████████████████████████████████████████████████████████████████████████████████████████████████████████████████████████████| 38.5M/38.5M [00:00<00:00, 15.2GB/s]\n"
     ]
    },
    {
     "name": "stdout",
     "output_type": "stream",
     "text": [
      "[2024-09-09 15:27:21.418776] Arquivo PAPA2302.dbc salvo em /home/amcjr/pysus/PAPA2302.dbc.parquet.\n",
      "Arquivos processados: 170 de 372\n",
      "Percentual de processamento: 46%\n",
      "[2024-09-09 15:27:21.563730] Baixando e processando PAPA2303.dbc.\n"
     ]
    },
    {
     "name": "stderr",
     "output_type": "stream",
     "text": [
      "100%|███████████████████████████████████████████████████████████████████████████████████████████████████████████████████████████████████████████████████████████████████████| 43.0M/43.0M [00:00<00:00, 12.3GB/s]"
     ]
    },
    {
     "name": "stdout",
     "output_type": "stream",
     "text": [
      "[2024-09-09 15:27:21.570695] Arquivo PAPA2303.dbc salvo em /home/amcjr/pysus/PAPA2303.dbc.parquet.\n"
     ]
    },
    {
     "name": "stderr",
     "output_type": "stream",
     "text": [
      "\n"
     ]
    },
    {
     "name": "stdout",
     "output_type": "stream",
     "text": [
      "Arquivos processados: 171 de 372\n",
      "Percentual de processamento: 46%\n",
      "[2024-09-09 15:27:21.706623] Baixando e processando PAPA2304.dbc.\n"
     ]
    },
    {
     "name": "stderr",
     "output_type": "stream",
     "text": [
      "100%|███████████████████████████████████████████████████████████████████████████████████████████████████████████████████████████████████████████████████████████████████████| 38.2M/38.2M [00:00<00:00, 16.4GB/s]\n"
     ]
    },
    {
     "name": "stdout",
     "output_type": "stream",
     "text": [
      "[2024-09-09 15:27:21.712096] Arquivo PAPA2304.dbc salvo em /home/amcjr/pysus/PAPA2304.dbc.parquet.\n",
      "Arquivos processados: 172 de 372\n",
      "Percentual de processamento: 46%\n",
      "[2024-09-09 15:27:21.837883] Baixando e processando PAPA2305.dbc.\n"
     ]
    },
    {
     "name": "stderr",
     "output_type": "stream",
     "text": [
      "100%|███████████████████████████████████████████████████████████████████████████████████████████████████████████████████████████████████████████████████████████████████████| 44.6M/44.6M [00:00<00:00, 20.2GB/s]\n"
     ]
    },
    {
     "name": "stdout",
     "output_type": "stream",
     "text": [
      "[2024-09-09 15:27:21.842917] Arquivo PAPA2305.dbc salvo em /home/amcjr/pysus/PAPA2305.dbc.parquet.\n",
      "Arquivos processados: 173 de 372\n",
      "Percentual de processamento: 47%\n",
      "[2024-09-09 15:27:21.983545] Baixando e processando PAPA2306.dbc.\n"
     ]
    },
    {
     "name": "stderr",
     "output_type": "stream",
     "text": [
      "100%|███████████████████████████████████████████████████████████████████████████████████████████████████████████████████████████████████████████████████████████████████████| 37.6M/37.6M [00:00<00:00, 18.0GB/s]\n"
     ]
    },
    {
     "name": "stdout",
     "output_type": "stream",
     "text": [
      "[2024-09-09 15:27:21.988733] Arquivo PAPA2306.dbc salvo em /home/amcjr/pysus/PAPA2306.dbc.parquet.\n",
      "Arquivos processados: 174 de 372\n",
      "Percentual de processamento: 47%\n",
      "[2024-09-09 15:27:22.137574] Baixando e processando PAPA2307.dbc.\n"
     ]
    },
    {
     "name": "stderr",
     "output_type": "stream",
     "text": [
      "100%|███████████████████████████████████████████████████████████████████████████████████████████████████████████████████████████████████████████████████████████████████████| 43.0M/43.0M [00:00<00:00, 17.5GB/s]"
     ]
    },
    {
     "name": "stdout",
     "output_type": "stream",
     "text": [
      "[2024-09-09 15:27:22.143036] Arquivo PAPA2307.dbc salvo em /home/amcjr/pysus/PAPA2307.dbc.parquet.\n",
      "Arquivos processados: 175 de 372\n",
      "Percentual de processamento: 47%\n"
     ]
    },
    {
     "name": "stderr",
     "output_type": "stream",
     "text": [
      "\n"
     ]
    },
    {
     "name": "stdout",
     "output_type": "stream",
     "text": [
      "[2024-09-09 15:27:22.261618] Baixando e processando PAPA2308.dbc.\n"
     ]
    },
    {
     "name": "stderr",
     "output_type": "stream",
     "text": [
      "100%|███████████████████████████████████████████████████████████████████████████████████████████████████████████████████████████████████████████████████████████████████████| 40.7M/40.7M [00:00<00:00, 18.2GB/s]"
     ]
    },
    {
     "name": "stdout",
     "output_type": "stream",
     "text": [
      "[2024-09-09 15:27:22.267283] Arquivo PAPA2308.dbc salvo em /home/amcjr/pysus/PAPA2308.dbc.parquet.\n",
      "Arquivos processados: 176 de 372\n",
      "Percentual de processamento: 47%\n"
     ]
    },
    {
     "name": "stderr",
     "output_type": "stream",
     "text": [
      "\n"
     ]
    },
    {
     "name": "stdout",
     "output_type": "stream",
     "text": [
      "[2024-09-09 15:27:22.379067] Baixando e processando PAPA2309.dbc.\n"
     ]
    },
    {
     "name": "stderr",
     "output_type": "stream",
     "text": [
      "100%|███████████████████████████████████████████████████████████████████████████████████████████████████████████████████████████████████████████████████████████████████████| 44.4M/44.4M [00:00<00:00, 18.9GB/s]\n"
     ]
    },
    {
     "name": "stdout",
     "output_type": "stream",
     "text": [
      "[2024-09-09 15:27:22.384232] Arquivo PAPA2309.dbc salvo em /home/amcjr/pysus/PAPA2309.dbc.parquet.\n",
      "Arquivos processados: 177 de 372\n",
      "Percentual de processamento: 48%\n",
      "[2024-09-09 15:27:22.498791] Baixando e processando PAPA2310.dbc.\n"
     ]
    },
    {
     "name": "stderr",
     "output_type": "stream",
     "text": [
      "100%|███████████████████████████████████████████████████████████████████████████████████████████████████████████████████████████████████████████████████████████████████████| 43.2M/43.2M [00:00<00:00, 20.6GB/s]\n"
     ]
    },
    {
     "name": "stdout",
     "output_type": "stream",
     "text": [
      "[2024-09-09 15:27:22.503931] Arquivo PAPA2310.dbc salvo em /home/amcjr/pysus/PAPA2310.dbc.parquet.\n",
      "Arquivos processados: 178 de 372\n",
      "Percentual de processamento: 48%\n",
      "[2024-09-09 15:27:22.625472] Baixando e processando PAPA2311.dbc.\n"
     ]
    },
    {
     "name": "stderr",
     "output_type": "stream",
     "text": [
      "100%|███████████████████████████████████████████████████████████████████████████████████████████████████████████████████████████████████████████████████████████████████████| 43.0M/43.0M [00:00<00:00, 16.5GB/s]"
     ]
    },
    {
     "name": "stdout",
     "output_type": "stream",
     "text": [
      "[2024-09-09 15:27:22.631930] Arquivo PAPA2311.dbc salvo em /home/amcjr/pysus/PAPA2311.dbc.parquet.\n",
      "Arquivos processados: 179 de 372\n",
      "Percentual de processamento: 48%\n"
     ]
    },
    {
     "name": "stderr",
     "output_type": "stream",
     "text": [
      "\n"
     ]
    },
    {
     "name": "stdout",
     "output_type": "stream",
     "text": [
      "[2024-09-09 15:27:22.746000] Baixando e processando PAPA2312.dbc.\n"
     ]
    },
    {
     "name": "stderr",
     "output_type": "stream",
     "text": [
      "100%|███████████████████████████████████████████████████████████████████████████████████████████████████████████████████████████████████████████████████████████████████████| 43.6M/43.6M [00:00<00:00, 19.9GB/s]\n"
     ]
    },
    {
     "name": "stdout",
     "output_type": "stream",
     "text": [
      "[2024-09-09 15:27:22.751908] Arquivo PAPA2312.dbc salvo em /home/amcjr/pysus/PAPA2312.dbc.parquet.\n",
      "Arquivos processados: 180 de 372\n",
      "Percentual de processamento: 48%\n",
      "[2024-09-09 15:27:22.890253] Baixando e processando PAPB2301.dbc.\n"
     ]
    },
    {
     "name": "stderr",
     "output_type": "stream",
     "text": [
      "100%|███████████████████████████████████████████████████████████████████████████████████████████████████████████████████████████████████████████████████████████████████████| 20.7M/20.7M [00:00<00:00, 3.14GB/s]"
     ]
    },
    {
     "name": "stdout",
     "output_type": "stream",
     "text": [
      "[2024-09-09 15:27:22.905534] Arquivo PAPB2301.dbc salvo em /home/amcjr/pysus/PAPB2301.dbc.parquet.\n"
     ]
    },
    {
     "name": "stderr",
     "output_type": "stream",
     "text": [
      "\n"
     ]
    },
    {
     "name": "stdout",
     "output_type": "stream",
     "text": [
      "Arquivos processados: 181 de 372\n",
      "Percentual de processamento: 49%\n",
      "[2024-09-09 15:27:23.028184] Baixando e processando PAPB2302.dbc.\n"
     ]
    },
    {
     "name": "stderr",
     "output_type": "stream",
     "text": [
      "100%|███████████████████████████████████████████████████████████████████████████████████████████████████████████████████████████████████████████████████████████████████████| 22.5M/22.5M [00:00<00:00, 7.62GB/s]\n"
     ]
    },
    {
     "name": "stdout",
     "output_type": "stream",
     "text": [
      "[2024-09-09 15:27:23.036326] Arquivo PAPB2302.dbc salvo em /home/amcjr/pysus/PAPB2302.dbc.parquet.\n",
      "Arquivos processados: 182 de 372\n",
      "Percentual de processamento: 49%\n",
      "[2024-09-09 15:27:23.164703] Baixando e processando PAPB2303.dbc.\n"
     ]
    },
    {
     "name": "stderr",
     "output_type": "stream",
     "text": [
      "100%|███████████████████████████████████████████████████████████████████████████████████████████████████████████████████████████████████████████████████████████████████████| 26.2M/26.2M [00:00<00:00, 5.53GB/s]\n"
     ]
    },
    {
     "name": "stdout",
     "output_type": "stream",
     "text": [
      "[2024-09-09 15:27:23.178914] Arquivo PAPB2303.dbc salvo em /home/amcjr/pysus/PAPB2303.dbc.parquet.\n",
      "Arquivos processados: 183 de 372\n",
      "Percentual de processamento: 49%\n",
      "[2024-09-09 15:27:23.303287] Baixando e processando PAPB2304.dbc.\n"
     ]
    },
    {
     "name": "stderr",
     "output_type": "stream",
     "text": [
      "100%|███████████████████████████████████████████████████████████████████████████████████████████████████████████████████████████████████████████████████████████████████████| 23.0M/23.0M [00:00<00:00, 4.39GB/s]\n"
     ]
    },
    {
     "name": "stdout",
     "output_type": "stream",
     "text": [
      "[2024-09-09 15:27:23.316912] Arquivo PAPB2304.dbc salvo em /home/amcjr/pysus/PAPB2304.dbc.parquet.\n",
      "Arquivos processados: 184 de 372\n",
      "Percentual de processamento: 49%\n",
      "[2024-09-09 15:27:23.446270] Baixando e processando PAPB2305.dbc.\n"
     ]
    },
    {
     "name": "stderr",
     "output_type": "stream",
     "text": [
      "100%|███████████████████████████████████████████████████████████████████████████████████████████████████████████████████████████████████████████████████████████████████████| 27.2M/27.2M [00:00<00:00, 13.6GB/s]\n"
     ]
    },
    {
     "name": "stdout",
     "output_type": "stream",
     "text": [
      "[2024-09-09 15:27:23.451633] Arquivo PAPB2305.dbc salvo em /home/amcjr/pysus/PAPB2305.dbc.parquet.\n",
      "Arquivos processados: 185 de 372\n",
      "Percentual de processamento: 50%\n",
      "[2024-09-09 15:27:23.576416] Baixando e processando PAPB2306.dbc.\n"
     ]
    },
    {
     "name": "stderr",
     "output_type": "stream",
     "text": [
      "100%|███████████████████████████████████████████████████████████████████████████████████████████████████████████████████████████████████████████████████████████████████████| 22.2M/22.2M [00:00<00:00, 7.12GB/s]\n"
     ]
    },
    {
     "name": "stdout",
     "output_type": "stream",
     "text": [
      "[2024-09-09 15:27:23.583115] Arquivo PAPB2306.dbc salvo em /home/amcjr/pysus/PAPB2306.dbc.parquet.\n",
      "Arquivos processados: 186 de 372\n",
      "Percentual de processamento: 50%\n",
      "[2024-09-09 15:27:23.701115] Baixando e processando PAPB2307.dbc.\n"
     ]
    },
    {
     "name": "stderr",
     "output_type": "stream",
     "text": [
      "100%|███████████████████████████████████████████████████████████████████████████████████████████████████████████████████████████████████████████████████████████████████████| 28.0M/28.0M [00:00<00:00, 7.74GB/s]\n"
     ]
    },
    {
     "name": "stdout",
     "output_type": "stream",
     "text": [
      "[2024-09-09 15:27:23.712781] Arquivo PAPB2307.dbc salvo em /home/amcjr/pysus/PAPB2307.dbc.parquet.\n",
      "Arquivos processados: 187 de 372\n",
      "Percentual de processamento: 50%\n",
      "[2024-09-09 15:27:23.833233] Baixando e processando PAPB2308.dbc.\n"
     ]
    },
    {
     "name": "stderr",
     "output_type": "stream",
     "text": [
      "100%|███████████████████████████████████████████████████████████████████████████████████████████████████████████████████████████████████████████████████████████████████████| 31.2M/31.2M [00:00<00:00, 12.0GB/s]\n"
     ]
    },
    {
     "name": "stdout",
     "output_type": "stream",
     "text": [
      "[2024-09-09 15:27:23.838670] Arquivo PAPB2308.dbc salvo em /home/amcjr/pysus/PAPB2308.dbc.parquet.\n",
      "Arquivos processados: 188 de 372\n",
      "Percentual de processamento: 51%\n",
      "[2024-09-09 15:27:23.968233] Baixando e processando PAPB2309.dbc.\n"
     ]
    },
    {
     "name": "stderr",
     "output_type": "stream",
     "text": [
      "100%|███████████████████████████████████████████████████████████████████████████████████████████████████████████████████████████████████████████████████████████████████████| 35.3M/35.3M [00:00<00:00, 14.1GB/s]\n"
     ]
    },
    {
     "name": "stdout",
     "output_type": "stream",
     "text": [
      "[2024-09-09 15:27:23.974089] Arquivo PAPB2309.dbc salvo em /home/amcjr/pysus/PAPB2309.dbc.parquet.\n",
      "Arquivos processados: 189 de 372\n",
      "Percentual de processamento: 51%\n",
      "[2024-09-09 15:27:24.094309] Baixando e processando PAPB2310.dbc.\n"
     ]
    },
    {
     "name": "stderr",
     "output_type": "stream",
     "text": [
      "100%|███████████████████████████████████████████████████████████████████████████████████████████████████████████████████████████████████████████████████████████████████████| 33.1M/33.1M [00:00<00:00, 13.5GB/s]\n"
     ]
    },
    {
     "name": "stdout",
     "output_type": "stream",
     "text": [
      "[2024-09-09 15:27:24.099945] Arquivo PAPB2310.dbc salvo em /home/amcjr/pysus/PAPB2310.dbc.parquet.\n",
      "Arquivos processados: 190 de 372\n",
      "Percentual de processamento: 51%\n",
      "[2024-09-09 15:27:24.221818] Baixando e processando PAPB2311.dbc.\n"
     ]
    },
    {
     "name": "stderr",
     "output_type": "stream",
     "text": [
      "100%|███████████████████████████████████████████████████████████████████████████████████████████████████████████████████████████████████████████████████████████████████████| 32.3M/32.3M [00:00<00:00, 13.5GB/s]\n"
     ]
    },
    {
     "name": "stdout",
     "output_type": "stream",
     "text": [
      "[2024-09-09 15:27:24.227519] Arquivo PAPB2311.dbc salvo em /home/amcjr/pysus/PAPB2311.dbc.parquet.\n",
      "Arquivos processados: 191 de 372\n",
      "Percentual de processamento: 51%\n",
      "[2024-09-09 15:27:24.352340] Baixando e processando PAPB2312.dbc.\n"
     ]
    },
    {
     "name": "stderr",
     "output_type": "stream",
     "text": [
      "100%|███████████████████████████████████████████████████████████████████████████████████████████████████████████████████████████████████████████████████████████████████████| 31.4M/31.4M [00:00<00:00, 14.8GB/s]\n"
     ]
    },
    {
     "name": "stdout",
     "output_type": "stream",
     "text": [
      "[2024-09-09 15:27:24.358494] Arquivo PAPB2312.dbc salvo em /home/amcjr/pysus/PAPB2312.dbc.parquet.\n",
      "Arquivos processados: 192 de 372\n",
      "Percentual de processamento: 52%\n",
      "[2024-09-09 15:27:24.481155] Baixando e processando PAPE2301.dbc.\n"
     ]
    },
    {
     "name": "stderr",
     "output_type": "stream",
     "text": [
      "100%|███████████████████████████████████████████████████████████████████████████████████████████████████████████████████████████████████████████████████████████████████████| 39.8M/39.8M [00:00<00:00, 11.6GB/s]\n"
     ]
    },
    {
     "name": "stdout",
     "output_type": "stream",
     "text": [
      "[2024-09-09 15:27:24.489234] Arquivo PAPE2301.dbc salvo em /home/amcjr/pysus/PAPE2301.dbc.parquet.\n",
      "Arquivos processados: 193 de 372\n",
      "Percentual de processamento: 52%\n",
      "[2024-09-09 15:27:24.637072] Baixando e processando PAPE2302.dbc.\n"
     ]
    },
    {
     "name": "stderr",
     "output_type": "stream",
     "text": [
      "100%|███████████████████████████████████████████████████████████████████████████████████████████████████████████████████████████████████████████████████████████████████████| 42.8M/42.8M [00:00<00:00, 15.3GB/s]\n"
     ]
    },
    {
     "name": "stdout",
     "output_type": "stream",
     "text": [
      "[2024-09-09 15:27:24.647567] Arquivo PAPE2302.dbc salvo em /home/amcjr/pysus/PAPE2302.dbc.parquet.\n",
      "Arquivos processados: 194 de 372\n",
      "Percentual de processamento: 52%\n",
      "[2024-09-09 15:27:24.797302] Baixando e processando PAPE2303.dbc.\n"
     ]
    },
    {
     "name": "stderr",
     "output_type": "stream",
     "text": [
      "100%|███████████████████████████████████████████████████████████████████████████████████████████████████████████████████████████████████████████████████████████████████████| 48.6M/48.6M [00:00<00:00, 12.5GB/s]"
     ]
    },
    {
     "name": "stdout",
     "output_type": "stream",
     "text": [
      "[2024-09-09 15:27:24.806297] Arquivo PAPE2303.dbc salvo em /home/amcjr/pysus/PAPE2303.dbc.parquet.\n"
     ]
    },
    {
     "name": "stderr",
     "output_type": "stream",
     "text": [
      "\n"
     ]
    },
    {
     "name": "stdout",
     "output_type": "stream",
     "text": [
      "Arquivos processados: 195 de 372\n",
      "Percentual de processamento: 52%\n",
      "[2024-09-09 15:27:24.923280] Baixando e processando PAPE2304.dbc.\n"
     ]
    },
    {
     "name": "stderr",
     "output_type": "stream",
     "text": [
      "100%|███████████████████████████████████████████████████████████████████████████████████████████████████████████████████████████████████████████████████████████████████████| 42.1M/42.1M [00:00<00:00, 13.4GB/s]"
     ]
    },
    {
     "name": "stdout",
     "output_type": "stream",
     "text": [
      "[2024-09-09 15:27:24.930060] Arquivo PAPE2304.dbc salvo em /home/amcjr/pysus/PAPE2304.dbc.parquet.\n"
     ]
    },
    {
     "name": "stderr",
     "output_type": "stream",
     "text": [
      "\n"
     ]
    },
    {
     "name": "stdout",
     "output_type": "stream",
     "text": [
      "Arquivos processados: 196 de 372\n",
      "Percentual de processamento: 53%\n",
      "[2024-09-09 15:27:25.046285] Baixando e processando PAPE2305.dbc.\n"
     ]
    },
    {
     "name": "stderr",
     "output_type": "stream",
     "text": [
      "100%|███████████████████████████████████████████████████████████████████████████████████████████████████████████████████████████████████████████████████████████████████████| 52.3M/52.3M [00:00<00:00, 10.6GB/s]\n"
     ]
    },
    {
     "name": "stdout",
     "output_type": "stream",
     "text": [
      "[2024-09-09 15:27:25.057224] Arquivo PAPE2305.dbc salvo em /home/amcjr/pysus/PAPE2305.dbc.parquet.\n",
      "Arquivos processados: 197 de 372\n",
      "Percentual de processamento: 53%\n",
      "[2024-09-09 15:27:25.185026] Baixando e processando PAPE2306.dbc.\n"
     ]
    },
    {
     "name": "stderr",
     "output_type": "stream",
     "text": [
      "100%|███████████████████████████████████████████████████████████████████████████████████████████████████████████████████████████████████████████████████████████████████████| 43.7M/43.7M [00:00<00:00, 17.7GB/s]\n"
     ]
    },
    {
     "name": "stdout",
     "output_type": "stream",
     "text": [
      "[2024-09-09 15:27:25.190911] Arquivo PAPE2306.dbc salvo em /home/amcjr/pysus/PAPE2306.dbc.parquet.\n",
      "Arquivos processados: 198 de 372\n",
      "Percentual de processamento: 53%\n",
      "[2024-09-09 15:27:25.319738] Baixando e processando PAPE2307.dbc.\n"
     ]
    },
    {
     "name": "stderr",
     "output_type": "stream",
     "text": [
      "100%|███████████████████████████████████████████████████████████████████████████████████████████████████████████████████████████████████████████████████████████████████████| 50.0M/50.0M [00:00<00:00, 3.72GB/s]\n"
     ]
    },
    {
     "name": "stdout",
     "output_type": "stream",
     "text": [
      "[2024-09-09 15:27:25.342172] Arquivo PAPE2307.dbc salvo em /home/amcjr/pysus/PAPE2307.dbc.parquet.\n",
      "Arquivos processados: 199 de 372\n",
      "Percentual de processamento: 53%\n",
      "[2024-09-09 15:27:25.489127] Baixando e processando PAPE2308.dbc.\n"
     ]
    },
    {
     "name": "stderr",
     "output_type": "stream",
     "text": [
      "100%|███████████████████████████████████████████████████████████████████████████████████████████████████████████████████████████████████████████████████████████████████████| 48.3M/48.3M [00:00<00:00, 8.49GB/s]\n"
     ]
    },
    {
     "name": "stdout",
     "output_type": "stream",
     "text": [
      "[2024-09-09 15:27:25.500096] Arquivo PAPE2308.dbc salvo em /home/amcjr/pysus/PAPE2308.dbc.parquet.\n",
      "Arquivos processados: 200 de 372\n",
      "Percentual de processamento: 54%\n",
      "[2024-09-09 15:27:25.621147] Baixando e processando PAPE2309.dbc.\n"
     ]
    },
    {
     "name": "stderr",
     "output_type": "stream",
     "text": [
      "100%|███████████████████████████████████████████████████████████████████████████████████████████████████████████████████████████████████████████████████████████████████████| 50.7M/50.7M [00:00<00:00, 19.8GB/s]\n"
     ]
    },
    {
     "name": "stdout",
     "output_type": "stream",
     "text": [
      "[2024-09-09 15:27:25.626873] Arquivo PAPE2309.dbc salvo em /home/amcjr/pysus/PAPE2309.dbc.parquet.\n",
      "Arquivos processados: 201 de 372\n",
      "Percentual de processamento: 54%\n",
      "[2024-09-09 15:27:25.772849] Baixando e processando PAPE2310.dbc.\n"
     ]
    },
    {
     "name": "stderr",
     "output_type": "stream",
     "text": [
      "100%|███████████████████████████████████████████████████████████████████████████████████████████████████████████████████████████████████████████████████████████████████████| 49.1M/49.1M [00:00<00:00, 18.5GB/s]\n"
     ]
    },
    {
     "name": "stdout",
     "output_type": "stream",
     "text": [
      "[2024-09-09 15:27:25.778429] Arquivo PAPE2310.dbc salvo em /home/amcjr/pysus/PAPE2310.dbc.parquet.\n",
      "Arquivos processados: 202 de 372\n",
      "Percentual de processamento: 54%\n",
      "[2024-09-09 15:27:25.908132] Baixando e processando PAPE2311.dbc.\n"
     ]
    },
    {
     "name": "stderr",
     "output_type": "stream",
     "text": [
      "100%|███████████████████████████████████████████████████████████████████████████████████████████████████████████████████████████████████████████████████████████████████████| 48.9M/48.9M [00:00<00:00, 17.0GB/s]\n"
     ]
    },
    {
     "name": "stdout",
     "output_type": "stream",
     "text": [
      "[2024-09-09 15:27:25.914192] Arquivo PAPE2311.dbc salvo em /home/amcjr/pysus/PAPE2311.dbc.parquet.\n",
      "Arquivos processados: 203 de 372\n",
      "Percentual de processamento: 55%\n",
      "[2024-09-09 15:27:26.074606] Baixando e processando PAPE2312.dbc.\n"
     ]
    },
    {
     "name": "stderr",
     "output_type": "stream",
     "text": [
      "100%|███████████████████████████████████████████████████████████████████████████████████████████████████████████████████████████████████████████████████████████████████████| 51.1M/51.1M [00:00<00:00, 15.5GB/s]"
     ]
    },
    {
     "name": "stdout",
     "output_type": "stream",
     "text": [
      "[2024-09-09 15:27:26.081046] Arquivo PAPE2312.dbc salvo em /home/amcjr/pysus/PAPE2312.dbc.parquet.\n"
     ]
    },
    {
     "name": "stderr",
     "output_type": "stream",
     "text": [
      "\n"
     ]
    },
    {
     "name": "stdout",
     "output_type": "stream",
     "text": [
      "Arquivos processados: 204 de 372\n",
      "Percentual de processamento: 55%\n",
      "[2024-09-09 15:27:26.210338] Baixando e processando PAPI2301.dbc.\n"
     ]
    },
    {
     "name": "stderr",
     "output_type": "stream",
     "text": [
      "100%|███████████████████████████████████████████████████████████████████████████████████████████████████████████████████████████████████████████████████████████████████████| 8.70M/8.70M [00:00<00:00, 3.63GB/s]"
     ]
    },
    {
     "name": "stdout",
     "output_type": "stream",
     "text": [
      "[2024-09-09 15:27:26.215941] Arquivo PAPI2301.dbc salvo em /home/amcjr/pysus/PAPI2301.dbc.parquet.\n",
      "Arquivos processados: 205 de 372\n",
      "Percentual de processamento: 55%\n"
     ]
    },
    {
     "name": "stderr",
     "output_type": "stream",
     "text": [
      "\n"
     ]
    },
    {
     "name": "stdout",
     "output_type": "stream",
     "text": [
      "[2024-09-09 15:27:26.361033] Baixando e processando PAPI2302.dbc.\n"
     ]
    },
    {
     "name": "stderr",
     "output_type": "stream",
     "text": [
      "100%|███████████████████████████████████████████████████████████████████████████████████████████████████████████████████████████████████████████████████████████████████████| 9.23M/9.23M [00:00<00:00, 4.13GB/s]"
     ]
    },
    {
     "name": "stdout",
     "output_type": "stream",
     "text": [
      "[2024-09-09 15:27:26.367055] Arquivo PAPI2302.dbc salvo em /home/amcjr/pysus/PAPI2302.dbc.parquet.\n"
     ]
    },
    {
     "name": "stderr",
     "output_type": "stream",
     "text": [
      "\n"
     ]
    },
    {
     "name": "stdout",
     "output_type": "stream",
     "text": [
      "Arquivos processados: 206 de 372\n",
      "Percentual de processamento: 55%\n",
      "[2024-09-09 15:27:26.497701] Baixando e processando PAPI2303.dbc.\n"
     ]
    },
    {
     "name": "stderr",
     "output_type": "stream",
     "text": [
      "100%|███████████████████████████████████████████████████████████████████████████████████████████████████████████████████████████████████████████████████████████████████████| 11.0M/11.0M [00:00<00:00, 2.36GB/s]"
     ]
    },
    {
     "name": "stdout",
     "output_type": "stream",
     "text": [
      "[2024-09-09 15:27:26.513800] Arquivo PAPI2303.dbc salvo em /home/amcjr/pysus/PAPI2303.dbc.parquet.\n"
     ]
    },
    {
     "name": "stderr",
     "output_type": "stream",
     "text": [
      "\n"
     ]
    },
    {
     "name": "stdout",
     "output_type": "stream",
     "text": [
      "Arquivos processados: 207 de 372\n",
      "Percentual de processamento: 56%\n",
      "[2024-09-09 15:27:26.637273] Baixando e processando PAPI2304.dbc.\n"
     ]
    },
    {
     "name": "stderr",
     "output_type": "stream",
     "text": [
      "100%|███████████████████████████████████████████████████████████████████████████████████████████████████████████████████████████████████████████████████████████████████████| 8.81M/8.81M [00:00<00:00, 1.11GB/s]\n"
     ]
    },
    {
     "name": "stdout",
     "output_type": "stream",
     "text": [
      "[2024-09-09 15:27:26.656806] Arquivo PAPI2304.dbc salvo em /home/amcjr/pysus/PAPI2304.dbc.parquet.\n",
      "Arquivos processados: 208 de 372\n",
      "Percentual de processamento: 56%\n",
      "[2024-09-09 15:27:26.799059] Baixando e processando PAPI2305.dbc.\n"
     ]
    },
    {
     "name": "stderr",
     "output_type": "stream",
     "text": [
      "100%|███████████████████████████████████████████████████████████████████████████████████████████████████████████████████████████████████████████████████████████████████████| 10.1M/10.1M [00:00<00:00, 3.17GB/s]\n"
     ]
    },
    {
     "name": "stdout",
     "output_type": "stream",
     "text": [
      "[2024-09-09 15:27:26.807269] Arquivo PAPI2305.dbc salvo em /home/amcjr/pysus/PAPI2305.dbc.parquet.\n",
      "Arquivos processados: 209 de 372\n",
      "Percentual de processamento: 56%\n",
      "[2024-09-09 15:27:26.947297] Baixando e processando PAPI2306.dbc.\n"
     ]
    },
    {
     "name": "stderr",
     "output_type": "stream",
     "text": [
      "100%|███████████████████████████████████████████████████████████████████████████████████████████████████████████████████████████████████████████████████████████████████████| 9.02M/9.02M [00:00<00:00, 3.60GB/s]"
     ]
    },
    {
     "name": "stdout",
     "output_type": "stream",
     "text": [
      "[2024-09-09 15:27:26.953193] Arquivo PAPI2306.dbc salvo em /home/amcjr/pysus/PAPI2306.dbc.parquet.\n",
      "Arquivos processados: 210 de 372\n",
      "Percentual de processamento: 56%\n"
     ]
    },
    {
     "name": "stderr",
     "output_type": "stream",
     "text": [
      "\n"
     ]
    },
    {
     "name": "stdout",
     "output_type": "stream",
     "text": [
      "[2024-09-09 15:27:27.086041] Baixando e processando PAPI2307.dbc.\n"
     ]
    },
    {
     "name": "stderr",
     "output_type": "stream",
     "text": [
      "100%|███████████████████████████████████████████████████████████████████████████████████████████████████████████████████████████████████████████████████████████████████████| 10.7M/10.7M [00:00<00:00, 3.62GB/s]"
     ]
    },
    {
     "name": "stdout",
     "output_type": "stream",
     "text": [
      "[2024-09-09 15:27:27.095026] Arquivo PAPI2307.dbc salvo em /home/amcjr/pysus/PAPI2307.dbc.parquet.\n"
     ]
    },
    {
     "name": "stderr",
     "output_type": "stream",
     "text": [
      "\n"
     ]
    },
    {
     "name": "stdout",
     "output_type": "stream",
     "text": [
      "Arquivos processados: 211 de 372\n",
      "Percentual de processamento: 57%\n",
      "[2024-09-09 15:27:27.217593] Baixando e processando PAPI2308.dbc.\n"
     ]
    },
    {
     "name": "stderr",
     "output_type": "stream",
     "text": [
      "100%|███████████████████████████████████████████████████████████████████████████████████████████████████████████████████████████████████████████████████████████████████████| 9.48M/9.48M [00:00<00:00, 2.91GB/s]\n"
     ]
    },
    {
     "name": "stdout",
     "output_type": "stream",
     "text": [
      "[2024-09-09 15:27:27.225480] Arquivo PAPI2308.dbc salvo em /home/amcjr/pysus/PAPI2308.dbc.parquet.\n",
      "Arquivos processados: 212 de 372\n",
      "Percentual de processamento: 57%\n",
      "[2024-09-09 15:27:27.355370] Baixando e processando PAPI2309.dbc.\n"
     ]
    },
    {
     "name": "stderr",
     "output_type": "stream",
     "text": [
      "100%|███████████████████████████████████████████████████████████████████████████████████████████████████████████████████████████████████████████████████████████████████████| 10.7M/10.7M [00:00<00:00, 4.81GB/s]\n"
     ]
    },
    {
     "name": "stdout",
     "output_type": "stream",
     "text": [
      "[2024-09-09 15:27:27.360634] Arquivo PAPI2309.dbc salvo em /home/amcjr/pysus/PAPI2309.dbc.parquet.\n",
      "Arquivos processados: 213 de 372\n",
      "Percentual de processamento: 57%\n",
      "[2024-09-09 15:27:27.503319] Baixando e processando PAPI2310.dbc.\n"
     ]
    },
    {
     "name": "stderr",
     "output_type": "stream",
     "text": [
      "100%|███████████████████████████████████████████████████████████████████████████████████████████████████████████████████████████████████████████████████████████████████████| 9.57M/9.57M [00:00<00:00, 4.99GB/s]"
     ]
    },
    {
     "name": "stdout",
     "output_type": "stream",
     "text": [
      "[2024-09-09 15:27:27.508972] Arquivo PAPI2310.dbc salvo em /home/amcjr/pysus/PAPI2310.dbc.parquet.\n"
     ]
    },
    {
     "name": "stderr",
     "output_type": "stream",
     "text": [
      "\n"
     ]
    },
    {
     "name": "stdout",
     "output_type": "stream",
     "text": [
      "Arquivos processados: 214 de 372\n",
      "Percentual de processamento: 58%\n",
      "[2024-09-09 15:27:27.624786] Baixando e processando PAPI2311.dbc.\n"
     ]
    },
    {
     "name": "stderr",
     "output_type": "stream",
     "text": [
      "100%|███████████████████████████████████████████████████████████████████████████████████████████████████████████████████████████████████████████████████████████████████████| 9.02M/9.02M [00:00<00:00, 4.81GB/s]\n"
     ]
    },
    {
     "name": "stdout",
     "output_type": "stream",
     "text": [
      "[2024-09-09 15:27:27.629542] Arquivo PAPI2311.dbc salvo em /home/amcjr/pysus/PAPI2311.dbc.parquet.\n",
      "Arquivos processados: 215 de 372\n",
      "Percentual de processamento: 58%\n",
      "[2024-09-09 15:27:27.750102] Baixando e processando PAPI2312.dbc.\n"
     ]
    },
    {
     "name": "stderr",
     "output_type": "stream",
     "text": [
      "100%|███████████████████████████████████████████████████████████████████████████████████████████████████████████████████████████████████████████████████████████████████████| 9.40M/9.40M [00:00<00:00, 4.72GB/s]\n"
     ]
    },
    {
     "name": "stdout",
     "output_type": "stream",
     "text": [
      "[2024-09-09 15:27:27.754877] Arquivo PAPI2312.dbc salvo em /home/amcjr/pysus/PAPI2312.dbc.parquet.\n",
      "Arquivos processados: 216 de 372\n",
      "Percentual de processamento: 58%\n",
      "[2024-09-09 15:27:27.894538] Baixando e processando PAPR2301.dbc.\n"
     ]
    },
    {
     "name": "stderr",
     "output_type": "stream",
     "text": [
      "100%|███████████████████████████████████████████████████████████████████████████████████████████████████████████████████████████████████████████████████████████████████████| 90.6M/90.6M [00:00<00:00, 27.2GB/s]\n"
     ]
    },
    {
     "name": "stdout",
     "output_type": "stream",
     "text": [
      "[2024-09-09 15:27:27.900770] Arquivo PAPR2301.dbc salvo em /home/amcjr/pysus/PAPR2301.dbc.parquet.\n",
      "Arquivos processados: 217 de 372\n",
      "Percentual de processamento: 58%\n",
      "[2024-09-09 15:27:28.033668] Baixando e processando PAPR2302.dbc.\n"
     ]
    },
    {
     "name": "stderr",
     "output_type": "stream",
     "text": [
      "100%|█████████████████████████████████████████████████████████████████████████████████████████████████████████████████████████████████████████████████████████████████████████| 108M/108M [00:00<00:00, 28.2GB/s]\n"
     ]
    },
    {
     "name": "stdout",
     "output_type": "stream",
     "text": [
      "[2024-09-09 15:27:28.041166] Arquivo PAPR2302.dbc salvo em /home/amcjr/pysus/PAPR2302.dbc.parquet.\n",
      "Arquivos processados: 218 de 372\n",
      "Percentual de processamento: 59%\n",
      "[2024-09-09 15:27:28.166837] Baixando e processando PAPR2303.dbc.\n"
     ]
    },
    {
     "name": "stderr",
     "output_type": "stream",
     "text": [
      "100%|█████████████████████████████████████████████████████████████████████████████████████████████████████████████████████████████████████████████████████████████████████████| 132M/132M [00:00<00:00, 37.7GB/s]"
     ]
    },
    {
     "name": "stdout",
     "output_type": "stream",
     "text": [
      "[2024-09-09 15:27:28.173551] Arquivo PAPR2303.dbc salvo em /home/amcjr/pysus/PAPR2303.dbc.parquet.\n",
      "Arquivos processados: 219 de 372\n",
      "Percentual de processamento: 59%\n"
     ]
    },
    {
     "name": "stderr",
     "output_type": "stream",
     "text": [
      "\n"
     ]
    },
    {
     "name": "stdout",
     "output_type": "stream",
     "text": [
      "[2024-09-09 15:27:28.311274] Baixando e processando PAPR2304.dbc.\n"
     ]
    },
    {
     "name": "stderr",
     "output_type": "stream",
     "text": [
      "100%|█████████████████████████████████████████████████████████████████████████████████████████████████████████████████████████████████████████████████████████████████████████| 112M/112M [00:00<00:00, 31.2GB/s]\n"
     ]
    },
    {
     "name": "stdout",
     "output_type": "stream",
     "text": [
      "[2024-09-09 15:27:28.318230] Arquivo PAPR2304.dbc salvo em /home/amcjr/pysus/PAPR2304.dbc.parquet.\n",
      "Arquivos processados: 220 de 372\n",
      "Percentual de processamento: 59%\n",
      "[2024-09-09 15:27:28.457847] Baixando e processando PAPR2305.dbc.\n"
     ]
    },
    {
     "name": "stderr",
     "output_type": "stream",
     "text": [
      "100%|█████████████████████████████████████████████████████████████████████████████████████████████████████████████████████████████████████████████████████████████████████████| 134M/134M [00:00<00:00, 42.5GB/s]"
     ]
    },
    {
     "name": "stdout",
     "output_type": "stream",
     "text": [
      "[2024-09-09 15:27:28.463856] Arquivo PAPR2305.dbc salvo em /home/amcjr/pysus/PAPR2305.dbc.parquet.\n"
     ]
    },
    {
     "name": "stderr",
     "output_type": "stream",
     "text": [
      "\n"
     ]
    },
    {
     "name": "stdout",
     "output_type": "stream",
     "text": [
      "Arquivos processados: 221 de 372\n",
      "Percentual de processamento: 59%\n",
      "[2024-09-09 15:27:28.581183] Baixando e processando PAPR2306.dbc.\n"
     ]
    },
    {
     "name": "stderr",
     "output_type": "stream",
     "text": [
      "100%|█████████████████████████████████████████████████████████████████████████████████████████████████████████████████████████████████████████████████████████████████████████| 116M/116M [00:00<00:00, 35.1GB/s]\n"
     ]
    },
    {
     "name": "stdout",
     "output_type": "stream",
     "text": [
      "[2024-09-09 15:27:28.587740] Arquivo PAPR2306.dbc salvo em /home/amcjr/pysus/PAPR2306.dbc.parquet.\n",
      "Arquivos processados: 222 de 372\n",
      "Percentual de processamento: 60%\n",
      "[2024-09-09 15:27:28.712834] Baixando e processando PAPR2307.dbc.\n"
     ]
    },
    {
     "name": "stderr",
     "output_type": "stream",
     "text": [
      "100%|█████████████████████████████████████████████████████████████████████████████████████████████████████████████████████████████████████████████████████████████████████████| 128M/128M [00:00<00:00, 12.9GB/s]\n"
     ]
    },
    {
     "name": "stdout",
     "output_type": "stream",
     "text": [
      "[2024-09-09 15:27:28.730641] Arquivo PAPR2307.dbc salvo em /home/amcjr/pysus/PAPR2307.dbc.parquet.\n",
      "Arquivos processados: 223 de 372\n",
      "Percentual de processamento: 60%\n",
      "[2024-09-09 15:27:28.851845] Baixando e processando PAPR2308.dbc.\n"
     ]
    },
    {
     "name": "stderr",
     "output_type": "stream",
     "text": [
      "100%|█████████████████████████████████████████████████████████████████████████████████████████████████████████████████████████████████████████████████████████████████████████| 125M/125M [00:00<00:00, 17.6GB/s]\n"
     ]
    },
    {
     "name": "stdout",
     "output_type": "stream",
     "text": [
      "[2024-09-09 15:27:28.868321] Arquivo PAPR2308.dbc salvo em /home/amcjr/pysus/PAPR2308.dbc.parquet.\n",
      "Arquivos processados: 224 de 372\n",
      "Percentual de processamento: 60%\n",
      "[2024-09-09 15:27:28.985878] Baixando e processando PAPR2309.dbc.\n"
     ]
    },
    {
     "name": "stderr",
     "output_type": "stream",
     "text": [
      "100%|█████████████████████████████████████████████████████████████████████████████████████████████████████████████████████████████████████████████████████████████████████████| 129M/129M [00:00<00:00, 9.25GB/s]\n"
     ]
    },
    {
     "name": "stdout",
     "output_type": "stream",
     "text": [
      "[2024-09-09 15:27:29.009655] Arquivo PAPR2309.dbc salvo em /home/amcjr/pysus/PAPR2309.dbc.parquet.\n",
      "Arquivos processados: 225 de 372\n",
      "Percentual de processamento: 60%\n",
      "[2024-09-09 15:27:29.150711] Baixando e processando PAPR2310.dbc.\n"
     ]
    },
    {
     "name": "stderr",
     "output_type": "stream",
     "text": [
      "100%|█████████████████████████████████████████████████████████████████████████████████████████████████████████████████████████████████████████████████████████████████████████| 122M/122M [00:00<00:00, 6.78GB/s]\n"
     ]
    },
    {
     "name": "stdout",
     "output_type": "stream",
     "text": [
      "[2024-09-09 15:27:29.178510] Arquivo PAPR2310.dbc salvo em /home/amcjr/pysus/PAPR2310.dbc.parquet.\n",
      "Arquivos processados: 226 de 372\n",
      "Percentual de processamento: 61%\n",
      "[2024-09-09 15:27:29.314828] Baixando e processando PAPR2311.dbc.\n"
     ]
    },
    {
     "name": "stderr",
     "output_type": "stream",
     "text": [
      "100%|█████████████████████████████████████████████████████████████████████████████████████████████████████████████████████████████████████████████████████████████████████████| 116M/116M [00:00<00:00, 9.69GB/s]"
     ]
    },
    {
     "name": "stdout",
     "output_type": "stream",
     "text": [
      "[2024-09-09 15:27:29.337951] Arquivo PAPR2311.dbc salvo em /home/amcjr/pysus/PAPR2311.dbc.parquet.\n",
      "Arquivos processados: 227 de 372\n",
      "Percentual de processamento: 61%\n"
     ]
    },
    {
     "name": "stderr",
     "output_type": "stream",
     "text": [
      "\n"
     ]
    },
    {
     "name": "stdout",
     "output_type": "stream",
     "text": [
      "[2024-09-09 15:27:29.482403] Baixando e processando PAPR2312.dbc.\n"
     ]
    },
    {
     "name": "stderr",
     "output_type": "stream",
     "text": [
      "100%|█████████████████████████████████████████████████████████████████████████████████████████████████████████████████████████████████████████████████████████████████████████| 115M/115M [00:00<00:00, 11.3GB/s]"
     ]
    },
    {
     "name": "stdout",
     "output_type": "stream",
     "text": [
      "[2024-09-09 15:27:29.506320] Arquivo PAPR2312.dbc salvo em /home/amcjr/pysus/PAPR2312.dbc.parquet.\n"
     ]
    },
    {
     "name": "stderr",
     "output_type": "stream",
     "text": [
      "\n"
     ]
    },
    {
     "name": "stdout",
     "output_type": "stream",
     "text": [
      "Arquivos processados: 228 de 372\n",
      "Percentual de processamento: 61%\n",
      "[2024-09-09 15:27:29.662029] Baixando e processando PARJ2301a.dbc.\n"
     ]
    },
    {
     "name": "stderr",
     "output_type": "stream",
     "text": [
      "100%|███████████████████████████████████████████████████████████████████████████████████████████████████████████████████████████████████████████████████████████████████████| 99.6M/99.6M [00:00<00:00, 28.6GB/s]"
     ]
    },
    {
     "name": "stdout",
     "output_type": "stream",
     "text": [
      "[2024-09-09 15:27:29.668551] Arquivo PARJ2301a.dbc salvo em /home/amcjr/pysus/PARJ2301a.dbc.parquet.\n"
     ]
    },
    {
     "name": "stderr",
     "output_type": "stream",
     "text": [
      "\n"
     ]
    },
    {
     "name": "stdout",
     "output_type": "stream",
     "text": [
      "Arquivos processados: 229 de 372\n",
      "Percentual de processamento: 62%\n",
      "[2024-09-09 15:27:29.796268] Baixando e processando PARJ2301b.dbc.\n"
     ]
    },
    {
     "name": "stderr",
     "output_type": "stream",
     "text": [
      "100%|███████████████████████████████████████████████████████████████████████████████████████████████████████████████████████████████████████████████████████████████████████| 71.6M/71.6M [00:00<00:00, 15.8GB/s]"
     ]
    },
    {
     "name": "stdout",
     "output_type": "stream",
     "text": [
      "[2024-09-09 15:27:29.806096] Arquivo PARJ2301b.dbc salvo em /home/amcjr/pysus/PARJ2301b.dbc.parquet.\n"
     ]
    },
    {
     "name": "stderr",
     "output_type": "stream",
     "text": [
      "\n"
     ]
    },
    {
     "name": "stdout",
     "output_type": "stream",
     "text": [
      "Arquivos processados: 230 de 372\n",
      "Percentual de processamento: 62%\n",
      "[2024-09-09 15:27:29.938538] Baixando e processando PARJ2302a.dbc.\n"
     ]
    },
    {
     "name": "stderr",
     "output_type": "stream",
     "text": [
      "100%|███████████████████████████████████████████████████████████████████████████████████████████████████████████████████████████████████████████████████████████████████████| 96.0M/96.0M [00:00<00:00, 11.4GB/s]"
     ]
    },
    {
     "name": "stdout",
     "output_type": "stream",
     "text": [
      "[2024-09-09 15:27:29.955415] Arquivo PARJ2302a.dbc salvo em /home/amcjr/pysus/PARJ2302a.dbc.parquet.\n"
     ]
    },
    {
     "name": "stderr",
     "output_type": "stream",
     "text": [
      "\n"
     ]
    },
    {
     "name": "stdout",
     "output_type": "stream",
     "text": [
      "Arquivos processados: 231 de 372\n",
      "Percentual de processamento: 62%\n",
      "[2024-09-09 15:27:30.072257] Baixando e processando PARJ2302b.dbc.\n"
     ]
    },
    {
     "name": "stderr",
     "output_type": "stream",
     "text": [
      "100%|███████████████████████████████████████████████████████████████████████████████████████████████████████████████████████████████████████████████████████████████████████| 72.7M/72.7M [00:00<00:00, 26.3GB/s]"
     ]
    },
    {
     "name": "stdout",
     "output_type": "stream",
     "text": [
      "[2024-09-09 15:27:30.078412] Arquivo PARJ2302b.dbc salvo em /home/amcjr/pysus/PARJ2302b.dbc.parquet.\n"
     ]
    },
    {
     "name": "stderr",
     "output_type": "stream",
     "text": [
      "\n"
     ]
    },
    {
     "name": "stdout",
     "output_type": "stream",
     "text": [
      "Arquivos processados: 232 de 372\n",
      "Percentual de processamento: 62%\n",
      "[2024-09-09 15:27:30.195908] Baixando e processando PARJ2303a.dbc.\n"
     ]
    },
    {
     "name": "stderr",
     "output_type": "stream",
     "text": [
      "100%|█████████████████████████████████████████████████████████████████████████████████████████████████████████████████████████████████████████████████████████████████████████| 130M/130M [00:00<00:00, 29.8GB/s]\n"
     ]
    },
    {
     "name": "stdout",
     "output_type": "stream",
     "text": [
      "[2024-09-09 15:27:30.205360] Arquivo PARJ2303a.dbc salvo em /home/amcjr/pysus/PARJ2303a.dbc.parquet.\n",
      "Arquivos processados: 233 de 372\n",
      "Percentual de processamento: 63%\n",
      "[2024-09-09 15:27:30.321916] Baixando e processando PARJ2303b.dbc.\n"
     ]
    },
    {
     "name": "stderr",
     "output_type": "stream",
     "text": [
      "100%|███████████████████████████████████████████████████████████████████████████████████████████████████████████████████████████████████████████████████████████████████████| 94.5M/94.5M [00:00<00:00, 11.8GB/s]\n"
     ]
    },
    {
     "name": "stdout",
     "output_type": "stream",
     "text": [
      "[2024-09-09 15:27:30.336930] Arquivo PARJ2303b.dbc salvo em /home/amcjr/pysus/PARJ2303b.dbc.parquet.\n",
      "Arquivos processados: 234 de 372\n",
      "Percentual de processamento: 63%\n",
      "[2024-09-09 15:27:30.457988] Baixando e processando PARJ2304a.dbc.\n"
     ]
    },
    {
     "name": "stderr",
     "output_type": "stream",
     "text": [
      "100%|█████████████████████████████████████████████████████████████████████████████████████████████████████████████████████████████████████████████████████████████████████████| 119M/119M [00:00<00:00, 32.5GB/s]\n"
     ]
    },
    {
     "name": "stdout",
     "output_type": "stream",
     "text": [
      "[2024-09-09 15:27:30.465348] Arquivo PARJ2304a.dbc salvo em /home/amcjr/pysus/PARJ2304a.dbc.parquet.\n",
      "Arquivos processados: 235 de 372\n",
      "Percentual de processamento: 63%\n",
      "[2024-09-09 15:27:30.585342] Baixando e processando PARJ2304b.dbc.\n"
     ]
    },
    {
     "name": "stderr",
     "output_type": "stream",
     "text": [
      "100%|███████████████████████████████████████████████████████████████████████████████████████████████████████████████████████████████████████████████████████████████████████| 84.0M/84.0M [00:00<00:00, 10.9GB/s]\n"
     ]
    },
    {
     "name": "stdout",
     "output_type": "stream",
     "text": [
      "[2024-09-09 15:27:30.601777] Arquivo PARJ2304b.dbc salvo em /home/amcjr/pysus/PARJ2304b.dbc.parquet.\n",
      "Arquivos processados: 236 de 372\n",
      "Percentual de processamento: 63%\n",
      "[2024-09-09 15:27:30.739889] Baixando e processando PARJ2305a.dbc.\n"
     ]
    },
    {
     "name": "stderr",
     "output_type": "stream",
     "text": [
      "100%|█████████████████████████████████████████████████████████████████████████████████████████████████████████████████████████████████████████████████████████████████████████| 161M/161M [00:00<00:00, 40.9GB/s]\n"
     ]
    },
    {
     "name": "stdout",
     "output_type": "stream",
     "text": [
      "[2024-09-09 15:27:30.746496] Arquivo PARJ2305a.dbc salvo em /home/amcjr/pysus/PARJ2305a.dbc.parquet.\n",
      "Arquivos processados: 237 de 372\n",
      "Percentual de processamento: 64%\n",
      "[2024-09-09 15:27:30.864027] Baixando e processando PARJ2305b.dbc.\n"
     ]
    },
    {
     "name": "stderr",
     "output_type": "stream",
     "text": [
      "100%|███████████████████████████████████████████████████████████████████████████████████████████████████████████████████████████████████████████████████████████████████████| 71.0M/71.0M [00:00<00:00, 29.6GB/s]\n"
     ]
    },
    {
     "name": "stdout",
     "output_type": "stream",
     "text": [
      "[2024-09-09 15:27:30.869300] Arquivo PARJ2305b.dbc salvo em /home/amcjr/pysus/PARJ2305b.dbc.parquet.\n",
      "Arquivos processados: 238 de 372\n",
      "Percentual de processamento: 64%\n",
      "[2024-09-09 15:27:30.986718] Baixando e processando PARJ2306a.dbc.\n"
     ]
    },
    {
     "name": "stderr",
     "output_type": "stream",
     "text": [
      "100%|█████████████████████████████████████████████████████████████████████████████████████████████████████████████████████████████████████████████████████████████████████████| 156M/156M [00:00<00:00, 42.0GB/s]\n"
     ]
    },
    {
     "name": "stdout",
     "output_type": "stream",
     "text": [
      "[2024-09-09 15:27:30.994351] Arquivo PARJ2306a.dbc salvo em /home/amcjr/pysus/PARJ2306a.dbc.parquet.\n",
      "Arquivos processados: 239 de 372\n",
      "Percentual de processamento: 64%\n",
      "[2024-09-09 15:27:31.141673] Baixando e processando PARJ2306b.dbc.\n"
     ]
    },
    {
     "name": "stderr",
     "output_type": "stream",
     "text": [
      "100%|███████████████████████████████████████████████████████████████████████████████████████████████████████████████████████████████████████████████████████████████████████| 62.7M/62.7M [00:00<00:00, 21.8GB/s]"
     ]
    },
    {
     "name": "stdout",
     "output_type": "stream",
     "text": [
      "[2024-09-09 15:27:31.147950] Arquivo PARJ2306b.dbc salvo em /home/amcjr/pysus/PARJ2306b.dbc.parquet.\n"
     ]
    },
    {
     "name": "stderr",
     "output_type": "stream",
     "text": [
      "\n"
     ]
    },
    {
     "name": "stdout",
     "output_type": "stream",
     "text": [
      "Arquivos processados: 240 de 372\n",
      "Percentual de processamento: 65%\n",
      "[2024-09-09 15:27:31.270465] Baixando e processando PARJ2307a.dbc.\n"
     ]
    },
    {
     "name": "stderr",
     "output_type": "stream",
     "text": [
      "100%|█████████████████████████████████████████████████████████████████████████████████████████████████████████████████████████████████████████████████████████████████████████| 162M/162M [00:00<00:00, 34.7GB/s]\n"
     ]
    },
    {
     "name": "stdout",
     "output_type": "stream",
     "text": [
      "[2024-09-09 15:27:31.278566] Arquivo PARJ2307a.dbc salvo em /home/amcjr/pysus/PARJ2307a.dbc.parquet.\n",
      "Arquivos processados: 241 de 372\n",
      "Percentual de processamento: 65%\n",
      "[2024-09-09 15:27:31.407279] Baixando e processando PARJ2307b.dbc.\n"
     ]
    },
    {
     "name": "stderr",
     "output_type": "stream",
     "text": [
      "100%|███████████████████████████████████████████████████████████████████████████████████████████████████████████████████████████████████████████████████████████████████████| 77.4M/77.4M [00:00<00:00, 31.2GB/s]\n"
     ]
    },
    {
     "name": "stdout",
     "output_type": "stream",
     "text": [
      "[2024-09-09 15:27:31.412682] Arquivo PARJ2307b.dbc salvo em /home/amcjr/pysus/PARJ2307b.dbc.parquet.\n",
      "Arquivos processados: 242 de 372\n",
      "Percentual de processamento: 65%\n",
      "[2024-09-09 15:27:31.530830] Baixando e processando PARJ2308a.dbc.\n"
     ]
    },
    {
     "name": "stderr",
     "output_type": "stream",
     "text": [
      "100%|█████████████████████████████████████████████████████████████████████████████████████████████████████████████████████████████████████████████████████████████████████████| 162M/162M [00:00<00:00, 40.9GB/s]"
     ]
    },
    {
     "name": "stdout",
     "output_type": "stream",
     "text": [
      "[2024-09-09 15:27:31.538041] Arquivo PARJ2308a.dbc salvo em /home/amcjr/pysus/PARJ2308a.dbc.parquet.\n"
     ]
    },
    {
     "name": "stderr",
     "output_type": "stream",
     "text": [
      "\n"
     ]
    },
    {
     "name": "stdout",
     "output_type": "stream",
     "text": [
      "Arquivos processados: 243 de 372\n",
      "Percentual de processamento: 65%\n",
      "[2024-09-09 15:27:31.682371] Baixando e processando PARJ2308b.dbc.\n"
     ]
    },
    {
     "name": "stderr",
     "output_type": "stream",
     "text": [
      "100%|███████████████████████████████████████████████████████████████████████████████████████████████████████████████████████████████████████████████████████████████████████| 68.4M/68.4M [00:00<00:00, 9.58GB/s]\n"
     ]
    },
    {
     "name": "stdout",
     "output_type": "stream",
     "text": [
      "[2024-09-09 15:27:31.698915] Arquivo PARJ2308b.dbc salvo em /home/amcjr/pysus/PARJ2308b.dbc.parquet.\n",
      "Arquivos processados: 244 de 372\n",
      "Percentual de processamento: 66%\n",
      "[2024-09-09 15:27:31.842411] Baixando e processando PARJ2309a.dbc.\n"
     ]
    },
    {
     "name": "stderr",
     "output_type": "stream",
     "text": [
      "100%|█████████████████████████████████████████████████████████████████████████████████████████████████████████████████████████████████████████████████████████████████████████| 163M/163M [00:00<00:00, 17.1GB/s]"
     ]
    },
    {
     "name": "stdout",
     "output_type": "stream",
     "text": [
      "[2024-09-09 15:27:31.860202] Arquivo PARJ2309a.dbc salvo em /home/amcjr/pysus/PARJ2309a.dbc.parquet.\n"
     ]
    },
    {
     "name": "stderr",
     "output_type": "stream",
     "text": [
      "\n"
     ]
    },
    {
     "name": "stdout",
     "output_type": "stream",
     "text": [
      "Arquivos processados: 245 de 372\n",
      "Percentual de processamento: 66%\n",
      "[2024-09-09 15:27:31.978118] Baixando e processando PARJ2309b.dbc.\n"
     ]
    },
    {
     "name": "stderr",
     "output_type": "stream",
     "text": [
      "100%|███████████████████████████████████████████████████████████████████████████████████████████████████████████████████████████████████████████████████████████████████████| 71.4M/71.4M [00:00<00:00, 7.70GB/s]"
     ]
    },
    {
     "name": "stdout",
     "output_type": "stream",
     "text": [
      "[2024-09-09 15:27:31.996654] Arquivo PARJ2309b.dbc salvo em /home/amcjr/pysus/PARJ2309b.dbc.parquet.\n"
     ]
    },
    {
     "name": "stderr",
     "output_type": "stream",
     "text": [
      "\n"
     ]
    },
    {
     "name": "stdout",
     "output_type": "stream",
     "text": [
      "Arquivos processados: 246 de 372\n",
      "Percentual de processamento: 66%\n",
      "[2024-09-09 15:27:32.133716] Baixando e processando PARJ2310a.dbc.\n"
     ]
    },
    {
     "name": "stderr",
     "output_type": "stream",
     "text": [
      "100%|█████████████████████████████████████████████████████████████████████████████████████████████████████████████████████████████████████████████████████████████████████████| 155M/155M [00:00<00:00, 15.1GB/s]"
     ]
    },
    {
     "name": "stdout",
     "output_type": "stream",
     "text": [
      "[2024-09-09 15:27:32.152586] Arquivo PARJ2310a.dbc salvo em /home/amcjr/pysus/PARJ2310a.dbc.parquet.\n"
     ]
    },
    {
     "name": "stderr",
     "output_type": "stream",
     "text": [
      "\n"
     ]
    },
    {
     "name": "stdout",
     "output_type": "stream",
     "text": [
      "Arquivos processados: 247 de 372\n",
      "Percentual de processamento: 66%\n",
      "[2024-09-09 15:27:32.284679] Baixando e processando PARJ2310b.dbc.\n"
     ]
    },
    {
     "name": "stderr",
     "output_type": "stream",
     "text": [
      "100%|███████████████████████████████████████████████████████████████████████████████████████████████████████████████████████████████████████████████████████████████████████| 82.3M/82.3M [00:00<00:00, 23.7GB/s]\n"
     ]
    },
    {
     "name": "stdout",
     "output_type": "stream",
     "text": [
      "[2024-09-09 15:27:32.291625] Arquivo PARJ2310b.dbc salvo em /home/amcjr/pysus/PARJ2310b.dbc.parquet.\n",
      "Arquivos processados: 248 de 372\n",
      "Percentual de processamento: 67%\n",
      "[2024-09-09 15:27:32.423181] Baixando e processando PARJ2311a.dbc.\n"
     ]
    },
    {
     "name": "stderr",
     "output_type": "stream",
     "text": [
      "100%|█████████████████████████████████████████████████████████████████████████████████████████████████████████████████████████████████████████████████████████████████████████| 161M/161M [00:00<00:00, 41.0GB/s]"
     ]
    },
    {
     "name": "stdout",
     "output_type": "stream",
     "text": [
      "[2024-09-09 15:27:32.430035] Arquivo PARJ2311a.dbc salvo em /home/amcjr/pysus/PARJ2311a.dbc.parquet.\n"
     ]
    },
    {
     "name": "stderr",
     "output_type": "stream",
     "text": [
      "\n"
     ]
    },
    {
     "name": "stdout",
     "output_type": "stream",
     "text": [
      "Arquivos processados: 249 de 372\n",
      "Percentual de processamento: 67%\n",
      "[2024-09-09 15:27:32.546022] Baixando e processando PARJ2311b.dbc.\n"
     ]
    },
    {
     "name": "stderr",
     "output_type": "stream",
     "text": [
      "100%|███████████████████████████████████████████████████████████████████████████████████████████████████████████████████████████████████████████████████████████████████████| 64.8M/64.8M [00:00<00:00, 9.79GB/s]\n"
     ]
    },
    {
     "name": "stdout",
     "output_type": "stream",
     "text": [
      "[2024-09-09 15:27:32.560573] Arquivo PARJ2311b.dbc salvo em /home/amcjr/pysus/PARJ2311b.dbc.parquet.\n",
      "Arquivos processados: 250 de 372\n",
      "Percentual de processamento: 67%\n",
      "[2024-09-09 15:27:32.682904] Baixando e processando PARJ2312a.dbc.\n"
     ]
    },
    {
     "name": "stderr",
     "output_type": "stream",
     "text": [
      "100%|█████████████████████████████████████████████████████████████████████████████████████████████████████████████████████████████████████████████████████████████████████████| 160M/160M [00:00<00:00, 22.9GB/s]\n"
     ]
    },
    {
     "name": "stdout",
     "output_type": "stream",
     "text": [
      "[2024-09-09 15:27:32.695537] Arquivo PARJ2312a.dbc salvo em /home/amcjr/pysus/PARJ2312a.dbc.parquet.\n",
      "Arquivos processados: 251 de 372\n",
      "Percentual de processamento: 67%\n",
      "[2024-09-09 15:27:32.844437] Baixando e processando PARJ2312b.dbc.\n"
     ]
    },
    {
     "name": "stderr",
     "output_type": "stream",
     "text": [
      "100%|███████████████████████████████████████████████████████████████████████████████████████████████████████████████████████████████████████████████████████████████████████| 80.0M/80.0M [00:00<00:00, 30.2GB/s]\n"
     ]
    },
    {
     "name": "stdout",
     "output_type": "stream",
     "text": [
      "[2024-09-09 15:27:32.851338] Arquivo PARJ2312b.dbc salvo em /home/amcjr/pysus/PARJ2312b.dbc.parquet.\n",
      "Arquivos processados: 252 de 372\n",
      "Percentual de processamento: 68%\n",
      "[2024-09-09 15:27:32.969237] Baixando e processando PARN2301.dbc.\n"
     ]
    },
    {
     "name": "stderr",
     "output_type": "stream",
     "text": [
      "100%|███████████████████████████████████████████████████████████████████████████████████████████████████████████████████████████████████████████████████████████████████████| 16.9M/16.9M [00:00<00:00, 7.89GB/s]"
     ]
    },
    {
     "name": "stdout",
     "output_type": "stream",
     "text": [
      "[2024-09-09 15:27:32.974375] Arquivo PARN2301.dbc salvo em /home/amcjr/pysus/PARN2301.dbc.parquet.\n",
      "Arquivos processados: 253 de 372\n",
      "Percentual de processamento: 68%\n"
     ]
    },
    {
     "name": "stderr",
     "output_type": "stream",
     "text": [
      "\n"
     ]
    },
    {
     "name": "stdout",
     "output_type": "stream",
     "text": [
      "[2024-09-09 15:27:33.105283] Baixando e processando PARN2302.dbc.\n"
     ]
    },
    {
     "name": "stderr",
     "output_type": "stream",
     "text": [
      "100%|███████████████████████████████████████████████████████████████████████████████████████████████████████████████████████████████████████████████████████████████████████| 17.5M/17.5M [00:00<00:00, 5.91GB/s]\n"
     ]
    },
    {
     "name": "stdout",
     "output_type": "stream",
     "text": [
      "[2024-09-09 15:27:33.111881] Arquivo PARN2302.dbc salvo em /home/amcjr/pysus/PARN2302.dbc.parquet.\n",
      "Arquivos processados: 254 de 372\n",
      "Percentual de processamento: 68%\n",
      "[2024-09-09 15:27:33.235340] Baixando e processando PARN2303.dbc.\n"
     ]
    },
    {
     "name": "stderr",
     "output_type": "stream",
     "text": [
      "100%|███████████████████████████████████████████████████████████████████████████████████████████████████████████████████████████████████████████████████████████████████████| 20.6M/20.6M [00:00<00:00, 10.2GB/s]\n"
     ]
    },
    {
     "name": "stdout",
     "output_type": "stream",
     "text": [
      "[2024-09-09 15:27:33.240765] Arquivo PARN2303.dbc salvo em /home/amcjr/pysus/PARN2303.dbc.parquet.\n",
      "Arquivos processados: 255 de 372\n",
      "Percentual de processamento: 69%\n",
      "[2024-09-09 15:27:33.368710] Baixando e processando PARN2304.dbc.\n"
     ]
    },
    {
     "name": "stderr",
     "output_type": "stream",
     "text": [
      "100%|███████████████████████████████████████████████████████████████████████████████████████████████████████████████████████████████████████████████████████████████████████| 18.7M/18.7M [00:00<00:00, 8.21GB/s]\n"
     ]
    },
    {
     "name": "stdout",
     "output_type": "stream",
     "text": [
      "[2024-09-09 15:27:33.373898] Arquivo PARN2304.dbc salvo em /home/amcjr/pysus/PARN2304.dbc.parquet.\n",
      "Arquivos processados: 256 de 372\n",
      "Percentual de processamento: 69%\n",
      "[2024-09-09 15:27:33.526188] Baixando e processando PARN2305.dbc.\n"
     ]
    },
    {
     "name": "stderr",
     "output_type": "stream",
     "text": [
      "100%|███████████████████████████████████████████████████████████████████████████████████████████████████████████████████████████████████████████████████████████████████████| 22.0M/22.0M [00:00<00:00, 4.49GB/s]\n"
     ]
    },
    {
     "name": "stdout",
     "output_type": "stream",
     "text": [
      "[2024-09-09 15:27:33.539601] Arquivo PARN2305.dbc salvo em /home/amcjr/pysus/PARN2305.dbc.parquet.\n",
      "Arquivos processados: 257 de 372\n",
      "Percentual de processamento: 69%\n",
      "[2024-09-09 15:27:33.681961] Baixando e processando PARN2306.dbc.\n"
     ]
    },
    {
     "name": "stderr",
     "output_type": "stream",
     "text": [
      "100%|███████████████████████████████████████████████████████████████████████████████████████████████████████████████████████████████████████████████████████████████████████| 19.7M/19.7M [00:00<00:00, 10.1GB/s]"
     ]
    },
    {
     "name": "stdout",
     "output_type": "stream",
     "text": [
      "[2024-09-09 15:27:33.687844] Arquivo PARN2306.dbc salvo em /home/amcjr/pysus/PARN2306.dbc.parquet.\n"
     ]
    },
    {
     "name": "stderr",
     "output_type": "stream",
     "text": [
      "\n"
     ]
    },
    {
     "name": "stdout",
     "output_type": "stream",
     "text": [
      "Arquivos processados: 258 de 372\n",
      "Percentual de processamento: 69%\n",
      "[2024-09-09 15:27:33.817516] Baixando e processando PARN2307.dbc.\n"
     ]
    },
    {
     "name": "stderr",
     "output_type": "stream",
     "text": [
      "100%|███████████████████████████████████████████████████████████████████████████████████████████████████████████████████████████████████████████████████████████████████████| 22.0M/22.0M [00:00<00:00, 9.73GB/s]"
     ]
    },
    {
     "name": "stdout",
     "output_type": "stream",
     "text": [
      "[2024-09-09 15:27:33.822453] Arquivo PARN2307.dbc salvo em /home/amcjr/pysus/PARN2307.dbc.parquet.\n"
     ]
    },
    {
     "name": "stderr",
     "output_type": "stream",
     "text": [
      "\n"
     ]
    },
    {
     "name": "stdout",
     "output_type": "stream",
     "text": [
      "Arquivos processados: 259 de 372\n",
      "Percentual de processamento: 70%\n",
      "[2024-09-09 15:27:33.945150] Baixando e processando PARN2308.dbc.\n"
     ]
    },
    {
     "name": "stderr",
     "output_type": "stream",
     "text": [
      "100%|███████████████████████████████████████████████████████████████████████████████████████████████████████████████████████████████████████████████████████████████████████| 23.0M/23.0M [00:00<00:00, 9.92GB/s]"
     ]
    },
    {
     "name": "stdout",
     "output_type": "stream",
     "text": [
      "[2024-09-09 15:27:33.950444] Arquivo PARN2308.dbc salvo em /home/amcjr/pysus/PARN2308.dbc.parquet.\n"
     ]
    },
    {
     "name": "stderr",
     "output_type": "stream",
     "text": [
      "\n"
     ]
    },
    {
     "name": "stdout",
     "output_type": "stream",
     "text": [
      "Arquivos processados: 260 de 372\n",
      "Percentual de processamento: 70%\n",
      "[2024-09-09 15:27:34.067788] Baixando e processando PARN2309.dbc.\n"
     ]
    },
    {
     "name": "stderr",
     "output_type": "stream",
     "text": [
      "100%|███████████████████████████████████████████████████████████████████████████████████████████████████████████████████████████████████████████████████████████████████████| 20.8M/20.8M [00:00<00:00, 11.1GB/s]\n"
     ]
    },
    {
     "name": "stdout",
     "output_type": "stream",
     "text": [
      "[2024-09-09 15:27:34.072865] Arquivo PARN2309.dbc salvo em /home/amcjr/pysus/PARN2309.dbc.parquet.\n",
      "Arquivos processados: 261 de 372\n",
      "Percentual de processamento: 70%\n",
      "[2024-09-09 15:27:34.192022] Baixando e processando PARN2310.dbc.\n"
     ]
    },
    {
     "name": "stderr",
     "output_type": "stream",
     "text": [
      "100%|███████████████████████████████████████████████████████████████████████████████████████████████████████████████████████████████████████████████████████████████████████| 21.5M/21.5M [00:00<00:00, 10.6GB/s]\n"
     ]
    },
    {
     "name": "stdout",
     "output_type": "stream",
     "text": [
      "[2024-09-09 15:27:34.196954] Arquivo PARN2310.dbc salvo em /home/amcjr/pysus/PARN2310.dbc.parquet.\n",
      "Arquivos processados: 262 de 372\n",
      "Percentual de processamento: 70%\n",
      "[2024-09-09 15:27:34.315253] Baixando e processando PARN2311.dbc.\n"
     ]
    },
    {
     "name": "stderr",
     "output_type": "stream",
     "text": [
      "100%|███████████████████████████████████████████████████████████████████████████████████████████████████████████████████████████████████████████████████████████████████████| 20.4M/20.4M [00:00<00:00, 9.17GB/s]\n"
     ]
    },
    {
     "name": "stdout",
     "output_type": "stream",
     "text": [
      "[2024-09-09 15:27:34.320439] Arquivo PARN2311.dbc salvo em /home/amcjr/pysus/PARN2311.dbc.parquet.\n",
      "Arquivos processados: 263 de 372\n",
      "Percentual de processamento: 71%\n",
      "[2024-09-09 15:27:34.441319] Baixando e processando PARN2312.dbc.\n"
     ]
    },
    {
     "name": "stderr",
     "output_type": "stream",
     "text": [
      "100%|███████████████████████████████████████████████████████████████████████████████████████████████████████████████████████████████████████████████████████████████████████| 20.9M/20.9M [00:00<00:00, 9.91GB/s]\n"
     ]
    },
    {
     "name": "stdout",
     "output_type": "stream",
     "text": [
      "[2024-09-09 15:27:34.446359] Arquivo PARN2312.dbc salvo em /home/amcjr/pysus/PARN2312.dbc.parquet.\n",
      "Arquivos processados: 264 de 372\n",
      "Percentual de processamento: 71%\n",
      "[2024-09-09 15:27:34.565138] Baixando e processando PARO2301.dbc.\n"
     ]
    },
    {
     "name": "stderr",
     "output_type": "stream",
     "text": [
      "100%|███████████████████████████████████████████████████████████████████████████████████████████████████████████████████████████████████████████████████████████████████████| 10.9M/10.9M [00:00<00:00, 4.19GB/s]\n"
     ]
    },
    {
     "name": "stdout",
     "output_type": "stream",
     "text": [
      "[2024-09-09 15:27:34.570635] Arquivo PARO2301.dbc salvo em /home/amcjr/pysus/PARO2301.dbc.parquet.\n",
      "Arquivos processados: 265 de 372\n",
      "Percentual de processamento: 71%\n",
      "[2024-09-09 15:27:34.685457] Baixando e processando PARO2302.dbc.\n"
     ]
    },
    {
     "name": "stderr",
     "output_type": "stream",
     "text": [
      "100%|███████████████████████████████████████████████████████████████████████████████████████████████████████████████████████████████████████████████████████████████████████| 13.3M/13.3M [00:00<00:00, 5.30GB/s]\n"
     ]
    },
    {
     "name": "stdout",
     "output_type": "stream",
     "text": [
      "[2024-09-09 15:27:34.690812] Arquivo PARO2302.dbc salvo em /home/amcjr/pysus/PARO2302.dbc.parquet.\n",
      "Arquivos processados: 266 de 372\n",
      "Percentual de processamento: 72%\n",
      "[2024-09-09 15:27:34.813790] Baixando e processando PARO2303.dbc.\n"
     ]
    },
    {
     "name": "stderr",
     "output_type": "stream",
     "text": [
      "100%|███████████████████████████████████████████████████████████████████████████████████████████████████████████████████████████████████████████████████████████████████████| 15.3M/15.3M [00:00<00:00, 5.64GB/s]\n"
     ]
    },
    {
     "name": "stdout",
     "output_type": "stream",
     "text": [
      "[2024-09-09 15:27:34.819373] Arquivo PARO2303.dbc salvo em /home/amcjr/pysus/PARO2303.dbc.parquet.\n",
      "Arquivos processados: 267 de 372\n",
      "Percentual de processamento: 72%\n",
      "[2024-09-09 15:27:34.949837] Baixando e processando PARO2304.dbc.\n"
     ]
    },
    {
     "name": "stderr",
     "output_type": "stream",
     "text": [
      "100%|███████████████████████████████████████████████████████████████████████████████████████████████████████████████████████████████████████████████████████████████████████| 13.3M/13.3M [00:00<00:00, 5.96GB/s]\n"
     ]
    },
    {
     "name": "stdout",
     "output_type": "stream",
     "text": [
      "[2024-09-09 15:27:34.955057] Arquivo PARO2304.dbc salvo em /home/amcjr/pysus/PARO2304.dbc.parquet.\n",
      "Arquivos processados: 268 de 372\n",
      "Percentual de processamento: 72%\n",
      "[2024-09-09 15:27:35.088207] Baixando e processando PARO2305.dbc.\n"
     ]
    },
    {
     "name": "stderr",
     "output_type": "stream",
     "text": [
      "100%|███████████████████████████████████████████████████████████████████████████████████████████████████████████████████████████████████████████████████████████████████████| 16.0M/16.0M [00:00<00:00, 7.16GB/s]\n"
     ]
    },
    {
     "name": "stdout",
     "output_type": "stream",
     "text": [
      "[2024-09-09 15:27:35.093158] Arquivo PARO2305.dbc salvo em /home/amcjr/pysus/PARO2305.dbc.parquet.\n",
      "Arquivos processados: 269 de 372\n",
      "Percentual de processamento: 72%\n",
      "[2024-09-09 15:27:36.269875] Baixando e processando PARO2306.dbc.\n"
     ]
    },
    {
     "name": "stderr",
     "output_type": "stream",
     "text": [
      "100%|███████████████████████████████████████████████████████████████████████████████████████████████████████████████████████████████████████████████████████████████████████| 14.5M/14.5M [00:00<00:00, 5.47GB/s]\n"
     ]
    },
    {
     "name": "stdout",
     "output_type": "stream",
     "text": [
      "[2024-09-09 15:27:36.276858] Arquivo PARO2306.dbc salvo em /home/amcjr/pysus/PARO2306.dbc.parquet.\n",
      "Arquivos processados: 270 de 372\n",
      "Percentual de processamento: 73%\n",
      "[2024-09-09 15:27:36.397577] Baixando e processando PARO2307.dbc.\n"
     ]
    },
    {
     "name": "stderr",
     "output_type": "stream",
     "text": [
      "100%|███████████████████████████████████████████████████████████████████████████████████████████████████████████████████████████████████████████████████████████████████████| 16.3M/16.3M [00:00<00:00, 4.55GB/s]"
     ]
    },
    {
     "name": "stdout",
     "output_type": "stream",
     "text": [
      "[2024-09-09 15:27:36.405805] Arquivo PARO2307.dbc salvo em /home/amcjr/pysus/PARO2307.dbc.parquet.\n"
     ]
    },
    {
     "name": "stderr",
     "output_type": "stream",
     "text": [
      "\n"
     ]
    },
    {
     "name": "stdout",
     "output_type": "stream",
     "text": [
      "Arquivos processados: 271 de 372\n",
      "Percentual de processamento: 73%\n",
      "[2024-09-09 15:27:36.526415] Baixando e processando PARO2308.dbc.\n"
     ]
    },
    {
     "name": "stderr",
     "output_type": "stream",
     "text": [
      "100%|███████████████████████████████████████████████████████████████████████████████████████████████████████████████████████████████████████████████████████████████████████| 17.3M/17.3M [00:00<00:00, 2.32GB/s]\n"
     ]
    },
    {
     "name": "stdout",
     "output_type": "stream",
     "text": [
      "[2024-09-09 15:27:36.541960] Arquivo PARO2308.dbc salvo em /home/amcjr/pysus/PARO2308.dbc.parquet.\n",
      "Arquivos processados: 272 de 372\n",
      "Percentual de processamento: 73%\n",
      "[2024-09-09 15:27:36.658225] Baixando e processando PARO2309.dbc.\n"
     ]
    },
    {
     "name": "stderr",
     "output_type": "stream",
     "text": [
      "100%|███████████████████████████████████████████████████████████████████████████████████████████████████████████████████████████████████████████████████████████████████████| 17.2M/17.2M [00:00<00:00, 7.78GB/s]\n"
     ]
    },
    {
     "name": "stdout",
     "output_type": "stream",
     "text": [
      "[2024-09-09 15:27:36.663075] Arquivo PARO2309.dbc salvo em /home/amcjr/pysus/PARO2309.dbc.parquet.\n",
      "Arquivos processados: 273 de 372\n",
      "Percentual de processamento: 73%\n",
      "[2024-09-09 15:27:36.777617] Baixando e processando PARO2310.dbc.\n"
     ]
    },
    {
     "name": "stderr",
     "output_type": "stream",
     "text": [
      "100%|███████████████████████████████████████████████████████████████████████████████████████████████████████████████████████████████████████████████████████████████████████| 16.7M/16.7M [00:00<00:00, 6.20GB/s]\n"
     ]
    },
    {
     "name": "stdout",
     "output_type": "stream",
     "text": [
      "[2024-09-09 15:27:36.783680] Arquivo PARO2310.dbc salvo em /home/amcjr/pysus/PARO2310.dbc.parquet.\n",
      "Arquivos processados: 274 de 372\n",
      "Percentual de processamento: 74%\n",
      "[2024-09-09 15:27:36.926872] Baixando e processando PARO2311.dbc.\n"
     ]
    },
    {
     "name": "stderr",
     "output_type": "stream",
     "text": [
      "100%|███████████████████████████████████████████████████████████████████████████████████████████████████████████████████████████████████████████████████████████████████████| 15.7M/15.7M [00:00<00:00, 1.96GB/s]\n"
     ]
    },
    {
     "name": "stdout",
     "output_type": "stream",
     "text": [
      "[2024-09-09 15:27:36.946152] Arquivo PARO2311.dbc salvo em /home/amcjr/pysus/PARO2311.dbc.parquet.\n",
      "Arquivos processados: 275 de 372\n",
      "Percentual de processamento: 74%\n",
      "[2024-09-09 15:27:37.074025] Baixando e processando PARO2312.dbc.\n"
     ]
    },
    {
     "name": "stderr",
     "output_type": "stream",
     "text": [
      "100%|███████████████████████████████████████████████████████████████████████████████████████████████████████████████████████████████████████████████████████████████████████| 17.1M/17.1M [00:00<00:00, 2.59GB/s]\n"
     ]
    },
    {
     "name": "stdout",
     "output_type": "stream",
     "text": [
      "[2024-09-09 15:27:37.092002] Arquivo PARO2312.dbc salvo em /home/amcjr/pysus/PARO2312.dbc.parquet.\n",
      "Arquivos processados: 276 de 372\n",
      "Percentual de processamento: 74%\n",
      "[2024-09-09 15:27:37.219079] Baixando e processando PARR2301.dbc.\n"
     ]
    },
    {
     "name": "stderr",
     "output_type": "stream",
     "text": [
      "100%|████████████████████████████████████████████████████████████████████████████████████████████████████████████████████████████████████████████████████████████████████████| 1.16M/1.16M [00:00<00:00, 688MB/s]\n"
     ]
    },
    {
     "name": "stdout",
     "output_type": "stream",
     "text": [
      "[2024-09-09 15:27:37.223429] Arquivo PARR2301.dbc salvo em /home/amcjr/pysus/PARR2301.dbc.parquet.\n",
      "Arquivos processados: 277 de 372\n",
      "Percentual de processamento: 74%\n",
      "[2024-09-09 15:27:37.338919] Baixando e processando PARR2302.dbc.\n"
     ]
    },
    {
     "name": "stderr",
     "output_type": "stream",
     "text": [
      "100%|████████████████████████████████████████████████████████████████████████████████████████████████████████████████████████████████████████████████████████████████████████| 1.35M/1.35M [00:00<00:00, 489MB/s]\n"
     ]
    },
    {
     "name": "stdout",
     "output_type": "stream",
     "text": [
      "[2024-09-09 15:27:37.347373] Arquivo PARR2302.dbc salvo em /home/amcjr/pysus/PARR2302.dbc.parquet.\n",
      "Arquivos processados: 278 de 372\n",
      "Percentual de processamento: 75%\n",
      "[2024-09-09 15:27:37.468299] Baixando e processando PARR2303.dbc.\n"
     ]
    },
    {
     "name": "stderr",
     "output_type": "stream",
     "text": [
      "100%|███████████████████████████████████████████████████████████████████████████████████████████████████████████████████████████████████████████████████████████████████████| 1.72M/1.72M [00:00<00:00, 1.12GB/s]\n"
     ]
    },
    {
     "name": "stdout",
     "output_type": "stream",
     "text": [
      "[2024-09-09 15:27:37.473334] Arquivo PARR2303.dbc salvo em /home/amcjr/pysus/PARR2303.dbc.parquet.\n",
      "Arquivos processados: 279 de 372\n",
      "Percentual de processamento: 75%\n",
      "[2024-09-09 15:27:37.593081] Baixando e processando PARR2304.dbc.\n"
     ]
    },
    {
     "name": "stderr",
     "output_type": "stream",
     "text": [
      "100%|████████████████████████████████████████████████████████████████████████████████████████████████████████████████████████████████████████████████████████████████████████| 1.38M/1.38M [00:00<00:00, 263MB/s]\n"
     ]
    },
    {
     "name": "stdout",
     "output_type": "stream",
     "text": [
      "[2024-09-09 15:27:37.606428] Arquivo PARR2304.dbc salvo em /home/amcjr/pysus/PARR2304.dbc.parquet.\n",
      "Arquivos processados: 280 de 372\n",
      "Percentual de processamento: 75%\n",
      "[2024-09-09 15:27:37.724779] Baixando e processando PARR2305.dbc.\n"
     ]
    },
    {
     "name": "stderr",
     "output_type": "stream",
     "text": [
      "100%|████████████████████████████████████████████████████████████████████████████████████████████████████████████████████████████████████████████████████████████████████████| 1.80M/1.80M [00:00<00:00, 967MB/s]\n"
     ]
    },
    {
     "name": "stdout",
     "output_type": "stream",
     "text": [
      "[2024-09-09 15:27:37.729456] Arquivo PARR2305.dbc salvo em /home/amcjr/pysus/PARR2305.dbc.parquet.\n",
      "Arquivos processados: 281 de 372\n",
      "Percentual de processamento: 76%\n",
      "[2024-09-09 15:27:37.845874] Baixando e processando PARR2306.dbc.\n"
     ]
    },
    {
     "name": "stderr",
     "output_type": "stream",
     "text": [
      "100%|████████████████████████████████████████████████████████████████████████████████████████████████████████████████████████████████████████████████████████████████████████| 1.36M/1.36M [00:00<00:00, 375MB/s]\n"
     ]
    },
    {
     "name": "stdout",
     "output_type": "stream",
     "text": [
      "[2024-09-09 15:27:37.855512] Arquivo PARR2306.dbc salvo em /home/amcjr/pysus/PARR2306.dbc.parquet.\n",
      "Arquivos processados: 282 de 372\n",
      "Percentual de processamento: 76%\n",
      "[2024-09-09 15:27:37.978629] Baixando e processando PARR2307.dbc.\n"
     ]
    },
    {
     "name": "stderr",
     "output_type": "stream",
     "text": [
      "100%|████████████████████████████████████████████████████████████████████████████████████████████████████████████████████████████████████████████████████████████████████████| 1.73M/1.73M [00:00<00:00, 457MB/s]\n"
     ]
    },
    {
     "name": "stdout",
     "output_type": "stream",
     "text": [
      "[2024-09-09 15:27:37.987348] Arquivo PARR2307.dbc salvo em /home/amcjr/pysus/PARR2307.dbc.parquet.\n",
      "Arquivos processados: 283 de 372\n",
      "Percentual de processamento: 76%\n",
      "[2024-09-09 15:27:38.107107] Baixando e processando PARR2308.dbc.\n"
     ]
    },
    {
     "name": "stderr",
     "output_type": "stream",
     "text": [
      "100%|████████████████████████████████████████████████████████████████████████████████████████████████████████████████████████████████████████████████████████████████████████| 1.40M/1.40M [00:00<00:00, 587MB/s]\n"
     ]
    },
    {
     "name": "stdout",
     "output_type": "stream",
     "text": [
      "[2024-09-09 15:27:38.112794] Arquivo PARR2308.dbc salvo em /home/amcjr/pysus/PARR2308.dbc.parquet.\n",
      "Arquivos processados: 284 de 372\n",
      "Percentual de processamento: 76%\n",
      "[2024-09-09 15:27:38.231054] Baixando e processando PARR2309.dbc.\n"
     ]
    },
    {
     "name": "stderr",
     "output_type": "stream",
     "text": [
      "100%|██████████████████████████████████████████████████████████████████████████████████████████████████████████████████████████████████████████████████████████████████████████| 565k/565k [00:00<00:00, 261MB/s]\n"
     ]
    },
    {
     "name": "stdout",
     "output_type": "stream",
     "text": [
      "[2024-09-09 15:27:38.236274] Arquivo PARR2309.dbc salvo em /home/amcjr/pysus/PARR2309.dbc.parquet.\n",
      "Arquivos processados: 285 de 372\n",
      "Percentual de processamento: 77%\n",
      "[2024-09-09 15:27:38.353008] Baixando e processando PARR2310.dbc.\n"
     ]
    },
    {
     "name": "stderr",
     "output_type": "stream",
     "text": [
      "100%|██████████████████████████████████████████████████████████████████████████████████████████████████████████████████████████████████████████████████████████████████████████| 610k/610k [00:00<00:00, 284MB/s]\n"
     ]
    },
    {
     "name": "stdout",
     "output_type": "stream",
     "text": [
      "[2024-09-09 15:27:38.358373] Arquivo PARR2310.dbc salvo em /home/amcjr/pysus/PARR2310.dbc.parquet.\n",
      "Arquivos processados: 286 de 372\n",
      "Percentual de processamento: 77%\n",
      "[2024-09-09 15:27:38.501891] Baixando e processando PARR2311.dbc.\n"
     ]
    },
    {
     "name": "stderr",
     "output_type": "stream",
     "text": [
      "100%|██████████████████████████████████████████████████████████████████████████████████████████████████████████████████████████████████████████████████████████████████████████| 780k/780k [00:00<00:00, 391MB/s]\n"
     ]
    },
    {
     "name": "stdout",
     "output_type": "stream",
     "text": [
      "[2024-09-09 15:27:38.507551] Arquivo PARR2311.dbc salvo em /home/amcjr/pysus/PARR2311.dbc.parquet.\n",
      "Arquivos processados: 287 de 372\n",
      "Percentual de processamento: 77%\n",
      "[2024-09-09 15:27:38.638865] Baixando e processando PARR2312.dbc.\n"
     ]
    },
    {
     "name": "stderr",
     "output_type": "stream",
     "text": [
      "100%|██████████████████████████████████████████████████████████████████████████████████████████████████████████████████████████████████████████████████████████████████████████| 745k/745k [00:00<00:00, 355MB/s]\n"
     ]
    },
    {
     "name": "stdout",
     "output_type": "stream",
     "text": [
      "[2024-09-09 15:27:38.644650] Arquivo PARR2312.dbc salvo em /home/amcjr/pysus/PARR2312.dbc.parquet.\n",
      "Arquivos processados: 288 de 372\n",
      "Percentual de processamento: 77%\n",
      "[2024-09-09 15:27:38.766926] Baixando e processando PARS2301.dbc.\n"
     ]
    },
    {
     "name": "stderr",
     "output_type": "stream",
     "text": [
      "100%|█████████████████████████████████████████████████████████████████████████████████████████████████████████████████████████████████████████████████████████████████████████| 123M/123M [00:00<00:00, 13.4GB/s]\n"
     ]
    },
    {
     "name": "stdout",
     "output_type": "stream",
     "text": [
      "[2024-09-09 15:27:38.785576] Arquivo PARS2301.dbc salvo em /home/amcjr/pysus/PARS2301.dbc.parquet.\n",
      "Arquivos processados: 289 de 372\n",
      "Percentual de processamento: 78%\n",
      "[2024-09-09 15:27:38.912551] Baixando e processando PARS2302.dbc.\n"
     ]
    },
    {
     "name": "stderr",
     "output_type": "stream",
     "text": [
      "100%|█████████████████████████████████████████████████████████████████████████████████████████████████████████████████████████████████████████████████████████████████████████| 136M/136M [00:00<00:00, 18.5GB/s]\n"
     ]
    },
    {
     "name": "stdout",
     "output_type": "stream",
     "text": [
      "[2024-09-09 15:27:38.926949] Arquivo PARS2302.dbc salvo em /home/amcjr/pysus/PARS2302.dbc.parquet.\n",
      "Arquivos processados: 290 de 372\n",
      "Percentual de processamento: 78%\n",
      "[2024-09-09 15:27:39.054545] Baixando e processando PARS2303.dbc.\n"
     ]
    },
    {
     "name": "stderr",
     "output_type": "stream",
     "text": [
      "100%|█████████████████████████████████████████████████████████████████████████████████████████████████████████████████████████████████████████████████████████████████████████| 159M/159M [00:00<00:00, 45.2GB/s]\n"
     ]
    },
    {
     "name": "stdout",
     "output_type": "stream",
     "text": [
      "[2024-09-09 15:27:39.061030] Arquivo PARS2303.dbc salvo em /home/amcjr/pysus/PARS2303.dbc.parquet.\n",
      "Arquivos processados: 291 de 372\n",
      "Percentual de processamento: 78%\n",
      "[2024-09-09 15:27:39.177428] Baixando e processando PARS2304.dbc.\n"
     ]
    },
    {
     "name": "stderr",
     "output_type": "stream",
     "text": [
      "100%|█████████████████████████████████████████████████████████████████████████████████████████████████████████████████████████████████████████████████████████████████████████| 135M/135M [00:00<00:00, 10.8GB/s]\n"
     ]
    },
    {
     "name": "stdout",
     "output_type": "stream",
     "text": [
      "[2024-09-09 15:27:39.201322] Arquivo PARS2304.dbc salvo em /home/amcjr/pysus/PARS2304.dbc.parquet.\n",
      "Arquivos processados: 292 de 372\n",
      "Percentual de processamento: 78%\n",
      "[2024-09-09 15:27:39.321013] Baixando e processando PARS2305.dbc.\n"
     ]
    },
    {
     "name": "stderr",
     "output_type": "stream",
     "text": [
      "100%|█████████████████████████████████████████████████████████████████████████████████████████████████████████████████████████████████████████████████████████████████████████| 160M/160M [00:00<00:00, 44.3GB/s]\n"
     ]
    },
    {
     "name": "stdout",
     "output_type": "stream",
     "text": [
      "[2024-09-09 15:27:39.328368] Arquivo PARS2305.dbc salvo em /home/amcjr/pysus/PARS2305.dbc.parquet.\n",
      "Arquivos processados: 293 de 372\n",
      "Percentual de processamento: 79%\n",
      "[2024-09-09 15:27:39.451775] Baixando e processando PARS2306.dbc.\n"
     ]
    },
    {
     "name": "stderr",
     "output_type": "stream",
     "text": [
      "100%|█████████████████████████████████████████████████████████████████████████████████████████████████████████████████████████████████████████████████████████████████████████| 140M/140M [00:00<00:00, 40.4GB/s]\n"
     ]
    },
    {
     "name": "stdout",
     "output_type": "stream",
     "text": [
      "[2024-09-09 15:27:39.458380] Arquivo PARS2306.dbc salvo em /home/amcjr/pysus/PARS2306.dbc.parquet.\n",
      "Arquivos processados: 294 de 372\n",
      "Percentual de processamento: 79%\n",
      "[2024-09-09 15:27:39.575685] Baixando e processando PARS2307.dbc.\n"
     ]
    },
    {
     "name": "stderr",
     "output_type": "stream",
     "text": [
      "100%|█████████████████████████████████████████████████████████████████████████████████████████████████████████████████████████████████████████████████████████████████████████| 156M/156M [00:00<00:00, 46.1GB/s]\n"
     ]
    },
    {
     "name": "stdout",
     "output_type": "stream",
     "text": [
      "[2024-09-09 15:27:39.582147] Arquivo PARS2307.dbc salvo em /home/amcjr/pysus/PARS2307.dbc.parquet.\n",
      "Arquivos processados: 295 de 372\n",
      "Percentual de processamento: 79%\n",
      "[2024-09-09 15:27:39.701435] Baixando e processando PARS2308.dbc.\n"
     ]
    },
    {
     "name": "stderr",
     "output_type": "stream",
     "text": [
      "100%|█████████████████████████████████████████████████████████████████████████████████████████████████████████████████████████████████████████████████████████████████████████| 152M/152M [00:00<00:00, 39.3GB/s]\n"
     ]
    },
    {
     "name": "stdout",
     "output_type": "stream",
     "text": [
      "[2024-09-09 15:27:39.708485] Arquivo PARS2308.dbc salvo em /home/amcjr/pysus/PARS2308.dbc.parquet.\n",
      "Arquivos processados: 296 de 372\n",
      "Percentual de processamento: 80%\n",
      "[2024-09-09 15:27:39.827203] Baixando e processando PARS2309.dbc.\n"
     ]
    },
    {
     "name": "stderr",
     "output_type": "stream",
     "text": [
      "100%|█████████████████████████████████████████████████████████████████████████████████████████████████████████████████████████████████████████████████████████████████████████| 146M/146M [00:00<00:00, 38.1GB/s]\n"
     ]
    },
    {
     "name": "stdout",
     "output_type": "stream",
     "text": [
      "[2024-09-09 15:27:39.835284] Arquivo PARS2309.dbc salvo em /home/amcjr/pysus/PARS2309.dbc.parquet.\n",
      "Arquivos processados: 297 de 372\n",
      "Percentual de processamento: 80%\n",
      "[2024-09-09 15:27:39.964262] Baixando e processando PARS2310.dbc.\n"
     ]
    },
    {
     "name": "stderr",
     "output_type": "stream",
     "text": [
      "100%|█████████████████████████████████████████████████████████████████████████████████████████████████████████████████████████████████████████████████████████████████████████| 143M/143M [00:00<00:00, 35.5GB/s]\n"
     ]
    },
    {
     "name": "stdout",
     "output_type": "stream",
     "text": [
      "[2024-09-09 15:27:39.972456] Arquivo PARS2310.dbc salvo em /home/amcjr/pysus/PARS2310.dbc.parquet.\n",
      "Arquivos processados: 298 de 372\n",
      "Percentual de processamento: 80%\n",
      "[2024-09-09 15:27:40.092735] Baixando e processando PARS2311.dbc.\n"
     ]
    },
    {
     "name": "stderr",
     "output_type": "stream",
     "text": [
      "100%|█████████████████████████████████████████████████████████████████████████████████████████████████████████████████████████████████████████████████████████████████████████| 150M/150M [00:00<00:00, 36.2GB/s]\n"
     ]
    },
    {
     "name": "stdout",
     "output_type": "stream",
     "text": [
      "[2024-09-09 15:27:40.099595] Arquivo PARS2311.dbc salvo em /home/amcjr/pysus/PARS2311.dbc.parquet.\n",
      "Arquivos processados: 299 de 372\n",
      "Percentual de processamento: 80%\n",
      "[2024-09-09 15:27:40.222954] Baixando e processando PARS2312.dbc.\n"
     ]
    },
    {
     "name": "stderr",
     "output_type": "stream",
     "text": [
      "100%|█████████████████████████████████████████████████████████████████████████████████████████████████████████████████████████████████████████████████████████████████████████| 156M/156M [00:00<00:00, 40.9GB/s]\n"
     ]
    },
    {
     "name": "stdout",
     "output_type": "stream",
     "text": [
      "[2024-09-09 15:27:40.229844] Arquivo PARS2312.dbc salvo em /home/amcjr/pysus/PARS2312.dbc.parquet.\n",
      "Arquivos processados: 300 de 372\n",
      "Percentual de processamento: 81%\n",
      "[2024-09-09 15:27:40.345148] Baixando e processando PASC2301.dbc.\n"
     ]
    },
    {
     "name": "stderr",
     "output_type": "stream",
     "text": [
      "100%|███████████████████████████████████████████████████████████████████████████████████████████████████████████████████████████████████████████████████████████████████████| 84.7M/84.7M [00:00<00:00, 21.8GB/s]\n"
     ]
    },
    {
     "name": "stdout",
     "output_type": "stream",
     "text": [
      "[2024-09-09 15:27:40.352748] Arquivo PASC2301.dbc salvo em /home/amcjr/pysus/PASC2301.dbc.parquet.\n",
      "Arquivos processados: 301 de 372\n",
      "Percentual de processamento: 81%\n",
      "[2024-09-09 15:27:40.492480] Baixando e processando PASC2302.dbc.\n"
     ]
    },
    {
     "name": "stderr",
     "output_type": "stream",
     "text": [
      "100%|███████████████████████████████████████████████████████████████████████████████████████████████████████████████████████████████████████████████████████████████████████| 95.8M/95.8M [00:00<00:00, 18.7GB/s]"
     ]
    },
    {
     "name": "stdout",
     "output_type": "stream",
     "text": [
      "[2024-09-09 15:27:40.502382] Arquivo PASC2302.dbc salvo em /home/amcjr/pysus/PASC2302.dbc.parquet.\n"
     ]
    },
    {
     "name": "stderr",
     "output_type": "stream",
     "text": [
      "\n"
     ]
    },
    {
     "name": "stdout",
     "output_type": "stream",
     "text": [
      "Arquivos processados: 302 de 372\n",
      "Percentual de processamento: 81%\n",
      "[2024-09-09 15:27:40.631353] Baixando e processando PASC2303.dbc.\n"
     ]
    },
    {
     "name": "stderr",
     "output_type": "stream",
     "text": [
      "100%|█████████████████████████████████████████████████████████████████████████████████████████████████████████████████████████████████████████████████████████████████████████| 120M/120M [00:00<00:00, 36.5GB/s]\n"
     ]
    },
    {
     "name": "stdout",
     "output_type": "stream",
     "text": [
      "[2024-09-09 15:27:40.638639] Arquivo PASC2303.dbc salvo em /home/amcjr/pysus/PASC2303.dbc.parquet.\n",
      "Arquivos processados: 303 de 372\n",
      "Percentual de processamento: 81%\n",
      "[2024-09-09 15:27:40.762348] Baixando e processando PASC2304.dbc.\n"
     ]
    },
    {
     "name": "stderr",
     "output_type": "stream",
     "text": [
      "100%|█████████████████████████████████████████████████████████████████████████████████████████████████████████████████████████████████████████████████████████████████████████| 111M/111M [00:00<00:00, 15.5GB/s]\n"
     ]
    },
    {
     "name": "stdout",
     "output_type": "stream",
     "text": [
      "[2024-09-09 15:27:40.780357] Arquivo PASC2304.dbc salvo em /home/amcjr/pysus/PASC2304.dbc.parquet.\n",
      "Arquivos processados: 304 de 372\n",
      "Percentual de processamento: 82%\n",
      "[2024-09-09 15:27:40.900895] Baixando e processando PASC2305.dbc.\n"
     ]
    },
    {
     "name": "stderr",
     "output_type": "stream",
     "text": [
      "100%|█████████████████████████████████████████████████████████████████████████████████████████████████████████████████████████████████████████████████████████████████████████| 128M/128M [00:00<00:00, 23.3GB/s]\n"
     ]
    },
    {
     "name": "stdout",
     "output_type": "stream",
     "text": [
      "[2024-09-09 15:27:40.911179] Arquivo PASC2305.dbc salvo em /home/amcjr/pysus/PASC2305.dbc.parquet.\n",
      "Arquivos processados: 305 de 372\n",
      "Percentual de processamento: 82%\n",
      "[2024-09-09 15:27:41.032555] Baixando e processando PASC2306.dbc.\n"
     ]
    },
    {
     "name": "stderr",
     "output_type": "stream",
     "text": [
      "100%|█████████████████████████████████████████████████████████████████████████████████████████████████████████████████████████████████████████████████████████████████████████| 105M/105M [00:00<00:00, 11.2GB/s]\n"
     ]
    },
    {
     "name": "stdout",
     "output_type": "stream",
     "text": [
      "[2024-09-09 15:27:41.052407] Arquivo PASC2306.dbc salvo em /home/amcjr/pysus/PASC2306.dbc.parquet.\n",
      "Arquivos processados: 306 de 372\n",
      "Percentual de processamento: 82%\n",
      "[2024-09-09 15:27:41.172913] Baixando e processando PASC2307.dbc.\n"
     ]
    },
    {
     "name": "stderr",
     "output_type": "stream",
     "text": [
      "100%|█████████████████████████████████████████████████████████████████████████████████████████████████████████████████████████████████████████████████████████████████████████| 123M/123M [00:00<00:00, 38.0GB/s]\n"
     ]
    },
    {
     "name": "stdout",
     "output_type": "stream",
     "text": [
      "[2024-09-09 15:27:41.179148] Arquivo PASC2307.dbc salvo em /home/amcjr/pysus/PASC2307.dbc.parquet.\n",
      "Arquivos processados: 307 de 372\n",
      "Percentual de processamento: 83%\n",
      "[2024-09-09 15:27:41.317392] Baixando e processando PASC2308.dbc.\n"
     ]
    },
    {
     "name": "stderr",
     "output_type": "stream",
     "text": [
      "100%|█████████████████████████████████████████████████████████████████████████████████████████████████████████████████████████████████████████████████████████████████████████| 121M/121M [00:00<00:00, 25.7GB/s]\n"
     ]
    },
    {
     "name": "stdout",
     "output_type": "stream",
     "text": [
      "[2024-09-09 15:27:41.326265] Arquivo PASC2308.dbc salvo em /home/amcjr/pysus/PASC2308.dbc.parquet.\n",
      "Arquivos processados: 308 de 372\n",
      "Percentual de processamento: 83%\n",
      "[2024-09-09 15:27:41.457048] Baixando e processando PASC2309.dbc.\n"
     ]
    },
    {
     "name": "stderr",
     "output_type": "stream",
     "text": [
      "100%|█████████████████████████████████████████████████████████████████████████████████████████████████████████████████████████████████████████████████████████████████████████| 122M/122M [00:00<00:00, 36.3GB/s]"
     ]
    },
    {
     "name": "stdout",
     "output_type": "stream",
     "text": [
      "[2024-09-09 15:27:41.463857] Arquivo PASC2309.dbc salvo em /home/amcjr/pysus/PASC2309.dbc.parquet.\n"
     ]
    },
    {
     "name": "stderr",
     "output_type": "stream",
     "text": [
      "\n"
     ]
    },
    {
     "name": "stdout",
     "output_type": "stream",
     "text": [
      "Arquivos processados: 309 de 372\n",
      "Percentual de processamento: 83%\n",
      "[2024-09-09 15:27:41.588828] Baixando e processando PASC2310.dbc.\n"
     ]
    },
    {
     "name": "stderr",
     "output_type": "stream",
     "text": [
      "100%|█████████████████████████████████████████████████████████████████████████████████████████████████████████████████████████████████████████████████████████████████████████| 112M/112M [00:00<00:00, 39.6GB/s]\n"
     ]
    },
    {
     "name": "stdout",
     "output_type": "stream",
     "text": [
      "[2024-09-09 15:27:41.595060] Arquivo PASC2310.dbc salvo em /home/amcjr/pysus/PASC2310.dbc.parquet.\n",
      "Arquivos processados: 310 de 372\n",
      "Percentual de processamento: 83%\n",
      "[2024-09-09 15:27:41.767711] Baixando e processando PASC2311.dbc.\n"
     ]
    },
    {
     "name": "stderr",
     "output_type": "stream",
     "text": [
      "100%|█████████████████████████████████████████████████████████████████████████████████████████████████████████████████████████████████████████████████████████████████████████| 109M/109M [00:00<00:00, 37.8GB/s]\n"
     ]
    },
    {
     "name": "stdout",
     "output_type": "stream",
     "text": [
      "[2024-09-09 15:27:41.774532] Arquivo PASC2311.dbc salvo em /home/amcjr/pysus/PASC2311.dbc.parquet.\n",
      "Arquivos processados: 311 de 372\n",
      "Percentual de processamento: 84%\n",
      "[2024-09-09 15:27:41.997932] Baixando e processando PASC2312.dbc.\n"
     ]
    },
    {
     "name": "stderr",
     "output_type": "stream",
     "text": [
      "100%|█████████████████████████████████████████████████████████████████████████████████████████████████████████████████████████████████████████████████████████████████████████| 115M/115M [00:00<00:00, 34.0GB/s]\n"
     ]
    },
    {
     "name": "stdout",
     "output_type": "stream",
     "text": [
      "[2024-09-09 15:27:42.004929] Arquivo PASC2312.dbc salvo em /home/amcjr/pysus/PASC2312.dbc.parquet.\n",
      "Arquivos processados: 312 de 372\n",
      "Percentual de processamento: 84%\n",
      "[2024-09-09 15:27:42.128670] Baixando e processando PASE2301.dbc.\n"
     ]
    },
    {
     "name": "stderr",
     "output_type": "stream",
     "text": [
      "100%|███████████████████████████████████████████████████████████████████████████████████████████████████████████████████████████████████████████████████████████████████████| 25.3M/25.3M [00:00<00:00, 9.94GB/s]"
     ]
    },
    {
     "name": "stdout",
     "output_type": "stream",
     "text": [
      "[2024-09-09 15:27:42.134579] Arquivo PASE2301.dbc salvo em /home/amcjr/pysus/PASE2301.dbc.parquet.\n",
      "Arquivos processados: 313 de 372\n",
      "Percentual de processamento: 84%\n"
     ]
    },
    {
     "name": "stderr",
     "output_type": "stream",
     "text": [
      "\n"
     ]
    },
    {
     "name": "stdout",
     "output_type": "stream",
     "text": [
      "[2024-09-09 15:27:42.258397] Baixando e processando PASE2302.dbc.\n"
     ]
    },
    {
     "name": "stderr",
     "output_type": "stream",
     "text": [
      "100%|███████████████████████████████████████████████████████████████████████████████████████████████████████████████████████████████████████████████████████████████████████| 23.4M/23.4M [00:00<00:00, 7.66GB/s]\n"
     ]
    },
    {
     "name": "stdout",
     "output_type": "stream",
     "text": [
      "[2024-09-09 15:27:42.268841] Arquivo PASE2302.dbc salvo em /home/amcjr/pysus/PASE2302.dbc.parquet.\n",
      "Arquivos processados: 314 de 372\n",
      "Percentual de processamento: 84%\n",
      "[2024-09-09 15:27:42.396245] Baixando e processando PASE2303.dbc.\n"
     ]
    },
    {
     "name": "stderr",
     "output_type": "stream",
     "text": [
      "100%|███████████████████████████████████████████████████████████████████████████████████████████████████████████████████████████████████████████████████████████████████████| 27.4M/27.4M [00:00<00:00, 3.22GB/s]\n"
     ]
    },
    {
     "name": "stdout",
     "output_type": "stream",
     "text": [
      "[2024-09-09 15:27:42.417956] Arquivo PASE2303.dbc salvo em /home/amcjr/pysus/PASE2303.dbc.parquet.\n",
      "Arquivos processados: 315 de 372\n",
      "Percentual de processamento: 85%\n",
      "[2024-09-09 15:27:42.543251] Baixando e processando PASE2304.dbc.\n"
     ]
    },
    {
     "name": "stderr",
     "output_type": "stream",
     "text": [
      "100%|███████████████████████████████████████████████████████████████████████████████████████████████████████████████████████████████████████████████████████████████████████| 23.9M/23.9M [00:00<00:00, 2.77GB/s]\n"
     ]
    },
    {
     "name": "stdout",
     "output_type": "stream",
     "text": [
      "[2024-09-09 15:27:42.564165] Arquivo PASE2304.dbc salvo em /home/amcjr/pysus/PASE2304.dbc.parquet.\n",
      "Arquivos processados: 316 de 372\n",
      "Percentual de processamento: 85%\n",
      "[2024-09-09 15:27:42.702609] Baixando e processando PASE2305.dbc.\n"
     ]
    },
    {
     "name": "stderr",
     "output_type": "stream",
     "text": [
      "100%|███████████████████████████████████████████████████████████████████████████████████████████████████████████████████████████████████████████████████████████████████████| 28.7M/28.7M [00:00<00:00, 13.9GB/s]"
     ]
    },
    {
     "name": "stdout",
     "output_type": "stream",
     "text": [
      "[2024-09-09 15:27:42.714707] Arquivo PASE2305.dbc salvo em /home/amcjr/pysus/PASE2305.dbc.parquet.\n",
      "Arquivos processados: 317 de 372\n",
      "Percentual de processamento: 85%\n"
     ]
    },
    {
     "name": "stderr",
     "output_type": "stream",
     "text": [
      "\n"
     ]
    },
    {
     "name": "stdout",
     "output_type": "stream",
     "text": [
      "[2024-09-09 15:27:42.830590] Baixando e processando PASE2306.dbc.\n"
     ]
    },
    {
     "name": "stderr",
     "output_type": "stream",
     "text": [
      "100%|███████████████████████████████████████████████████████████████████████████████████████████████████████████████████████████████████████████████████████████████████████| 24.1M/24.1M [00:00<00:00, 10.2GB/s]"
     ]
    },
    {
     "name": "stdout",
     "output_type": "stream",
     "text": [
      "[2024-09-09 15:27:42.836075] Arquivo PASE2306.dbc salvo em /home/amcjr/pysus/PASE2306.dbc.parquet.\n"
     ]
    },
    {
     "name": "stderr",
     "output_type": "stream",
     "text": [
      "\n"
     ]
    },
    {
     "name": "stdout",
     "output_type": "stream",
     "text": [
      "Arquivos processados: 318 de 372\n",
      "Percentual de processamento: 85%\n",
      "[2024-09-09 15:27:42.954210] Baixando e processando PASE2307.dbc.\n"
     ]
    },
    {
     "name": "stderr",
     "output_type": "stream",
     "text": [
      "100%|███████████████████████████████████████████████████████████████████████████████████████████████████████████████████████████████████████████████████████████████████████| 25.4M/25.4M [00:00<00:00, 12.0GB/s]\n"
     ]
    },
    {
     "name": "stdout",
     "output_type": "stream",
     "text": [
      "[2024-09-09 15:27:42.959176] Arquivo PASE2307.dbc salvo em /home/amcjr/pysus/PASE2307.dbc.parquet.\n",
      "Arquivos processados: 319 de 372\n",
      "Percentual de processamento: 86%\n",
      "[2024-09-09 15:27:43.079101] Baixando e processando PASE2308.dbc.\n"
     ]
    },
    {
     "name": "stderr",
     "output_type": "stream",
     "text": [
      "100%|███████████████████████████████████████████████████████████████████████████████████████████████████████████████████████████████████████████████████████████████████████| 28.3M/28.3M [00:00<00:00, 11.8GB/s]\n"
     ]
    },
    {
     "name": "stdout",
     "output_type": "stream",
     "text": [
      "[2024-09-09 15:27:43.084476] Arquivo PASE2308.dbc salvo em /home/amcjr/pysus/PASE2308.dbc.parquet.\n",
      "Arquivos processados: 320 de 372\n",
      "Percentual de processamento: 86%\n",
      "[2024-09-09 15:27:43.224628] Baixando e processando PASE2309.dbc.\n"
     ]
    },
    {
     "name": "stderr",
     "output_type": "stream",
     "text": [
      "100%|███████████████████████████████████████████████████████████████████████████████████████████████████████████████████████████████████████████████████████████████████████| 27.5M/27.5M [00:00<00:00, 9.51GB/s]"
     ]
    },
    {
     "name": "stdout",
     "output_type": "stream",
     "text": [
      "[2024-09-09 15:27:43.230798] Arquivo PASE2309.dbc salvo em /home/amcjr/pysus/PASE2309.dbc.parquet.\n",
      "Arquivos processados: 321 de 372\n",
      "Percentual de processamento: 86%\n"
     ]
    },
    {
     "name": "stderr",
     "output_type": "stream",
     "text": [
      "\n"
     ]
    },
    {
     "name": "stdout",
     "output_type": "stream",
     "text": [
      "[2024-09-09 15:27:43.347151] Baixando e processando PASE2310.dbc.\n"
     ]
    },
    {
     "name": "stderr",
     "output_type": "stream",
     "text": [
      "100%|███████████████████████████████████████████████████████████████████████████████████████████████████████████████████████████████████████████████████████████████████████| 29.4M/29.4M [00:00<00:00, 12.1GB/s]\n"
     ]
    },
    {
     "name": "stdout",
     "output_type": "stream",
     "text": [
      "[2024-09-09 15:27:43.354014] Arquivo PASE2310.dbc salvo em /home/amcjr/pysus/PASE2310.dbc.parquet.\n",
      "Arquivos processados: 322 de 372\n",
      "Percentual de processamento: 87%\n",
      "[2024-09-09 15:27:43.480086] Baixando e processando PASE2311.dbc.\n"
     ]
    },
    {
     "name": "stderr",
     "output_type": "stream",
     "text": [
      "100%|███████████████████████████████████████████████████████████████████████████████████████████████████████████████████████████████████████████████████████████████████████| 23.0M/23.0M [00:00<00:00, 9.01GB/s]\n"
     ]
    },
    {
     "name": "stdout",
     "output_type": "stream",
     "text": [
      "[2024-09-09 15:27:43.485428] Arquivo PASE2311.dbc salvo em /home/amcjr/pysus/PASE2311.dbc.parquet.\n",
      "Arquivos processados: 323 de 372\n",
      "Percentual de processamento: 87%\n",
      "[2024-09-09 15:27:43.598773] Baixando e processando PASE2312.dbc.\n"
     ]
    },
    {
     "name": "stderr",
     "output_type": "stream",
     "text": [
      "100%|███████████████████████████████████████████████████████████████████████████████████████████████████████████████████████████████████████████████████████████████████████| 23.0M/23.0M [00:00<00:00, 9.51GB/s]\n"
     ]
    },
    {
     "name": "stdout",
     "output_type": "stream",
     "text": [
      "[2024-09-09 15:27:43.603987] Arquivo PASE2312.dbc salvo em /home/amcjr/pysus/PASE2312.dbc.parquet.\n",
      "Arquivos processados: 324 de 372\n",
      "Percentual de processamento: 87%\n",
      "[2024-09-09 15:27:43.726722] Baixando e processando PASP2301a.dbc.\n"
     ]
    },
    {
     "name": "stderr",
     "output_type": "stream",
     "text": [
      "100%|███████████████████████████████████████████████████████████████████████████████████████████████████████████████████████████████████████████████████████████████████████| 78.4M/78.4M [00:00<00:00, 27.7GB/s]\n"
     ]
    },
    {
     "name": "stdout",
     "output_type": "stream",
     "text": [
      "[2024-09-09 15:27:43.733547] Arquivo PASP2301a.dbc salvo em /home/amcjr/pysus/PASP2301a.dbc.parquet.\n",
      "Arquivos processados: 325 de 372\n",
      "Percentual de processamento: 87%\n",
      "[2024-09-09 15:27:43.854334] Baixando e processando PASP2301b.dbc.\n"
     ]
    },
    {
     "name": "stderr",
     "output_type": "stream",
     "text": [
      "100%|█████████████████████████████████████████████████████████████████████████████████████████████████████████████████████████████████████████████████████████████████████████| 143M/143M [00:00<00:00, 34.0GB/s]\n"
     ]
    },
    {
     "name": "stdout",
     "output_type": "stream",
     "text": [
      "[2024-09-09 15:27:43.861409] Arquivo PASP2301b.dbc salvo em /home/amcjr/pysus/PASP2301b.dbc.parquet.\n",
      "Arquivos processados: 326 de 372\n",
      "Percentual de processamento: 88%\n",
      "[2024-09-09 15:27:44.032867] Baixando e processando PASP2301c.dbc.\n"
     ]
    },
    {
     "name": "stderr",
     "output_type": "stream",
     "text": [
      "100%|███████████████████████████████████████████████████████████████████████████████████████████████████████████████████████████████████████████████████████████████████████| 97.5M/97.5M [00:00<00:00, 23.9GB/s]\n"
     ]
    },
    {
     "name": "stdout",
     "output_type": "stream",
     "text": [
      "[2024-09-09 15:27:44.041052] Arquivo PASP2301c.dbc salvo em /home/amcjr/pysus/PASP2301c.dbc.parquet.\n",
      "Arquivos processados: 327 de 372\n",
      "Percentual de processamento: 88%\n",
      "[2024-09-09 15:27:44.155994] Baixando e processando PASP2302a.dbc.\n"
     ]
    },
    {
     "name": "stderr",
     "output_type": "stream",
     "text": [
      "100%|███████████████████████████████████████████████████████████████████████████████████████████████████████████████████████████████████████████████████████████████████████| 80.0M/80.0M [00:00<00:00, 7.40GB/s]"
     ]
    },
    {
     "name": "stdout",
     "output_type": "stream",
     "text": [
      "[2024-09-09 15:27:44.175053] Arquivo PASP2302a.dbc salvo em /home/amcjr/pysus/PASP2302a.dbc.parquet.\n"
     ]
    },
    {
     "name": "stderr",
     "output_type": "stream",
     "text": [
      "\n"
     ]
    },
    {
     "name": "stdout",
     "output_type": "stream",
     "text": [
      "Arquivos processados: 328 de 372\n",
      "Percentual de processamento: 88%\n",
      "[2024-09-09 15:27:44.300930] Baixando e processando PASP2302b.dbc.\n"
     ]
    },
    {
     "name": "stderr",
     "output_type": "stream",
     "text": [
      "100%|█████████████████████████████████████████████████████████████████████████████████████████████████████████████████████████████████████████████████████████████████████████| 173M/173M [00:00<00:00, 10.4GB/s]\n"
     ]
    },
    {
     "name": "stdout",
     "output_type": "stream",
     "text": [
      "[2024-09-09 15:27:44.325591] Arquivo PASP2302b.dbc salvo em /home/amcjr/pysus/PASP2302b.dbc.parquet.\n",
      "Arquivos processados: 329 de 372\n",
      "Percentual de processamento: 88%\n",
      "[2024-09-09 15:27:44.457025] Baixando e processando PASP2302c.dbc.\n"
     ]
    },
    {
     "name": "stderr",
     "output_type": "stream",
     "text": [
      "100%|█████████████████████████████████████████████████████████████████████████████████████████████████████████████████████████████████████████████████████████████████████████| 109M/109M [00:00<00:00, 13.8GB/s]\n"
     ]
    },
    {
     "name": "stdout",
     "output_type": "stream",
     "text": [
      "[2024-09-09 15:27:44.472402] Arquivo PASP2302c.dbc salvo em /home/amcjr/pysus/PASP2302c.dbc.parquet.\n",
      "Arquivos processados: 330 de 372\n",
      "Percentual de processamento: 89%\n",
      "[2024-09-09 15:27:44.598218] Baixando e processando PASP2303a.dbc.\n"
     ]
    },
    {
     "name": "stderr",
     "output_type": "stream",
     "text": [
      "100%|███████████████████████████████████████████████████████████████████████████████████████████████████████████████████████████████████████████████████████████████████████| 83.1M/83.1M [00:00<00:00, 23.8GB/s]"
     ]
    },
    {
     "name": "stdout",
     "output_type": "stream",
     "text": [
      "[2024-09-09 15:27:44.604392] Arquivo PASP2303a.dbc salvo em /home/amcjr/pysus/PASP2303a.dbc.parquet.\n"
     ]
    },
    {
     "name": "stderr",
     "output_type": "stream",
     "text": [
      "\n"
     ]
    },
    {
     "name": "stdout",
     "output_type": "stream",
     "text": [
      "Arquivos processados: 331 de 372\n",
      "Percentual de processamento: 89%\n",
      "[2024-09-09 15:27:44.729032] Baixando e processando PASP2303b.dbc.\n"
     ]
    },
    {
     "name": "stderr",
     "output_type": "stream",
     "text": [
      "100%|█████████████████████████████████████████████████████████████████████████████████████████████████████████████████████████████████████████████████████████████████████████| 204M/204M [00:00<00:00, 52.0GB/s]\n"
     ]
    },
    {
     "name": "stdout",
     "output_type": "stream",
     "text": [
      "[2024-09-09 15:27:44.736065] Arquivo PASP2303b.dbc salvo em /home/amcjr/pysus/PASP2303b.dbc.parquet.\n",
      "Arquivos processados: 332 de 372\n",
      "Percentual de processamento: 89%\n",
      "[2024-09-09 15:27:44.879517] Baixando e processando PASP2303c.dbc.\n"
     ]
    },
    {
     "name": "stderr",
     "output_type": "stream",
     "text": [
      "100%|█████████████████████████████████████████████████████████████████████████████████████████████████████████████████████████████████████████████████████████████████████████| 130M/130M [00:00<00:00, 19.1GB/s]\n"
     ]
    },
    {
     "name": "stdout",
     "output_type": "stream",
     "text": [
      "[2024-09-09 15:27:44.891176] Arquivo PASP2303c.dbc salvo em /home/amcjr/pysus/PASP2303c.dbc.parquet.\n",
      "Arquivos processados: 333 de 372\n",
      "Percentual de processamento: 90%\n",
      "[2024-09-09 15:27:45.024634] Baixando e processando PASP2304a.dbc.\n"
     ]
    },
    {
     "name": "stderr",
     "output_type": "stream",
     "text": [
      "100%|███████████████████████████████████████████████████████████████████████████████████████████████████████████████████████████████████████████████████████████████████████| 75.8M/75.8M [00:00<00:00, 19.2GB/s]"
     ]
    },
    {
     "name": "stdout",
     "output_type": "stream",
     "text": [
      "[2024-09-09 15:27:45.032918] Arquivo PASP2304a.dbc salvo em /home/amcjr/pysus/PASP2304a.dbc.parquet.\n"
     ]
    },
    {
     "name": "stderr",
     "output_type": "stream",
     "text": [
      "\n"
     ]
    },
    {
     "name": "stdout",
     "output_type": "stream",
     "text": [
      "Arquivos processados: 334 de 372\n",
      "Percentual de processamento: 90%\n",
      "[2024-09-09 15:27:45.208861] Baixando e processando PASP2304b.dbc.\n"
     ]
    },
    {
     "name": "stderr",
     "output_type": "stream",
     "text": [
      "100%|█████████████████████████████████████████████████████████████████████████████████████████████████████████████████████████████████████████████████████████████████████████| 165M/165M [00:00<00:00, 43.6GB/s]"
     ]
    },
    {
     "name": "stdout",
     "output_type": "stream",
     "text": [
      "[2024-09-09 15:27:45.216685] Arquivo PASP2304b.dbc salvo em /home/amcjr/pysus/PASP2304b.dbc.parquet.\n"
     ]
    },
    {
     "name": "stderr",
     "output_type": "stream",
     "text": [
      "\n"
     ]
    },
    {
     "name": "stdout",
     "output_type": "stream",
     "text": [
      "Arquivos processados: 335 de 372\n",
      "Percentual de processamento: 90%\n",
      "[2024-09-09 15:27:45.398833] Baixando e processando PASP2304c.dbc.\n"
     ]
    },
    {
     "name": "stderr",
     "output_type": "stream",
     "text": [
      "100%|█████████████████████████████████████████████████████████████████████████████████████████████████████████████████████████████████████████████████████████████████████████| 107M/107M [00:00<00:00, 30.7GB/s]"
     ]
    },
    {
     "name": "stdout",
     "output_type": "stream",
     "text": [
      "[2024-09-09 15:27:45.405486] Arquivo PASP2304c.dbc salvo em /home/amcjr/pysus/PASP2304c.dbc.parquet.\n",
      "Arquivos processados: 336 de 372\n",
      "Percentual de processamento: 90%\n"
     ]
    },
    {
     "name": "stderr",
     "output_type": "stream",
     "text": [
      "\n"
     ]
    },
    {
     "name": "stdout",
     "output_type": "stream",
     "text": [
      "[2024-09-09 15:27:45.558675] Baixando e processando PASP2305a.dbc.\n"
     ]
    },
    {
     "name": "stderr",
     "output_type": "stream",
     "text": [
      "100%|█████████████████████████████████████████████████████████████████████████████████████████████████████████████████████████████████████████████████████████████████████████| 157M/157M [00:00<00:00, 8.91GB/s]\n"
     ]
    },
    {
     "name": "stdout",
     "output_type": "stream",
     "text": [
      "[2024-09-09 15:27:45.585898] Arquivo PASP2305a.dbc salvo em /home/amcjr/pysus/PASP2305a.dbc.parquet.\n",
      "Arquivos processados: 337 de 372\n",
      "Percentual de processamento: 91%\n",
      "[2024-09-09 15:27:45.748622] Baixando e processando PASP2305b.dbc.\n"
     ]
    },
    {
     "name": "stderr",
     "output_type": "stream",
     "text": [
      "100%|█████████████████████████████████████████████████████████████████████████████████████████████████████████████████████████████████████████████████████████████████████████| 177M/177M [00:00<00:00, 43.4GB/s]"
     ]
    },
    {
     "name": "stdout",
     "output_type": "stream",
     "text": [
      "[2024-09-09 15:27:45.756225] Arquivo PASP2305b.dbc salvo em /home/amcjr/pysus/PASP2305b.dbc.parquet.\n"
     ]
    },
    {
     "name": "stderr",
     "output_type": "stream",
     "text": [
      "\n"
     ]
    },
    {
     "name": "stdout",
     "output_type": "stream",
     "text": [
      "Arquivos processados: 338 de 372\n",
      "Percentual de processamento: 91%\n",
      "[2024-09-09 15:27:45.881116] Baixando e processando PASP2305c.dbc.\n"
     ]
    },
    {
     "name": "stderr",
     "output_type": "stream",
     "text": [
      "100%|███████████████████████████████████████████████████████████████████████████████████████████████████████████████████████████████████████████████████████████████████████| 87.0M/87.0M [00:00<00:00, 6.27GB/s]"
     ]
    },
    {
     "name": "stdout",
     "output_type": "stream",
     "text": [
      "[2024-09-09 15:27:45.904958] Arquivo PASP2305c.dbc salvo em /home/amcjr/pysus/PASP2305c.dbc.parquet.\n"
     ]
    },
    {
     "name": "stderr",
     "output_type": "stream",
     "text": [
      "\n"
     ]
    },
    {
     "name": "stdout",
     "output_type": "stream",
     "text": [
      "Arquivos processados: 339 de 372\n",
      "Percentual de processamento: 91%\n",
      "[2024-09-09 15:27:46.031765] Baixando e processando PASP2306a.dbc.\n"
     ]
    },
    {
     "name": "stderr",
     "output_type": "stream",
     "text": [
      "100%|█████████████████████████████████████████████████████████████████████████████████████████████████████████████████████████████████████████████████████████████████████████| 147M/147M [00:00<00:00, 36.9GB/s]"
     ]
    },
    {
     "name": "stdout",
     "output_type": "stream",
     "text": [
      "[2024-09-09 15:27:46.038886] Arquivo PASP2306a.dbc salvo em /home/amcjr/pysus/PASP2306a.dbc.parquet.\n"
     ]
    },
    {
     "name": "stderr",
     "output_type": "stream",
     "text": [
      "\n"
     ]
    },
    {
     "name": "stdout",
     "output_type": "stream",
     "text": [
      "Arquivos processados: 340 de 372\n",
      "Percentual de processamento: 91%\n",
      "[2024-09-09 15:27:46.166168] Baixando e processando PASP2306b.dbc.\n"
     ]
    },
    {
     "name": "stderr",
     "output_type": "stream",
     "text": [
      "100%|█████████████████████████████████████████████████████████████████████████████████████████████████████████████████████████████████████████████████████████████████████████| 159M/159M [00:00<00:00, 33.2GB/s]\n"
     ]
    },
    {
     "name": "stdout",
     "output_type": "stream",
     "text": [
      "[2024-09-09 15:27:46.174039] Arquivo PASP2306b.dbc salvo em /home/amcjr/pysus/PASP2306b.dbc.parquet.\n",
      "Arquivos processados: 341 de 372\n",
      "Percentual de processamento: 92%\n",
      "[2024-09-09 15:27:46.324117] Baixando e processando PASP2306c.dbc.\n"
     ]
    },
    {
     "name": "stderr",
     "output_type": "stream",
     "text": [
      "100%|███████████████████████████████████████████████████████████████████████████████████████████████████████████████████████████████████████████████████████████████████████| 55.8M/55.8M [00:00<00:00, 14.2GB/s]\n"
     ]
    },
    {
     "name": "stdout",
     "output_type": "stream",
     "text": [
      "[2024-09-09 15:27:46.331890] Arquivo PASP2306c.dbc salvo em /home/amcjr/pysus/PASP2306c.dbc.parquet.\n",
      "Arquivos processados: 342 de 372\n",
      "Percentual de processamento: 92%\n",
      "[2024-09-09 15:27:46.456260] Baixando e processando PASP2307a.dbc.\n"
     ]
    },
    {
     "name": "stderr",
     "output_type": "stream",
     "text": [
      "100%|█████████████████████████████████████████████████████████████████████████████████████████████████████████████████████████████████████████████████████████████████████████| 157M/157M [00:00<00:00, 18.1GB/s]"
     ]
    },
    {
     "name": "stdout",
     "output_type": "stream",
     "text": [
      "[2024-09-09 15:27:46.476754] Arquivo PASP2307a.dbc salvo em /home/amcjr/pysus/PASP2307a.dbc.parquet.\n"
     ]
    },
    {
     "name": "stderr",
     "output_type": "stream",
     "text": [
      "\n"
     ]
    },
    {
     "name": "stdout",
     "output_type": "stream",
     "text": [
      "Arquivos processados: 343 de 372\n",
      "Percentual de processamento: 92%\n",
      "[2024-09-09 15:27:46.629892] Baixando e processando PASP2307b.dbc.\n"
     ]
    },
    {
     "name": "stderr",
     "output_type": "stream",
     "text": [
      "100%|█████████████████████████████████████████████████████████████████████████████████████████████████████████████████████████████████████████████████████████████████████████| 180M/180M [00:00<00:00, 35.0GB/s]\n"
     ]
    },
    {
     "name": "stdout",
     "output_type": "stream",
     "text": [
      "[2024-09-09 15:27:46.638996] Arquivo PASP2307b.dbc salvo em /home/amcjr/pysus/PASP2307b.dbc.parquet.\n",
      "Arquivos processados: 344 de 372\n",
      "Percentual de processamento: 92%\n",
      "[2024-09-09 15:27:46.757283] Baixando e processando PASP2307c.dbc.\n"
     ]
    },
    {
     "name": "stderr",
     "output_type": "stream",
     "text": [
      "100%|███████████████████████████████████████████████████████████████████████████████████████████████████████████████████████████████████████████████████████████████████████| 59.2M/59.2M [00:00<00:00, 17.7GB/s]"
     ]
    },
    {
     "name": "stdout",
     "output_type": "stream",
     "text": [
      "[2024-09-09 15:27:46.765298] Arquivo PASP2307c.dbc salvo em /home/amcjr/pysus/PASP2307c.dbc.parquet.\n"
     ]
    },
    {
     "name": "stderr",
     "output_type": "stream",
     "text": [
      "\n"
     ]
    },
    {
     "name": "stdout",
     "output_type": "stream",
     "text": [
      "Arquivos processados: 345 de 372\n",
      "Percentual de processamento: 93%\n",
      "[2024-09-09 15:27:46.892210] Baixando e processando PASP2308a.dbc.\n"
     ]
    },
    {
     "name": "stderr",
     "output_type": "stream",
     "text": [
      "100%|█████████████████████████████████████████████████████████████████████████████████████████████████████████████████████████████████████████████████████████████████████████| 150M/150M [00:00<00:00, 16.1GB/s]\n"
     ]
    },
    {
     "name": "stdout",
     "output_type": "stream",
     "text": [
      "[2024-09-09 15:27:46.910044] Arquivo PASP2308a.dbc salvo em /home/amcjr/pysus/PASP2308a.dbc.parquet.\n",
      "Arquivos processados: 346 de 372\n",
      "Percentual de processamento: 93%\n",
      "[2024-09-09 15:27:47.047244] Baixando e processando PASP2308b.dbc.\n"
     ]
    },
    {
     "name": "stderr",
     "output_type": "stream",
     "text": [
      "100%|█████████████████████████████████████████████████████████████████████████████████████████████████████████████████████████████████████████████████████████████████████████| 162M/162M [00:00<00:00, 43.7GB/s]\n"
     ]
    },
    {
     "name": "stdout",
     "output_type": "stream",
     "text": [
      "[2024-09-09 15:27:47.054112] Arquivo PASP2308b.dbc salvo em /home/amcjr/pysus/PASP2308b.dbc.parquet.\n",
      "Arquivos processados: 347 de 372\n",
      "Percentual de processamento: 93%\n",
      "[2024-09-09 15:27:47.178625] Baixando e processando PASP2308c.dbc.\n"
     ]
    },
    {
     "name": "stderr",
     "output_type": "stream",
     "text": [
      "100%|███████████████████████████████████████████████████████████████████████████████████████████████████████████████████████████████████████████████████████████████████████| 78.8M/78.8M [00:00<00:00, 25.1GB/s]\n"
     ]
    },
    {
     "name": "stdout",
     "output_type": "stream",
     "text": [
      "[2024-09-09 15:27:47.185042] Arquivo PASP2308c.dbc salvo em /home/amcjr/pysus/PASP2308c.dbc.parquet.\n",
      "Arquivos processados: 348 de 372\n",
      "Percentual de processamento: 94%\n",
      "[2024-09-09 15:27:47.394939] Baixando e processando PASP2309a.dbc.\n"
     ]
    },
    {
     "name": "stderr",
     "output_type": "stream",
     "text": [
      "100%|█████████████████████████████████████████████████████████████████████████████████████████████████████████████████████████████████████████████████████████████████████████| 153M/153M [00:00<00:00, 34.8GB/s]\n"
     ]
    },
    {
     "name": "stdout",
     "output_type": "stream",
     "text": [
      "[2024-09-09 15:27:47.402950] Arquivo PASP2309a.dbc salvo em /home/amcjr/pysus/PASP2309a.dbc.parquet.\n",
      "Arquivos processados: 349 de 372\n",
      "Percentual de processamento: 94%\n",
      "[2024-09-09 15:27:47.547302] Baixando e processando PASP2309b.dbc.\n"
     ]
    },
    {
     "name": "stderr",
     "output_type": "stream",
     "text": [
      "100%|█████████████████████████████████████████████████████████████████████████████████████████████████████████████████████████████████████████████████████████████████████████| 173M/173M [00:00<00:00, 9.40GB/s]"
     ]
    },
    {
     "name": "stdout",
     "output_type": "stream",
     "text": [
      "[2024-09-09 15:27:47.576139] Arquivo PASP2309b.dbc salvo em /home/amcjr/pysus/PASP2309b.dbc.parquet.\n"
     ]
    },
    {
     "name": "stderr",
     "output_type": "stream",
     "text": [
      "\n"
     ]
    },
    {
     "name": "stdout",
     "output_type": "stream",
     "text": [
      "Arquivos processados: 350 de 372\n",
      "Percentual de processamento: 94%\n",
      "[2024-09-09 15:27:47.741136] Baixando e processando PASP2309c.dbc.\n"
     ]
    },
    {
     "name": "stderr",
     "output_type": "stream",
     "text": [
      "100%|███████████████████████████████████████████████████████████████████████████████████████████████████████████████████████████████████████████████████████████████████████| 74.8M/74.8M [00:00<00:00, 4.90GB/s]\n"
     ]
    },
    {
     "name": "stdout",
     "output_type": "stream",
     "text": [
      "[2024-09-09 15:27:47.764769] Arquivo PASP2309c.dbc salvo em /home/amcjr/pysus/PASP2309c.dbc.parquet.\n",
      "Arquivos processados: 351 de 372\n",
      "Percentual de processamento: 94%\n",
      "[2024-09-09 15:27:47.926649] Baixando e processando PASP2310a.dbc.\n"
     ]
    },
    {
     "name": "stderr",
     "output_type": "stream",
     "text": [
      "100%|█████████████████████████████████████████████████████████████████████████████████████████████████████████████████████████████████████████████████████████████████████████| 144M/144M [00:00<00:00, 11.2GB/s]\n"
     ]
    },
    {
     "name": "stdout",
     "output_type": "stream",
     "text": [
      "[2024-09-09 15:27:47.949323] Arquivo PASP2310a.dbc salvo em /home/amcjr/pysus/PASP2310a.dbc.parquet.\n",
      "Arquivos processados: 352 de 372\n",
      "Percentual de processamento: 95%\n",
      "[2024-09-09 15:27:48.103554] Baixando e processando PASP2310b.dbc.\n"
     ]
    },
    {
     "name": "stderr",
     "output_type": "stream",
     "text": [
      "100%|█████████████████████████████████████████████████████████████████████████████████████████████████████████████████████████████████████████████████████████████████████████| 161M/161M [00:00<00:00, 37.1GB/s]"
     ]
    },
    {
     "name": "stdout",
     "output_type": "stream",
     "text": [
      "[2024-09-09 15:27:48.111372] Arquivo PASP2310b.dbc salvo em /home/amcjr/pysus/PASP2310b.dbc.parquet.\n"
     ]
    },
    {
     "name": "stderr",
     "output_type": "stream",
     "text": [
      "\n"
     ]
    },
    {
     "name": "stdout",
     "output_type": "stream",
     "text": [
      "Arquivos processados: 353 de 372\n",
      "Percentual de processamento: 95%\n",
      "[2024-09-09 15:27:48.238785] Baixando e processando PASP2310c.dbc.\n"
     ]
    },
    {
     "name": "stderr",
     "output_type": "stream",
     "text": [
      "100%|███████████████████████████████████████████████████████████████████████████████████████████████████████████████████████████████████████████████████████████████████████| 80.4M/80.4M [00:00<00:00, 30.1GB/s]"
     ]
    },
    {
     "name": "stdout",
     "output_type": "stream",
     "text": [
      "[2024-09-09 15:27:48.244641] Arquivo PASP2310c.dbc salvo em /home/amcjr/pysus/PASP2310c.dbc.parquet.\n"
     ]
    },
    {
     "name": "stderr",
     "output_type": "stream",
     "text": [
      "\n"
     ]
    },
    {
     "name": "stdout",
     "output_type": "stream",
     "text": [
      "Arquivos processados: 354 de 372\n",
      "Percentual de processamento: 95%\n",
      "[2024-09-09 15:27:48.394185] Baixando e processando PASP2311a.dbc.\n"
     ]
    },
    {
     "name": "stderr",
     "output_type": "stream",
     "text": [
      "100%|█████████████████████████████████████████████████████████████████████████████████████████████████████████████████████████████████████████████████████████████████████████| 145M/145M [00:00<00:00, 22.1GB/s]"
     ]
    },
    {
     "name": "stdout",
     "output_type": "stream",
     "text": [
      "[2024-09-09 15:27:48.407897] Arquivo PASP2311a.dbc salvo em /home/amcjr/pysus/PASP2311a.dbc.parquet.\n"
     ]
    },
    {
     "name": "stderr",
     "output_type": "stream",
     "text": [
      "\n"
     ]
    },
    {
     "name": "stdout",
     "output_type": "stream",
     "text": [
      "Arquivos processados: 355 de 372\n",
      "Percentual de processamento: 95%\n",
      "[2024-09-09 15:27:48.567077] Baixando e processando PASP2311b.dbc.\n"
     ]
    },
    {
     "name": "stderr",
     "output_type": "stream",
     "text": [
      "100%|█████████████████████████████████████████████████████████████████████████████████████████████████████████████████████████████████████████████████████████████████████████| 157M/157M [00:00<00:00, 35.2GB/s]"
     ]
    },
    {
     "name": "stdout",
     "output_type": "stream",
     "text": [
      "[2024-09-09 15:27:48.578878] Arquivo PASP2311b.dbc salvo em /home/amcjr/pysus/PASP2311b.dbc.parquet.\n"
     ]
    },
    {
     "name": "stderr",
     "output_type": "stream",
     "text": [
      "\n"
     ]
    },
    {
     "name": "stdout",
     "output_type": "stream",
     "text": [
      "Arquivos processados: 356 de 372\n",
      "Percentual de processamento: 96%\n",
      "[2024-09-09 15:27:48.724515] Baixando e processando PASP2311c.dbc.\n"
     ]
    },
    {
     "name": "stderr",
     "output_type": "stream",
     "text": [
      "100%|███████████████████████████████████████████████████████████████████████████████████████████████████████████████████████████████████████████████████████████████████████| 55.9M/55.9M [00:00<00:00, 24.7GB/s]"
     ]
    },
    {
     "name": "stdout",
     "output_type": "stream",
     "text": [
      "[2024-09-09 15:27:48.730264] Arquivo PASP2311c.dbc salvo em /home/amcjr/pysus/PASP2311c.dbc.parquet.\n"
     ]
    },
    {
     "name": "stderr",
     "output_type": "stream",
     "text": [
      "\n"
     ]
    },
    {
     "name": "stdout",
     "output_type": "stream",
     "text": [
      "Arquivos processados: 357 de 372\n",
      "Percentual de processamento: 96%\n",
      "[2024-09-09 15:27:48.883649] Baixando e processando PASP2312a.dbc.\n"
     ]
    },
    {
     "name": "stderr",
     "output_type": "stream",
     "text": [
      "100%|█████████████████████████████████████████████████████████████████████████████████████████████████████████████████████████████████████████████████████████████████████████| 155M/155M [00:00<00:00, 37.4GB/s]"
     ]
    },
    {
     "name": "stdout",
     "output_type": "stream",
     "text": [
      "[2024-09-09 15:27:48.890686] Arquivo PASP2312a.dbc salvo em /home/amcjr/pysus/PASP2312a.dbc.parquet.\n"
     ]
    },
    {
     "name": "stderr",
     "output_type": "stream",
     "text": [
      "\n"
     ]
    },
    {
     "name": "stdout",
     "output_type": "stream",
     "text": [
      "Arquivos processados: 358 de 372\n",
      "Percentual de processamento: 96%\n",
      "[2024-09-09 15:27:49.024124] Baixando e processando PASP2312b.dbc.\n"
     ]
    },
    {
     "name": "stderr",
     "output_type": "stream",
     "text": [
      "100%|█████████████████████████████████████████████████████████████████████████████████████████████████████████████████████████████████████████████████████████████████████████| 179M/179M [00:00<00:00, 45.0GB/s]"
     ]
    },
    {
     "name": "stdout",
     "output_type": "stream",
     "text": [
      "[2024-09-09 15:27:49.031585] Arquivo PASP2312b.dbc salvo em /home/amcjr/pysus/PASP2312b.dbc.parquet.\n"
     ]
    },
    {
     "name": "stderr",
     "output_type": "stream",
     "text": [
      "\n"
     ]
    },
    {
     "name": "stdout",
     "output_type": "stream",
     "text": [
      "Arquivos processados: 359 de 372\n",
      "Percentual de processamento: 97%\n",
      "[2024-09-09 15:27:49.182249] Baixando e processando PASP2312c.dbc.\n"
     ]
    },
    {
     "name": "stderr",
     "output_type": "stream",
     "text": [
      "100%|███████████████████████████████████████████████████████████████████████████████████████████████████████████████████████████████████████████████████████████████████████| 53.9M/53.9M [00:00<00:00, 22.9GB/s]"
     ]
    },
    {
     "name": "stdout",
     "output_type": "stream",
     "text": [
      "[2024-09-09 15:27:49.192639] Arquivo PASP2312c.dbc salvo em /home/amcjr/pysus/PASP2312c.dbc.parquet.\n",
      "Arquivos processados: 360 de 372\n",
      "Percentual de processamento: 97%\n"
     ]
    },
    {
     "name": "stderr",
     "output_type": "stream",
     "text": [
      "\n"
     ]
    },
    {
     "name": "stdout",
     "output_type": "stream",
     "text": [
      "[2024-09-09 15:27:49.315970] Baixando e processando PATO2301.dbc.\n"
     ]
    },
    {
     "name": "stderr",
     "output_type": "stream",
     "text": [
      "100%|███████████████████████████████████████████████████████████████████████████████████████████████████████████████████████████████████████████████████████████████████████| 7.37M/7.37M [00:00<00:00, 1.34GB/s]\n"
     ]
    },
    {
     "name": "stdout",
     "output_type": "stream",
     "text": [
      "[2024-09-09 15:27:49.329717] Arquivo PATO2301.dbc salvo em /home/amcjr/pysus/PATO2301.dbc.parquet.\n",
      "Arquivos processados: 361 de 372\n",
      "Percentual de processamento: 97%\n",
      "[2024-09-09 15:27:49.453501] Baixando e processando PATO2302.dbc.\n"
     ]
    },
    {
     "name": "stderr",
     "output_type": "stream",
     "text": [
      "100%|███████████████████████████████████████████████████████████████████████████████████████████████████████████████████████████████████████████████████████████████████████| 8.72M/8.72M [00:00<00:00, 1.92GB/s]\n"
     ]
    },
    {
     "name": "stdout",
     "output_type": "stream",
     "text": [
      "[2024-09-09 15:27:49.465657] Arquivo PATO2302.dbc salvo em /home/amcjr/pysus/PATO2302.dbc.parquet.\n",
      "Arquivos processados: 362 de 372\n",
      "Percentual de processamento: 97%\n",
      "[2024-09-09 15:27:49.584390] Baixando e processando PATO2303.dbc.\n"
     ]
    },
    {
     "name": "stderr",
     "output_type": "stream",
     "text": [
      "100%|███████████████████████████████████████████████████████████████████████████████████████████████████████████████████████████████████████████████████████████████████████| 9.62M/9.62M [00:00<00:00, 3.43GB/s]\n"
     ]
    },
    {
     "name": "stdout",
     "output_type": "stream",
     "text": [
      "[2024-09-09 15:27:49.590028] Arquivo PATO2303.dbc salvo em /home/amcjr/pysus/PATO2303.dbc.parquet.\n",
      "Arquivos processados: 363 de 372\n",
      "Percentual de processamento: 98%\n",
      "[2024-09-09 15:27:49.706500] Baixando e processando PATO2304.dbc.\n"
     ]
    },
    {
     "name": "stderr",
     "output_type": "stream",
     "text": [
      "100%|███████████████████████████████████████████████████████████████████████████████████████████████████████████████████████████████████████████████████████████████████████| 7.39M/7.39M [00:00<00:00, 2.91GB/s]\n"
     ]
    },
    {
     "name": "stdout",
     "output_type": "stream",
     "text": [
      "[2024-09-09 15:27:49.712450] Arquivo PATO2304.dbc salvo em /home/amcjr/pysus/PATO2304.dbc.parquet.\n",
      "Arquivos processados: 364 de 372\n",
      "Percentual de processamento: 98%\n",
      "[2024-09-09 15:27:49.854517] Baixando e processando PATO2305.dbc.\n"
     ]
    },
    {
     "name": "stderr",
     "output_type": "stream",
     "text": [
      "100%|███████████████████████████████████████████████████████████████████████████████████████████████████████████████████████████████████████████████████████████████████████| 8.38M/8.38M [00:00<00:00, 6.75GB/s]\n"
     ]
    },
    {
     "name": "stdout",
     "output_type": "stream",
     "text": [
      "[2024-09-09 15:27:49.859285] Arquivo PATO2305.dbc salvo em /home/amcjr/pysus/PATO2305.dbc.parquet.\n",
      "Arquivos processados: 365 de 372\n",
      "Percentual de processamento: 98%\n",
      "[2024-09-09 15:27:50.010712] Baixando e processando PATO2306.dbc.\n"
     ]
    },
    {
     "name": "stderr",
     "output_type": "stream",
     "text": [
      "100%|███████████████████████████████████████████████████████████████████████████████████████████████████████████████████████████████████████████████████████████████████████| 6.88M/6.88M [00:00<00:00, 2.76GB/s]\n"
     ]
    },
    {
     "name": "stdout",
     "output_type": "stream",
     "text": [
      "[2024-09-09 15:27:50.017502] Arquivo PATO2306.dbc salvo em /home/amcjr/pysus/PATO2306.dbc.parquet.\n",
      "Arquivos processados: 366 de 372\n",
      "Percentual de processamento: 98%\n",
      "[2024-09-09 15:27:50.136153] Baixando e processando PATO2307.dbc.\n"
     ]
    },
    {
     "name": "stderr",
     "output_type": "stream",
     "text": [
      "100%|███████████████████████████████████████████████████████████████████████████████████████████████████████████████████████████████████████████████████████████████████████| 7.47M/7.47M [00:00<00:00, 2.14GB/s]"
     ]
    },
    {
     "name": "stdout",
     "output_type": "stream",
     "text": [
      "[2024-09-09 15:27:50.148953] Arquivo PATO2307.dbc salvo em /home/amcjr/pysus/PATO2307.dbc.parquet.\n"
     ]
    },
    {
     "name": "stderr",
     "output_type": "stream",
     "text": [
      "\n"
     ]
    },
    {
     "name": "stdout",
     "output_type": "stream",
     "text": [
      "Arquivos processados: 367 de 372\n",
      "Percentual de processamento: 99%\n",
      "[2024-09-09 15:27:50.272127] Baixando e processando PATO2308.dbc.\n"
     ]
    },
    {
     "name": "stderr",
     "output_type": "stream",
     "text": [
      "100%|███████████████████████████████████████████████████████████████████████████████████████████████████████████████████████████████████████████████████████████████████████| 7.62M/7.62M [00:00<00:00, 2.03GB/s]\n"
     ]
    },
    {
     "name": "stdout",
     "output_type": "stream",
     "text": [
      "[2024-09-09 15:27:50.281222] Arquivo PATO2308.dbc salvo em /home/amcjr/pysus/PATO2308.dbc.parquet.\n",
      "Arquivos processados: 368 de 372\n",
      "Percentual de processamento: 99%\n",
      "[2024-09-09 15:27:50.406999] Baixando e processando PATO2309.dbc.\n"
     ]
    },
    {
     "name": "stderr",
     "output_type": "stream",
     "text": [
      "100%|███████████████████████████████████████████████████████████████████████████████████████████████████████████████████████████████████████████████████████████████████████| 8.05M/8.05M [00:00<00:00, 3.39GB/s]\n"
     ]
    },
    {
     "name": "stdout",
     "output_type": "stream",
     "text": [
      "[2024-09-09 15:27:50.412738] Arquivo PATO2309.dbc salvo em /home/amcjr/pysus/PATO2309.dbc.parquet.\n",
      "Arquivos processados: 369 de 372\n",
      "Percentual de processamento: 99%\n",
      "[2024-09-09 15:27:51.549734] Baixando e processando PATO2310.dbc.\n"
     ]
    },
    {
     "name": "stderr",
     "output_type": "stream",
     "text": [
      "100%|███████████████████████████████████████████████████████████████████████████████████████████████████████████████████████████████████████████████████████████████████████| 7.61M/7.61M [00:00<00:00, 3.75GB/s]\n"
     ]
    },
    {
     "name": "stdout",
     "output_type": "stream",
     "text": [
      "[2024-09-09 15:27:51.554848] Arquivo PATO2310.dbc salvo em /home/amcjr/pysus/PATO2310.dbc.parquet.\n",
      "Arquivos processados: 370 de 372\n",
      "Percentual de processamento: 99%\n",
      "[2024-09-09 15:27:51.672688] Baixando e processando PATO2311.dbc.\n"
     ]
    },
    {
     "name": "stderr",
     "output_type": "stream",
     "text": [
      "100%|███████████████████████████████████████████████████████████████████████████████████████████████████████████████████████████████████████████████████████████████████████| 7.51M/7.51M [00:00<00:00, 3.72GB/s]"
     ]
    },
    {
     "name": "stdout",
     "output_type": "stream",
     "text": [
      "[2024-09-09 15:27:51.677787] Arquivo PATO2311.dbc salvo em /home/amcjr/pysus/PATO2311.dbc.parquet.\n"
     ]
    },
    {
     "name": "stderr",
     "output_type": "stream",
     "text": [
      "\n"
     ]
    },
    {
     "name": "stdout",
     "output_type": "stream",
     "text": [
      "Arquivos processados: 371 de 372\n",
      "Percentual de processamento: 100%\n",
      "[2024-09-09 15:27:51.798217] Baixando e processando PATO2312.dbc.\n"
     ]
    },
    {
     "name": "stderr",
     "output_type": "stream",
     "text": [
      "100%|███████████████████████████████████████████████████████████████████████████████████████████████████████████████████████████████████████████████████████████████████████| 7.62M/7.62M [00:00<00:00, 4.20GB/s]\n"
     ]
    },
    {
     "name": "stdout",
     "output_type": "stream",
     "text": [
      "[2024-09-09 15:27:51.803064] Arquivo PATO2312.dbc salvo em /home/amcjr/pysus/PATO2312.dbc.parquet.\n",
      "Arquivos processados: 372 de 372\n",
      "Percentual de processamento: 100%\n",
      "[2024-09-09 15:27:51.874745] Processo finalizado.\n"
     ]
    }
   ],
   "source": [
    "import pandas as pd\n",
    "from pysus.online_data.SIA import SIA\n",
    "from datetime import datetime\n",
    "import os\n",
    "import gc\n",
    "\n",
    "# Configurações\n",
    "ano = 2023\n",
    "grupos = ['PA']\n",
    "output_dir = \"/home/amcjr/pysus/\"\n",
    "if not os.path.exists(output_dir):\n",
    "    os.makedirs(output_dir)\n",
    "\n",
    "log_file = os.path.join(output_dir, f\"log_processo_{datetime.now().strftime('%d%m%y_%H%M%S')}.xlsx\")\n",
    "\n",
    "def iniciar_log():\n",
    "    df_log = pd.DataFrame(columns=[\"Inicio\", \"Fim\", \"Duracao (horas)\", \"Arquivos Processados\"])\n",
    "    return df_log\n",
    "\n",
    "def registrar_log(df_log, inicio, fim, arquivos_processados):\n",
    "    duracao = (fim - inicio).total_seconds() / 3600.0\n",
    "    duracao_str = f\"{int(duracao)}:{int((duracao - int(duracao)) * 60)}\"\n",
    "    novo_registro = pd.DataFrame([{\n",
    "        \"Inicio\": inicio.strftime('%d-%m-%y %H:%M:%S'),\n",
    "        \"Fim\": fim.strftime('%d-%m-%y %H:%M:%S'),\n",
    "        \"Duracao (horas)\": duracao_str,\n",
    "        \"Arquivos Processados\": arquivos_processados\n",
    "    }])\n",
    "    df_log = pd.concat([df_log, novo_registro], ignore_index=True)\n",
    "    df_log.to_excel(log_file, index=False)\n",
    "\n",
    "def listar_arquivos_disponiveis(ano, grupos):\n",
    "    sia = SIA()\n",
    "    arquivos_disponiveis = []\n",
    "    sia.load()  # Load necessary paths or configurations\n",
    "    for grupo in grupos:\n",
    "        try:\n",
    "            print(f\"[{datetime.now()}] Tentando carregar arquivos do grupo {grupo} para o ano {ano}.\")\n",
    "            arquivos = sia.get_files(group=grupo, year=ano)\n",
    "            if arquivos:\n",
    "                arquivos_disponiveis.extend(arquivos)\n",
    "                print(f\"[{datetime.now()}] Arquivos carregados para {grupo}-{ano}: {arquivos}\")\n",
    "            else:\n",
    "                print(f\"[{datetime.now()}] Nenhum arquivo encontrado para {grupo}-{ano}.\")\n",
    "        except Exception as e:\n",
    "            print(f\"[{datetime.now()}] Erro ao carregar arquivos para {grupo}-{ano}: {e}\")\n",
    "    return arquivos_disponiveis\n",
    "\n",
    "def processar_e_salvar(arquivo):\n",
    "    sia = SIA()\n",
    "    try:\n",
    "        parquet_file_path = os.path.join(output_dir, f\"{arquivo}.parquet\")\n",
    "        \n",
    "        # Verifica se o arquivo já foi baixado\n",
    "        if os.path.exists(parquet_file_path):\n",
    "            print(f\"[{datetime.now()}] {arquivo} já foi baixado. Pulando download.\")\n",
    "            return True\n",
    "\n",
    "        print(f\"[{datetime.now()}] Baixando e processando {arquivo}.\")\n",
    "        parquet_set = sia.download([arquivo])\n",
    "        \n",
    "        if not parquet_set:\n",
    "            print(f\"[{datetime.now()}] Não foi possível baixar o arquivo {arquivo}.\")\n",
    "            return False\n",
    "\n",
    "        # Assuming download method also saves the file, otherwise additional saving code would be required\n",
    "        print(f\"[{datetime.now()}] Arquivo {arquivo} salvo em {parquet_file_path}.\")\n",
    "        gc.collect()\n",
    "        return True\n",
    "        \n",
    "    except Exception as e:\n",
    "        print(f\"[{datetime.now()}] Erro ao processar {arquivo}: {e}\")\n",
    "        return False\n",
    "\n",
    "def main():\n",
    "    print(f\"[{datetime.now()}] Processo iniciado.\")\n",
    "    df_log = iniciar_log()\n",
    "    inicio = datetime.now()\n",
    "    \n",
    "    arquivos_disponiveis = listar_arquivos_disponiveis(ano, grupos)\n",
    "    total_arquivos = len(arquivos_disponiveis)\n",
    "    print(f\"[{datetime.now()}] Arquivos listados: {total_arquivos} disponíveis.\")\n",
    "    \n",
    "    arquivos_processados = 0\n",
    "    for i, arquivo in enumerate(arquivos_disponiveis, 1):\n",
    "        sucesso = processar_e_salvar(arquivo)\n",
    "        if sucesso:\n",
    "            arquivos_processados += 1\n",
    "        print(f\"Arquivos processados: {arquivos_processados} de {total_arquivos}\")\n",
    "        percentual_processado = (arquivos_processados / total_arquivos) * 100\n",
    "        print(f\"Percentual de processamento: {percentual_processado:.0f}%\")\n",
    "\n",
    "    fim = datetime.now()\n",
    "    print(f\"[{datetime.now()}] Processo finalizado.\")\n",
    "    registrar_log(df_log, inicio, fim, arquivos_processados)\n",
    "\n",
    "if __name__ == \"__main__\":\n",
    "    main()\n"
   ]
  },
  {
   "cell_type": "code",
   "execution_count": null,
   "id": "df7cab04-1348-4cde-94c3-def8e83699ab",
   "metadata": {},
   "outputs": [],
   "source": []
  },
  {
   "cell_type": "code",
   "execution_count": null,
   "id": "c85411f4-4cb6-481a-bd21-dc77cffdc3e5",
   "metadata": {},
   "outputs": [],
   "source": []
  }
 ],
 "metadata": {
  "kernelspec": {
   "display_name": "Python (pysus_env)",
   "language": "python",
   "name": "pysus_env"
  },
  "language_info": {
   "codemirror_mode": {
    "name": "ipython",
    "version": 3
   },
   "file_extension": ".py",
   "mimetype": "text/x-python",
   "name": "python",
   "nbconvert_exporter": "python",
   "pygments_lexer": "ipython3",
   "version": "3.10.12"
  }
 },
 "nbformat": 4,
 "nbformat_minor": 5
}
