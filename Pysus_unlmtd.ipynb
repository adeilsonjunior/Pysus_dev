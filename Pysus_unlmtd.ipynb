{
 "cells": [
  {
   "cell_type": "code",
   "execution_count": 1,
   "id": "4ed051e9-d502-489e-ba2a-518bd598af0a",
   "metadata": {},
   "outputs": [
    {
     "name": "stdout",
     "output_type": "stream",
     "text": [
      "[2024-12-03 12:45:43.944104] Processo iniciado.\n",
      "[2024-12-03 12:45:45.650800] Tentando carregar arquivos do grupo PA para o ano 2024.\n",
      "[2024-12-03 12:45:45.847101] Arquivos carregados para PA-2024: [PAAC2401.dbc, PAAC2402.dbc, PAAC2403.dbc, PAAC2404.dbc, PAAC2405.dbc, PAAC2406.dbc, PAAC2407.dbc, PAAC2408.dbc, PAAC2409.dbc, PAAL2401.dbc, PAAL2402.dbc, PAAL2403.dbc, PAAL2404.dbc, PAAL2405.dbc, PAAL2406.dbc, PAAL2407.dbc, PAAL2408.dbc, PAAL2409.dbc, PAAM2401.dbc, PAAM2402.dbc, PAAM2403.dbc, PAAM2404.dbc, PAAM2405.dbc, PAAM2406.dbc, PAAM2407.dbc, PAAM2408.dbc, PAAM2409.dbc, PAAP2401.dbc, PAAP2402.dbc, PAAP2403.dbc, PAAP2404.dbc, PAAP2405.dbc, PAAP2406.dbc, PAAP2407.dbc, PAAP2408.dbc, PAAP2409.dbc, PABA2401.dbc, PABA2402.dbc, PABA2403.dbc, PABA2404.dbc, PABA2405.dbc, PABA2406.dbc, PABA2407.dbc, PABA2408.dbc, PABA2409.dbc, PACE2401.dbc, PACE2402.dbc, PACE2403.dbc, PACE2404.dbc, PACE2405.dbc, PACE2406.dbc, PACE2407.dbc, PACE2408.dbc, PACE2409.dbc, PADF2401.dbc, PADF2402.dbc, PADF2403.dbc, PADF2404.dbc, PADF2405.dbc, PADF2406.dbc, PADF2407.dbc, PADF2408.dbc, PADF2409.dbc, PAES2401.dbc, PAES2402.dbc, PAES2403.dbc, PAES2404.dbc, PAES2405.dbc, PAES2406.dbc, PAES2407.dbc, PAES2408.dbc, PAES2409.dbc, PAGO2401.dbc, PAGO2402.dbc, PAGO2403.dbc, PAGO2404.dbc, PAGO2405.dbc, PAGO2406.dbc, PAGO2407.dbc, PAGO2408.dbc, PAGO2409.dbc, PAMA2401.dbc, PAMA2402.dbc, PAMA2403.dbc, PAMA2404.dbc, PAMA2405.dbc, PAMA2406.dbc, PAMA2407.dbc, PAMA2408.dbc, PAMA2409.dbc, PAMG2401a.dbc, PAMG2401b.dbc, PAMG2402a.dbc, PAMG2402b.dbc, PAMG2403a.dbc, PAMG2403b.dbc, PAMG2404a.dbc, PAMG2404b.dbc, PAMG2405a.dbc, PAMG2405b.dbc, PAMG2406a.dbc, PAMG2406b.dbc, PAMG2407a.dbc, PAMG2407b.dbc, PAMG2408a.dbc, PAMG2408b.dbc, PAMG2409a.dbc, PAMG2409b.dbc, PAMS2401.dbc, PAMS2402.dbc, PAMS2403.dbc, PAMS2404.dbc, PAMS2405.dbc, PAMS2406.dbc, PAMS2407.dbc, PAMS2408.dbc, PAMS2409.dbc, PAMT2401.dbc, PAMT2402.dbc, PAMT2403.dbc, PAMT2404.dbc, PAMT2405.dbc, PAMT2406.dbc, PAMT2407.dbc, PAMT2408.dbc, PAMT2409.dbc, PAPA2401.dbc, PAPA2402.dbc, PAPA2403.dbc, PAPA2404.dbc, PAPA2405.dbc, PAPA2406.dbc, PAPA2407.dbc, PAPA2408.dbc, PAPA2409.dbc, PAPB2401.dbc, PAPB2402.dbc, PAPB2403.dbc, PAPB2404.dbc, PAPB2405.dbc, PAPB2406.dbc, PAPB2407.dbc, PAPB2408.dbc, PAPB2409.dbc, PAPE2401.dbc, PAPE2402.dbc, PAPE2403.dbc, PAPE2404.dbc, PAPE2405.dbc, PAPE2406.dbc, PAPE2407.dbc, PAPE2408.dbc, PAPE2409.dbc, PAPI2401.dbc, PAPI2402.dbc, PAPI2403.dbc, PAPI2404.dbc, PAPI2405.dbc, PAPI2406.dbc, PAPI2407.dbc, PAPI2408.dbc, PAPI2409.dbc, PAPR2401.dbc, PAPR2402.dbc, PAPR2403.dbc, PAPR2404.dbc, PAPR2405.dbc, PAPR2406.dbc, PAPR2407.dbc, PAPR2408.dbc, PAPR2409.dbc, PARJ2401a.dbc, PARJ2401b.dbc, PARJ2402a.dbc, PARJ2402b.dbc, PARJ2403a.dbc, PARJ2403b.dbc, PARJ2404a.dbc, PARJ2404b.dbc, PARJ2405a.dbc, PARJ2405b.dbc, PARJ2406a.dbc, PARJ2406b.dbc, PARJ2407a.dbc, PARJ2407b.dbc, PARJ2408a.dbc, PARJ2408b.dbc, PARJ2409a.dbc, PARJ2409b.dbc, PARN2401.dbc, PARN2402.dbc, PARN2403.dbc, PARN2404.dbc, PARN2405.dbc, PARN2406.dbc, PARN2407.dbc, PARN2408.dbc, PARN2409.dbc, PARO2401.dbc, PARO2402.dbc, PARO2403.dbc, PARO2404.dbc, PARO2405.dbc, PARO2406.dbc, PARO2407.dbc, PARO2408.dbc, PARO2409.dbc, PARR2401.dbc, PARR2402.dbc, PARR2403.dbc, PARR2404.dbc, PARR2405.dbc, PARR2406.dbc, PARR2407.dbc, PARR2408.dbc, PARR2409.dbc, PARS2401.dbc, PARS2402.dbc, PARS2403.dbc, PARS2404.dbc, PARS2405.dbc, PARS2406.dbc, PARS2407.dbc, PARS2408.dbc, PARS2409.dbc, PASC2401.dbc, PASC2402.dbc, PASC2403.dbc, PASC2404.dbc, PASC2405.dbc, PASC2406.dbc, PASC2407.dbc, PASC2408.dbc, PASC2409.dbc, PASE2401.dbc, PASE2402.dbc, PASE2403.dbc, PASE2404.dbc, PASE2405.dbc, PASE2406.dbc, PASE2407.dbc, PASE2408.dbc, PASE2409.dbc, PASP2401a.dbc, PASP2401b.dbc, PASP2401c.dbc, PASP2402a.dbc, PASP2402b.dbc, PASP2402c.dbc, PASP2403a.dbc, PASP2403b.dbc, PASP2403c.dbc, PASP2404a.dbc, PASP2404b.dbc, PASP2404c.dbc, PASP2405a.dbc, PASP2405b.dbc, PASP2405c.dbc, PASP2406a.dbc, PASP2406b.dbc, PASP2406c.dbc, PASP2407a.dbc, PASP2407b.dbc, PASP2407c.dbc, PASP2408a.dbc, PASP2408b.dbc, PASP2408c.dbc, PASP2409a.dbc, PASP2409b.dbc, PASP2409c.dbc, PATO2401.dbc, PATO2402.dbc, PATO2403.dbc, PATO2404.dbc, PATO2405.dbc, PATO2406.dbc, PATO2407.dbc, PATO2408.dbc, PATO2409.dbc]\n",
      "[2024-12-03 12:45:45.848382] Total de arquivos disponíveis: 279\n",
      "          Arquivo   Ano Grupo\n",
      "0    PAAC2401.dbc  2024    PA\n",
      "1    PAAC2402.dbc  2024    PA\n",
      "2    PAAC2403.dbc  2024    PA\n",
      "3    PAAC2404.dbc  2024    PA\n",
      "4    PAAC2405.dbc  2024    PA\n",
      "..            ...   ...   ...\n",
      "274  PATO2405.dbc  2024    PA\n",
      "275  PATO2406.dbc  2024    PA\n",
      "276  PATO2407.dbc  2024    PA\n",
      "277  PATO2408.dbc  2024    PA\n",
      "278  PATO2409.dbc  2024    PA\n",
      "\n",
      "[279 rows x 3 columns]\n",
      "[2024-12-03 12:45:45.914633] Baixando e processando PAAC2401.dbc.\n"
     ]
    },
    {
     "name": "stderr",
     "output_type": "stream",
     "text": [
      "100%|████████████████████████████████████████████████████████████████████████████████████████████████████████████████████████████████████████████████████████████████████████| 2.76M/2.76M [00:00<00:00, 737MB/s]\n"
     ]
    },
    {
     "name": "stdout",
     "output_type": "stream",
     "text": [
      "[2024-12-03 12:45:45.930579] Arquivo PAAC2401.dbc salvo em /home/amcjr/pysus/PAAC2401.dbc.parquet.\n",
      "Arquivos processados: 1 de 279\n",
      "Percentual de processamento: 0%\n",
      "[2024-12-03 12:45:46.058762] Baixando e processando PAAC2402.dbc.\n"
     ]
    },
    {
     "name": "stderr",
     "output_type": "stream",
     "text": [
      "100%|████████████████████████████████████████████████████████████████████████████████████████████████████████████████████████████████████████████████████████████████████████| 2.34M/2.34M [00:00<00:00, 227MB/s]\n"
     ]
    },
    {
     "name": "stdout",
     "output_type": "stream",
     "text": [
      "[2024-12-03 12:45:46.077478] Arquivo PAAC2402.dbc salvo em /home/amcjr/pysus/PAAC2402.dbc.parquet.\n",
      "Arquivos processados: 2 de 279\n",
      "Percentual de processamento: 1%\n",
      "[2024-12-03 12:45:46.195710] Baixando e processando PAAC2403.dbc.\n"
     ]
    },
    {
     "name": "stderr",
     "output_type": "stream",
     "text": [
      "100%|████████████████████████████████████████████████████████████████████████████████████████████████████████████████████████████████████████████████████████████████████████| 2.44M/2.44M [00:00<00:00, 186MB/s]\n"
     ]
    },
    {
     "name": "stdout",
     "output_type": "stream",
     "text": [
      "[2024-12-03 12:45:46.216660] Arquivo PAAC2403.dbc salvo em /home/amcjr/pysus/PAAC2403.dbc.parquet.\n",
      "Arquivos processados: 3 de 279\n",
      "Percentual de processamento: 1%\n",
      "[2024-12-03 12:45:46.346651] Baixando e processando PAAC2404.dbc.\n"
     ]
    },
    {
     "name": "stderr",
     "output_type": "stream",
     "text": [
      "100%|████████████████████████████████████████████████████████████████████████████████████████████████████████████████████████████████████████████████████████████████████████| 3.67M/3.67M [00:00<00:00, 532MB/s]\n"
     ]
    },
    {
     "name": "stdout",
     "output_type": "stream",
     "text": [
      "[2024-12-03 12:45:46.356546] Arquivo PAAC2404.dbc salvo em /home/amcjr/pysus/PAAC2404.dbc.parquet.\n",
      "Arquivos processados: 4 de 279\n",
      "Percentual de processamento: 1%\n",
      "[2024-12-03 12:45:46.491829] Baixando e processando PAAC2405.dbc.\n"
     ]
    },
    {
     "name": "stderr",
     "output_type": "stream",
     "text": [
      "100%|████████████████████████████████████████████████████████████████████████████████████████████████████████████████████████████████████████████████████████████████████████| 3.60M/3.60M [00:00<00:00, 281MB/s]\n"
     ]
    },
    {
     "name": "stdout",
     "output_type": "stream",
     "text": [
      "[2024-12-03 12:45:46.514803] Arquivo PAAC2405.dbc salvo em /home/amcjr/pysus/PAAC2405.dbc.parquet.\n",
      "Arquivos processados: 5 de 279\n",
      "Percentual de processamento: 2%\n",
      "[2024-12-03 12:45:46.664566] Baixando e processando PAAC2406.dbc.\n"
     ]
    },
    {
     "name": "stderr",
     "output_type": "stream",
     "text": [
      "100%|███████████████████████████████████████████████████████████████████████████████████████████████████████████████████████████████████████████████████████████████████████| 3.65M/3.65M [00:00<00:00, 1.47GB/s]\n"
     ]
    },
    {
     "name": "stdout",
     "output_type": "stream",
     "text": [
      "[2024-12-03 12:45:46.670287] Arquivo PAAC2406.dbc salvo em /home/amcjr/pysus/PAAC2406.dbc.parquet.\n",
      "Arquivos processados: 6 de 279\n",
      "Percentual de processamento: 2%\n",
      "[2024-12-03 12:45:46.804096] Baixando e processando PAAC2407.dbc.\n"
     ]
    },
    {
     "name": "stderr",
     "output_type": "stream",
     "text": [
      "100%|████████████████████████████████████████████████████████████████████████████████████████████████████████████████████████████████████████████████████████████████████████| 3.75M/3.75M [00:00<00:00, 709MB/s]"
     ]
    },
    {
     "name": "stdout",
     "output_type": "stream",
     "text": [
      "[2024-12-03 12:45:46.820670] Arquivo PAAC2407.dbc salvo em /home/amcjr/pysus/PAAC2407.dbc.parquet.\n"
     ]
    },
    {
     "name": "stderr",
     "output_type": "stream",
     "text": [
      "\n"
     ]
    },
    {
     "name": "stdout",
     "output_type": "stream",
     "text": [
      "Arquivos processados: 7 de 279\n",
      "Percentual de processamento: 3%\n",
      "[2024-12-03 12:45:46.955743] Baixando e processando PAAC2408.dbc.\n"
     ]
    },
    {
     "name": "stderr",
     "output_type": "stream",
     "text": [
      "PAAC2408.parquet: 100%|███████████████████████████████████████████████████████████████████████████████████████████████████████████████████████████████████████████████████████| 294k/294k [00:10<00:00, 28.6kB/s]\n"
     ]
    },
    {
     "name": "stdout",
     "output_type": "stream",
     "text": [
      "[2024-12-03 12:45:58.572484] Arquivo PAAC2408.dbc salvo em /home/amcjr/pysus/PAAC2408.dbc.parquet.\n",
      "Arquivos processados: 8 de 279\n",
      "Percentual de processamento: 3%\n",
      "[2024-12-03 12:45:58.710062] Baixando e processando PAAC2409.dbc.\n"
     ]
    },
    {
     "name": "stderr",
     "output_type": "stream",
     "text": [
      "PAAC2409.parquet:   0%|                                                                                                                                                               | 0.00/303k [00:00<?, ?B/s]"
     ]
    },
    {
     "ename": "KeyboardInterrupt",
     "evalue": "",
     "output_type": "error",
     "traceback": [
      "\u001b[0;31m---------------------------------------------------------------------------\u001b[0m",
      "\u001b[0;31mKeyboardInterrupt\u001b[0m                         Traceback (most recent call last)",
      "Cell \u001b[0;32mIn[1], line 108\u001b[0m\n\u001b[1;32m    105\u001b[0m     registrar_log(df_log, inicio, fim, arquivos_processados)\n\u001b[1;32m    107\u001b[0m \u001b[38;5;28;01mif\u001b[39;00m \u001b[38;5;18m__name__\u001b[39m \u001b[38;5;241m==\u001b[39m \u001b[38;5;124m\"\u001b[39m\u001b[38;5;124m__main__\u001b[39m\u001b[38;5;124m\"\u001b[39m:\n\u001b[0;32m--> 108\u001b[0m     \u001b[43mmain\u001b[49m\u001b[43m(\u001b[49m\u001b[43m)\u001b[49m\n",
      "Cell \u001b[0;32mIn[1], line 96\u001b[0m, in \u001b[0;36mmain\u001b[0;34m()\u001b[0m\n\u001b[1;32m     94\u001b[0m arquivos_processados \u001b[38;5;241m=\u001b[39m \u001b[38;5;241m0\u001b[39m\n\u001b[1;32m     95\u001b[0m \u001b[38;5;28;01mfor\u001b[39;00m i, arquivo \u001b[38;5;129;01min\u001b[39;00m \u001b[38;5;28menumerate\u001b[39m(arquivos_disponiveis, \u001b[38;5;241m1\u001b[39m):\n\u001b[0;32m---> 96\u001b[0m     sucesso \u001b[38;5;241m=\u001b[39m \u001b[43mprocessar_e_salvar\u001b[49m\u001b[43m(\u001b[49m\u001b[43marquivo\u001b[49m\u001b[43m)\u001b[49m\n\u001b[1;32m     97\u001b[0m     \u001b[38;5;28;01mif\u001b[39;00m sucesso:\n\u001b[1;32m     98\u001b[0m         arquivos_processados \u001b[38;5;241m+\u001b[39m\u001b[38;5;241m=\u001b[39m \u001b[38;5;241m1\u001b[39m\n",
      "Cell \u001b[0;32mIn[1], line 67\u001b[0m, in \u001b[0;36mprocessar_e_salvar\u001b[0;34m(arquivo)\u001b[0m\n\u001b[1;32m     64\u001b[0m     \u001b[38;5;28;01mreturn\u001b[39;00m \u001b[38;5;28;01mTrue\u001b[39;00m\n\u001b[1;32m     66\u001b[0m \u001b[38;5;28mprint\u001b[39m(\u001b[38;5;124mf\u001b[39m\u001b[38;5;124m\"\u001b[39m\u001b[38;5;124m[\u001b[39m\u001b[38;5;132;01m{\u001b[39;00mdatetime\u001b[38;5;241m.\u001b[39mnow()\u001b[38;5;132;01m}\u001b[39;00m\u001b[38;5;124m] Baixando e processando \u001b[39m\u001b[38;5;132;01m{\u001b[39;00marquivo\u001b[38;5;132;01m}\u001b[39;00m\u001b[38;5;124m.\u001b[39m\u001b[38;5;124m\"\u001b[39m)\n\u001b[0;32m---> 67\u001b[0m parquet_set \u001b[38;5;241m=\u001b[39m \u001b[43msia\u001b[49m\u001b[38;5;241;43m.\u001b[39;49m\u001b[43mdownload\u001b[49m\u001b[43m(\u001b[49m\u001b[43m[\u001b[49m\u001b[43marquivo\u001b[49m\u001b[43m]\u001b[49m\u001b[43m)\u001b[49m\n\u001b[1;32m     69\u001b[0m \u001b[38;5;28;01mif\u001b[39;00m \u001b[38;5;129;01mnot\u001b[39;00m parquet_set:\n\u001b[1;32m     70\u001b[0m     \u001b[38;5;28mprint\u001b[39m(\u001b[38;5;124mf\u001b[39m\u001b[38;5;124m\"\u001b[39m\u001b[38;5;124m[\u001b[39m\u001b[38;5;132;01m{\u001b[39;00mdatetime\u001b[38;5;241m.\u001b[39mnow()\u001b[38;5;132;01m}\u001b[39;00m\u001b[38;5;124m] Não foi possível baixar o arquivo \u001b[39m\u001b[38;5;132;01m{\u001b[39;00marquivo\u001b[38;5;132;01m}\u001b[39;00m\u001b[38;5;124m.\u001b[39m\u001b[38;5;124m\"\u001b[39m)\n",
      "File \u001b[0;32m~/desenvolvimento/projetos/pysus_dev/pysus_env/lib/python3.10/site-packages/pysus/ftp/__init__.py:563\u001b[0m, in \u001b[0;36mDatabase.download\u001b[0;34m(self, files, local_dir)\u001b[0m\n\u001b[1;32m    561\u001b[0m \u001b[38;5;28;01mfor\u001b[39;00m file \u001b[38;5;129;01min\u001b[39;00m files:\n\u001b[1;32m    562\u001b[0m     \u001b[38;5;28;01mif\u001b[39;00m \u001b[38;5;28misinstance\u001b[39m(file, File):\n\u001b[0;32m--> 563\u001b[0m         dfiles\u001b[38;5;241m.\u001b[39mappend(\u001b[43mfile\u001b[49m\u001b[38;5;241;43m.\u001b[39;49m\u001b[43mdownload\u001b[49m\u001b[43m(\u001b[49m\u001b[43mlocal_dir\u001b[49m\u001b[38;5;241;43m=\u001b[39;49m\u001b[43mlocal_dir\u001b[49m\u001b[43m,\u001b[49m\u001b[43m \u001b[49m\u001b[43m_pbar\u001b[49m\u001b[38;5;241;43m=\u001b[39;49m\u001b[43mpbar\u001b[49m\u001b[43m)\u001b[49m)\n\u001b[1;32m    564\u001b[0m pbar\u001b[38;5;241m.\u001b[39mclose()\n\u001b[1;32m    565\u001b[0m \u001b[38;5;28;01mif\u001b[39;00m \u001b[38;5;28mlen\u001b[39m(dfiles) \u001b[38;5;241m==\u001b[39m \u001b[38;5;241m1\u001b[39m:\n",
      "File \u001b[0;32m~/desenvolvimento/projetos/pysus_dev/pysus_env/lib/python3.10/site-packages/pysus/ftp/__init__.py:154\u001b[0m, in \u001b[0;36mFile.download\u001b[0;34m(self, local_dir, _pbar)\u001b[0m\n\u001b[1;32m    152\u001b[0m \u001b[38;5;28;01mif\u001b[39;00m _pbar:\n\u001b[1;32m    153\u001b[0m     _pbar\u001b[38;5;241m.\u001b[39mupdate(filesize \u001b[38;5;241m-\u001b[39m _pbar\u001b[38;5;241m.\u001b[39mn)\n\u001b[0;32m--> 154\u001b[0m \u001b[38;5;28;01mreturn\u001b[39;00m \u001b[43mData\u001b[49m\u001b[43m(\u001b[49m\u001b[38;5;28;43mstr\u001b[39;49m\u001b[43m(\u001b[49m\u001b[43mfilepath\u001b[49m\u001b[43m)\u001b[49m\u001b[43m,\u001b[49m\u001b[43m \u001b[49m\u001b[43m_pbar\u001b[49m\u001b[38;5;241;43m=\u001b[39;49m\u001b[43m_pbar\u001b[49m\u001b[43m)\u001b[49m\n",
      "File \u001b[0;32m~/desenvolvimento/projetos/pysus_dev/pysus_env/lib/python3.10/site-packages/pysus/data/local.py:106\u001b[0m, in \u001b[0;36mData.__new__\u001b[0;34m(cls, path, _pbar)\u001b[0m\n\u001b[1;32m    103\u001b[0m \u001b[38;5;28;01mdef\u001b[39;00m \u001b[38;5;21m__new__\u001b[39m(\n\u001b[1;32m    104\u001b[0m     \u001b[38;5;28mcls\u001b[39m, path: Union[List[\u001b[38;5;28mstr\u001b[39m], \u001b[38;5;28mstr\u001b[39m], _pbar\u001b[38;5;241m=\u001b[39m\u001b[38;5;28;01mNone\u001b[39;00m\n\u001b[1;32m    105\u001b[0m ) \u001b[38;5;241m-\u001b[39m\u001b[38;5;241m>\u001b[39m Union[ParquetSet, List[ParquetSet]]:\n\u001b[0;32m--> 106\u001b[0m     \u001b[38;5;28;01mreturn\u001b[39;00m \u001b[43mparse_data_content\u001b[49m\u001b[43m(\u001b[49m\u001b[43mpath\u001b[49m\u001b[43m,\u001b[49m\u001b[43m \u001b[49m\u001b[43m_pbar\u001b[49m\u001b[38;5;241;43m=\u001b[39;49m\u001b[43m_pbar\u001b[49m\u001b[43m)\u001b[49m\n",
      "File \u001b[0;32m~/desenvolvimento/projetos/pysus_dev/pysus_env/lib/python3.10/site-packages/pysus/data/local.py:83\u001b[0m, in \u001b[0;36mparse_data_content\u001b[0;34m(path, _pbar)\u001b[0m\n\u001b[1;32m     80\u001b[0m     \u001b[38;5;28;01mcontinue\u001b[39;00m\n\u001b[1;32m     82\u001b[0m \u001b[38;5;28;01mif\u001b[39;00m data_path\u001b[38;5;241m.\u001b[39msuffix\u001b[38;5;241m.\u001b[39mlower() \u001b[38;5;129;01min\u001b[39;00m [\u001b[38;5;124m\"\u001b[39m\u001b[38;5;124m.dbc\u001b[39m\u001b[38;5;124m\"\u001b[39m, \u001b[38;5;124m\"\u001b[39m\u001b[38;5;124m.dbf\u001b[39m\u001b[38;5;124m\"\u001b[39m, \u001b[38;5;124m\"\u001b[39m\u001b[38;5;124m.parquet\u001b[39m\u001b[38;5;124m\"\u001b[39m]:\n\u001b[0;32m---> 83\u001b[0m     content\u001b[38;5;241m.\u001b[39mappend(\u001b[43mParquetSet\u001b[49m\u001b[43m(\u001b[49m\u001b[38;5;28;43mstr\u001b[39;49m\u001b[43m(\u001b[49m\u001b[43mdata_path\u001b[49m\u001b[43m)\u001b[49m\u001b[43m,\u001b[49m\u001b[43m \u001b[49m\u001b[43m_pbar\u001b[49m\u001b[38;5;241;43m=\u001b[39;49m\u001b[43m_pbar\u001b[49m\u001b[43m)\u001b[49m)\n\u001b[1;32m     84\u001b[0m \u001b[38;5;28;01melif\u001b[39;00m data_path\u001b[38;5;241m.\u001b[39msuffix\u001b[38;5;241m.\u001b[39mlower() \u001b[38;5;241m==\u001b[39m \u001b[38;5;124m\"\u001b[39m\u001b[38;5;124m.zip\u001b[39m\u001b[38;5;124m\"\u001b[39m:\n\u001b[1;32m     85\u001b[0m     content\u001b[38;5;241m.\u001b[39mappend(\u001b[38;5;28mstr\u001b[39m(data_path))\n",
      "File \u001b[0;32m~/desenvolvimento/projetos/pysus_dev/pysus_env/lib/python3.10/site-packages/pysus/data/local.py:29\u001b[0m, in \u001b[0;36mParquetSet.__init__\u001b[0;34m(self, path, _pbar)\u001b[0m\n\u001b[1;32m     26\u001b[0m     path \u001b[38;5;241m=\u001b[39m Path(dbc_to_dbf(path, _pbar\u001b[38;5;241m=\u001b[39m_pbar))\n\u001b[1;32m     28\u001b[0m \u001b[38;5;28;01mif\u001b[39;00m path\u001b[38;5;241m.\u001b[39msuffix\u001b[38;5;241m.\u001b[39mlower() \u001b[38;5;241m==\u001b[39m \u001b[38;5;124m\"\u001b[39m\u001b[38;5;124m.dbf\u001b[39m\u001b[38;5;124m\"\u001b[39m:\n\u001b[0;32m---> 29\u001b[0m     path \u001b[38;5;241m=\u001b[39m Path(\u001b[43mdbf_to_parquet\u001b[49m\u001b[43m(\u001b[49m\u001b[43mpath\u001b[49m\u001b[43m,\u001b[49m\u001b[43m \u001b[49m\u001b[43m_pbar\u001b[49m\u001b[38;5;241;43m=\u001b[39;49m\u001b[43m_pbar\u001b[49m\u001b[43m)\u001b[49m)\n\u001b[1;32m     31\u001b[0m \u001b[38;5;28;01mif\u001b[39;00m path\u001b[38;5;241m.\u001b[39mis_dir():\n\u001b[1;32m     32\u001b[0m     info[\u001b[38;5;124m\"\u001b[39m\u001b[38;5;124msize\u001b[39m\u001b[38;5;124m\"\u001b[39m] \u001b[38;5;241m=\u001b[39m \u001b[38;5;28msum\u001b[39m(\n\u001b[1;32m     33\u001b[0m         f\u001b[38;5;241m.\u001b[39mstat()\u001b[38;5;241m.\u001b[39mst_size \u001b[38;5;28;01mfor\u001b[39;00m f \u001b[38;5;129;01min\u001b[39;00m path\u001b[38;5;241m.\u001b[39mglob(\u001b[38;5;124m\"\u001b[39m\u001b[38;5;124m**/*\u001b[39m\u001b[38;5;124m\"\u001b[39m) \u001b[38;5;28;01mif\u001b[39;00m f\u001b[38;5;241m.\u001b[39mis_file()\n\u001b[1;32m     34\u001b[0m     )\n",
      "File \u001b[0;32m~/desenvolvimento/projetos/pysus_dev/pysus_env/lib/python3.10/site-packages/pysus/data/__init__.py:112\u001b[0m, in \u001b[0;36mdbf_to_parquet\u001b[0;34m(dbf, _pbar)\u001b[0m\n\u001b[1;32m    109\u001b[0m             _pbar\u001b[38;5;241m.\u001b[39mupdate(chunk_size)\n\u001b[1;32m    111\u001b[0m         chunk_df \u001b[38;5;241m=\u001b[39m pd\u001b[38;5;241m.\u001b[39mDataFrame(chunk)\n\u001b[0;32m--> 112\u001b[0m         table \u001b[38;5;241m=\u001b[39m pa\u001b[38;5;241m.\u001b[39mTable\u001b[38;5;241m.\u001b[39mfrom_pandas(\u001b[43mchunk_df\u001b[49m\u001b[38;5;241;43m.\u001b[39;49m\u001b[43mmap\u001b[49m\u001b[43m(\u001b[49m\u001b[43mdecode_column\u001b[49m\u001b[43m)\u001b[49m)\n\u001b[1;32m    113\u001b[0m         pq\u001b[38;5;241m.\u001b[39mwrite_to_dataset(table, root_path\u001b[38;5;241m=\u001b[39m\u001b[38;5;28mstr\u001b[39m(parquet))\n\u001b[1;32m    114\u001b[0m \u001b[38;5;28;01mexcept\u001b[39;00m struct\u001b[38;5;241m.\u001b[39merror \u001b[38;5;28;01mas\u001b[39;00m err:\n",
      "File \u001b[0;32m~/desenvolvimento/projetos/pysus_dev/pysus_env/lib/python3.10/site-packages/pandas/core/frame.py:10468\u001b[0m, in \u001b[0;36mDataFrame.map\u001b[0;34m(self, func, na_action, **kwargs)\u001b[0m\n\u001b[1;32m  10465\u001b[0m \u001b[38;5;28;01mdef\u001b[39;00m \u001b[38;5;21minfer\u001b[39m(x):\n\u001b[1;32m  10466\u001b[0m     \u001b[38;5;28;01mreturn\u001b[39;00m x\u001b[38;5;241m.\u001b[39m_map_values(func, na_action\u001b[38;5;241m=\u001b[39mna_action)\n\u001b[0;32m> 10468\u001b[0m \u001b[38;5;28;01mreturn\u001b[39;00m \u001b[38;5;28;43mself\u001b[39;49m\u001b[38;5;241;43m.\u001b[39;49m\u001b[43mapply\u001b[49m\u001b[43m(\u001b[49m\u001b[43minfer\u001b[49m\u001b[43m)\u001b[49m\u001b[38;5;241m.\u001b[39m__finalize__(\u001b[38;5;28mself\u001b[39m, \u001b[38;5;124m\"\u001b[39m\u001b[38;5;124mmap\u001b[39m\u001b[38;5;124m\"\u001b[39m)\n",
      "File \u001b[0;32m~/desenvolvimento/projetos/pysus_dev/pysus_env/lib/python3.10/site-packages/pandas/core/frame.py:10374\u001b[0m, in \u001b[0;36mDataFrame.apply\u001b[0;34m(self, func, axis, raw, result_type, args, by_row, engine, engine_kwargs, **kwargs)\u001b[0m\n\u001b[1;32m  10360\u001b[0m \u001b[38;5;28;01mfrom\u001b[39;00m \u001b[38;5;21;01mpandas\u001b[39;00m\u001b[38;5;21;01m.\u001b[39;00m\u001b[38;5;21;01mcore\u001b[39;00m\u001b[38;5;21;01m.\u001b[39;00m\u001b[38;5;21;01mapply\u001b[39;00m \u001b[38;5;28;01mimport\u001b[39;00m frame_apply\n\u001b[1;32m  10362\u001b[0m op \u001b[38;5;241m=\u001b[39m frame_apply(\n\u001b[1;32m  10363\u001b[0m     \u001b[38;5;28mself\u001b[39m,\n\u001b[1;32m  10364\u001b[0m     func\u001b[38;5;241m=\u001b[39mfunc,\n\u001b[0;32m   (...)\u001b[0m\n\u001b[1;32m  10372\u001b[0m     kwargs\u001b[38;5;241m=\u001b[39mkwargs,\n\u001b[1;32m  10373\u001b[0m )\n\u001b[0;32m> 10374\u001b[0m \u001b[38;5;28;01mreturn\u001b[39;00m \u001b[43mop\u001b[49m\u001b[38;5;241;43m.\u001b[39;49m\u001b[43mapply\u001b[49m\u001b[43m(\u001b[49m\u001b[43m)\u001b[49m\u001b[38;5;241m.\u001b[39m__finalize__(\u001b[38;5;28mself\u001b[39m, method\u001b[38;5;241m=\u001b[39m\u001b[38;5;124m\"\u001b[39m\u001b[38;5;124mapply\u001b[39m\u001b[38;5;124m\"\u001b[39m)\n",
      "File \u001b[0;32m~/desenvolvimento/projetos/pysus_dev/pysus_env/lib/python3.10/site-packages/pandas/core/apply.py:916\u001b[0m, in \u001b[0;36mFrameApply.apply\u001b[0;34m(self)\u001b[0m\n\u001b[1;32m    913\u001b[0m \u001b[38;5;28;01melif\u001b[39;00m \u001b[38;5;28mself\u001b[39m\u001b[38;5;241m.\u001b[39mraw:\n\u001b[1;32m    914\u001b[0m     \u001b[38;5;28;01mreturn\u001b[39;00m \u001b[38;5;28mself\u001b[39m\u001b[38;5;241m.\u001b[39mapply_raw(engine\u001b[38;5;241m=\u001b[39m\u001b[38;5;28mself\u001b[39m\u001b[38;5;241m.\u001b[39mengine, engine_kwargs\u001b[38;5;241m=\u001b[39m\u001b[38;5;28mself\u001b[39m\u001b[38;5;241m.\u001b[39mengine_kwargs)\n\u001b[0;32m--> 916\u001b[0m \u001b[38;5;28;01mreturn\u001b[39;00m \u001b[38;5;28;43mself\u001b[39;49m\u001b[38;5;241;43m.\u001b[39;49m\u001b[43mapply_standard\u001b[49m\u001b[43m(\u001b[49m\u001b[43m)\u001b[49m\n",
      "File \u001b[0;32m~/desenvolvimento/projetos/pysus_dev/pysus_env/lib/python3.10/site-packages/pandas/core/apply.py:1063\u001b[0m, in \u001b[0;36mFrameApply.apply_standard\u001b[0;34m(self)\u001b[0m\n\u001b[1;32m   1061\u001b[0m \u001b[38;5;28;01mdef\u001b[39;00m \u001b[38;5;21mapply_standard\u001b[39m(\u001b[38;5;28mself\u001b[39m):\n\u001b[1;32m   1062\u001b[0m     \u001b[38;5;28;01mif\u001b[39;00m \u001b[38;5;28mself\u001b[39m\u001b[38;5;241m.\u001b[39mengine \u001b[38;5;241m==\u001b[39m \u001b[38;5;124m\"\u001b[39m\u001b[38;5;124mpython\u001b[39m\u001b[38;5;124m\"\u001b[39m:\n\u001b[0;32m-> 1063\u001b[0m         results, res_index \u001b[38;5;241m=\u001b[39m \u001b[38;5;28;43mself\u001b[39;49m\u001b[38;5;241;43m.\u001b[39;49m\u001b[43mapply_series_generator\u001b[49m\u001b[43m(\u001b[49m\u001b[43m)\u001b[49m\n\u001b[1;32m   1064\u001b[0m     \u001b[38;5;28;01melse\u001b[39;00m:\n\u001b[1;32m   1065\u001b[0m         results, res_index \u001b[38;5;241m=\u001b[39m \u001b[38;5;28mself\u001b[39m\u001b[38;5;241m.\u001b[39mapply_series_numba()\n",
      "File \u001b[0;32m~/desenvolvimento/projetos/pysus_dev/pysus_env/lib/python3.10/site-packages/pandas/core/apply.py:1081\u001b[0m, in \u001b[0;36mFrameApply.apply_series_generator\u001b[0;34m(self)\u001b[0m\n\u001b[1;32m   1078\u001b[0m \u001b[38;5;28;01mwith\u001b[39;00m option_context(\u001b[38;5;124m\"\u001b[39m\u001b[38;5;124mmode.chained_assignment\u001b[39m\u001b[38;5;124m\"\u001b[39m, \u001b[38;5;28;01mNone\u001b[39;00m):\n\u001b[1;32m   1079\u001b[0m     \u001b[38;5;28;01mfor\u001b[39;00m i, v \u001b[38;5;129;01min\u001b[39;00m \u001b[38;5;28menumerate\u001b[39m(series_gen):\n\u001b[1;32m   1080\u001b[0m         \u001b[38;5;66;03m# ignore SettingWithCopy here in case the user mutates\u001b[39;00m\n\u001b[0;32m-> 1081\u001b[0m         results[i] \u001b[38;5;241m=\u001b[39m \u001b[38;5;28;43mself\u001b[39;49m\u001b[38;5;241;43m.\u001b[39;49m\u001b[43mfunc\u001b[49m\u001b[43m(\u001b[49m\u001b[43mv\u001b[49m\u001b[43m,\u001b[49m\u001b[43m \u001b[49m\u001b[38;5;241;43m*\u001b[39;49m\u001b[38;5;28;43mself\u001b[39;49m\u001b[38;5;241;43m.\u001b[39;49m\u001b[43margs\u001b[49m\u001b[43m,\u001b[49m\u001b[43m \u001b[49m\u001b[38;5;241;43m*\u001b[39;49m\u001b[38;5;241;43m*\u001b[39;49m\u001b[38;5;28;43mself\u001b[39;49m\u001b[38;5;241;43m.\u001b[39;49m\u001b[43mkwargs\u001b[49m\u001b[43m)\u001b[49m\n\u001b[1;32m   1082\u001b[0m         \u001b[38;5;28;01mif\u001b[39;00m \u001b[38;5;28misinstance\u001b[39m(results[i], ABCSeries):\n\u001b[1;32m   1083\u001b[0m             \u001b[38;5;66;03m# If we have a view on v, we need to make a copy because\u001b[39;00m\n\u001b[1;32m   1084\u001b[0m             \u001b[38;5;66;03m#  series_generator will swap out the underlying data\u001b[39;00m\n\u001b[1;32m   1085\u001b[0m             results[i] \u001b[38;5;241m=\u001b[39m results[i]\u001b[38;5;241m.\u001b[39mcopy(deep\u001b[38;5;241m=\u001b[39m\u001b[38;5;28;01mFalse\u001b[39;00m)\n",
      "File \u001b[0;32m~/desenvolvimento/projetos/pysus_dev/pysus_env/lib/python3.10/site-packages/pandas/core/frame.py:10466\u001b[0m, in \u001b[0;36mDataFrame.map.<locals>.infer\u001b[0;34m(x)\u001b[0m\n\u001b[1;32m  10465\u001b[0m \u001b[38;5;28;01mdef\u001b[39;00m \u001b[38;5;21minfer\u001b[39m(x):\n\u001b[0;32m> 10466\u001b[0m     \u001b[38;5;28;01mreturn\u001b[39;00m \u001b[43mx\u001b[49m\u001b[38;5;241;43m.\u001b[39;49m\u001b[43m_map_values\u001b[49m\u001b[43m(\u001b[49m\u001b[43mfunc\u001b[49m\u001b[43m,\u001b[49m\u001b[43m \u001b[49m\u001b[43mna_action\u001b[49m\u001b[38;5;241;43m=\u001b[39;49m\u001b[43mna_action\u001b[49m\u001b[43m)\u001b[49m\n",
      "File \u001b[0;32m~/desenvolvimento/projetos/pysus_dev/pysus_env/lib/python3.10/site-packages/pandas/core/base.py:921\u001b[0m, in \u001b[0;36mIndexOpsMixin._map_values\u001b[0;34m(self, mapper, na_action, convert)\u001b[0m\n\u001b[1;32m    918\u001b[0m \u001b[38;5;28;01mif\u001b[39;00m \u001b[38;5;28misinstance\u001b[39m(arr, ExtensionArray):\n\u001b[1;32m    919\u001b[0m     \u001b[38;5;28;01mreturn\u001b[39;00m arr\u001b[38;5;241m.\u001b[39mmap(mapper, na_action\u001b[38;5;241m=\u001b[39mna_action)\n\u001b[0;32m--> 921\u001b[0m \u001b[38;5;28;01mreturn\u001b[39;00m \u001b[43malgorithms\u001b[49m\u001b[38;5;241;43m.\u001b[39;49m\u001b[43mmap_array\u001b[49m\u001b[43m(\u001b[49m\u001b[43marr\u001b[49m\u001b[43m,\u001b[49m\u001b[43m \u001b[49m\u001b[43mmapper\u001b[49m\u001b[43m,\u001b[49m\u001b[43m \u001b[49m\u001b[43mna_action\u001b[49m\u001b[38;5;241;43m=\u001b[39;49m\u001b[43mna_action\u001b[49m\u001b[43m,\u001b[49m\u001b[43m \u001b[49m\u001b[43mconvert\u001b[49m\u001b[38;5;241;43m=\u001b[39;49m\u001b[43mconvert\u001b[49m\u001b[43m)\u001b[49m\n",
      "File \u001b[0;32m~/desenvolvimento/projetos/pysus_dev/pysus_env/lib/python3.10/site-packages/pandas/core/algorithms.py:1743\u001b[0m, in \u001b[0;36mmap_array\u001b[0;34m(arr, mapper, na_action, convert)\u001b[0m\n\u001b[1;32m   1741\u001b[0m values \u001b[38;5;241m=\u001b[39m arr\u001b[38;5;241m.\u001b[39mastype(\u001b[38;5;28mobject\u001b[39m, copy\u001b[38;5;241m=\u001b[39m\u001b[38;5;28;01mFalse\u001b[39;00m)\n\u001b[1;32m   1742\u001b[0m \u001b[38;5;28;01mif\u001b[39;00m na_action \u001b[38;5;129;01mis\u001b[39;00m \u001b[38;5;28;01mNone\u001b[39;00m:\n\u001b[0;32m-> 1743\u001b[0m     \u001b[38;5;28;01mreturn\u001b[39;00m \u001b[43mlib\u001b[49m\u001b[38;5;241;43m.\u001b[39;49m\u001b[43mmap_infer\u001b[49m\u001b[43m(\u001b[49m\u001b[43mvalues\u001b[49m\u001b[43m,\u001b[49m\u001b[43m \u001b[49m\u001b[43mmapper\u001b[49m\u001b[43m,\u001b[49m\u001b[43m \u001b[49m\u001b[43mconvert\u001b[49m\u001b[38;5;241;43m=\u001b[39;49m\u001b[43mconvert\u001b[49m\u001b[43m)\u001b[49m\n\u001b[1;32m   1744\u001b[0m \u001b[38;5;28;01melse\u001b[39;00m:\n\u001b[1;32m   1745\u001b[0m     \u001b[38;5;28;01mreturn\u001b[39;00m lib\u001b[38;5;241m.\u001b[39mmap_infer_mask(\n\u001b[1;32m   1746\u001b[0m         values, mapper, mask\u001b[38;5;241m=\u001b[39misna(values)\u001b[38;5;241m.\u001b[39mview(np\u001b[38;5;241m.\u001b[39muint8), convert\u001b[38;5;241m=\u001b[39mconvert\n\u001b[1;32m   1747\u001b[0m     )\n",
      "File \u001b[0;32mlib.pyx:2972\u001b[0m, in \u001b[0;36mpandas._libs.lib.map_infer\u001b[0;34m()\u001b[0m\n",
      "File \u001b[0;32m~/desenvolvimento/projetos/pysus_dev/pysus_env/lib/python3.10/site-packages/pysus/data/__init__.py:63\u001b[0m, in \u001b[0;36mdecode_column\u001b[0;34m(value)\u001b[0m\n\u001b[1;32m     59\u001b[0m     \u001b[38;5;28;01melse\u001b[39;00m:\n\u001b[1;32m     60\u001b[0m         \u001b[38;5;28;01myield\u001b[39;00m data\n\u001b[0;32m---> 63\u001b[0m \u001b[38;5;28;01mdef\u001b[39;00m \u001b[38;5;21mdecode_column\u001b[39m(value):\n\u001b[1;32m     64\u001b[0m \u001b[38;5;250m    \u001b[39m\u001b[38;5;124;03m\"\"\"\u001b[39;00m\n\u001b[1;32m     65\u001b[0m \u001b[38;5;124;03m    Decodes binary data to str\u001b[39;00m\n\u001b[1;32m     66\u001b[0m \u001b[38;5;124;03m    \"\"\"\u001b[39;00m\n\u001b[1;32m     67\u001b[0m     \u001b[38;5;28;01mif\u001b[39;00m \u001b[38;5;28misinstance\u001b[39m(value, \u001b[38;5;28mbytes\u001b[39m):\n",
      "\u001b[0;31mKeyboardInterrupt\u001b[0m: "
     ]
    },
    {
     "name": "stderr",
     "output_type": "stream",
     "text": [
      "PAAC2409.parquet:  40%|███████████████████████████████████████████████████████████▉                                                                                           | 120k/303k [00:16<00:24, 7.48kB/s]"
     ]
    }
   ],
   "source": [
    "import pandas as pd\n",
    "from pysus.online_data.SIA import SIA\n",
    "from datetime import datetime\n",
    "import os\n",
    "import gc\n",
    "\n",
    "# Configurações\n",
    "ano = 2024  # Atualizado para 2024\n",
    "grupos = ['PA']  # Foco apenas nos arquivos ambulatoriais \"PA\"\n",
    "output_dir = \"/home/amcjr/pysus/\"\n",
    "if not os.path.exists(output_dir):\n",
    "    os.makedirs(output_dir)\n",
    "\n",
    "log_file = os.path.join(output_dir, f\"log_processo_{datetime.now().strftime('%d%m%y_%H%M%S')}.xlsx\")\n",
    "\n",
    "def iniciar_log():\n",
    "    df_log = pd.DataFrame(columns=[\"Inicio\", \"Fim\", \"Duracao (horas)\", \"Arquivos Processados\"])\n",
    "    return df_log\n",
    "\n",
    "def registrar_log(df_log, inicio, fim, arquivos_processados):\n",
    "    duracao = (fim - inicio).total_seconds() / 3600.0\n",
    "    duracao_str = f\"{int(duracao)}:{int((duracao - int(duracao)) * 60)}\"\n",
    "    novo_registro = pd.DataFrame([{\n",
    "        \"Inicio\": inicio.strftime('%d-%m-%y %H:%M:%S'),\n",
    "        \"Fim\": fim.strftime('%d-%m-%y %H:%M:%S'),\n",
    "        \"Duracao (horas)\": duracao_str,\n",
    "        \"Arquivos Processados\": arquivos_processados\n",
    "    }])\n",
    "    df_log = pd.concat([df_log, novo_registro], ignore_index=True)\n",
    "    df_log.to_excel(log_file, index=False)\n",
    "\n",
    "def listar_arquivos_disponiveis(ano, grupos):\n",
    "    sia = SIA()\n",
    "    arquivos_disponiveis = []\n",
    "    sia.load()  # Load necessary paths or configurations\n",
    "    for grupo in grupos:\n",
    "        try:\n",
    "            print(f\"[{datetime.now()}] Tentando carregar arquivos do grupo {grupo} para o ano {ano}.\")\n",
    "            arquivos = sia.get_files(group=grupo, year=ano)\n",
    "            if arquivos:\n",
    "                arquivos_disponiveis.extend(arquivos)\n",
    "                print(f\"[{datetime.now()}] Arquivos carregados para {grupo}-{ano}: {arquivos}\")\n",
    "            else:\n",
    "                print(f\"[{datetime.now()}] Nenhum arquivo encontrado para {grupo}-{ano}.\")\n",
    "        except Exception as e:\n",
    "            print(f\"[{datetime.now()}] Erro ao carregar arquivos para {grupo}-{ano}: {e}\")\n",
    "    return arquivos_disponiveis\n",
    "\n",
    "def montar_dataframe_info(arquivos_disponiveis):\n",
    "    # Monta um DataFrame com informações gerais sobre os arquivos disponíveis\n",
    "    df_info = pd.DataFrame(arquivos_disponiveis, columns=['Arquivo'])\n",
    "    df_info['Ano'] = ano\n",
    "    df_info['Grupo'] = 'PA'\n",
    "    return df_info\n",
    "\n",
    "def processar_e_salvar(arquivo):\n",
    "    sia = SIA()\n",
    "    try:\n",
    "        parquet_file_path = os.path.join(output_dir, f\"{arquivo}.parquet\")\n",
    "        \n",
    "        # Verifica se o arquivo já foi baixado\n",
    "        if os.path.exists(parquet_file_path):\n",
    "            print(f\"[{datetime.now()}] {arquivo} já foi baixado. Pulando download.\")\n",
    "            return True\n",
    "\n",
    "        print(f\"[{datetime.now()}] Baixando e processando {arquivo}.\")\n",
    "        parquet_set = sia.download([arquivo])\n",
    "        \n",
    "        if not parquet_set:\n",
    "            print(f\"[{datetime.now()}] Não foi possível baixar o arquivo {arquivo}.\")\n",
    "            return False\n",
    "\n",
    "        print(f\"[{datetime.now()}] Arquivo {arquivo} salvo em {parquet_file_path}.\")\n",
    "        gc.collect()\n",
    "        return True\n",
    "        \n",
    "    except Exception as e:\n",
    "        print(f\"[{datetime.now()}] Erro ao processar {arquivo}: {e}\")\n",
    "        return False\n",
    "\n",
    "def main():\n",
    "    print(f\"[{datetime.now()}] Processo iniciado.\")\n",
    "    df_log = iniciar_log()\n",
    "    inicio = datetime.now()\n",
    "    \n",
    "    arquivos_disponiveis = listar_arquivos_disponiveis(ano, grupos)\n",
    "    total_arquivos = len(arquivos_disponiveis)\n",
    "    print(f\"[{datetime.now()}] Total de arquivos disponíveis: {total_arquivos}\")\n",
    "    \n",
    "    # Montar DataFrame com informações gerais dos arquivos disponíveis\n",
    "    df_info = montar_dataframe_info(arquivos_disponiveis)\n",
    "    print(df_info)  # Exibe o DataFrame com informações gerais dos arquivos\n",
    "    \n",
    "    arquivos_processados = 0\n",
    "    for i, arquivo in enumerate(arquivos_disponiveis, 1):\n",
    "        sucesso = processar_e_salvar(arquivo)\n",
    "        if sucesso:\n",
    "            arquivos_processados += 1\n",
    "        print(f\"Arquivos processados: {arquivos_processados} de {total_arquivos}\")\n",
    "        percentual_processado = (arquivos_processados / total_arquivos) * 100\n",
    "        print(f\"Percentual de processamento: {percentual_processado:.0f}%\")\n",
    "\n",
    "    fim = datetime.now()\n",
    "    print(f\"[{datetime.now()}] Processo finalizado.\")\n",
    "    registrar_log(df_log, inicio, fim, arquivos_processados)\n",
    "\n",
    "if __name__ == \"__main__\":\n",
    "    main()\n"
   ]
  },
  {
   "cell_type": "code",
   "execution_count": null,
   "id": "df7cab04-1348-4cde-94c3-def8e83699ab",
   "metadata": {},
   "outputs": [],
   "source": []
  },
  {
   "cell_type": "code",
   "execution_count": null,
   "id": "c85411f4-4cb6-481a-bd21-dc77cffdc3e5",
   "metadata": {},
   "outputs": [],
   "source": []
  }
 ],
 "metadata": {
  "kernelspec": {
   "display_name": "Python (pysus_env)",
   "language": "python",
   "name": "pysus_env"
  },
  "language_info": {
   "codemirror_mode": {
    "name": "ipython",
    "version": 3
   },
   "file_extension": ".py",
   "mimetype": "text/x-python",
   "name": "python",
   "nbconvert_exporter": "python",
   "pygments_lexer": "ipython3",
   "version": "3.10.12"
  }
 },
 "nbformat": 4,
 "nbformat_minor": 5
}
