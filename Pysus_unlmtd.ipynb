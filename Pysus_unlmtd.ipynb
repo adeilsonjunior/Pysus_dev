{
 "cells": [
  {
   "cell_type": "code",
   "execution_count": 2,
   "id": "4ed051e9-d502-489e-ba2a-518bd598af0a",
   "metadata": {},
   "outputs": [
    {
     "name": "stdout",
     "output_type": "stream",
     "text": [
      "[2024-09-16 14:59:23.012461] Processo iniciado.\n",
      "[2024-09-16 14:59:27.196008] Tentando carregar arquivos do grupo PA para o ano 2024.\n",
      "[2024-09-16 14:59:27.391928] Arquivos carregados para PA-2024: [PAAC2401.dbc, PAAC2402.dbc, PAAC2403.dbc, PAAC2404.dbc, PAAC2405.dbc, PAAC2406.dbc, PAAC2407.dbc, PAAL2401.dbc, PAAL2402.dbc, PAAL2403.dbc, PAAL2404.dbc, PAAL2405.dbc, PAAL2406.dbc, PAAL2407.dbc, PAAM2401.dbc, PAAM2402.dbc, PAAM2403.dbc, PAAM2404.dbc, PAAM2405.dbc, PAAM2406.dbc, PAAM2407.dbc, PAAP2401.dbc, PAAP2402.dbc, PAAP2403.dbc, PAAP2404.dbc, PAAP2405.dbc, PAAP2406.dbc, PAAP2407.dbc, PABA2401.dbc, PABA2402.dbc, PABA2403.dbc, PABA2404.dbc, PABA2405.dbc, PABA2406.dbc, PABA2407.dbc, PACE2401.dbc, PACE2402.dbc, PACE2403.dbc, PACE2404.dbc, PACE2405.dbc, PACE2406.dbc, PACE2407.dbc, PADF2401.dbc, PADF2402.dbc, PADF2403.dbc, PADF2404.dbc, PADF2405.dbc, PADF2406.dbc, PADF2407.dbc, PAES2401.dbc, PAES2402.dbc, PAES2403.dbc, PAES2404.dbc, PAES2405.dbc, PAES2406.dbc, PAES2407.dbc, PAGO2401.dbc, PAGO2402.dbc, PAGO2403.dbc, PAGO2404.dbc, PAGO2405.dbc, PAGO2406.dbc, PAGO2407.dbc, PAMA2401.dbc, PAMA2402.dbc, PAMA2403.dbc, PAMA2404.dbc, PAMA2405.dbc, PAMA2406.dbc, PAMA2407.dbc, PAMG2401a.dbc, PAMG2401b.dbc, PAMG2402a.dbc, PAMG2402b.dbc, PAMG2403a.dbc, PAMG2403b.dbc, PAMG2404a.dbc, PAMG2404b.dbc, PAMG2405a.dbc, PAMG2405b.dbc, PAMG2406a.dbc, PAMG2406b.dbc, PAMG2407a.dbc, PAMG2407b.dbc, PAMS2401.dbc, PAMS2402.dbc, PAMS2403.dbc, PAMS2404.dbc, PAMS2405.dbc, PAMS2406.dbc, PAMS2407.dbc, PAMT2401.dbc, PAMT2402.dbc, PAMT2403.dbc, PAMT2404.dbc, PAMT2405.dbc, PAMT2406.dbc, PAMT2407.dbc, PAPA2401.dbc, PAPA2402.dbc, PAPA2403.dbc, PAPA2404.dbc, PAPA2405.dbc, PAPA2406.dbc, PAPA2407.dbc, PAPB2401.dbc, PAPB2402.dbc, PAPB2403.dbc, PAPB2404.dbc, PAPB2405.dbc, PAPB2406.dbc, PAPB2407.dbc, PAPE2401.dbc, PAPE2402.dbc, PAPE2403.dbc, PAPE2404.dbc, PAPE2405.dbc, PAPE2406.dbc, PAPE2407.dbc, PAPI2401.dbc, PAPI2402.dbc, PAPI2403.dbc, PAPI2404.dbc, PAPI2405.dbc, PAPI2406.dbc, PAPI2407.dbc, PAPR2401.dbc, PAPR2402.dbc, PAPR2403.dbc, PAPR2404.dbc, PAPR2405.dbc, PAPR2406.dbc, PAPR2407.dbc, PARJ2401a.dbc, PARJ2401b.dbc, PARJ2402a.dbc, PARJ2402b.dbc, PARJ2403a.dbc, PARJ2403b.dbc, PARJ2404a.dbc, PARJ2404b.dbc, PARJ2405a.dbc, PARJ2405b.dbc, PARJ2406a.dbc, PARJ2406b.dbc, PARJ2407a.dbc, PARJ2407b.dbc, PARN2401.dbc, PARN2402.dbc, PARN2403.dbc, PARN2404.dbc, PARN2405.dbc, PARN2406.dbc, PARN2407.dbc, PARO2401.dbc, PARO2402.dbc, PARO2403.dbc, PARO2404.dbc, PARO2405.dbc, PARO2406.dbc, PARO2407.dbc, PARR2401.dbc, PARR2402.dbc, PARR2403.dbc, PARR2404.dbc, PARR2405.dbc, PARR2406.dbc, PARR2407.dbc, PARS2401.dbc, PARS2402.dbc, PARS2403.dbc, PARS2404.dbc, PARS2405.dbc, PARS2406.dbc, PARS2407.dbc, PASC2401.dbc, PASC2402.dbc, PASC2403.dbc, PASC2404.dbc, PASC2405.dbc, PASC2406.dbc, PASC2407.dbc, PASE2401.dbc, PASE2402.dbc, PASE2403.dbc, PASE2404.dbc, PASE2405.dbc, PASE2406.dbc, PASE2407.dbc, PASP2401a.dbc, PASP2401b.dbc, PASP2401c.dbc, PASP2402a.dbc, PASP2402b.dbc, PASP2402c.dbc, PASP2403a.dbc, PASP2403b.dbc, PASP2403c.dbc, PASP2404a.dbc, PASP2404b.dbc, PASP2404c.dbc, PASP2405a.dbc, PASP2405b.dbc, PASP2405c.dbc, PASP2406a.dbc, PASP2406b.dbc, PASP2406c.dbc, PASP2407a.dbc, PASP2407b.dbc, PASP2407c.dbc, PATO2401.dbc, PATO2402.dbc, PATO2403.dbc, PATO2404.dbc, PATO2405.dbc, PATO2406.dbc, PATO2407.dbc]\n",
      "[2024-09-16 14:59:27.393799] Total de arquivos disponíveis: 217\n",
      "          Arquivo   Ano Grupo\n",
      "0    PAAC2401.dbc  2024    PA\n",
      "1    PAAC2402.dbc  2024    PA\n",
      "2    PAAC2403.dbc  2024    PA\n",
      "3    PAAC2404.dbc  2024    PA\n",
      "4    PAAC2405.dbc  2024    PA\n",
      "..            ...   ...   ...\n",
      "212  PATO2403.dbc  2024    PA\n",
      "213  PATO2404.dbc  2024    PA\n",
      "214  PATO2405.dbc  2024    PA\n",
      "215  PATO2406.dbc  2024    PA\n",
      "216  PATO2407.dbc  2024    PA\n",
      "\n",
      "[217 rows x 3 columns]\n",
      "[2024-09-16 14:59:27.489575] Baixando e processando PAAC2401.dbc.\n"
     ]
    },
    {
     "name": "stderr",
     "output_type": "stream",
     "text": [
      "100%|████████████████████████████████████████████████████████████████████████████████████████████████████████████████████████████████████████████████████████████████████████| 2.73M/2.73M [00:00<00:00, 555MB/s]\n"
     ]
    },
    {
     "name": "stdout",
     "output_type": "stream",
     "text": [
      "[2024-09-16 14:59:27.501924] Arquivo PAAC2401.dbc salvo em /home/amcjr/pysus/PAAC2401.dbc.parquet.\n",
      "Arquivos processados: 1 de 217\n",
      "Percentual de processamento: 0%\n",
      "[2024-09-16 14:59:27.631996] Baixando e processando PAAC2402.dbc.\n"
     ]
    },
    {
     "name": "stderr",
     "output_type": "stream",
     "text": [
      "100%|████████████████████████████████████████████████████████████████████████████████████████████████████████████████████████████████████████████████████████████████████████| 2.60M/2.60M [00:00<00:00, 770MB/s]"
     ]
    },
    {
     "name": "stdout",
     "output_type": "stream",
     "text": [
      "[2024-09-16 14:59:27.638722] Arquivo PAAC2402.dbc salvo em /home/amcjr/pysus/PAAC2402.dbc.parquet.\n",
      "Arquivos processados: 2 de 217\n",
      "Percentual de processamento: 1%\n"
     ]
    },
    {
     "name": "stderr",
     "output_type": "stream",
     "text": [
      "\n"
     ]
    },
    {
     "name": "stdout",
     "output_type": "stream",
     "text": [
      "[2024-09-16 14:59:27.768475] Baixando e processando PAAC2403.dbc.\n"
     ]
    },
    {
     "name": "stderr",
     "output_type": "stream",
     "text": [
      "100%|████████████████████████████████████████████████████████████████████████████████████████████████████████████████████████████████████████████████████████████████████████| 2.39M/2.39M [00:00<00:00, 591MB/s]\n"
     ]
    },
    {
     "name": "stdout",
     "output_type": "stream",
     "text": [
      "[2024-09-16 14:59:27.776635] Arquivo PAAC2403.dbc salvo em /home/amcjr/pysus/PAAC2403.dbc.parquet.\n",
      "Arquivos processados: 3 de 217\n",
      "Percentual de processamento: 1%\n",
      "[2024-09-16 14:59:27.922481] Baixando e processando PAAC2404.dbc.\n"
     ]
    },
    {
     "name": "stderr",
     "output_type": "stream",
     "text": [
      "100%|████████████████████████████████████████████████████████████████████████████████████████████████████████████████████████████████████████████████████████████████████████| 3.41M/3.41M [00:00<00:00, 635MB/s]"
     ]
    },
    {
     "name": "stdout",
     "output_type": "stream",
     "text": [
      "[2024-09-16 14:59:27.931371] Arquivo PAAC2404.dbc salvo em /home/amcjr/pysus/PAAC2404.dbc.parquet.\n"
     ]
    },
    {
     "name": "stderr",
     "output_type": "stream",
     "text": [
      "\n"
     ]
    },
    {
     "name": "stdout",
     "output_type": "stream",
     "text": [
      "Arquivos processados: 4 de 217\n",
      "Percentual de processamento: 2%\n",
      "[2024-09-16 14:59:28.061534] Baixando e processando PAAC2405.dbc.\n"
     ]
    },
    {
     "name": "stderr",
     "output_type": "stream",
     "text": [
      "100%|███████████████████████████████████████████████████████████████████████████████████████████████████████████████████████████████████████████████████████████████████████| 3.55M/3.55M [00:00<00:00, 1.17GB/s]\n"
     ]
    },
    {
     "name": "stdout",
     "output_type": "stream",
     "text": [
      "[2024-09-16 14:59:28.069513] Arquivo PAAC2405.dbc salvo em /home/amcjr/pysus/PAAC2405.dbc.parquet.\n",
      "Arquivos processados: 5 de 217\n",
      "Percentual de processamento: 2%\n",
      "[2024-09-16 14:59:28.231323] Baixando e processando PAAC2406.dbc.\n"
     ]
    },
    {
     "name": "stderr",
     "output_type": "stream",
     "text": [
      "PAAC2406.parquet: 100%|███████████████████████████████████████████████████████████████████████████████████████████████████████████████████████████████████████████████████████| 297k/297k [00:10<00:00, 27.1kB/s]\n"
     ]
    },
    {
     "name": "stdout",
     "output_type": "stream",
     "text": [
      "[2024-09-16 14:59:40.410564] Arquivo PAAC2406.dbc salvo em /home/amcjr/pysus/PAAC2406.dbc.parquet.\n",
      "Arquivos processados: 6 de 217\n",
      "Percentual de processamento: 3%\n",
      "[2024-09-16 14:59:40.534805] Baixando e processando PAAC2407.dbc.\n"
     ]
    },
    {
     "name": "stderr",
     "output_type": "stream",
     "text": [
      "PAAC2407.parquet: 100%|███████████████████████████████████████████████████████████████████████████████████████████████████████████████████████████████████████████████████████| 301k/301k [00:10<00:00, 28.4kB/s]\n"
     ]
    },
    {
     "name": "stdout",
     "output_type": "stream",
     "text": [
      "[2024-09-16 14:59:52.302224] Arquivo PAAC2407.dbc salvo em /home/amcjr/pysus/PAAC2407.dbc.parquet.\n",
      "Arquivos processados: 7 de 217\n",
      "Percentual de processamento: 3%\n",
      "[2024-09-16 14:59:52.440881] Baixando e processando PAAL2401.dbc.\n"
     ]
    },
    {
     "name": "stderr",
     "output_type": "stream",
     "text": [
      "100%|███████████████████████████████████████████████████████████████████████████████████████████████████████████████████████████████████████████████████████████████████████| 19.9M/19.9M [00:00<00:00, 1.87GB/s]\n"
     ]
    },
    {
     "name": "stdout",
     "output_type": "stream",
     "text": [
      "[2024-09-16 14:59:52.455000] Arquivo PAAL2401.dbc salvo em /home/amcjr/pysus/PAAL2401.dbc.parquet.\n",
      "Arquivos processados: 8 de 217\n",
      "Percentual de processamento: 4%\n",
      "[2024-09-16 14:59:52.585864] Baixando e processando PAAL2402.dbc.\n"
     ]
    },
    {
     "name": "stderr",
     "output_type": "stream",
     "text": [
      "100%|███████████████████████████████████████████████████████████████████████████████████████████████████████████████████████████████████████████████████████████████████████| 21.3M/21.3M [00:00<00:00, 1.11GB/s]\n"
     ]
    },
    {
     "name": "stdout",
     "output_type": "stream",
     "text": [
      "[2024-09-16 14:59:52.611916] Arquivo PAAL2402.dbc salvo em /home/amcjr/pysus/PAAL2402.dbc.parquet.\n",
      "Arquivos processados: 9 de 217\n",
      "Percentual de processamento: 4%\n",
      "[2024-09-16 14:59:52.752107] Baixando e processando PAAL2403.dbc.\n"
     ]
    },
    {
     "name": "stderr",
     "output_type": "stream",
     "text": [
      "100%|███████████████████████████████████████████████████████████████████████████████████████████████████████████████████████████████████████████████████████████████████████| 21.5M/21.5M [00:00<00:00, 2.50GB/s]\n"
     ]
    },
    {
     "name": "stdout",
     "output_type": "stream",
     "text": [
      "[2024-09-16 14:59:52.764837] Arquivo PAAL2403.dbc salvo em /home/amcjr/pysus/PAAL2403.dbc.parquet.\n",
      "Arquivos processados: 10 de 217\n",
      "Percentual de processamento: 5%\n",
      "[2024-09-16 14:59:52.896737] Baixando e processando PAAL2404.dbc.\n"
     ]
    },
    {
     "name": "stderr",
     "output_type": "stream",
     "text": [
      "100%|███████████████████████████████████████████████████████████████████████████████████████████████████████████████████████████████████████████████████████████████████████| 20.1M/20.1M [00:00<00:00, 1.34GB/s]"
     ]
    },
    {
     "name": "stdout",
     "output_type": "stream",
     "text": [
      "[2024-09-16 14:59:52.918418] Arquivo PAAL2404.dbc salvo em /home/amcjr/pysus/PAAL2404.dbc.parquet.\n"
     ]
    },
    {
     "name": "stderr",
     "output_type": "stream",
     "text": [
      "\n"
     ]
    },
    {
     "name": "stdout",
     "output_type": "stream",
     "text": [
      "Arquivos processados: 11 de 217\n",
      "Percentual de processamento: 5%\n",
      "[2024-09-16 14:59:53.062426] Baixando e processando PAAL2405.dbc.\n"
     ]
    },
    {
     "name": "stderr",
     "output_type": "stream",
     "text": [
      "100%|███████████████████████████████████████████████████████████████████████████████████████████████████████████████████████████████████████████████████████████████████████| 22.1M/22.1M [00:00<00:00, 2.51GB/s]\n"
     ]
    },
    {
     "name": "stdout",
     "output_type": "stream",
     "text": [
      "[2024-09-16 14:59:53.078807] Arquivo PAAL2405.dbc salvo em /home/amcjr/pysus/PAAL2405.dbc.parquet.\n",
      "Arquivos processados: 12 de 217\n",
      "Percentual de processamento: 6%\n",
      "[2024-09-16 14:59:53.215379] Baixando e processando PAAL2406.dbc.\n"
     ]
    },
    {
     "name": "stderr",
     "output_type": "stream",
     "text": [
      "PAAL2406.parquet: 100%|█████████████████████████████████████████████████████████████████████████████████████████████████████████████████████████████████████████████████████| 1.50M/1.50M [00:59<00:00, 25.1kB/s]\n"
     ]
    },
    {
     "name": "stdout",
     "output_type": "stream",
     "text": [
      "[2024-09-16 15:00:57.821887] Arquivo PAAL2406.dbc salvo em /home/amcjr/pysus/PAAL2406.dbc.parquet.\n",
      "Arquivos processados: 13 de 217\n",
      "Percentual de processamento: 6%\n",
      "[2024-09-16 15:00:57.952234] Baixando e processando PAAL2407.dbc.\n"
     ]
    },
    {
     "name": "stderr",
     "output_type": "stream",
     "text": [
      "PAAL2407.parquet: 100%|███████████████████████████████████████████████████████████████████████████████████████████████████████████████████████████████████████████████████████| 910k/910k [00:37<00:00, 24.0kB/s]\n"
     ]
    },
    {
     "name": "stdout",
     "output_type": "stream",
     "text": [
      "[2024-09-16 15:01:39.930525] Arquivo PAAL2407.dbc salvo em /home/amcjr/pysus/PAAL2407.dbc.parquet.\n",
      "Arquivos processados: 14 de 217\n",
      "Percentual de processamento: 6%\n",
      "[2024-09-16 15:01:40.088928] Baixando e processando PAAM2401.dbc.\n"
     ]
    },
    {
     "name": "stderr",
     "output_type": "stream",
     "text": [
      "100%|███████████████████████████████████████████████████████████████████████████████████████████████████████████████████████████████████████████████████████████████████████| 32.6M/32.6M [00:00<00:00, 3.42GB/s]\n"
     ]
    },
    {
     "name": "stdout",
     "output_type": "stream",
     "text": [
      "[2024-09-16 15:01:40.101738] Arquivo PAAM2401.dbc salvo em /home/amcjr/pysus/PAAM2401.dbc.parquet.\n",
      "Arquivos processados: 15 de 217\n",
      "Percentual de processamento: 7%\n",
      "[2024-09-16 15:01:40.225413] Baixando e processando PAAM2402.dbc.\n"
     ]
    },
    {
     "name": "stderr",
     "output_type": "stream",
     "text": [
      "100%|███████████████████████████████████████████████████████████████████████████████████████████████████████████████████████████████████████████████████████████████████████| 28.7M/28.7M [00:00<00:00, 9.03GB/s]\n"
     ]
    },
    {
     "name": "stdout",
     "output_type": "stream",
     "text": [
      "[2024-09-16 15:01:40.231548] Arquivo PAAM2402.dbc salvo em /home/amcjr/pysus/PAAM2402.dbc.parquet.\n",
      "Arquivos processados: 16 de 217\n",
      "Percentual de processamento: 7%\n",
      "[2024-09-16 15:01:40.362830] Baixando e processando PAAM2403.dbc.\n"
     ]
    },
    {
     "name": "stderr",
     "output_type": "stream",
     "text": [
      "100%|███████████████████████████████████████████████████████████████████████████████████████████████████████████████████████████████████████████████████████████████████████| 29.7M/29.7M [00:00<00:00, 4.55GB/s]\n"
     ]
    },
    {
     "name": "stdout",
     "output_type": "stream",
     "text": [
      "[2024-09-16 15:01:40.372262] Arquivo PAAM2403.dbc salvo em /home/amcjr/pysus/PAAM2403.dbc.parquet.\n",
      "Arquivos processados: 17 de 217\n",
      "Percentual de processamento: 8%\n",
      "[2024-09-16 15:01:40.511959] Baixando e processando PAAM2404.dbc.\n"
     ]
    },
    {
     "name": "stderr",
     "output_type": "stream",
     "text": [
      "100%|███████████████████████████████████████████████████████████████████████████████████████████████████████████████████████████████████████████████████████████████████████| 27.8M/27.8M [00:00<00:00, 2.27GB/s]\n"
     ]
    },
    {
     "name": "stdout",
     "output_type": "stream",
     "text": [
      "[2024-09-16 15:01:40.529622] Arquivo PAAM2404.dbc salvo em /home/amcjr/pysus/PAAM2404.dbc.parquet.\n",
      "Arquivos processados: 18 de 217\n",
      "Percentual de processamento: 8%\n",
      "[2024-09-16 15:01:40.661371] Baixando e processando PAAM2405.dbc.\n"
     ]
    },
    {
     "name": "stderr",
     "output_type": "stream",
     "text": [
      "100%|███████████████████████████████████████████████████████████████████████████████████████████████████████████████████████████████████████████████████████████████████████| 29.8M/29.8M [00:00<00:00, 3.24GB/s]"
     ]
    },
    {
     "name": "stdout",
     "output_type": "stream",
     "text": [
      "[2024-09-16 15:01:40.673936] Arquivo PAAM2405.dbc salvo em /home/amcjr/pysus/PAAM2405.dbc.parquet.\n"
     ]
    },
    {
     "name": "stderr",
     "output_type": "stream",
     "text": [
      "\n"
     ]
    },
    {
     "name": "stdout",
     "output_type": "stream",
     "text": [
      "Arquivos processados: 19 de 217\n",
      "Percentual de processamento: 9%\n",
      "[2024-09-16 15:01:40.841189] Baixando e processando PAAM2406.dbc.\n"
     ]
    },
    {
     "name": "stderr",
     "output_type": "stream",
     "text": [
      "PAAM2406.parquet: 100%|█████████████████████████████████████████████████████████████████████████████████████████████████████████████████████████████████████████████████████| 2.03M/2.03M [01:20<00:00, 25.1kB/s]\n"
     ]
    },
    {
     "name": "stdout",
     "output_type": "stream",
     "text": [
      "[2024-09-16 15:03:08.823769] Arquivo PAAM2406.dbc salvo em /home/amcjr/pysus/PAAM2406.dbc.parquet.\n",
      "Arquivos processados: 20 de 217\n",
      "Percentual de processamento: 9%\n",
      "[2024-09-16 15:03:08.956413] Baixando e processando PAAM2407.dbc.\n"
     ]
    },
    {
     "name": "stderr",
     "output_type": "stream",
     "text": [
      "PAAM2407.parquet: 100%|█████████████████████████████████████████████████████████████████████████████████████████████████████████████████████████████████████████████████████| 2.00M/2.00M [01:19<00:00, 25.1kB/s]\n"
     ]
    },
    {
     "name": "stdout",
     "output_type": "stream",
     "text": [
      "[2024-09-16 15:04:35.857851] Arquivo PAAM2407.dbc salvo em /home/amcjr/pysus/PAAM2407.dbc.parquet.\n",
      "Arquivos processados: 21 de 217\n",
      "Percentual de processamento: 10%\n",
      "[2024-09-16 15:04:36.023112] Baixando e processando PAAP2401.dbc.\n"
     ]
    },
    {
     "name": "stderr",
     "output_type": "stream",
     "text": [
      "100%|████████████████████████████████████████████████████████████████████████████████████████████████████████████████████████████████████████████████████████████████████████| 1.59M/1.59M [00:00<00:00, 264MB/s]\n"
     ]
    },
    {
     "name": "stdout",
     "output_type": "stream",
     "text": [
      "[2024-09-16 15:04:36.032430] Arquivo PAAP2401.dbc salvo em /home/amcjr/pysus/PAAP2401.dbc.parquet.\n",
      "Arquivos processados: 22 de 217\n",
      "Percentual de processamento: 10%\n",
      "[2024-09-16 15:04:36.167524] Baixando e processando PAAP2402.dbc.\n"
     ]
    },
    {
     "name": "stderr",
     "output_type": "stream",
     "text": [
      "100%|████████████████████████████████████████████████████████████████████████████████████████████████████████████████████████████████████████████████████████████████████████| 1.76M/1.76M [00:00<00:00, 514MB/s]\n"
     ]
    },
    {
     "name": "stdout",
     "output_type": "stream",
     "text": [
      "[2024-09-16 15:04:36.175243] Arquivo PAAP2402.dbc salvo em /home/amcjr/pysus/PAAP2402.dbc.parquet.\n",
      "Arquivos processados: 23 de 217\n",
      "Percentual de processamento: 11%\n",
      "[2024-09-16 15:04:36.316924] Baixando e processando PAAP2403.dbc.\n"
     ]
    },
    {
     "name": "stderr",
     "output_type": "stream",
     "text": [
      "100%|████████████████████████████████████████████████████████████████████████████████████████████████████████████████████████████████████████████████████████████████████████| 1.79M/1.79M [00:00<00:00, 308MB/s]"
     ]
    },
    {
     "name": "stdout",
     "output_type": "stream",
     "text": [
      "[2024-09-16 15:04:36.325798] Arquivo PAAP2403.dbc salvo em /home/amcjr/pysus/PAAP2403.dbc.parquet.\n",
      "Arquivos processados: 24 de 217\n",
      "Percentual de processamento: 11%\n"
     ]
    },
    {
     "name": "stderr",
     "output_type": "stream",
     "text": [
      "\n"
     ]
    },
    {
     "name": "stdout",
     "output_type": "stream",
     "text": [
      "[2024-09-16 15:04:36.469998] Baixando e processando PAAP2404.dbc.\n"
     ]
    },
    {
     "name": "stderr",
     "output_type": "stream",
     "text": [
      "100%|████████████████████████████████████████████████████████████████████████████████████████████████████████████████████████████████████████████████████████████████████████| 1.66M/1.66M [00:00<00:00, 607MB/s]\n"
     ]
    },
    {
     "name": "stdout",
     "output_type": "stream",
     "text": [
      "[2024-09-16 15:04:36.477326] Arquivo PAAP2404.dbc salvo em /home/amcjr/pysus/PAAP2404.dbc.parquet.\n",
      "Arquivos processados: 25 de 217\n",
      "Percentual de processamento: 12%\n",
      "[2024-09-16 15:04:36.618299] Baixando e processando PAAP2405.dbc.\n"
     ]
    },
    {
     "name": "stderr",
     "output_type": "stream",
     "text": [
      "100%|████████████████████████████████████████████████████████████████████████████████████████████████████████████████████████████████████████████████████████████████████████| 1.94M/1.94M [00:00<00:00, 471MB/s]"
     ]
    },
    {
     "name": "stdout",
     "output_type": "stream",
     "text": [
      "[2024-09-16 15:04:36.628157] Arquivo PAAP2405.dbc salvo em /home/amcjr/pysus/PAAP2405.dbc.parquet.\n"
     ]
    },
    {
     "name": "stderr",
     "output_type": "stream",
     "text": [
      "\n"
     ]
    },
    {
     "name": "stdout",
     "output_type": "stream",
     "text": [
      "Arquivos processados: 26 de 217\n",
      "Percentual de processamento: 12%\n",
      "[2024-09-16 15:04:36.784233] Baixando e processando PAAP2406.dbc.\n"
     ]
    },
    {
     "name": "stderr",
     "output_type": "stream",
     "text": [
      "PAAP2406.parquet: 100%|███████████████████████████████████████████████████████████████████████████████████████████████████████████████████████████████████████████████████████| 167k/167k [00:07<00:00, 22.5kB/s]\n"
     ]
    },
    {
     "name": "stdout",
     "output_type": "stream",
     "text": [
      "[2024-09-16 15:04:45.013181] Arquivo PAAP2406.dbc salvo em /home/amcjr/pysus/PAAP2406.dbc.parquet.\n",
      "Arquivos processados: 27 de 217\n",
      "Percentual de processamento: 12%\n",
      "[2024-09-16 15:04:45.143155] Baixando e processando PAAP2407.dbc.\n"
     ]
    },
    {
     "name": "stderr",
     "output_type": "stream",
     "text": [
      "PAAP2407.parquet: 100%|███████████████████████████████████████████████████████████████████████████████████████████████████████████████████████████████████████████████████████| 160k/160k [00:06<00:00, 25.0kB/s]\n"
     ]
    },
    {
     "name": "stdout",
     "output_type": "stream",
     "text": [
      "[2024-09-16 15:04:52.305219] Arquivo PAAP2407.dbc salvo em /home/amcjr/pysus/PAAP2407.dbc.parquet.\n",
      "Arquivos processados: 28 de 217\n",
      "Percentual de processamento: 13%\n",
      "[2024-09-16 15:04:52.459332] Baixando e processando PABA2401.dbc.\n"
     ]
    },
    {
     "name": "stderr",
     "output_type": "stream",
     "text": [
      "100%|███████████████████████████████████████████████████████████████████████████████████████████████████████████████████████████████████████████████████████████████████████| 79.9M/79.9M [00:00<00:00, 4.82GB/s]\n"
     ]
    },
    {
     "name": "stdout",
     "output_type": "stream",
     "text": [
      "[2024-09-16 15:04:52.479660] Arquivo PABA2401.dbc salvo em /home/amcjr/pysus/PABA2401.dbc.parquet.\n",
      "Arquivos processados: 29 de 217\n",
      "Percentual de processamento: 13%\n",
      "[2024-09-16 15:04:52.664499] Baixando e processando PABA2402.dbc.\n"
     ]
    },
    {
     "name": "stderr",
     "output_type": "stream",
     "text": [
      "100%|███████████████████████████████████████████████████████████████████████████████████████████████████████████████████████████████████████████████████████████████████████| 78.4M/78.4M [00:00<00:00, 9.85GB/s]\n"
     ]
    },
    {
     "name": "stdout",
     "output_type": "stream",
     "text": [
      "[2024-09-16 15:04:52.676219] Arquivo PABA2402.dbc salvo em /home/amcjr/pysus/PABA2402.dbc.parquet.\n",
      "Arquivos processados: 30 de 217\n",
      "Percentual de processamento: 14%\n",
      "[2024-09-16 15:04:52.860753] Baixando e processando PABA2403.dbc.\n"
     ]
    },
    {
     "name": "stderr",
     "output_type": "stream",
     "text": [
      "100%|███████████████████████████████████████████████████████████████████████████████████████████████████████████████████████████████████████████████████████████████████████| 89.7M/89.7M [00:00<00:00, 5.65GB/s]\n"
     ]
    },
    {
     "name": "stdout",
     "output_type": "stream",
     "text": [
      "[2024-09-16 15:04:52.880770] Arquivo PABA2403.dbc salvo em /home/amcjr/pysus/PABA2403.dbc.parquet.\n",
      "Arquivos processados: 31 de 217\n",
      "Percentual de processamento: 14%\n",
      "[2024-09-16 15:04:53.018186] Baixando e processando PABA2404.dbc.\n"
     ]
    },
    {
     "name": "stderr",
     "output_type": "stream",
     "text": [
      "100%|███████████████████████████████████████████████████████████████████████████████████████████████████████████████████████████████████████████████████████████████████████| 77.5M/77.5M [00:00<00:00, 8.12GB/s]"
     ]
    },
    {
     "name": "stdout",
     "output_type": "stream",
     "text": [
      "[2024-09-16 15:04:53.031914] Arquivo PABA2404.dbc salvo em /home/amcjr/pysus/PABA2404.dbc.parquet.\n",
      "Arquivos processados: 32 de 217\n",
      "Percentual de processamento: 15%\n"
     ]
    },
    {
     "name": "stderr",
     "output_type": "stream",
     "text": [
      "\n"
     ]
    },
    {
     "name": "stdout",
     "output_type": "stream",
     "text": [
      "[2024-09-16 15:04:53.183653] Baixando e processando PABA2405.dbc.\n"
     ]
    },
    {
     "name": "stderr",
     "output_type": "stream",
     "text": [
      "100%|███████████████████████████████████████████████████████████████████████████████████████████████████████████████████████████████████████████████████████████████████████| 82.6M/82.6M [00:00<00:00, 3.86GB/s]"
     ]
    },
    {
     "name": "stdout",
     "output_type": "stream",
     "text": [
      "[2024-09-16 15:04:53.211948] Arquivo PABA2405.dbc salvo em /home/amcjr/pysus/PABA2405.dbc.parquet.\n"
     ]
    },
    {
     "name": "stderr",
     "output_type": "stream",
     "text": [
      "\n"
     ]
    },
    {
     "name": "stdout",
     "output_type": "stream",
     "text": [
      "Arquivos processados: 33 de 217\n",
      "Percentual de processamento: 15%\n",
      "[2024-09-16 15:04:53.374525] Baixando e processando PABA2406.dbc.\n"
     ]
    },
    {
     "name": "stderr",
     "output_type": "stream",
     "text": [
      "PABA2406.parquet: 100%|█████████████████████████████████████████████████████████████████████████████████████████████████████████████████████████████████████████████████████| 4.88M/4.88M [03:12<00:00, 25.3kB/s]\n"
     ]
    },
    {
     "name": "stdout",
     "output_type": "stream",
     "text": [
      "[2024-09-16 15:08:24.164700] Arquivo PABA2406.dbc salvo em /home/amcjr/pysus/PABA2406.dbc.parquet.\n",
      "Arquivos processados: 34 de 217\n",
      "Percentual de processamento: 16%\n",
      "[2024-09-16 15:08:24.331456] Baixando e processando PABA2407.dbc.\n"
     ]
    },
    {
     "name": "stderr",
     "output_type": "stream",
     "text": [
      "PABA2407.parquet: 100%|█████████████████████████████████████████████████████████████████████████████████████████████████████████████████████████████████████████████████████| 5.21M/5.21M [03:17<00:00, 26.4kB/s]\n"
     ]
    },
    {
     "name": "stdout",
     "output_type": "stream",
     "text": [
      "[2024-09-16 15:12:05.385760] Arquivo PABA2407.dbc salvo em /home/amcjr/pysus/PABA2407.dbc.parquet.\n",
      "Arquivos processados: 35 de 217\n",
      "Percentual de processamento: 16%\n",
      "[2024-09-16 15:12:05.548878] Baixando e processando PACE2401.dbc.\n"
     ]
    },
    {
     "name": "stderr",
     "output_type": "stream",
     "text": [
      "100%|███████████████████████████████████████████████████████████████████████████████████████████████████████████████████████████████████████████████████████████████████████| 57.5M/57.5M [00:00<00:00, 5.67GB/s]\n"
     ]
    },
    {
     "name": "stdout",
     "output_type": "stream",
     "text": [
      "[2024-09-16 15:12:05.563719] Arquivo PACE2401.dbc salvo em /home/amcjr/pysus/PACE2401.dbc.parquet.\n",
      "Arquivos processados: 36 de 217\n",
      "Percentual de processamento: 17%\n",
      "[2024-09-16 15:12:05.700828] Baixando e processando PACE2402.dbc.\n"
     ]
    },
    {
     "name": "stderr",
     "output_type": "stream",
     "text": [
      "100%|███████████████████████████████████████████████████████████████████████████████████████████████████████████████████████████████████████████████████████████████████████| 55.9M/55.9M [00:00<00:00, 5.95GB/s]\n"
     ]
    },
    {
     "name": "stdout",
     "output_type": "stream",
     "text": [
      "[2024-09-16 15:12:05.715746] Arquivo PACE2402.dbc salvo em /home/amcjr/pysus/PACE2402.dbc.parquet.\n",
      "Arquivos processados: 37 de 217\n",
      "Percentual de processamento: 17%\n",
      "[2024-09-16 15:12:05.850832] Baixando e processando PACE2403.dbc.\n"
     ]
    },
    {
     "name": "stderr",
     "output_type": "stream",
     "text": [
      "100%|███████████████████████████████████████████████████████████████████████████████████████████████████████████████████████████████████████████████████████████████████████| 57.0M/57.0M [00:00<00:00, 2.05GB/s]"
     ]
    },
    {
     "name": "stdout",
     "output_type": "stream",
     "text": [
      "[2024-09-16 15:12:05.887426] Arquivo PACE2403.dbc salvo em /home/amcjr/pysus/PACE2403.dbc.parquet.\n",
      "Arquivos processados: 38 de 217\n",
      "Percentual de processamento: 18%\n"
     ]
    },
    {
     "name": "stderr",
     "output_type": "stream",
     "text": [
      "\n"
     ]
    },
    {
     "name": "stdout",
     "output_type": "stream",
     "text": [
      "[2024-09-16 15:12:06.038678] Baixando e processando PACE2404.dbc.\n"
     ]
    },
    {
     "name": "stderr",
     "output_type": "stream",
     "text": [
      "100%|███████████████████████████████████████████████████████████████████████████████████████████████████████████████████████████████████████████████████████████████████████| 52.7M/52.7M [00:00<00:00, 5.27GB/s]\n"
     ]
    },
    {
     "name": "stdout",
     "output_type": "stream",
     "text": [
      "[2024-09-16 15:12:06.054558] Arquivo PACE2404.dbc salvo em /home/amcjr/pysus/PACE2404.dbc.parquet.\n",
      "Arquivos processados: 39 de 217\n",
      "Percentual de processamento: 18%\n",
      "[2024-09-16 15:12:06.198730] Baixando e processando PACE2405.dbc.\n"
     ]
    },
    {
     "name": "stderr",
     "output_type": "stream",
     "text": [
      "100%|███████████████████████████████████████████████████████████████████████████████████████████████████████████████████████████████████████████████████████████████████████| 52.8M/52.8M [00:00<00:00, 3.47GB/s]"
     ]
    },
    {
     "name": "stdout",
     "output_type": "stream",
     "text": [
      "[2024-09-16 15:12:06.219865] Arquivo PACE2405.dbc salvo em /home/amcjr/pysus/PACE2405.dbc.parquet.\n",
      "Arquivos processados: 40 de 217\n",
      "Percentual de processamento: 18%\n"
     ]
    },
    {
     "name": "stderr",
     "output_type": "stream",
     "text": [
      "\n"
     ]
    },
    {
     "name": "stdout",
     "output_type": "stream",
     "text": [
      "[2024-09-16 15:12:06.355537] Baixando e processando PACE2406.dbc.\n"
     ]
    },
    {
     "name": "stderr",
     "output_type": "stream",
     "text": [
      "PACE2406.parquet: 100%|█████████████████████████████████████████████████████████████████████████████████████████████████████████████████████████████████████████████████████| 3.75M/3.75M [02:22<00:00, 26.2kB/s]\n"
     ]
    },
    {
     "name": "stdout",
     "output_type": "stream",
     "text": [
      "[2024-09-16 15:14:42.006223] Arquivo PACE2406.dbc salvo em /home/amcjr/pysus/PACE2406.dbc.parquet.\n",
      "Arquivos processados: 41 de 217\n",
      "Percentual de processamento: 19%\n",
      "[2024-09-16 15:14:42.169659] Baixando e processando PACE2407.dbc.\n"
     ]
    },
    {
     "name": "stderr",
     "output_type": "stream",
     "text": [
      "PACE2407.parquet: 100%|█████████████████████████████████████████████████████████████████████████████████████████████████████████████████████████████████████████████████████| 3.54M/3.54M [02:16<00:00, 26.0kB/s]\n"
     ]
    },
    {
     "name": "stdout",
     "output_type": "stream",
     "text": [
      "[2024-09-16 15:17:10.616184] Arquivo PACE2407.dbc salvo em /home/amcjr/pysus/PACE2407.dbc.parquet.\n",
      "Arquivos processados: 42 de 217\n",
      "Percentual de processamento: 19%\n",
      "[2024-09-16 15:17:10.752263] Baixando e processando PADF2401.dbc.\n"
     ]
    },
    {
     "name": "stderr",
     "output_type": "stream",
     "text": [
      "100%|███████████████████████████████████████████████████████████████████████████████████████████████████████████████████████████████████████████████████████████████████████| 15.3M/15.3M [00:00<00:00, 1.45GB/s]\n"
     ]
    },
    {
     "name": "stdout",
     "output_type": "stream",
     "text": [
      "[2024-09-16 15:17:10.766296] Arquivo PADF2401.dbc salvo em /home/amcjr/pysus/PADF2401.dbc.parquet.\n",
      "Arquivos processados: 43 de 217\n",
      "Percentual de processamento: 20%\n",
      "[2024-09-16 15:17:10.901518] Baixando e processando PADF2402.dbc.\n"
     ]
    },
    {
     "name": "stderr",
     "output_type": "stream",
     "text": [
      "100%|███████████████████████████████████████████████████████████████████████████████████████████████████████████████████████████████████████████████████████████████████████| 15.5M/15.5M [00:00<00:00, 1.53GB/s]\n"
     ]
    },
    {
     "name": "stdout",
     "output_type": "stream",
     "text": [
      "[2024-09-16 15:17:10.919665] Arquivo PADF2402.dbc salvo em /home/amcjr/pysus/PADF2402.dbc.parquet.\n",
      "Arquivos processados: 44 de 217\n",
      "Percentual de processamento: 20%\n",
      "[2024-09-16 15:17:11.046066] Baixando e processando PADF2403.dbc.\n"
     ]
    },
    {
     "name": "stderr",
     "output_type": "stream",
     "text": [
      "100%|███████████████████████████████████████████████████████████████████████████████████████████████████████████████████████████████████████████████████████████████████████| 15.6M/15.6M [00:00<00:00, 4.56GB/s]\n"
     ]
    },
    {
     "name": "stdout",
     "output_type": "stream",
     "text": [
      "[2024-09-16 15:17:11.052517] Arquivo PADF2403.dbc salvo em /home/amcjr/pysus/PADF2403.dbc.parquet.\n",
      "Arquivos processados: 45 de 217\n",
      "Percentual de processamento: 21%\n",
      "[2024-09-16 15:17:11.197135] Baixando e processando PADF2404.dbc.\n"
     ]
    },
    {
     "name": "stderr",
     "output_type": "stream",
     "text": [
      "100%|███████████████████████████████████████████████████████████████████████████████████████████████████████████████████████████████████████████████████████████████████████| 14.9M/14.9M [00:00<00:00, 1.68GB/s]\n"
     ]
    },
    {
     "name": "stdout",
     "output_type": "stream",
     "text": [
      "[2024-09-16 15:17:11.210347] Arquivo PADF2404.dbc salvo em /home/amcjr/pysus/PADF2404.dbc.parquet.\n",
      "Arquivos processados: 46 de 217\n",
      "Percentual de processamento: 21%\n",
      "[2024-09-16 15:17:11.355274] Baixando e processando PADF2405.dbc.\n"
     ]
    },
    {
     "name": "stderr",
     "output_type": "stream",
     "text": [
      "100%|███████████████████████████████████████████████████████████████████████████████████████████████████████████████████████████████████████████████████████████████████████| 14.3M/14.3M [00:00<00:00, 2.14GB/s]"
     ]
    },
    {
     "name": "stdout",
     "output_type": "stream",
     "text": [
      "[2024-09-16 15:17:11.364827] Arquivo PADF2405.dbc salvo em /home/amcjr/pysus/PADF2405.dbc.parquet.\n"
     ]
    },
    {
     "name": "stderr",
     "output_type": "stream",
     "text": [
      "\n"
     ]
    },
    {
     "name": "stdout",
     "output_type": "stream",
     "text": [
      "Arquivos processados: 47 de 217\n",
      "Percentual de processamento: 22%\n",
      "[2024-09-16 15:17:11.520294] Baixando e processando PADF2406.dbc.\n"
     ]
    },
    {
     "name": "stderr",
     "output_type": "stream",
     "text": [
      "PADF2406.parquet: 100%|█████████████████████████████████████████████████████████████████████████████████████████████████████████████████████████████████████████████████████| 1.02M/1.02M [00:38<00:00, 26.5kB/s]\n"
     ]
    },
    {
     "name": "stdout",
     "output_type": "stream",
     "text": [
      "[2024-09-16 15:17:54.071477] Arquivo PADF2406.dbc salvo em /home/amcjr/pysus/PADF2406.dbc.parquet.\n",
      "Arquivos processados: 48 de 217\n",
      "Percentual de processamento: 22%\n",
      "[2024-09-16 15:17:54.217453] Baixando e processando PADF2407.dbc.\n"
     ]
    },
    {
     "name": "stderr",
     "output_type": "stream",
     "text": [
      "PADF2407.parquet: 100%|█████████████████████████████████████████████████████████████████████████████████████████████████████████████████████████████████████████████████████| 1.05M/1.05M [00:39<00:00, 26.9kB/s]\n"
     ]
    },
    {
     "name": "stdout",
     "output_type": "stream",
     "text": [
      "[2024-09-16 15:18:37.740593] Arquivo PADF2407.dbc salvo em /home/amcjr/pysus/PADF2407.dbc.parquet.\n",
      "Arquivos processados: 49 de 217\n",
      "Percentual de processamento: 23%\n",
      "[2024-09-16 15:18:37.897962] Baixando e processando PAES2401.dbc.\n"
     ]
    },
    {
     "name": "stderr",
     "output_type": "stream",
     "text": [
      "100%|███████████████████████████████████████████████████████████████████████████████████████████████████████████████████████████████████████████████████████████████████████| 30.4M/30.4M [00:00<00:00, 1.81GB/s]\n"
     ]
    },
    {
     "name": "stdout",
     "output_type": "stream",
     "text": [
      "[2024-09-16 15:18:37.919640] Arquivo PAES2401.dbc salvo em /home/amcjr/pysus/PAES2401.dbc.parquet.\n",
      "Arquivos processados: 50 de 217\n",
      "Percentual de processamento: 23%\n",
      "[2024-09-16 15:18:38.089389] Baixando e processando PAES2402.dbc.\n"
     ]
    },
    {
     "name": "stderr",
     "output_type": "stream",
     "text": [
      "100%|███████████████████████████████████████████████████████████████████████████████████████████████████████████████████████████████████████████████████████████████████████| 31.0M/31.0M [00:00<00:00, 1.31GB/s]\n"
     ]
    },
    {
     "name": "stdout",
     "output_type": "stream",
     "text": [
      "[2024-09-16 15:18:38.123042] Arquivo PAES2402.dbc salvo em /home/amcjr/pysus/PAES2402.dbc.parquet.\n",
      "Arquivos processados: 51 de 217\n",
      "Percentual de processamento: 24%\n",
      "[2024-09-16 15:18:38.286685] Baixando e processando PAES2403.dbc.\n"
     ]
    },
    {
     "name": "stderr",
     "output_type": "stream",
     "text": [
      "100%|███████████████████████████████████████████████████████████████████████████████████████████████████████████████████████████████████████████████████████████████████████| 31.3M/31.3M [00:00<00:00, 1.06GB/s]\n"
     ]
    },
    {
     "name": "stdout",
     "output_type": "stream",
     "text": [
      "[2024-09-16 15:18:38.331766] Arquivo PAES2403.dbc salvo em /home/amcjr/pysus/PAES2403.dbc.parquet.\n",
      "Arquivos processados: 52 de 217\n",
      "Percentual de processamento: 24%\n",
      "[2024-09-16 15:18:38.468070] Baixando e processando PAES2404.dbc.\n"
     ]
    },
    {
     "name": "stderr",
     "output_type": "stream",
     "text": [
      "100%|███████████████████████████████████████████████████████████████████████████████████████████████████████████████████████████████████████████████████████████████████████| 27.0M/27.0M [00:00<00:00, 2.32GB/s]"
     ]
    },
    {
     "name": "stdout",
     "output_type": "stream",
     "text": [
      "[2024-09-16 15:18:38.483712] Arquivo PAES2404.dbc salvo em /home/amcjr/pysus/PAES2404.dbc.parquet.\n"
     ]
    },
    {
     "name": "stderr",
     "output_type": "stream",
     "text": [
      "\n"
     ]
    },
    {
     "name": "stdout",
     "output_type": "stream",
     "text": [
      "Arquivos processados: 53 de 217\n",
      "Percentual de processamento: 24%\n",
      "[2024-09-16 15:18:38.629260] Baixando e processando PAES2405.dbc.\n"
     ]
    },
    {
     "name": "stderr",
     "output_type": "stream",
     "text": [
      "100%|███████████████████████████████████████████████████████████████████████████████████████████████████████████████████████████████████████████████████████████████████████| 28.7M/28.7M [00:00<00:00, 4.07GB/s]\n"
     ]
    },
    {
     "name": "stdout",
     "output_type": "stream",
     "text": [
      "[2024-09-16 15:18:38.642388] Arquivo PAES2405.dbc salvo em /home/amcjr/pysus/PAES2405.dbc.parquet.\n",
      "Arquivos processados: 54 de 217\n",
      "Percentual de processamento: 25%\n",
      "[2024-09-16 15:18:38.831703] Baixando e processando PAES2406.dbc.\n"
     ]
    },
    {
     "name": "stderr",
     "output_type": "stream",
     "text": [
      "PAES2406.parquet: 100%|█████████████████████████████████████████████████████████████████████████████████████████████████████████████████████████████████████████████████████| 1.94M/1.94M [01:15<00:00, 25.6kB/s]\n"
     ]
    },
    {
     "name": "stdout",
     "output_type": "stream",
     "text": [
      "[2024-09-16 15:20:01.783449] Arquivo PAES2406.dbc salvo em /home/amcjr/pysus/PAES2406.dbc.parquet.\n",
      "Arquivos processados: 55 de 217\n",
      "Percentual de processamento: 25%\n",
      "[2024-09-16 15:20:01.953446] Baixando e processando PAES2407.dbc.\n"
     ]
    },
    {
     "name": "stderr",
     "output_type": "stream",
     "text": [
      "PAES2407.parquet: 100%|█████████████████████████████████████████████████████████████████████████████████████████████████████████████████████████████████████████████████████| 1.67M/1.67M [00:58<00:00, 28.5kB/s]\n"
     ]
    },
    {
     "name": "stdout",
     "output_type": "stream",
     "text": [
      "[2024-09-16 15:21:06.329395] Arquivo PAES2407.dbc salvo em /home/amcjr/pysus/PAES2407.dbc.parquet.\n",
      "Arquivos processados: 56 de 217\n",
      "Percentual de processamento: 26%\n",
      "[2024-09-16 15:21:06.476734] Baixando e processando PAGO2401.dbc.\n"
     ]
    },
    {
     "name": "stderr",
     "output_type": "stream",
     "text": [
      "100%|███████████████████████████████████████████████████████████████████████████████████████████████████████████████████████████████████████████████████████████████████████| 42.2M/42.2M [00:00<00:00, 4.23GB/s]\n"
     ]
    },
    {
     "name": "stdout",
     "output_type": "stream",
     "text": [
      "[2024-09-16 15:21:06.490444] Arquivo PAGO2401.dbc salvo em /home/amcjr/pysus/PAGO2401.dbc.parquet.\n",
      "Arquivos processados: 57 de 217\n",
      "Percentual de processamento: 26%\n",
      "[2024-09-16 15:21:06.620160] Baixando e processando PAGO2402.dbc.\n"
     ]
    },
    {
     "name": "stderr",
     "output_type": "stream",
     "text": [
      "100%|███████████████████████████████████████████████████████████████████████████████████████████████████████████████████████████████████████████████████████████████████████| 45.1M/45.1M [00:00<00:00, 4.67GB/s]\n"
     ]
    },
    {
     "name": "stdout",
     "output_type": "stream",
     "text": [
      "[2024-09-16 15:21:06.632990] Arquivo PAGO2402.dbc salvo em /home/amcjr/pysus/PAGO2402.dbc.parquet.\n",
      "Arquivos processados: 58 de 217\n",
      "Percentual de processamento: 27%\n",
      "[2024-09-16 15:21:06.789274] Baixando e processando PAGO2403.dbc.\n"
     ]
    },
    {
     "name": "stderr",
     "output_type": "stream",
     "text": [
      "100%|███████████████████████████████████████████████████████████████████████████████████████████████████████████████████████████████████████████████████████████████████████| 42.1M/42.1M [00:00<00:00, 4.96GB/s]"
     ]
    },
    {
     "name": "stdout",
     "output_type": "stream",
     "text": [
      "[2024-09-16 15:21:06.801310] Arquivo PAGO2403.dbc salvo em /home/amcjr/pysus/PAGO2403.dbc.parquet.\n"
     ]
    },
    {
     "name": "stderr",
     "output_type": "stream",
     "text": [
      "\n"
     ]
    },
    {
     "name": "stdout",
     "output_type": "stream",
     "text": [
      "Arquivos processados: 59 de 217\n",
      "Percentual de processamento: 27%\n",
      "[2024-09-16 15:21:06.941347] Baixando e processando PAGO2404.dbc.\n"
     ]
    },
    {
     "name": "stderr",
     "output_type": "stream",
     "text": [
      "100%|███████████████████████████████████████████████████████████████████████████████████████████████████████████████████████████████████████████████████████████████████████| 38.6M/38.6M [00:00<00:00, 3.06GB/s]"
     ]
    },
    {
     "name": "stdout",
     "output_type": "stream",
     "text": [
      "[2024-09-16 15:21:06.964596] Arquivo PAGO2404.dbc salvo em /home/amcjr/pysus/PAGO2404.dbc.parquet.\n"
     ]
    },
    {
     "name": "stderr",
     "output_type": "stream",
     "text": [
      "\n"
     ]
    },
    {
     "name": "stdout",
     "output_type": "stream",
     "text": [
      "Arquivos processados: 60 de 217\n",
      "Percentual de processamento: 28%\n",
      "[2024-09-16 15:21:07.104268] Baixando e processando PAGO2405.dbc.\n"
     ]
    },
    {
     "name": "stderr",
     "output_type": "stream",
     "text": [
      "100%|███████████████████████████████████████████████████████████████████████████████████████████████████████████████████████████████████████████████████████████████████████| 40.3M/40.3M [00:00<00:00, 3.50GB/s]"
     ]
    },
    {
     "name": "stdout",
     "output_type": "stream",
     "text": [
      "[2024-09-16 15:21:07.124547] Arquivo PAGO2405.dbc salvo em /home/amcjr/pysus/PAGO2405.dbc.parquet.\n",
      "Arquivos processados: 61 de 217\n",
      "Percentual de processamento: 28%\n"
     ]
    },
    {
     "name": "stderr",
     "output_type": "stream",
     "text": [
      "\n"
     ]
    },
    {
     "name": "stdout",
     "output_type": "stream",
     "text": [
      "[2024-09-16 15:21:07.252348] Baixando e processando PAGO2406.dbc.\n"
     ]
    },
    {
     "name": "stderr",
     "output_type": "stream",
     "text": [
      "PAGO2406.parquet: 100%|█████████████████████████████████████████████████████████████████████████████████████████████████████████████████████████████████████████████████████| 2.34M/2.34M [01:23<00:00, 28.2kB/s]\n"
     ]
    },
    {
     "name": "stdout",
     "output_type": "stream",
     "text": [
      "[2024-09-16 15:22:39.621357] Arquivo PAGO2406.dbc salvo em /home/amcjr/pysus/PAGO2406.dbc.parquet.\n",
      "Arquivos processados: 62 de 217\n",
      "Percentual de processamento: 29%\n",
      "[2024-09-16 15:22:39.780468] Baixando e processando PAGO2407.dbc.\n"
     ]
    },
    {
     "name": "stderr",
     "output_type": "stream",
     "text": [
      "PAGO2407.parquet: 100%|█████████████████████████████████████████████████████████████████████████████████████████████████████████████████████████████████████████████████████| 2.32M/2.32M [01:22<00:00, 28.1kB/s]\n"
     ]
    },
    {
     "name": "stdout",
     "output_type": "stream",
     "text": [
      "[2024-09-16 15:24:10.912257] Arquivo PAGO2407.dbc salvo em /home/amcjr/pysus/PAGO2407.dbc.parquet.\n",
      "Arquivos processados: 63 de 217\n",
      "Percentual de processamento: 29%\n",
      "[2024-09-16 15:24:11.105261] Baixando e processando PAMA2401.dbc.\n"
     ]
    },
    {
     "name": "stderr",
     "output_type": "stream",
     "text": [
      "100%|███████████████████████████████████████████████████████████████████████████████████████████████████████████████████████████████████████████████████████████████████████| 30.0M/30.0M [00:00<00:00, 2.93GB/s]\n"
     ]
    },
    {
     "name": "stdout",
     "output_type": "stream",
     "text": [
      "[2024-09-16 15:24:11.118582] Arquivo PAMA2401.dbc salvo em /home/amcjr/pysus/PAMA2401.dbc.parquet.\n",
      "Arquivos processados: 64 de 217\n",
      "Percentual de processamento: 29%\n",
      "[2024-09-16 15:24:11.249690] Baixando e processando PAMA2402.dbc.\n"
     ]
    },
    {
     "name": "stderr",
     "output_type": "stream",
     "text": [
      "100%|███████████████████████████████████████████████████████████████████████████████████████████████████████████████████████████████████████████████████████████████████████| 29.8M/29.8M [00:00<00:00, 3.33GB/s]\n"
     ]
    },
    {
     "name": "stdout",
     "output_type": "stream",
     "text": [
      "[2024-09-16 15:24:11.261925] Arquivo PAMA2402.dbc salvo em /home/amcjr/pysus/PAMA2402.dbc.parquet.\n",
      "Arquivos processados: 65 de 217\n",
      "Percentual de processamento: 30%\n",
      "[2024-09-16 15:24:11.399327] Baixando e processando PAMA2403.dbc.\n"
     ]
    },
    {
     "name": "stderr",
     "output_type": "stream",
     "text": [
      "100%|███████████████████████████████████████████████████████████████████████████████████████████████████████████████████████████████████████████████████████████████████████| 30.1M/30.1M [00:00<00:00, 3.20GB/s]"
     ]
    },
    {
     "name": "stdout",
     "output_type": "stream",
     "text": [
      "[2024-09-16 15:24:11.412104] Arquivo PAMA2403.dbc salvo em /home/amcjr/pysus/PAMA2403.dbc.parquet.\n"
     ]
    },
    {
     "name": "stderr",
     "output_type": "stream",
     "text": [
      "\n"
     ]
    },
    {
     "name": "stdout",
     "output_type": "stream",
     "text": [
      "Arquivos processados: 66 de 217\n",
      "Percentual de processamento: 30%\n",
      "[2024-09-16 15:24:11.541586] Baixando e processando PAMA2404.dbc.\n"
     ]
    },
    {
     "name": "stderr",
     "output_type": "stream",
     "text": [
      "100%|███████████████████████████████████████████████████████████████████████████████████████████████████████████████████████████████████████████████████████████████████████| 27.4M/27.4M [00:00<00:00, 3.15GB/s]"
     ]
    },
    {
     "name": "stdout",
     "output_type": "stream",
     "text": [
      "[2024-09-16 15:24:11.553844] Arquivo PAMA2404.dbc salvo em /home/amcjr/pysus/PAMA2404.dbc.parquet.\n"
     ]
    },
    {
     "name": "stderr",
     "output_type": "stream",
     "text": [
      "\n"
     ]
    },
    {
     "name": "stdout",
     "output_type": "stream",
     "text": [
      "Arquivos processados: 67 de 217\n",
      "Percentual de processamento: 31%\n",
      "[2024-09-16 15:24:11.704038] Baixando e processando PAMA2405.dbc.\n"
     ]
    },
    {
     "name": "stderr",
     "output_type": "stream",
     "text": [
      "100%|███████████████████████████████████████████████████████████████████████████████████████████████████████████████████████████████████████████████████████████████████████| 28.8M/28.8M [00:00<00:00, 3.37GB/s]"
     ]
    },
    {
     "name": "stdout",
     "output_type": "stream",
     "text": [
      "[2024-09-16 15:24:11.715846] Arquivo PAMA2405.dbc salvo em /home/amcjr/pysus/PAMA2405.dbc.parquet.\n"
     ]
    },
    {
     "name": "stderr",
     "output_type": "stream",
     "text": [
      "\n"
     ]
    },
    {
     "name": "stdout",
     "output_type": "stream",
     "text": [
      "Arquivos processados: 68 de 217\n",
      "Percentual de processamento: 31%\n",
      "[2024-09-16 15:24:11.870076] Baixando e processando PAMA2406.dbc.\n"
     ]
    },
    {
     "name": "stderr",
     "output_type": "stream",
     "text": [
      "PAMA2406.parquet: 100%|█████████████████████████████████████████████████████████████████████████████████████████████████████████████████████████████████████████████████████| 1.89M/1.89M [01:07<00:00, 28.1kB/s]\n"
     ]
    },
    {
     "name": "stdout",
     "output_type": "stream",
     "text": [
      "[2024-09-16 15:25:26.783624] Arquivo PAMA2406.dbc salvo em /home/amcjr/pysus/PAMA2406.dbc.parquet.\n",
      "Arquivos processados: 69 de 217\n",
      "Percentual de processamento: 32%\n",
      "[2024-09-16 15:25:26.929119] Baixando e processando PAMA2407.dbc.\n"
     ]
    },
    {
     "name": "stderr",
     "output_type": "stream",
     "text": [
      "PAMA2407.parquet: 100%|█████████████████████████████████████████████████████████████████████████████████████████████████████████████████████████████████████████████████████| 1.64M/1.64M [00:58<00:00, 28.1kB/s]\n"
     ]
    },
    {
     "name": "stdout",
     "output_type": "stream",
     "text": [
      "[2024-09-16 15:26:31.477957] Arquivo PAMA2407.dbc salvo em /home/amcjr/pysus/PAMA2407.dbc.parquet.\n",
      "Arquivos processados: 70 de 217\n",
      "Percentual de processamento: 32%\n",
      "[2024-09-16 15:26:31.625097] Baixando e processando PAMG2401a.dbc.\n"
     ]
    },
    {
     "name": "stderr",
     "output_type": "stream",
     "text": [
      "100%|█████████████████████████████████████████████████████████████████████████████████████████████████████████████████████████████████████████████████████████████████████████| 174M/174M [00:00<00:00, 10.2GB/s]\n"
     ]
    },
    {
     "name": "stdout",
     "output_type": "stream",
     "text": [
      "[2024-09-16 15:26:31.646219] Arquivo PAMG2401a.dbc salvo em /home/amcjr/pysus/PAMG2401a.dbc.parquet.\n",
      "Arquivos processados: 71 de 217\n",
      "Percentual de processamento: 33%\n",
      "[2024-09-16 15:26:31.792342] Baixando e processando PAMG2401b.dbc.\n"
     ]
    },
    {
     "name": "stderr",
     "output_type": "stream",
     "text": [
      "100%|███████████████████████████████████████████████████████████████████████████████████████████████████████████████████████████████████████████████████████████████████████| 55.1M/55.1M [00:00<00:00, 4.87GB/s]\n"
     ]
    },
    {
     "name": "stdout",
     "output_type": "stream",
     "text": [
      "[2024-09-16 15:26:31.807012] Arquivo PAMG2401b.dbc salvo em /home/amcjr/pysus/PAMG2401b.dbc.parquet.\n",
      "Arquivos processados: 72 de 217\n",
      "Percentual de processamento: 33%\n",
      "[2024-09-16 15:26:31.935996] Baixando e processando PAMG2402a.dbc.\n"
     ]
    },
    {
     "name": "stderr",
     "output_type": "stream",
     "text": [
      "100%|█████████████████████████████████████████████████████████████████████████████████████████████████████████████████████████████████████████████████████████████████████████| 156M/156M [00:00<00:00, 9.74GB/s]"
     ]
    },
    {
     "name": "stdout",
     "output_type": "stream",
     "text": [
      "[2024-09-16 15:26:31.955213] Arquivo PAMG2402a.dbc salvo em /home/amcjr/pysus/PAMG2402a.dbc.parquet.\n",
      "Arquivos processados: 73 de 217\n",
      "Percentual de processamento: 34%\n"
     ]
    },
    {
     "name": "stderr",
     "output_type": "stream",
     "text": [
      "\n"
     ]
    },
    {
     "name": "stdout",
     "output_type": "stream",
     "text": [
      "[2024-09-16 15:26:32.093824] Baixando e processando PAMG2402b.dbc.\n"
     ]
    },
    {
     "name": "stderr",
     "output_type": "stream",
     "text": [
      "100%|███████████████████████████████████████████████████████████████████████████████████████████████████████████████████████████████████████████████████████████████████████| 61.2M/61.2M [00:00<00:00, 11.6GB/s]"
     ]
    },
    {
     "name": "stdout",
     "output_type": "stream",
     "text": [
      "[2024-09-16 15:26:32.102871] Arquivo PAMG2402b.dbc salvo em /home/amcjr/pysus/PAMG2402b.dbc.parquet.\n",
      "Arquivos processados: 74 de 217\n",
      "Percentual de processamento: 34%\n"
     ]
    },
    {
     "name": "stderr",
     "output_type": "stream",
     "text": [
      "\n"
     ]
    },
    {
     "name": "stdout",
     "output_type": "stream",
     "text": [
      "[2024-09-16 15:26:32.235806] Baixando e processando PAMG2403a.dbc.\n"
     ]
    },
    {
     "name": "stderr",
     "output_type": "stream",
     "text": [
      "100%|█████████████████████████████████████████████████████████████████████████████████████████████████████████████████████████████████████████████████████████████████████████| 153M/153M [00:00<00:00, 6.81GB/s]"
     ]
    },
    {
     "name": "stdout",
     "output_type": "stream",
     "text": [
      "[2024-09-16 15:26:32.262823] Arquivo PAMG2403a.dbc salvo em /home/amcjr/pysus/PAMG2403a.dbc.parquet.\n",
      "Arquivos processados: 75 de 217\n",
      "Percentual de processamento: 35%\n"
     ]
    },
    {
     "name": "stderr",
     "output_type": "stream",
     "text": [
      "\n"
     ]
    },
    {
     "name": "stdout",
     "output_type": "stream",
     "text": [
      "[2024-09-16 15:26:32.400683] Baixando e processando PAMG2403b.dbc.\n"
     ]
    },
    {
     "name": "stderr",
     "output_type": "stream",
     "text": [
      "100%|███████████████████████████████████████████████████████████████████████████████████████████████████████████████████████████████████████████████████████████████████████| 68.5M/68.5M [00:00<00:00, 6.81GB/s]"
     ]
    },
    {
     "name": "stdout",
     "output_type": "stream",
     "text": [
      "[2024-09-16 15:26:32.414812] Arquivo PAMG2403b.dbc salvo em /home/amcjr/pysus/PAMG2403b.dbc.parquet.\n",
      "Arquivos processados: 76 de 217\n",
      "Percentual de processamento: 35%\n"
     ]
    },
    {
     "name": "stderr",
     "output_type": "stream",
     "text": [
      "\n"
     ]
    },
    {
     "name": "stdout",
     "output_type": "stream",
     "text": [
      "[2024-09-16 15:26:32.543083] Baixando e processando PAMG2404a.dbc.\n"
     ]
    },
    {
     "name": "stderr",
     "output_type": "stream",
     "text": [
      "100%|█████████████████████████████████████████████████████████████████████████████████████████████████████████████████████████████████████████████████████████████████████████| 121M/121M [00:00<00:00, 5.39GB/s]"
     ]
    },
    {
     "name": "stdout",
     "output_type": "stream",
     "text": [
      "[2024-09-16 15:26:32.576324] Arquivo PAMG2404a.dbc salvo em /home/amcjr/pysus/PAMG2404a.dbc.parquet.\n"
     ]
    },
    {
     "name": "stderr",
     "output_type": "stream",
     "text": [
      "\n"
     ]
    },
    {
     "name": "stdout",
     "output_type": "stream",
     "text": [
      "Arquivos processados: 77 de 217\n",
      "Percentual de processamento: 35%\n",
      "[2024-09-16 15:26:32.715120] Baixando e processando PAMG2404b.dbc.\n"
     ]
    },
    {
     "name": "stderr",
     "output_type": "stream",
     "text": [
      "100%|███████████████████████████████████████████████████████████████████████████████████████████████████████████████████████████████████████████████████████████████████████| 82.8M/82.8M [00:00<00:00, 9.18GB/s]"
     ]
    },
    {
     "name": "stdout",
     "output_type": "stream",
     "text": [
      "[2024-09-16 15:26:32.727757] Arquivo PAMG2404b.dbc salvo em /home/amcjr/pysus/PAMG2404b.dbc.parquet.\n",
      "Arquivos processados: 78 de 217\n",
      "Percentual de processamento: 36%\n"
     ]
    },
    {
     "name": "stderr",
     "output_type": "stream",
     "text": [
      "\n"
     ]
    },
    {
     "name": "stdout",
     "output_type": "stream",
     "text": [
      "[2024-09-16 15:26:32.854502] Baixando e processando PAMG2405a.dbc.\n"
     ]
    },
    {
     "name": "stderr",
     "output_type": "stream",
     "text": [
      "100%|█████████████████████████████████████████████████████████████████████████████████████████████████████████████████████████████████████████████████████████████████████████| 139M/139M [00:00<00:00, 6.03GB/s]"
     ]
    },
    {
     "name": "stdout",
     "output_type": "stream",
     "text": [
      "[2024-09-16 15:26:32.886173] Arquivo PAMG2405a.dbc salvo em /home/amcjr/pysus/PAMG2405a.dbc.parquet.\n"
     ]
    },
    {
     "name": "stderr",
     "output_type": "stream",
     "text": [
      "\n"
     ]
    },
    {
     "name": "stdout",
     "output_type": "stream",
     "text": [
      "Arquivos processados: 79 de 217\n",
      "Percentual de processamento: 36%\n",
      "[2024-09-16 15:26:33.023408] Baixando e processando PAMG2405b.dbc.\n"
     ]
    },
    {
     "name": "stderr",
     "output_type": "stream",
     "text": [
      "100%|███████████████████████████████████████████████████████████████████████████████████████████████████████████████████████████████████████████████████████████████████████| 74.1M/74.1M [00:00<00:00, 15.2GB/s]"
     ]
    },
    {
     "name": "stdout",
     "output_type": "stream",
     "text": [
      "[2024-09-16 15:26:33.033180] Arquivo PAMG2405b.dbc salvo em /home/amcjr/pysus/PAMG2405b.dbc.parquet.\n",
      "Arquivos processados: 80 de 217\n",
      "Percentual de processamento: 37%\n"
     ]
    },
    {
     "name": "stderr",
     "output_type": "stream",
     "text": [
      "\n"
     ]
    },
    {
     "name": "stdout",
     "output_type": "stream",
     "text": [
      "[2024-09-16 15:26:33.165835] Baixando e processando PAMG2406a.dbc.\n"
     ]
    },
    {
     "name": "stderr",
     "output_type": "stream",
     "text": [
      "PAMG2406a.parquet: 100%|████████████████████████████████████████████████████████████████████████████████████████████████████████████████████████████████████████████████████| 9.97M/9.97M [05:56<00:00, 28.0kB/s]\n"
     ]
    },
    {
     "name": "stdout",
     "output_type": "stream",
     "text": [
      "[2024-09-16 15:33:05.351823] Arquivo PAMG2406a.dbc salvo em /home/amcjr/pysus/PAMG2406a.dbc.parquet.\n",
      "Arquivos processados: 81 de 217\n",
      "Percentual de processamento: 37%\n",
      "[2024-09-16 15:33:05.479751] Baixando e processando PAMG2406b.dbc.\n"
     ]
    },
    {
     "name": "stderr",
     "output_type": "stream",
     "text": [
      "PAMG2406b.parquet: 100%|████████████████████████████████████████████████████████████████████████████████████████████████████████████████████████████████████████████████████| 4.53M/4.53M [02:38<00:00, 28.5kB/s]\n"
     ]
    },
    {
     "name": "stdout",
     "output_type": "stream",
     "text": [
      "[2024-09-16 15:36:01.205839] Arquivo PAMG2406b.dbc salvo em /home/amcjr/pysus/PAMG2406b.dbc.parquet.\n",
      "Arquivos processados: 82 de 217\n",
      "Percentual de processamento: 38%\n",
      "[2024-09-16 15:36:01.334982] Baixando e processando PAMG2407a.dbc.\n"
     ]
    },
    {
     "name": "stderr",
     "output_type": "stream",
     "text": [
      "PAMG2407a.parquet: 100%|████████████████████████████████████████████████████████████████████████████████████████████████████████████████████████████████████████████████████| 10.0M/10.0M [05:57<00:00, 28.1kB/s]\n"
     ]
    },
    {
     "name": "stdout",
     "output_type": "stream",
     "text": [
      "[2024-09-16 15:42:29.251073] Arquivo PAMG2407a.dbc salvo em /home/amcjr/pysus/PAMG2407a.dbc.parquet.\n",
      "Arquivos processados: 83 de 217\n",
      "Percentual de processamento: 38%\n",
      "[2024-09-16 15:42:29.389602] Baixando e processando PAMG2407b.dbc.\n"
     ]
    },
    {
     "name": "stderr",
     "output_type": "stream",
     "text": [
      "PAMG2407b.parquet: 100%|████████████████████████████████████████████████████████████████████████████████████████████████████████████████████████████████████████████████████| 4.75M/4.75M [02:47<00:00, 28.3kB/s]\n"
     ]
    },
    {
     "name": "stdout",
     "output_type": "stream",
     "text": [
      "[2024-09-16 15:45:37.558228] Arquivo PAMG2407b.dbc salvo em /home/amcjr/pysus/PAMG2407b.dbc.parquet.\n",
      "Arquivos processados: 84 de 217\n",
      "Percentual de processamento: 39%\n",
      "[2024-09-16 15:45:37.734500] Baixando e processando PAMS2401.dbc.\n"
     ]
    },
    {
     "name": "stderr",
     "output_type": "stream",
     "text": [
      "100%|███████████████████████████████████████████████████████████████████████████████████████████████████████████████████████████████████████████████████████████████████████| 19.5M/19.5M [00:00<00:00, 1.87GB/s]\n"
     ]
    },
    {
     "name": "stdout",
     "output_type": "stream",
     "text": [
      "[2024-09-16 15:45:37.748198] Arquivo PAMS2401.dbc salvo em /home/amcjr/pysus/PAMS2401.dbc.parquet.\n",
      "Arquivos processados: 85 de 217\n",
      "Percentual de processamento: 39%\n",
      "[2024-09-16 15:45:37.898431] Baixando e processando PAMS2402.dbc.\n"
     ]
    },
    {
     "name": "stderr",
     "output_type": "stream",
     "text": [
      "100%|███████████████████████████████████████████████████████████████████████████████████████████████████████████████████████████████████████████████████████████████████████| 20.2M/20.2M [00:00<00:00, 2.42GB/s]\n"
     ]
    },
    {
     "name": "stdout",
     "output_type": "stream",
     "text": [
      "[2024-09-16 15:45:37.909514] Arquivo PAMS2402.dbc salvo em /home/amcjr/pysus/PAMS2402.dbc.parquet.\n",
      "Arquivos processados: 86 de 217\n",
      "Percentual de processamento: 40%\n",
      "[2024-09-16 15:45:38.033284] Baixando e processando PAMS2403.dbc.\n"
     ]
    },
    {
     "name": "stderr",
     "output_type": "stream",
     "text": [
      "100%|███████████████████████████████████████████████████████████████████████████████████████████████████████████████████████████████████████████████████████████████████████| 20.5M/20.5M [00:00<00:00, 2.62GB/s]"
     ]
    },
    {
     "name": "stdout",
     "output_type": "stream",
     "text": [
      "[2024-09-16 15:45:38.044981] Arquivo PAMS2403.dbc salvo em /home/amcjr/pysus/PAMS2403.dbc.parquet.\n",
      "Arquivos processados: 87 de 217\n",
      "Percentual de processamento: 40%\n"
     ]
    },
    {
     "name": "stderr",
     "output_type": "stream",
     "text": [
      "\n"
     ]
    },
    {
     "name": "stdout",
     "output_type": "stream",
     "text": [
      "[2024-09-16 15:45:38.174569] Baixando e processando PAMS2404.dbc.\n"
     ]
    },
    {
     "name": "stderr",
     "output_type": "stream",
     "text": [
      "100%|███████████████████████████████████████████████████████████████████████████████████████████████████████████████████████████████████████████████████████████████████████| 19.4M/19.4M [00:00<00:00, 6.71GB/s]\n"
     ]
    },
    {
     "name": "stdout",
     "output_type": "stream",
     "text": [
      "[2024-09-16 15:45:38.180221] Arquivo PAMS2404.dbc salvo em /home/amcjr/pysus/PAMS2404.dbc.parquet.\n",
      "Arquivos processados: 88 de 217\n",
      "Percentual de processamento: 41%\n",
      "[2024-09-16 15:45:38.302928] Baixando e processando PAMS2405.dbc.\n"
     ]
    },
    {
     "name": "stderr",
     "output_type": "stream",
     "text": [
      "100%|███████████████████████████████████████████████████████████████████████████████████████████████████████████████████████████████████████████████████████████████████████| 19.4M/19.4M [00:00<00:00, 2.79GB/s]\n"
     ]
    },
    {
     "name": "stdout",
     "output_type": "stream",
     "text": [
      "[2024-09-16 15:45:38.313506] Arquivo PAMS2405.dbc salvo em /home/amcjr/pysus/PAMS2405.dbc.parquet.\n",
      "Arquivos processados: 89 de 217\n",
      "Percentual de processamento: 41%\n",
      "[2024-09-16 15:45:38.441180] Baixando e processando PAMS2406.dbc.\n"
     ]
    },
    {
     "name": "stderr",
     "output_type": "stream",
     "text": [
      "PAMS2406.parquet: 100%|█████████████████████████████████████████████████████████████████████████████████████████████████████████████████████████████████████████████████████| 1.37M/1.37M [00:47<00:00, 28.7kB/s]\n"
     ]
    },
    {
     "name": "stdout",
     "output_type": "stream",
     "text": [
      "[2024-09-16 15:46:30.959009] Arquivo PAMS2406.dbc salvo em /home/amcjr/pysus/PAMS2406.dbc.parquet.\n",
      "Arquivos processados: 90 de 217\n",
      "Percentual de processamento: 41%\n",
      "[2024-09-16 15:46:31.098742] Baixando e processando PAMS2407.dbc.\n"
     ]
    },
    {
     "name": "stderr",
     "output_type": "stream",
     "text": [
      "PAMS2407.parquet: 100%|█████████████████████████████████████████████████████████████████████████████████████████████████████████████████████████████████████████████████████| 1.36M/1.36M [00:47<00:00, 28.6kB/s]\n"
     ]
    },
    {
     "name": "stdout",
     "output_type": "stream",
     "text": [
      "[2024-09-16 15:47:23.497796] Arquivo PAMS2407.dbc salvo em /home/amcjr/pysus/PAMS2407.dbc.parquet.\n",
      "Arquivos processados: 91 de 217\n",
      "Percentual de processamento: 42%\n",
      "[2024-09-16 15:47:23.629452] Baixando e processando PAMT2401.dbc.\n"
     ]
    },
    {
     "name": "stderr",
     "output_type": "stream",
     "text": [
      "100%|███████████████████████████████████████████████████████████████████████████████████████████████████████████████████████████████████████████████████████████████████████| 46.5M/46.5M [00:00<00:00, 6.75GB/s]\n"
     ]
    },
    {
     "name": "stdout",
     "output_type": "stream",
     "text": [
      "[2024-09-16 15:47:23.639702] Arquivo PAMT2401.dbc salvo em /home/amcjr/pysus/PAMT2401.dbc.parquet.\n",
      "Arquivos processados: 92 de 217\n",
      "Percentual de processamento: 42%\n",
      "[2024-09-16 15:47:23.784903] Baixando e processando PAMT2402.dbc.\n"
     ]
    },
    {
     "name": "stderr",
     "output_type": "stream",
     "text": [
      "100%|███████████████████████████████████████████████████████████████████████████████████████████████████████████████████████████████████████████████████████████████████████| 45.6M/45.6M [00:00<00:00, 4.40GB/s]\n"
     ]
    },
    {
     "name": "stdout",
     "output_type": "stream",
     "text": [
      "[2024-09-16 15:47:23.800941] Arquivo PAMT2402.dbc salvo em /home/amcjr/pysus/PAMT2402.dbc.parquet.\n",
      "Arquivos processados: 93 de 217\n",
      "Percentual de processamento: 43%\n",
      "[2024-09-16 15:47:23.931361] Baixando e processando PAMT2403.dbc.\n"
     ]
    },
    {
     "name": "stderr",
     "output_type": "stream",
     "text": [
      "100%|███████████████████████████████████████████████████████████████████████████████████████████████████████████████████████████████████████████████████████████████████████| 49.6M/49.6M [00:00<00:00, 5.63GB/s]"
     ]
    },
    {
     "name": "stdout",
     "output_type": "stream",
     "text": [
      "[2024-09-16 15:47:23.943902] Arquivo PAMT2403.dbc salvo em /home/amcjr/pysus/PAMT2403.dbc.parquet.\n",
      "Arquivos processados: 94 de 217\n",
      "Percentual de processamento: 43%\n"
     ]
    },
    {
     "name": "stderr",
     "output_type": "stream",
     "text": [
      "\n"
     ]
    },
    {
     "name": "stdout",
     "output_type": "stream",
     "text": [
      "[2024-09-16 15:47:24.075441] Baixando e processando PAMT2404.dbc.\n"
     ]
    },
    {
     "name": "stderr",
     "output_type": "stream",
     "text": [
      "100%|███████████████████████████████████████████████████████████████████████████████████████████████████████████████████████████████████████████████████████████████████████| 42.9M/42.9M [00:00<00:00, 4.38GB/s]"
     ]
    },
    {
     "name": "stdout",
     "output_type": "stream",
     "text": [
      "[2024-09-16 15:47:24.089061] Arquivo PAMT2404.dbc salvo em /home/amcjr/pysus/PAMT2404.dbc.parquet.\n",
      "Arquivos processados: 95 de 217\n",
      "Percentual de processamento: 44%\n"
     ]
    },
    {
     "name": "stderr",
     "output_type": "stream",
     "text": [
      "\n"
     ]
    },
    {
     "name": "stdout",
     "output_type": "stream",
     "text": [
      "[2024-09-16 15:47:24.240725] Baixando e processando PAMT2405.dbc.\n"
     ]
    },
    {
     "name": "stderr",
     "output_type": "stream",
     "text": [
      "100%|███████████████████████████████████████████████████████████████████████████████████████████████████████████████████████████████████████████████████████████████████████| 43.3M/43.3M [00:00<00:00, 5.39GB/s]"
     ]
    },
    {
     "name": "stdout",
     "output_type": "stream",
     "text": [
      "[2024-09-16 15:47:24.252352] Arquivo PAMT2405.dbc salvo em /home/amcjr/pysus/PAMT2405.dbc.parquet.\n"
     ]
    },
    {
     "name": "stderr",
     "output_type": "stream",
     "text": [
      "\n"
     ]
    },
    {
     "name": "stdout",
     "output_type": "stream",
     "text": [
      "Arquivos processados: 96 de 217\n",
      "Percentual de processamento: 44%\n",
      "[2024-09-16 15:47:24.411823] Baixando e processando PAMT2406.dbc.\n"
     ]
    },
    {
     "name": "stderr",
     "output_type": "stream",
     "text": [
      "PAMT2406.parquet: 100%|█████████████████████████████████████████████████████████████████████████████████████████████████████████████████████████████████████████████████████| 3.29M/3.29M [01:54<00:00, 28.9kB/s]\n"
     ]
    },
    {
     "name": "stdout",
     "output_type": "stream",
     "text": [
      "[2024-09-16 15:49:28.204514] Arquivo PAMT2406.dbc salvo em /home/amcjr/pysus/PAMT2406.dbc.parquet.\n",
      "Arquivos processados: 97 de 217\n",
      "Percentual de processamento: 45%\n",
      "[2024-09-16 15:49:28.334687] Baixando e processando PAMT2407.dbc.\n"
     ]
    },
    {
     "name": "stderr",
     "output_type": "stream",
     "text": [
      "PAMT2407.parquet: 100%|█████████████████████████████████████████████████████████████████████████████████████████████████████████████████████████████████████████████████████| 1.86M/1.86M [01:05<00:00, 28.5kB/s]\n"
     ]
    },
    {
     "name": "stdout",
     "output_type": "stream",
     "text": [
      "[2024-09-16 15:50:40.626643] Arquivo PAMT2407.dbc salvo em /home/amcjr/pysus/PAMT2407.dbc.parquet.\n",
      "Arquivos processados: 98 de 217\n",
      "Percentual de processamento: 45%\n",
      "[2024-09-16 15:50:40.766911] Baixando e processando PAPA2401.dbc.\n"
     ]
    },
    {
     "name": "stderr",
     "output_type": "stream",
     "text": [
      "100%|███████████████████████████████████████████████████████████████████████████████████████████████████████████████████████████████████████████████████████████████████████| 40.9M/40.9M [00:00<00:00, 4.53GB/s]\n"
     ]
    },
    {
     "name": "stdout",
     "output_type": "stream",
     "text": [
      "[2024-09-16 15:50:40.779457] Arquivo PAPA2401.dbc salvo em /home/amcjr/pysus/PAPA2401.dbc.parquet.\n",
      "Arquivos processados: 99 de 217\n",
      "Percentual de processamento: 46%\n",
      "[2024-09-16 15:50:40.907011] Baixando e processando PAPA2402.dbc.\n"
     ]
    },
    {
     "name": "stderr",
     "output_type": "stream",
     "text": [
      "100%|███████████████████████████████████████████████████████████████████████████████████████████████████████████████████████████████████████████████████████████████████████| 39.0M/39.0M [00:00<00:00, 4.59GB/s]\n"
     ]
    },
    {
     "name": "stdout",
     "output_type": "stream",
     "text": [
      "[2024-09-16 15:50:40.919680] Arquivo PAPA2402.dbc salvo em /home/amcjr/pysus/PAPA2402.dbc.parquet.\n",
      "Arquivos processados: 100 de 217\n",
      "Percentual de processamento: 46%\n",
      "[2024-09-16 15:50:41.044244] Baixando e processando PAPA2403.dbc.\n"
     ]
    },
    {
     "name": "stderr",
     "output_type": "stream",
     "text": [
      "100%|███████████████████████████████████████████████████████████████████████████████████████████████████████████████████████████████████████████████████████████████████████| 39.9M/39.9M [00:00<00:00, 3.76GB/s]\n"
     ]
    },
    {
     "name": "stdout",
     "output_type": "stream",
     "text": [
      "[2024-09-16 15:50:41.057477] Arquivo PAPA2403.dbc salvo em /home/amcjr/pysus/PAPA2403.dbc.parquet.\n",
      "Arquivos processados: 101 de 217\n",
      "Percentual de processamento: 47%\n",
      "[2024-09-16 15:50:41.181619] Baixando e processando PAPA2404.dbc.\n"
     ]
    },
    {
     "name": "stderr",
     "output_type": "stream",
     "text": [
      "100%|███████████████████████████████████████████████████████████████████████████████████████████████████████████████████████████████████████████████████████████████████████| 34.6M/34.6M [00:00<00:00, 7.75GB/s]\n"
     ]
    },
    {
     "name": "stdout",
     "output_type": "stream",
     "text": [
      "[2024-09-16 15:50:41.189000] Arquivo PAPA2404.dbc salvo em /home/amcjr/pysus/PAPA2404.dbc.parquet.\n",
      "Arquivos processados: 102 de 217\n",
      "Percentual de processamento: 47%\n",
      "[2024-09-16 15:50:41.327993] Baixando e processando PAPA2405.dbc.\n"
     ]
    },
    {
     "name": "stderr",
     "output_type": "stream",
     "text": [
      "100%|███████████████████████████████████████████████████████████████████████████████████████████████████████████████████████████████████████████████████████████████████████| 36.7M/36.7M [00:00<00:00, 4.76GB/s]\n"
     ]
    },
    {
     "name": "stdout",
     "output_type": "stream",
     "text": [
      "[2024-09-16 15:50:41.338515] Arquivo PAPA2405.dbc salvo em /home/amcjr/pysus/PAPA2405.dbc.parquet.\n",
      "Arquivos processados: 103 de 217\n",
      "Percentual de processamento: 47%\n",
      "[2024-09-16 15:50:41.475596] Baixando e processando PAPA2406.dbc.\n"
     ]
    },
    {
     "name": "stderr",
     "output_type": "stream",
     "text": [
      "PAPA2406.parquet: 100%|█████████████████████████████████████████████████████████████████████████████████████████████████████████████████████████████████████████████████████| 2.33M/2.33M [01:21<00:00, 28.6kB/s]\n"
     ]
    },
    {
     "name": "stdout",
     "output_type": "stream",
     "text": [
      "[2024-09-16 15:52:12.521393] Arquivo PAPA2406.dbc salvo em /home/amcjr/pysus/PAPA2406.dbc.parquet.\n",
      "Arquivos processados: 104 de 217\n",
      "Percentual de processamento: 48%\n",
      "[2024-09-16 15:52:12.655495] Baixando e processando PAPA2407.dbc.\n"
     ]
    },
    {
     "name": "stderr",
     "output_type": "stream",
     "text": [
      "PAPA2407.parquet: 100%|█████████████████████████████████████████████████████████████████████████████████████████████████████████████████████████████████████████████████████| 2.17M/2.17M [01:15<00:00, 28.9kB/s]\n"
     ]
    },
    {
     "name": "stdout",
     "output_type": "stream",
     "text": [
      "[2024-09-16 15:53:35.661926] Arquivo PAPA2407.dbc salvo em /home/amcjr/pysus/PAPA2407.dbc.parquet.\n",
      "Arquivos processados: 105 de 217\n",
      "Percentual de processamento: 48%\n",
      "[2024-09-16 15:53:35.803630] Baixando e processando PAPB2401.dbc.\n"
     ]
    },
    {
     "name": "stderr",
     "output_type": "stream",
     "text": [
      "100%|███████████████████████████████████████████████████████████████████████████████████████████████████████████████████████████████████████████████████████████████████████| 28.1M/28.1M [00:00<00:00, 3.82GB/s]\n"
     ]
    },
    {
     "name": "stdout",
     "output_type": "stream",
     "text": [
      "[2024-09-16 15:53:35.817075] Arquivo PAPB2401.dbc salvo em /home/amcjr/pysus/PAPB2401.dbc.parquet.\n",
      "Arquivos processados: 106 de 217\n",
      "Percentual de processamento: 49%\n",
      "[2024-09-16 15:53:35.946823] Baixando e processando PAPB2402.dbc.\n"
     ]
    },
    {
     "name": "stderr",
     "output_type": "stream",
     "text": [
      "100%|███████████████████████████████████████████████████████████████████████████████████████████████████████████████████████████████████████████████████████████████████████| 29.0M/29.0M [00:00<00:00, 4.71GB/s]\n"
     ]
    },
    {
     "name": "stdout",
     "output_type": "stream",
     "text": [
      "[2024-09-16 15:53:35.960386] Arquivo PAPB2402.dbc salvo em /home/amcjr/pysus/PAPB2402.dbc.parquet.\n",
      "Arquivos processados: 107 de 217\n",
      "Percentual de processamento: 49%\n",
      "[2024-09-16 15:53:36.085523] Baixando e processando PAPB2403.dbc.\n"
     ]
    },
    {
     "name": "stderr",
     "output_type": "stream",
     "text": [
      "100%|███████████████████████████████████████████████████████████████████████████████████████████████████████████████████████████████████████████████████████████████████████| 29.2M/29.2M [00:00<00:00, 5.25GB/s]\n"
     ]
    },
    {
     "name": "stdout",
     "output_type": "stream",
     "text": [
      "[2024-09-16 15:53:36.093959] Arquivo PAPB2403.dbc salvo em /home/amcjr/pysus/PAPB2403.dbc.parquet.\n",
      "Arquivos processados: 108 de 217\n",
      "Percentual de processamento: 50%\n",
      "[2024-09-16 15:53:36.221387] Baixando e processando PAPB2404.dbc.\n"
     ]
    },
    {
     "name": "stderr",
     "output_type": "stream",
     "text": [
      "100%|███████████████████████████████████████████████████████████████████████████████████████████████████████████████████████████████████████████████████████████████████████| 28.1M/28.1M [00:00<00:00, 3.86GB/s]\n"
     ]
    },
    {
     "name": "stdout",
     "output_type": "stream",
     "text": [
      "[2024-09-16 15:53:36.231573] Arquivo PAPB2404.dbc salvo em /home/amcjr/pysus/PAPB2404.dbc.parquet.\n",
      "Arquivos processados: 109 de 217\n",
      "Percentual de processamento: 50%\n",
      "[2024-09-16 15:53:36.361226] Baixando e processando PAPB2405.dbc.\n"
     ]
    },
    {
     "name": "stderr",
     "output_type": "stream",
     "text": [
      "100%|███████████████████████████████████████████████████████████████████████████████████████████████████████████████████████████████████████████████████████████████████████| 29.1M/29.1M [00:00<00:00, 4.41GB/s]\n"
     ]
    },
    {
     "name": "stdout",
     "output_type": "stream",
     "text": [
      "[2024-09-16 15:53:36.371704] Arquivo PAPB2405.dbc salvo em /home/amcjr/pysus/PAPB2405.dbc.parquet.\n",
      "Arquivos processados: 110 de 217\n",
      "Percentual de processamento: 51%\n",
      "[2024-09-16 15:53:36.507138] Baixando e processando PAPB2406.dbc.\n"
     ]
    },
    {
     "name": "stderr",
     "output_type": "stream",
     "text": [
      "PAPB2406.parquet: 100%|█████████████████████████████████████████████████████████████████████████████████████████████████████████████████████████████████████████████████████| 2.04M/2.04M [01:11<00:00, 28.7kB/s]\n"
     ]
    },
    {
     "name": "stdout",
     "output_type": "stream",
     "text": [
      "[2024-09-16 15:54:54.717169] Arquivo PAPB2406.dbc salvo em /home/amcjr/pysus/PAPB2406.dbc.parquet.\n",
      "Arquivos processados: 111 de 217\n",
      "Percentual de processamento: 51%\n",
      "[2024-09-16 15:54:54.861978] Baixando e processando PAPB2407.dbc.\n"
     ]
    },
    {
     "name": "stderr",
     "output_type": "stream",
     "text": [
      "PAPB2407.parquet: 100%|█████████████████████████████████████████████████████████████████████████████████████████████████████████████████████████████████████████████████████| 2.09M/2.09M [01:13<00:00, 28.5kB/s]\n"
     ]
    },
    {
     "name": "stdout",
     "output_type": "stream",
     "text": [
      "[2024-09-16 15:56:14.935642] Arquivo PAPB2407.dbc salvo em /home/amcjr/pysus/PAPB2407.dbc.parquet.\n",
      "Arquivos processados: 112 de 217\n",
      "Percentual de processamento: 52%\n",
      "[2024-09-16 15:56:15.070349] Baixando e processando PAPE2401.dbc.\n"
     ]
    },
    {
     "name": "stderr",
     "output_type": "stream",
     "text": [
      "100%|███████████████████████████████████████████████████████████████████████████████████████████████████████████████████████████████████████████████████████████████████████| 44.4M/44.4M [00:00<00:00, 4.21GB/s]\n"
     ]
    },
    {
     "name": "stdout",
     "output_type": "stream",
     "text": [
      "[2024-09-16 15:56:15.084153] Arquivo PAPE2401.dbc salvo em /home/amcjr/pysus/PAPE2401.dbc.parquet.\n",
      "Arquivos processados: 113 de 217\n",
      "Percentual de processamento: 52%\n",
      "[2024-09-16 15:56:15.230144] Baixando e processando PAPE2402.dbc.\n"
     ]
    },
    {
     "name": "stderr",
     "output_type": "stream",
     "text": [
      "100%|███████████████████████████████████████████████████████████████████████████████████████████████████████████████████████████████████████████████████████████████████████| 42.6M/42.6M [00:00<00:00, 4.58GB/s]\n"
     ]
    },
    {
     "name": "stdout",
     "output_type": "stream",
     "text": [
      "[2024-09-16 15:56:15.242536] Arquivo PAPE2402.dbc salvo em /home/amcjr/pysus/PAPE2402.dbc.parquet.\n",
      "Arquivos processados: 114 de 217\n",
      "Percentual de processamento: 53%\n",
      "[2024-09-16 15:56:15.395973] Baixando e processando PAPE2403.dbc.\n"
     ]
    },
    {
     "name": "stderr",
     "output_type": "stream",
     "text": [
      "100%|███████████████████████████████████████████████████████████████████████████████████████████████████████████████████████████████████████████████████████████████████████| 43.0M/43.0M [00:00<00:00, 10.5GB/s]"
     ]
    },
    {
     "name": "stdout",
     "output_type": "stream",
     "text": [
      "[2024-09-16 15:56:15.403173] Arquivo PAPE2403.dbc salvo em /home/amcjr/pysus/PAPE2403.dbc.parquet.\n"
     ]
    },
    {
     "name": "stderr",
     "output_type": "stream",
     "text": [
      "\n"
     ]
    },
    {
     "name": "stdout",
     "output_type": "stream",
     "text": [
      "Arquivos processados: 115 de 217\n",
      "Percentual de processamento: 53%\n",
      "[2024-09-16 15:56:15.534375] Baixando e processando PAPE2404.dbc.\n"
     ]
    },
    {
     "name": "stderr",
     "output_type": "stream",
     "text": [
      "100%|███████████████████████████████████████████████████████████████████████████████████████████████████████████████████████████████████████████████████████████████████████| 43.0M/43.0M [00:00<00:00, 5.37GB/s]"
     ]
    },
    {
     "name": "stdout",
     "output_type": "stream",
     "text": [
      "[2024-09-16 15:56:15.546211] Arquivo PAPE2404.dbc salvo em /home/amcjr/pysus/PAPE2404.dbc.parquet.\n",
      "Arquivos processados: 116 de 217\n",
      "Percentual de processamento: 53%\n"
     ]
    },
    {
     "name": "stderr",
     "output_type": "stream",
     "text": [
      "\n"
     ]
    },
    {
     "name": "stdout",
     "output_type": "stream",
     "text": [
      "[2024-09-16 15:56:15.682787] Baixando e processando PAPE2405.dbc.\n"
     ]
    },
    {
     "name": "stderr",
     "output_type": "stream",
     "text": [
      "100%|███████████████████████████████████████████████████████████████████████████████████████████████████████████████████████████████████████████████████████████████████████| 44.3M/44.3M [00:00<00:00, 6.60GB/s]"
     ]
    },
    {
     "name": "stdout",
     "output_type": "stream",
     "text": [
      "[2024-09-16 15:56:15.699026] Arquivo PAPE2405.dbc salvo em /home/amcjr/pysus/PAPE2405.dbc.parquet.\n"
     ]
    },
    {
     "name": "stderr",
     "output_type": "stream",
     "text": [
      "\n"
     ]
    },
    {
     "name": "stdout",
     "output_type": "stream",
     "text": [
      "Arquivos processados: 117 de 217\n",
      "Percentual de processamento: 54%\n",
      "[2024-09-16 15:56:15.840251] Baixando e processando PAPE2406.dbc.\n"
     ]
    },
    {
     "name": "stderr",
     "output_type": "stream",
     "text": [
      "PAPE2406.parquet: 100%|█████████████████████████████████████████████████████████████████████████████████████████████████████████████████████████████████████████████████████| 2.78M/2.78M [01:36<00:00, 28.8kB/s]\n"
     ]
    },
    {
     "name": "stdout",
     "output_type": "stream",
     "text": [
      "[2024-09-16 15:58:03.124922] Arquivo PAPE2406.dbc salvo em /home/amcjr/pysus/PAPE2406.dbc.parquet.\n",
      "Arquivos processados: 118 de 217\n",
      "Percentual de processamento: 54%\n",
      "[2024-09-16 15:58:03.250663] Baixando e processando PAPE2407.dbc.\n"
     ]
    },
    {
     "name": "stderr",
     "output_type": "stream",
     "text": [
      "PAPE2407.parquet: 100%|█████████████████████████████████████████████████████████████████████████████████████████████████████████████████████████████████████████████████████| 2.67M/2.67M [01:34<00:00, 28.2kB/s]\n"
     ]
    },
    {
     "name": "stdout",
     "output_type": "stream",
     "text": [
      "[2024-09-16 15:59:46.980664] Arquivo PAPE2407.dbc salvo em /home/amcjr/pysus/PAPE2407.dbc.parquet.\n",
      "Arquivos processados: 119 de 217\n",
      "Percentual de processamento: 55%\n",
      "[2024-09-16 15:59:47.129742] Baixando e processando PAPI2401.dbc.\n"
     ]
    },
    {
     "name": "stderr",
     "output_type": "stream",
     "text": [
      "100%|████████████████████████████████████████████████████████████████████████████████████████████████████████████████████████████████████████████████████████████████████████| 8.14M/8.14M [00:00<00:00, 929MB/s]\n"
     ]
    },
    {
     "name": "stdout",
     "output_type": "stream",
     "text": [
      "[2024-09-16 15:59:47.142459] Arquivo PAPI2401.dbc salvo em /home/amcjr/pysus/PAPI2401.dbc.parquet.\n",
      "Arquivos processados: 120 de 217\n",
      "Percentual de processamento: 55%\n",
      "[2024-09-16 15:59:47.278323] Baixando e processando PAPI2402.dbc.\n"
     ]
    },
    {
     "name": "stderr",
     "output_type": "stream",
     "text": [
      "100%|███████████████████████████████████████████████████████████████████████████████████████████████████████████████████████████████████████████████████████████████████████| 8.44M/8.44M [00:00<00:00, 1.70GB/s]\n"
     ]
    },
    {
     "name": "stdout",
     "output_type": "stream",
     "text": [
      "[2024-09-16 15:59:47.287047] Arquivo PAPI2402.dbc salvo em /home/amcjr/pysus/PAPI2402.dbc.parquet.\n",
      "Arquivos processados: 121 de 217\n",
      "Percentual de processamento: 56%\n",
      "[2024-09-16 15:59:47.405005] Baixando e processando PAPI2403.dbc.\n"
     ]
    },
    {
     "name": "stderr",
     "output_type": "stream",
     "text": [
      "100%|███████████████████████████████████████████████████████████████████████████████████████████████████████████████████████████████████████████████████████████████████████| 8.25M/8.25M [00:00<00:00, 1.10GB/s]\n"
     ]
    },
    {
     "name": "stdout",
     "output_type": "stream",
     "text": [
      "[2024-09-16 15:59:47.415425] Arquivo PAPI2403.dbc salvo em /home/amcjr/pysus/PAPI2403.dbc.parquet.\n",
      "Arquivos processados: 122 de 217\n",
      "Percentual de processamento: 56%\n",
      "[2024-09-16 15:59:47.535258] Baixando e processando PAPI2404.dbc.\n"
     ]
    },
    {
     "name": "stderr",
     "output_type": "stream",
     "text": [
      "100%|███████████████████████████████████████████████████████████████████████████████████████████████████████████████████████████████████████████████████████████████████████| 8.25M/8.25M [00:00<00:00, 1.16GB/s]\n"
     ]
    },
    {
     "name": "stdout",
     "output_type": "stream",
     "text": [
      "[2024-09-16 15:59:47.545197] Arquivo PAPI2404.dbc salvo em /home/amcjr/pysus/PAPI2404.dbc.parquet.\n",
      "Arquivos processados: 123 de 217\n",
      "Percentual de processamento: 57%\n",
      "[2024-09-16 15:59:47.663961] Baixando e processando PAPI2405.dbc.\n"
     ]
    },
    {
     "name": "stderr",
     "output_type": "stream",
     "text": [
      "100%|███████████████████████████████████████████████████████████████████████████████████████████████████████████████████████████████████████████████████████████████████████| 8.88M/8.88M [00:00<00:00, 1.35GB/s]"
     ]
    },
    {
     "name": "stdout",
     "output_type": "stream",
     "text": [
      "[2024-09-16 15:59:47.673537] Arquivo PAPI2405.dbc salvo em /home/amcjr/pysus/PAPI2405.dbc.parquet.\n",
      "Arquivos processados: 124 de 217\n",
      "Percentual de processamento: 57%\n"
     ]
    },
    {
     "name": "stderr",
     "output_type": "stream",
     "text": [
      "\n"
     ]
    },
    {
     "name": "stdout",
     "output_type": "stream",
     "text": [
      "[2024-09-16 15:59:47.800986] Baixando e processando PAPI2406.dbc.\n"
     ]
    },
    {
     "name": "stderr",
     "output_type": "stream",
     "text": [
      "PAPI2406.parquet: 100%|███████████████████████████████████████████████████████████████████████████████████████████████████████████████████████████████████████████████████████| 588k/588k [00:20<00:00, 29.3kB/s]\n"
     ]
    },
    {
     "name": "stdout",
     "output_type": "stream",
     "text": [
      "[2024-09-16 16:00:11.577330] Arquivo PAPI2406.dbc salvo em /home/amcjr/pysus/PAPI2406.dbc.parquet.\n",
      "Arquivos processados: 125 de 217\n",
      "Percentual de processamento: 58%\n",
      "[2024-09-16 16:00:11.713189] Baixando e processando PAPI2407.dbc.\n"
     ]
    },
    {
     "name": "stderr",
     "output_type": "stream",
     "text": [
      "PAPI2407.parquet: 100%|███████████████████████████████████████████████████████████████████████████████████████████████████████████████████████████████████████████████████████| 519k/519k [00:17<00:00, 29.6kB/s]\n"
     ]
    },
    {
     "name": "stdout",
     "output_type": "stream",
     "text": [
      "[2024-09-16 16:00:31.781575] Arquivo PAPI2407.dbc salvo em /home/amcjr/pysus/PAPI2407.dbc.parquet.\n",
      "Arquivos processados: 126 de 217\n",
      "Percentual de processamento: 58%\n",
      "[2024-09-16 16:00:31.901151] Baixando e processando PAPR2401.dbc.\n"
     ]
    },
    {
     "name": "stderr",
     "output_type": "stream",
     "text": [
      "100%|█████████████████████████████████████████████████████████████████████████████████████████████████████████████████████████████████████████████████████████████████████████| 106M/106M [00:00<00:00, 6.67GB/s]\n"
     ]
    },
    {
     "name": "stdout",
     "output_type": "stream",
     "text": [
      "[2024-09-16 16:00:31.920867] Arquivo PAPR2401.dbc salvo em /home/amcjr/pysus/PAPR2401.dbc.parquet.\n",
      "Arquivos processados: 127 de 217\n",
      "Percentual de processamento: 59%\n",
      "[2024-09-16 16:00:32.036674] Baixando e processando PAPR2402.dbc.\n"
     ]
    },
    {
     "name": "stderr",
     "output_type": "stream",
     "text": [
      "100%|█████████████████████████████████████████████████████████████████████████████████████████████████████████████████████████████████████████████████████████████████████████| 116M/116M [00:00<00:00, 11.3GB/s]\n"
     ]
    },
    {
     "name": "stdout",
     "output_type": "stream",
     "text": [
      "[2024-09-16 16:00:32.050731] Arquivo PAPR2402.dbc salvo em /home/amcjr/pysus/PAPR2402.dbc.parquet.\n",
      "Arquivos processados: 128 de 217\n",
      "Percentual de processamento: 59%\n",
      "[2024-09-16 16:00:32.170064] Baixando e processando PAPR2403.dbc.\n"
     ]
    },
    {
     "name": "stderr",
     "output_type": "stream",
     "text": [
      "100%|█████████████████████████████████████████████████████████████████████████████████████████████████████████████████████████████████████████████████████████████████████████| 116M/116M [00:00<00:00, 9.06GB/s]\n"
     ]
    },
    {
     "name": "stdout",
     "output_type": "stream",
     "text": [
      "[2024-09-16 16:00:32.185917] Arquivo PAPR2403.dbc salvo em /home/amcjr/pysus/PAPR2403.dbc.parquet.\n",
      "Arquivos processados: 129 de 217\n",
      "Percentual de processamento: 59%\n",
      "[2024-09-16 16:00:32.302041] Baixando e processando PAPR2404.dbc.\n"
     ]
    },
    {
     "name": "stderr",
     "output_type": "stream",
     "text": [
      "100%|█████████████████████████████████████████████████████████████████████████████████████████████████████████████████████████████████████████████████████████████████████████| 105M/105M [00:00<00:00, 7.45GB/s]\n"
     ]
    },
    {
     "name": "stdout",
     "output_type": "stream",
     "text": [
      "[2024-09-16 16:00:32.319188] Arquivo PAPR2404.dbc salvo em /home/amcjr/pysus/PAPR2404.dbc.parquet.\n",
      "Arquivos processados: 130 de 217\n",
      "Percentual de processamento: 60%\n",
      "[2024-09-16 16:00:32.463537] Baixando e processando PAPR2405.dbc.\n"
     ]
    },
    {
     "name": "stderr",
     "output_type": "stream",
     "text": [
      "100%|█████████████████████████████████████████████████████████████████████████████████████████████████████████████████████████████████████████████████████████████████████████| 105M/105M [00:00<00:00, 9.80GB/s]\n"
     ]
    },
    {
     "name": "stdout",
     "output_type": "stream",
     "text": [
      "[2024-09-16 16:00:32.478033] Arquivo PAPR2405.dbc salvo em /home/amcjr/pysus/PAPR2405.dbc.parquet.\n",
      "Arquivos processados: 131 de 217\n",
      "Percentual de processamento: 60%\n",
      "[2024-09-16 16:00:32.597511] Baixando e processando PAPR2406.dbc.\n"
     ]
    },
    {
     "name": "stderr",
     "output_type": "stream",
     "text": [
      "PAPR2406.parquet: 100%|█████████████████████████████████████████████████████████████████████████████████████████████████████████████████████████████████████████████████████| 7.17M/7.17M [04:09<00:00, 28.8kB/s]\n"
     ]
    },
    {
     "name": "stdout",
     "output_type": "stream",
     "text": [
      "[2024-09-16 16:05:03.158216] Arquivo PAPR2406.dbc salvo em /home/amcjr/pysus/PAPR2406.dbc.parquet.\n",
      "Arquivos processados: 132 de 217\n",
      "Percentual de processamento: 61%\n",
      "[2024-09-16 16:05:03.313787] Baixando e processando PAPR2407.dbc.\n"
     ]
    },
    {
     "name": "stderr",
     "output_type": "stream",
     "text": [
      "PAPR2407.parquet: 100%|█████████████████████████████████████████████████████████████████████████████████████████████████████████████████████████████████████████████████████| 7.07M/7.07M [04:28<00:00, 26.3kB/s]\n"
     ]
    },
    {
     "name": "stdout",
     "output_type": "stream",
     "text": [
      "[2024-09-16 16:09:54.741210] Arquivo PAPR2407.dbc salvo em /home/amcjr/pysus/PAPR2407.dbc.parquet.\n",
      "Arquivos processados: 133 de 217\n",
      "Percentual de processamento: 61%\n",
      "[2024-09-16 16:09:54.903614] Baixando e processando PARJ2401a.dbc.\n"
     ]
    },
    {
     "name": "stderr",
     "output_type": "stream",
     "text": [
      "100%|█████████████████████████████████████████████████████████████████████████████████████████████████████████████████████████████████████████████████████████████████████████| 155M/155M [00:00<00:00, 3.38GB/s]\n"
     ]
    },
    {
     "name": "stdout",
     "output_type": "stream",
     "text": [
      "[2024-09-16 16:09:54.955956] Arquivo PARJ2401a.dbc salvo em /home/amcjr/pysus/PARJ2401a.dbc.parquet.\n",
      "Arquivos processados: 134 de 217\n",
      "Percentual de processamento: 62%\n",
      "[2024-09-16 16:09:55.112116] Baixando e processando PARJ2401b.dbc.\n"
     ]
    },
    {
     "name": "stderr",
     "output_type": "stream",
     "text": [
      "100%|███████████████████████████████████████████████████████████████████████████████████████████████████████████████████████████████████████████████████████████████████████| 70.1M/70.1M [00:00<00:00, 3.41GB/s]\n"
     ]
    },
    {
     "name": "stdout",
     "output_type": "stream",
     "text": [
      "[2024-09-16 16:09:55.136304] Arquivo PARJ2401b.dbc salvo em /home/amcjr/pysus/PARJ2401b.dbc.parquet.\n",
      "Arquivos processados: 135 de 217\n",
      "Percentual de processamento: 62%\n",
      "[2024-09-16 16:09:55.287312] Baixando e processando PARJ2402a.dbc.\n"
     ]
    },
    {
     "name": "stderr",
     "output_type": "stream",
     "text": [
      "100%|█████████████████████████████████████████████████████████████████████████████████████████████████████████████████████████████████████████████████████████████████████████| 143M/143M [00:00<00:00, 2.79GB/s]\n"
     ]
    },
    {
     "name": "stdout",
     "output_type": "stream",
     "text": [
      "[2024-09-16 16:09:55.342083] Arquivo PARJ2402a.dbc salvo em /home/amcjr/pysus/PARJ2402a.dbc.parquet.\n",
      "Arquivos processados: 136 de 217\n",
      "Percentual de processamento: 63%\n",
      "[2024-09-16 16:09:55.503607] Baixando e processando PARJ2402b.dbc.\n"
     ]
    },
    {
     "name": "stderr",
     "output_type": "stream",
     "text": [
      "100%|███████████████████████████████████████████████████████████████████████████████████████████████████████████████████████████████████████████████████████████████████████| 62.2M/62.2M [00:00<00:00, 3.20GB/s]\n"
     ]
    },
    {
     "name": "stdout",
     "output_type": "stream",
     "text": [
      "[2024-09-16 16:09:55.526248] Arquivo PARJ2402b.dbc salvo em /home/amcjr/pysus/PARJ2402b.dbc.parquet.\n",
      "Arquivos processados: 137 de 217\n",
      "Percentual de processamento: 63%\n",
      "[2024-09-16 16:09:55.718546] Baixando e processando PARJ2403a.dbc.\n"
     ]
    },
    {
     "name": "stderr",
     "output_type": "stream",
     "text": [
      "100%|█████████████████████████████████████████████████████████████████████████████████████████████████████████████████████████████████████████████████████████████████████████| 140M/140M [00:00<00:00, 3.27GB/s]\n"
     ]
    },
    {
     "name": "stdout",
     "output_type": "stream",
     "text": [
      "[2024-09-16 16:09:55.767657] Arquivo PARJ2403a.dbc salvo em /home/amcjr/pysus/PARJ2403a.dbc.parquet.\n",
      "Arquivos processados: 138 de 217\n",
      "Percentual de processamento: 64%\n",
      "[2024-09-16 16:09:55.929335] Baixando e processando PARJ2403b.dbc.\n"
     ]
    },
    {
     "name": "stderr",
     "output_type": "stream",
     "text": [
      "100%|███████████████████████████████████████████████████████████████████████████████████████████████████████████████████████████████████████████████████████████████████████| 70.9M/70.9M [00:00<00:00, 7.68GB/s]\n"
     ]
    },
    {
     "name": "stdout",
     "output_type": "stream",
     "text": [
      "[2024-09-16 16:09:55.942011] Arquivo PARJ2403b.dbc salvo em /home/amcjr/pysus/PARJ2403b.dbc.parquet.\n",
      "Arquivos processados: 139 de 217\n",
      "Percentual de processamento: 64%\n",
      "[2024-09-16 16:09:56.074903] Baixando e processando PARJ2404a.dbc.\n"
     ]
    },
    {
     "name": "stderr",
     "output_type": "stream",
     "text": [
      "100%|█████████████████████████████████████████████████████████████████████████████████████████████████████████████████████████████████████████████████████████████████████████| 117M/117M [00:00<00:00, 3.52GB/s]"
     ]
    },
    {
     "name": "stdout",
     "output_type": "stream",
     "text": [
      "[2024-09-16 16:09:56.115860] Arquivo PARJ2404a.dbc salvo em /home/amcjr/pysus/PARJ2404a.dbc.parquet.\n"
     ]
    },
    {
     "name": "stderr",
     "output_type": "stream",
     "text": [
      "\n"
     ]
    },
    {
     "name": "stdout",
     "output_type": "stream",
     "text": [
      "Arquivos processados: 140 de 217\n",
      "Percentual de processamento: 65%\n",
      "[2024-09-16 16:09:56.248758] Baixando e processando PARJ2404b.dbc.\n"
     ]
    },
    {
     "name": "stderr",
     "output_type": "stream",
     "text": [
      "100%|███████████████████████████████████████████████████████████████████████████████████████████████████████████████████████████████████████████████████████████████████████| 80.0M/80.0M [00:00<00:00, 6.52GB/s]\n"
     ]
    },
    {
     "name": "stdout",
     "output_type": "stream",
     "text": [
      "[2024-09-16 16:09:56.264843] Arquivo PARJ2404b.dbc salvo em /home/amcjr/pysus/PARJ2404b.dbc.parquet.\n",
      "Arquivos processados: 141 de 217\n",
      "Percentual de processamento: 65%\n",
      "[2024-09-16 16:09:56.432755] Baixando e processando PARJ2405a.dbc.\n"
     ]
    },
    {
     "name": "stderr",
     "output_type": "stream",
     "text": [
      "100%|█████████████████████████████████████████████████████████████████████████████████████████████████████████████████████████████████████████████████████████████████████████| 121M/121M [00:00<00:00, 8.02GB/s]\n"
     ]
    },
    {
     "name": "stdout",
     "output_type": "stream",
     "text": [
      "[2024-09-16 16:09:56.452685] Arquivo PARJ2405a.dbc salvo em /home/amcjr/pysus/PARJ2405a.dbc.parquet.\n",
      "Arquivos processados: 142 de 217\n",
      "Percentual de processamento: 65%\n",
      "[2024-09-16 16:09:56.618807] Baixando e processando PARJ2405b.dbc.\n"
     ]
    },
    {
     "name": "stderr",
     "output_type": "stream",
     "text": [
      "100%|███████████████████████████████████████████████████████████████████████████████████████████████████████████████████████████████████████████████████████████████████████| 84.1M/84.1M [00:00<00:00, 7.30GB/s]\n"
     ]
    },
    {
     "name": "stdout",
     "output_type": "stream",
     "text": [
      "[2024-09-16 16:09:56.634746] Arquivo PARJ2405b.dbc salvo em /home/amcjr/pysus/PARJ2405b.dbc.parquet.\n",
      "Arquivos processados: 143 de 217\n",
      "Percentual de processamento: 66%\n",
      "[2024-09-16 16:09:56.804450] Baixando e processando PARJ2406a.dbc.\n"
     ]
    },
    {
     "name": "stderr",
     "output_type": "stream",
     "text": [
      "PARJ2406a.parquet: 100%|████████████████████████████████████████████████████████████████████████████████████████████████████████████████████████████████████████████████████| 10.4M/10.4M [05:56<00:00, 29.1kB/s]\n"
     ]
    },
    {
     "name": "stdout",
     "output_type": "stream",
     "text": [
      "[2024-09-16 16:16:33.476321] Arquivo PARJ2406a.dbc salvo em /home/amcjr/pysus/PARJ2406a.dbc.parquet.\n",
      "Arquivos processados: 144 de 217\n",
      "Percentual de processamento: 66%\n",
      "[2024-09-16 16:16:33.604766] Baixando e processando PARJ2406b.dbc.\n"
     ]
    },
    {
     "name": "stderr",
     "output_type": "stream",
     "text": [
      "PARJ2406b.parquet: 100%|████████████████████████████████████████████████████████████████████████████████████████████████████████████████████████████████████████████████████| 6.16M/6.16M [03:25<00:00, 29.9kB/s]\n"
     ]
    },
    {
     "name": "stdout",
     "output_type": "stream",
     "text": [
      "[2024-09-16 16:20:18.501202] Arquivo PARJ2406b.dbc salvo em /home/amcjr/pysus/PARJ2406b.dbc.parquet.\n",
      "Arquivos processados: 145 de 217\n",
      "Percentual de processamento: 67%\n",
      "[2024-09-16 16:20:18.630979] Baixando e processando PARJ2407a.dbc.\n"
     ]
    },
    {
     "name": "stderr",
     "output_type": "stream",
     "text": [
      "PARJ2407a.parquet: 100%|████████████████████████████████████████████████████████████████████████████████████████████████████████████████████████████████████████████████████| 10.6M/10.6M [05:58<00:00, 29.6kB/s]\n"
     ]
    },
    {
     "name": "stdout",
     "output_type": "stream",
     "text": [
      "[2024-09-16 16:26:51.243004] Arquivo PARJ2407a.dbc salvo em /home/amcjr/pysus/PARJ2407a.dbc.parquet.\n",
      "Arquivos processados: 146 de 217\n",
      "Percentual de processamento: 67%\n",
      "[2024-09-16 16:26:51.372776] Baixando e processando PARJ2407b.dbc.\n"
     ]
    },
    {
     "name": "stderr",
     "output_type": "stream",
     "text": [
      "PARJ2407b.parquet: 100%|████████████████████████████████████████████████████████████████████████████████████████████████████████████████████████████████████████████████████| 5.49M/5.49M [03:04<00:00, 29.8kB/s]\n"
     ]
    },
    {
     "name": "stdout",
     "output_type": "stream",
     "text": [
      "[2024-09-16 16:30:11.989703] Arquivo PARJ2407b.dbc salvo em /home/amcjr/pysus/PARJ2407b.dbc.parquet.\n",
      "Arquivos processados: 147 de 217\n",
      "Percentual de processamento: 68%\n",
      "[2024-09-16 16:30:12.114245] Baixando e processando PARN2401.dbc.\n"
     ]
    },
    {
     "name": "stderr",
     "output_type": "stream",
     "text": [
      "100%|███████████████████████████████████████████████████████████████████████████████████████████████████████████████████████████████████████████████████████████████████████| 19.1M/19.1M [00:00<00:00, 1.73GB/s]\n"
     ]
    },
    {
     "name": "stdout",
     "output_type": "stream",
     "text": [
      "[2024-09-16 16:30:12.128730] Arquivo PARN2401.dbc salvo em /home/amcjr/pysus/PARN2401.dbc.parquet.\n",
      "Arquivos processados: 148 de 217\n",
      "Percentual de processamento: 68%\n",
      "[2024-09-16 16:30:12.253634] Baixando e processando PARN2402.dbc.\n"
     ]
    },
    {
     "name": "stderr",
     "output_type": "stream",
     "text": [
      "100%|███████████████████████████████████████████████████████████████████████████████████████████████████████████████████████████████████████████████████████████████████████| 17.3M/17.3M [00:00<00:00, 4.35GB/s]\n"
     ]
    },
    {
     "name": "stdout",
     "output_type": "stream",
     "text": [
      "[2024-09-16 16:30:12.260248] Arquivo PARN2402.dbc salvo em /home/amcjr/pysus/PARN2402.dbc.parquet.\n",
      "Arquivos processados: 149 de 217\n",
      "Percentual de processamento: 69%\n",
      "[2024-09-16 16:30:12.415122] Baixando e processando PARN2403.dbc.\n"
     ]
    },
    {
     "name": "stderr",
     "output_type": "stream",
     "text": [
      "100%|███████████████████████████████████████████████████████████████████████████████████████████████████████████████████████████████████████████████████████████████████████| 17.7M/17.7M [00:00<00:00, 2.37GB/s]\n"
     ]
    },
    {
     "name": "stdout",
     "output_type": "stream",
     "text": [
      "[2024-09-16 16:30:12.426124] Arquivo PARN2403.dbc salvo em /home/amcjr/pysus/PARN2403.dbc.parquet.\n",
      "Arquivos processados: 150 de 217\n",
      "Percentual de processamento: 69%\n",
      "[2024-09-16 16:30:12.585160] Baixando e processando PARN2404.dbc.\n"
     ]
    },
    {
     "name": "stderr",
     "output_type": "stream",
     "text": [
      "100%|███████████████████████████████████████████████████████████████████████████████████████████████████████████████████████████████████████████████████████████████████████| 16.4M/16.4M [00:00<00:00, 1.31GB/s]"
     ]
    },
    {
     "name": "stdout",
     "output_type": "stream",
     "text": [
      "[2024-09-16 16:30:12.602366] Arquivo PARN2404.dbc salvo em /home/amcjr/pysus/PARN2404.dbc.parquet.\n",
      "Arquivos processados: 151 de 217\n",
      "Percentual de processamento: 70%\n"
     ]
    },
    {
     "name": "stderr",
     "output_type": "stream",
     "text": [
      "\n"
     ]
    },
    {
     "name": "stdout",
     "output_type": "stream",
     "text": [
      "[2024-09-16 16:30:12.761107] Baixando e processando PARN2405.dbc.\n"
     ]
    },
    {
     "name": "stderr",
     "output_type": "stream",
     "text": [
      "100%|███████████████████████████████████████████████████████████████████████████████████████████████████████████████████████████████████████████████████████████████████████| 18.8M/18.8M [00:00<00:00, 3.06GB/s]"
     ]
    },
    {
     "name": "stdout",
     "output_type": "stream",
     "text": [
      "[2024-09-16 16:30:12.773432] Arquivo PARN2405.dbc salvo em /home/amcjr/pysus/PARN2405.dbc.parquet.\n"
     ]
    },
    {
     "name": "stderr",
     "output_type": "stream",
     "text": [
      "\n"
     ]
    },
    {
     "name": "stdout",
     "output_type": "stream",
     "text": [
      "Arquivos processados: 152 de 217\n",
      "Percentual de processamento: 70%\n",
      "[2024-09-16 16:30:12.923276] Baixando e processando PARN2406.dbc.\n"
     ]
    },
    {
     "name": "stderr",
     "output_type": "stream",
     "text": [
      "PARN2406.parquet: 100%|█████████████████████████████████████████████████████████████████████████████████████████████████████████████████████████████████████████████████████| 1.03M/1.03M [00:34<00:00, 29.8kB/s]\n"
     ]
    },
    {
     "name": "stdout",
     "output_type": "stream",
     "text": [
      "[2024-09-16 16:30:52.016583] Arquivo PARN2406.dbc salvo em /home/amcjr/pysus/PARN2406.dbc.parquet.\n",
      "Arquivos processados: 153 de 217\n",
      "Percentual de processamento: 71%\n",
      "[2024-09-16 16:30:52.146646] Baixando e processando PARN2407.dbc.\n"
     ]
    },
    {
     "name": "stderr",
     "output_type": "stream",
     "text": [
      "PARN2407.parquet: 100%|█████████████████████████████████████████████████████████████████████████████████████████████████████████████████████████████████████████████████████| 1.03M/1.03M [00:34<00:00, 29.7kB/s]\n"
     ]
    },
    {
     "name": "stdout",
     "output_type": "stream",
     "text": [
      "[2024-09-16 16:31:30.512011] Arquivo PARN2407.dbc salvo em /home/amcjr/pysus/PARN2407.dbc.parquet.\n",
      "Arquivos processados: 154 de 217\n",
      "Percentual de processamento: 71%\n",
      "[2024-09-16 16:31:30.645939] Baixando e processando PARO2401.dbc.\n"
     ]
    },
    {
     "name": "stderr",
     "output_type": "stream",
     "text": [
      "100%|███████████████████████████████████████████████████████████████████████████████████████████████████████████████████████████████████████████████████████████████████████| 14.9M/14.9M [00:00<00:00, 3.92GB/s]\n"
     ]
    },
    {
     "name": "stdout",
     "output_type": "stream",
     "text": [
      "[2024-09-16 16:31:30.653599] Arquivo PARO2401.dbc salvo em /home/amcjr/pysus/PARO2401.dbc.parquet.\n",
      "Arquivos processados: 155 de 217\n",
      "Percentual de processamento: 71%\n",
      "[2024-09-16 16:31:30.787054] Baixando e processando PARO2402.dbc.\n"
     ]
    },
    {
     "name": "stderr",
     "output_type": "stream",
     "text": [
      "100%|███████████████████████████████████████████████████████████████████████████████████████████████████████████████████████████████████████████████████████████████████████| 16.0M/16.0M [00:00<00:00, 1.82GB/s]\n"
     ]
    },
    {
     "name": "stdout",
     "output_type": "stream",
     "text": [
      "[2024-09-16 16:31:30.800674] Arquivo PARO2402.dbc salvo em /home/amcjr/pysus/PARO2402.dbc.parquet.\n",
      "Arquivos processados: 156 de 217\n",
      "Percentual de processamento: 72%\n",
      "[2024-09-16 16:31:30.927262] Baixando e processando PARO2403.dbc.\n"
     ]
    },
    {
     "name": "stderr",
     "output_type": "stream",
     "text": [
      "100%|███████████████████████████████████████████████████████████████████████████████████████████████████████████████████████████████████████████████████████████████████████| 14.3M/14.3M [00:00<00:00, 4.54GB/s]\n"
     ]
    },
    {
     "name": "stdout",
     "output_type": "stream",
     "text": [
      "[2024-09-16 16:31:30.933238] Arquivo PARO2403.dbc salvo em /home/amcjr/pysus/PARO2403.dbc.parquet.\n",
      "Arquivos processados: 157 de 217\n",
      "Percentual de processamento: 72%\n",
      "[2024-09-16 16:31:31.055741] Baixando e processando PARO2404.dbc.\n"
     ]
    },
    {
     "name": "stderr",
     "output_type": "stream",
     "text": [
      "100%|███████████████████████████████████████████████████████████████████████████████████████████████████████████████████████████████████████████████████████████████████████| 14.2M/14.2M [00:00<00:00, 1.15GB/s]\n"
     ]
    },
    {
     "name": "stdout",
     "output_type": "stream",
     "text": [
      "[2024-09-16 16:31:31.075674] Arquivo PARO2404.dbc salvo em /home/amcjr/pysus/PARO2404.dbc.parquet.\n",
      "Arquivos processados: 158 de 217\n",
      "Percentual de processamento: 73%\n",
      "[2024-09-16 16:31:31.206266] Baixando e processando PARO2405.dbc.\n"
     ]
    },
    {
     "name": "stderr",
     "output_type": "stream",
     "text": [
      "100%|███████████████████████████████████████████████████████████████████████████████████████████████████████████████████████████████████████████████████████████████████████| 14.0M/14.0M [00:00<00:00, 3.95GB/s]\n"
     ]
    },
    {
     "name": "stdout",
     "output_type": "stream",
     "text": [
      "[2024-09-16 16:31:31.212605] Arquivo PARO2405.dbc salvo em /home/amcjr/pysus/PARO2405.dbc.parquet.\n",
      "Arquivos processados: 159 de 217\n",
      "Percentual de processamento: 73%\n",
      "[2024-09-16 16:31:31.339647] Baixando e processando PARO2406.dbc.\n"
     ]
    },
    {
     "name": "stderr",
     "output_type": "stream",
     "text": [
      "PARO2406.parquet: 100%|███████████████████████████████████████████████████████████████████████████████████████████████████████████████████████████████████████████████████████| 900k/900k [00:30<00:00, 29.8kB/s]\n"
     ]
    },
    {
     "name": "stdout",
     "output_type": "stream",
     "text": [
      "[2024-09-16 16:32:05.327274] Arquivo PARO2406.dbc salvo em /home/amcjr/pysus/PARO2406.dbc.parquet.\n",
      "Arquivos processados: 160 de 217\n",
      "Percentual de processamento: 74%\n",
      "[2024-09-16 16:32:05.462945] Baixando e processando PARO2407.dbc.\n"
     ]
    },
    {
     "name": "stderr",
     "output_type": "stream",
     "text": [
      "PARO2407.parquet: 100%|███████████████████████████████████████████████████████████████████████████████████████████████████████████████████████████████████████████████████████| 827k/827k [00:27<00:00, 29.8kB/s]\n"
     ]
    },
    {
     "name": "stdout",
     "output_type": "stream",
     "text": [
      "[2024-09-16 16:32:36.184668] Arquivo PARO2407.dbc salvo em /home/amcjr/pysus/PARO2407.dbc.parquet.\n",
      "Arquivos processados: 161 de 217\n",
      "Percentual de processamento: 74%\n",
      "[2024-09-16 16:32:36.318335] Baixando e processando PARR2401.dbc.\n"
     ]
    },
    {
     "name": "stderr",
     "output_type": "stream",
     "text": [
      "100%|█████████████████████████████████████████████████████████████████████████████████████████████████████████████████████████████████████████████████████████████████████████| 624k/624k [00:00<00:00, 96.1MB/s]\n"
     ]
    },
    {
     "name": "stdout",
     "output_type": "stream",
     "text": [
      "[2024-09-16 16:32:36.327643] Arquivo PARR2401.dbc salvo em /home/amcjr/pysus/PARR2401.dbc.parquet.\n",
      "Arquivos processados: 162 de 217\n",
      "Percentual de processamento: 75%\n",
      "[2024-09-16 16:32:36.458497] Baixando e processando PARR2402.dbc.\n"
     ]
    },
    {
     "name": "stderr",
     "output_type": "stream",
     "text": [
      "100%|██████████████████████████████████████████████████████████████████████████████████████████████████████████████████████████████████████████████████████████████████████████| 534k/534k [00:00<00:00, 210MB/s]\n"
     ]
    },
    {
     "name": "stdout",
     "output_type": "stream",
     "text": [
      "[2024-09-16 16:32:36.464689] Arquivo PARR2402.dbc salvo em /home/amcjr/pysus/PARR2402.dbc.parquet.\n",
      "Arquivos processados: 163 de 217\n",
      "Percentual de processamento: 75%\n",
      "[2024-09-16 16:32:36.606274] Baixando e processando PARR2403.dbc.\n"
     ]
    },
    {
     "name": "stderr",
     "output_type": "stream",
     "text": [
      "100%|██████████████████████████████████████████████████████████████████████████████████████████████████████████████████████████████████████████████████████████████████████████| 572k/572k [00:00<00:00, 258MB/s]\n"
     ]
    },
    {
     "name": "stdout",
     "output_type": "stream",
     "text": [
      "[2024-09-16 16:32:36.612628] Arquivo PARR2403.dbc salvo em /home/amcjr/pysus/PARR2403.dbc.parquet.\n",
      "Arquivos processados: 164 de 217\n",
      "Percentual de processamento: 76%\n",
      "[2024-09-16 16:32:36.764518] Baixando e processando PARR2404.dbc.\n"
     ]
    },
    {
     "name": "stderr",
     "output_type": "stream",
     "text": [
      "100%|██████████████████████████████████████████████████████████████████████████████████████████████████████████████████████████████████████████████████████████████████████████| 713k/713k [00:00<00:00, 119MB/s]\n"
     ]
    },
    {
     "name": "stdout",
     "output_type": "stream",
     "text": [
      "[2024-09-16 16:32:36.776465] Arquivo PARR2404.dbc salvo em /home/amcjr/pysus/PARR2404.dbc.parquet.\n",
      "Arquivos processados: 165 de 217\n",
      "Percentual de processamento: 76%\n",
      "[2024-09-16 16:32:36.906494] Baixando e processando PARR2405.dbc.\n"
     ]
    },
    {
     "name": "stderr",
     "output_type": "stream",
     "text": [
      "100%|██████████████████████████████████████████████████████████████████████████████████████████████████████████████████████████████████████████████████████████████████████████| 797k/797k [00:00<00:00, 179MB/s]"
     ]
    },
    {
     "name": "stdout",
     "output_type": "stream",
     "text": [
      "[2024-09-16 16:32:36.918551] Arquivo PARR2405.dbc salvo em /home/amcjr/pysus/PARR2405.dbc.parquet.\n"
     ]
    },
    {
     "name": "stderr",
     "output_type": "stream",
     "text": [
      "\n"
     ]
    },
    {
     "name": "stdout",
     "output_type": "stream",
     "text": [
      "Arquivos processados: 166 de 217\n",
      "Percentual de processamento: 76%\n",
      "[2024-09-16 16:32:37.045283] Baixando e processando PARR2406.dbc.\n"
     ]
    },
    {
     "name": "stderr",
     "output_type": "stream",
     "text": [
      "PARR2406.parquet: 100%|█████████████████████████████████████████████████████████████████████████████████████████████████████████████████████████████████████████████████████| 48.6k/48.6k [00:01<00:00, 30.2kB/s]\n"
     ]
    },
    {
     "name": "stdout",
     "output_type": "stream",
     "text": [
      "[2024-09-16 16:32:39.173682] Arquivo PARR2406.dbc salvo em /home/amcjr/pysus/PARR2406.dbc.parquet.\n",
      "Arquivos processados: 167 de 217\n",
      "Percentual de processamento: 77%\n",
      "[2024-09-16 16:32:39.317068] Baixando e processando PARR2407.dbc.\n"
     ]
    },
    {
     "name": "stderr",
     "output_type": "stream",
     "text": [
      "PARR2407.parquet: 100%|█████████████████████████████████████████████████████████████████████████████████████████████████████████████████████████████████████████████████████| 42.3k/42.3k [00:01<00:00, 29.5kB/s]\n"
     ]
    },
    {
     "name": "stdout",
     "output_type": "stream",
     "text": [
      "[2024-09-16 16:32:41.282815] Arquivo PARR2407.dbc salvo em /home/amcjr/pysus/PARR2407.dbc.parquet.\n",
      "Arquivos processados: 168 de 217\n",
      "Percentual de processamento: 77%\n",
      "[2024-09-16 16:32:41.406366] Baixando e processando PARS2401.dbc.\n"
     ]
    },
    {
     "name": "stderr",
     "output_type": "stream",
     "text": [
      "100%|█████████████████████████████████████████████████████████████████████████████████████████████████████████████████████████████████████████████████████████████████████████| 157M/157M [00:00<00:00, 5.23GB/s]\n"
     ]
    },
    {
     "name": "stdout",
     "output_type": "stream",
     "text": [
      "[2024-09-16 16:32:41.444975] Arquivo PARS2401.dbc salvo em /home/amcjr/pysus/PARS2401.dbc.parquet.\n",
      "Arquivos processados: 169 de 217\n",
      "Percentual de processamento: 78%\n",
      "[2024-09-16 16:32:41.601113] Baixando e processando PARS2402.dbc.\n"
     ]
    },
    {
     "name": "stderr",
     "output_type": "stream",
     "text": [
      "100%|█████████████████████████████████████████████████████████████████████████████████████████████████████████████████████████████████████████████████████████████████████████| 141M/141M [00:00<00:00, 16.4GB/s]\n"
     ]
    },
    {
     "name": "stdout",
     "output_type": "stream",
     "text": [
      "[2024-09-16 16:32:41.613068] Arquivo PARS2402.dbc salvo em /home/amcjr/pysus/PARS2402.dbc.parquet.\n",
      "Arquivos processados: 170 de 217\n",
      "Percentual de processamento: 78%\n",
      "[2024-09-16 16:32:41.740712] Baixando e processando PARS2403.dbc.\n"
     ]
    },
    {
     "name": "stderr",
     "output_type": "stream",
     "text": [
      "100%|█████████████████████████████████████████████████████████████████████████████████████████████████████████████████████████████████████████████████████████████████████████| 145M/145M [00:00<00:00, 6.75GB/s]"
     ]
    },
    {
     "name": "stdout",
     "output_type": "stream",
     "text": [
      "[2024-09-16 16:32:41.768886] Arquivo PARS2403.dbc salvo em /home/amcjr/pysus/PARS2403.dbc.parquet.\n"
     ]
    },
    {
     "name": "stderr",
     "output_type": "stream",
     "text": [
      "\n"
     ]
    },
    {
     "name": "stdout",
     "output_type": "stream",
     "text": [
      "Arquivos processados: 171 de 217\n",
      "Percentual de processamento: 79%\n",
      "[2024-09-16 16:32:41.924089] Baixando e processando PARS2404.dbc.\n"
     ]
    },
    {
     "name": "stderr",
     "output_type": "stream",
     "text": [
      "100%|█████████████████████████████████████████████████████████████████████████████████████████████████████████████████████████████████████████████████████████████████████████| 116M/116M [00:00<00:00, 6.01GB/s]\n"
     ]
    },
    {
     "name": "stdout",
     "output_type": "stream",
     "text": [
      "[2024-09-16 16:32:41.950693] Arquivo PARS2404.dbc salvo em /home/amcjr/pysus/PARS2404.dbc.parquet.\n",
      "Arquivos processados: 172 de 217\n",
      "Percentual de processamento: 79%\n",
      "[2024-09-16 16:32:42.099079] Baixando e processando PARS2405.dbc.\n"
     ]
    },
    {
     "name": "stderr",
     "output_type": "stream",
     "text": [
      "100%|█████████████████████████████████████████████████████████████████████████████████████████████████████████████████████████████████████████████████████████████████████████| 102M/102M [00:00<00:00, 6.23GB/s]"
     ]
    },
    {
     "name": "stdout",
     "output_type": "stream",
     "text": [
      "[2024-09-16 16:32:42.123138] Arquivo PARS2405.dbc salvo em /home/amcjr/pysus/PARS2405.dbc.parquet.\n"
     ]
    },
    {
     "name": "stderr",
     "output_type": "stream",
     "text": [
      "\n"
     ]
    },
    {
     "name": "stdout",
     "output_type": "stream",
     "text": [
      "Arquivos processados: 173 de 217\n",
      "Percentual de processamento: 80%\n",
      "[2024-09-16 16:32:42.247217] Baixando e processando PARS2406.dbc.\n"
     ]
    },
    {
     "name": "stderr",
     "output_type": "stream",
     "text": [
      "PARS2406.parquet: 100%|█████████████████████████████████████████████████████████████████████████████████████████████████████████████████████████████████████████████████████| 8.25M/8.25M [04:38<00:00, 29.6kB/s]\n"
     ]
    },
    {
     "name": "stdout",
     "output_type": "stream",
     "text": [
      "[2024-09-16 16:37:48.553079] Arquivo PARS2406.dbc salvo em /home/amcjr/pysus/PARS2406.dbc.parquet.\n",
      "Arquivos processados: 174 de 217\n",
      "Percentual de processamento: 80%\n",
      "[2024-09-16 16:37:48.760213] Baixando e processando PARS2407.dbc.\n"
     ]
    },
    {
     "name": "stderr",
     "output_type": "stream",
     "text": [
      "PARS2407.parquet: 100%|█████████████████████████████████████████████████████████████████████████████████████████████████████████████████████████████████████████████████████| 8.50M/8.50M [04:46<00:00, 29.7kB/s]\n"
     ]
    },
    {
     "name": "stdout",
     "output_type": "stream",
     "text": [
      "[2024-09-16 16:43:04.376137] Arquivo PARS2407.dbc salvo em /home/amcjr/pysus/PARS2407.dbc.parquet.\n",
      "Arquivos processados: 175 de 217\n",
      "Percentual de processamento: 81%\n",
      "[2024-09-16 16:43:04.502929] Baixando e processando PASC2401.dbc.\n"
     ]
    },
    {
     "name": "stderr",
     "output_type": "stream",
     "text": [
      "100%|█████████████████████████████████████████████████████████████████████████████████████████████████████████████████████████████████████████████████████████████████████████| 105M/105M [00:00<00:00, 7.70GB/s]\n"
     ]
    },
    {
     "name": "stdout",
     "output_type": "stream",
     "text": [
      "[2024-09-16 16:43:04.520008] Arquivo PASC2401.dbc salvo em /home/amcjr/pysus/PASC2401.dbc.parquet.\n",
      "Arquivos processados: 176 de 217\n",
      "Percentual de processamento: 81%\n",
      "[2024-09-16 16:43:04.642326] Baixando e processando PASC2402.dbc.\n"
     ]
    },
    {
     "name": "stderr",
     "output_type": "stream",
     "text": [
      "100%|█████████████████████████████████████████████████████████████████████████████████████████████████████████████████████████████████████████████████████████████████████████| 112M/112M [00:00<00:00, 6.57GB/s]\n"
     ]
    },
    {
     "name": "stdout",
     "output_type": "stream",
     "text": [
      "[2024-09-16 16:43:04.666216] Arquivo PASC2402.dbc salvo em /home/amcjr/pysus/PASC2402.dbc.parquet.\n",
      "Arquivos processados: 177 de 217\n",
      "Percentual de processamento: 82%\n",
      "[2024-09-16 16:43:04.792700] Baixando e processando PASC2403.dbc.\n"
     ]
    },
    {
     "name": "stderr",
     "output_type": "stream",
     "text": [
      "100%|█████████████████████████████████████████████████████████████████████████████████████████████████████████████████████████████████████████████████████████████████████████| 111M/111M [00:00<00:00, 8.24GB/s]\n"
     ]
    },
    {
     "name": "stdout",
     "output_type": "stream",
     "text": [
      "[2024-09-16 16:43:04.809306] Arquivo PASC2403.dbc salvo em /home/amcjr/pysus/PASC2403.dbc.parquet.\n",
      "Arquivos processados: 178 de 217\n",
      "Percentual de processamento: 82%\n",
      "[2024-09-16 16:43:04.946062] Baixando e processando PASC2404.dbc.\n"
     ]
    },
    {
     "name": "stderr",
     "output_type": "stream",
     "text": [
      "100%|███████████████████████████████████████████████████████████████████████████████████████████████████████████████████████████████████████████████████████████████████████| 95.9M/95.9M [00:00<00:00, 7.62GB/s]\n"
     ]
    },
    {
     "name": "stdout",
     "output_type": "stream",
     "text": [
      "[2024-09-16 16:43:04.961931] Arquivo PASC2404.dbc salvo em /home/amcjr/pysus/PASC2404.dbc.parquet.\n",
      "Arquivos processados: 179 de 217\n",
      "Percentual de processamento: 82%\n",
      "[2024-09-16 16:43:05.112176] Baixando e processando PASC2405.dbc.\n"
     ]
    },
    {
     "name": "stderr",
     "output_type": "stream",
     "text": [
      "100%|███████████████████████████████████████████████████████████████████████████████████████████████████████████████████████████████████████████████████████████████████████| 99.7M/99.7M [00:00<00:00, 8.82GB/s]\n"
     ]
    },
    {
     "name": "stdout",
     "output_type": "stream",
     "text": [
      "[2024-09-16 16:43:05.126822] Arquivo PASC2405.dbc salvo em /home/amcjr/pysus/PASC2405.dbc.parquet.\n",
      "Arquivos processados: 180 de 217\n",
      "Percentual de processamento: 83%\n",
      "[2024-09-16 16:43:05.279286] Baixando e processando PASC2406.dbc.\n"
     ]
    },
    {
     "name": "stderr",
     "output_type": "stream",
     "text": [
      "PASC2406.parquet: 100%|█████████████████████████████████████████████████████████████████████████████████████████████████████████████████████████████████████████████████████| 6.24M/6.24M [03:30<00:00, 29.7kB/s]\n"
     ]
    },
    {
     "name": "stdout",
     "output_type": "stream",
     "text": [
      "[2024-09-16 16:46:58.098526] Arquivo PASC2406.dbc salvo em /home/amcjr/pysus/PASC2406.dbc.parquet.\n",
      "Arquivos processados: 181 de 217\n",
      "Percentual de processamento: 83%\n",
      "[2024-09-16 16:46:58.242555] Baixando e processando PASC2407.dbc.\n"
     ]
    },
    {
     "name": "stderr",
     "output_type": "stream",
     "text": [
      "PASC2407.parquet: 100%|█████████████████████████████████████████████████████████████████████████████████████████████████████████████████████████████████████████████████████| 6.05M/6.05M [03:22<00:00, 29.8kB/s]\n"
     ]
    },
    {
     "name": "stdout",
     "output_type": "stream",
     "text": [
      "[2024-09-16 16:50:42.944744] Arquivo PASC2407.dbc salvo em /home/amcjr/pysus/PASC2407.dbc.parquet.\n",
      "Arquivos processados: 182 de 217\n",
      "Percentual de processamento: 84%\n",
      "[2024-09-16 16:50:43.101375] Baixando e processando PASE2401.dbc.\n"
     ]
    },
    {
     "name": "stderr",
     "output_type": "stream",
     "text": [
      "100%|███████████████████████████████████████████████████████████████████████████████████████████████████████████████████████████████████████████████████████████████████████| 25.9M/25.9M [00:00<00:00, 1.96GB/s]\n"
     ]
    },
    {
     "name": "stdout",
     "output_type": "stream",
     "text": [
      "[2024-09-16 16:50:43.122878] Arquivo PASE2401.dbc salvo em /home/amcjr/pysus/PASE2401.dbc.parquet.\n",
      "Arquivos processados: 183 de 217\n",
      "Percentual de processamento: 84%\n",
      "[2024-09-16 16:50:43.277956] Baixando e processando PASE2402.dbc.\n"
     ]
    },
    {
     "name": "stderr",
     "output_type": "stream",
     "text": [
      "100%|███████████████████████████████████████████████████████████████████████████████████████████████████████████████████████████████████████████████████████████████████████| 20.9M/20.9M [00:00<00:00, 2.46GB/s]\n"
     ]
    },
    {
     "name": "stdout",
     "output_type": "stream",
     "text": [
      "[2024-09-16 16:50:43.291119] Arquivo PASE2402.dbc salvo em /home/amcjr/pysus/PASE2402.dbc.parquet.\n",
      "Arquivos processados: 184 de 217\n",
      "Percentual de processamento: 85%\n",
      "[2024-09-16 16:50:43.446768] Baixando e processando PASE2403.dbc.\n"
     ]
    },
    {
     "name": "stderr",
     "output_type": "stream",
     "text": [
      "100%|███████████████████████████████████████████████████████████████████████████████████████████████████████████████████████████████████████████████████████████████████████| 21.0M/21.0M [00:00<00:00, 6.19GB/s]"
     ]
    },
    {
     "name": "stdout",
     "output_type": "stream",
     "text": [
      "[2024-09-16 16:50:43.453035] Arquivo PASE2403.dbc salvo em /home/amcjr/pysus/PASE2403.dbc.parquet.\n",
      "Arquivos processados: 185 de 217\n",
      "Percentual de processamento: 85%\n"
     ]
    },
    {
     "name": "stderr",
     "output_type": "stream",
     "text": [
      "\n"
     ]
    },
    {
     "name": "stdout",
     "output_type": "stream",
     "text": [
      "[2024-09-16 16:50:43.609873] Baixando e processando PASE2404.dbc.\n"
     ]
    },
    {
     "name": "stderr",
     "output_type": "stream",
     "text": [
      "100%|███████████████████████████████████████████████████████████████████████████████████████████████████████████████████████████████████████████████████████████████████████| 18.2M/18.2M [00:00<00:00, 2.29GB/s]"
     ]
    },
    {
     "name": "stdout",
     "output_type": "stream",
     "text": [
      "[2024-09-16 16:50:43.621439] Arquivo PASE2404.dbc salvo em /home/amcjr/pysus/PASE2404.dbc.parquet.\n"
     ]
    },
    {
     "name": "stderr",
     "output_type": "stream",
     "text": [
      "\n"
     ]
    },
    {
     "name": "stdout",
     "output_type": "stream",
     "text": [
      "Arquivos processados: 186 de 217\n",
      "Percentual de processamento: 86%\n",
      "[2024-09-16 16:50:43.777293] Baixando e processando PASE2405.dbc.\n"
     ]
    },
    {
     "name": "stderr",
     "output_type": "stream",
     "text": [
      "100%|███████████████████████████████████████████████████████████████████████████████████████████████████████████████████████████████████████████████████████████████████████| 21.4M/21.4M [00:00<00:00, 2.76GB/s]"
     ]
    },
    {
     "name": "stdout",
     "output_type": "stream",
     "text": [
      "[2024-09-16 16:50:43.788243] Arquivo PASE2405.dbc salvo em /home/amcjr/pysus/PASE2405.dbc.parquet.\n",
      "Arquivos processados: 187 de 217\n",
      "Percentual de processamento: 86%\n"
     ]
    },
    {
     "name": "stderr",
     "output_type": "stream",
     "text": [
      "\n"
     ]
    },
    {
     "name": "stdout",
     "output_type": "stream",
     "text": [
      "[2024-09-16 16:50:43.945399] Baixando e processando PASE2406.dbc.\n"
     ]
    },
    {
     "name": "stderr",
     "output_type": "stream",
     "text": [
      "PASE2406.parquet: 100%|█████████████████████████████████████████████████████████████████████████████████████████████████████████████████████████████████████████████████████| 1.34M/1.34M [00:44<00:00, 30.0kB/s]\n"
     ]
    },
    {
     "name": "stdout",
     "output_type": "stream",
     "text": [
      "[2024-09-16 16:51:32.668900] Arquivo PASE2406.dbc salvo em /home/amcjr/pysus/PASE2406.dbc.parquet.\n",
      "Arquivos processados: 188 de 217\n",
      "Percentual de processamento: 87%\n",
      "[2024-09-16 16:51:32.800717] Baixando e processando PASE2407.dbc.\n"
     ]
    },
    {
     "name": "stderr",
     "output_type": "stream",
     "text": [
      "PASE2407.parquet: 100%|█████████████████████████████████████████████████████████████████████████████████████████████████████████████████████████████████████████████████████| 1.43M/1.43M [00:47<00:00, 30.0kB/s]\n"
     ]
    },
    {
     "name": "stdout",
     "output_type": "stream",
     "text": [
      "[2024-09-16 16:52:24.556661] Arquivo PASE2407.dbc salvo em /home/amcjr/pysus/PASE2407.dbc.parquet.\n",
      "Arquivos processados: 189 de 217\n",
      "Percentual de processamento: 87%\n",
      "[2024-09-16 16:52:24.683747] Baixando e processando PASP2401a.dbc.\n"
     ]
    },
    {
     "name": "stderr",
     "output_type": "stream",
     "text": [
      "100%|█████████████████████████████████████████████████████████████████████████████████████████████████████████████████████████████████████████████████████████████████████████| 138M/138M [00:00<00:00, 5.61GB/s]\n"
     ]
    },
    {
     "name": "stdout",
     "output_type": "stream",
     "text": [
      "[2024-09-16 16:52:24.714689] Arquivo PASP2401a.dbc salvo em /home/amcjr/pysus/PASP2401a.dbc.parquet.\n",
      "Arquivos processados: 190 de 217\n",
      "Percentual de processamento: 88%\n",
      "[2024-09-16 16:52:24.838622] Baixando e processando PASP2401b.dbc.\n"
     ]
    },
    {
     "name": "stderr",
     "output_type": "stream",
     "text": [
      "100%|█████████████████████████████████████████████████████████████████████████████████████████████████████████████████████████████████████████████████████████████████████████| 162M/162M [00:00<00:00, 14.3GB/s]\n"
     ]
    },
    {
     "name": "stdout",
     "output_type": "stream",
     "text": [
      "[2024-09-16 16:52:24.853318] Arquivo PASP2401b.dbc salvo em /home/amcjr/pysus/PASP2401b.dbc.parquet.\n",
      "Arquivos processados: 191 de 217\n",
      "Percentual de processamento: 88%\n",
      "[2024-09-16 16:52:24.987961] Baixando e processando PASP2401c.dbc.\n"
     ]
    },
    {
     "name": "stderr",
     "output_type": "stream",
     "text": [
      "100%|███████████████████████████████████████████████████████████████████████████████████████████████████████████████████████████████████████████████████████████████████████| 63.6M/63.6M [00:00<00:00, 7.26GB/s]"
     ]
    },
    {
     "name": "stdout",
     "output_type": "stream",
     "text": [
      "[2024-09-16 16:52:25.000481] Arquivo PASP2401c.dbc salvo em /home/amcjr/pysus/PASP2401c.dbc.parquet.\n"
     ]
    },
    {
     "name": "stderr",
     "output_type": "stream",
     "text": [
      "\n"
     ]
    },
    {
     "name": "stdout",
     "output_type": "stream",
     "text": [
      "Arquivos processados: 192 de 217\n",
      "Percentual de processamento: 88%\n",
      "[2024-09-16 16:52:25.154065] Baixando e processando PASP2402a.dbc.\n"
     ]
    },
    {
     "name": "stderr",
     "output_type": "stream",
     "text": [
      "100%|█████████████████████████████████████████████████████████████████████████████████████████████████████████████████████████████████████████████████████████████████████████| 145M/145M [00:00<00:00, 12.0GB/s]\n"
     ]
    },
    {
     "name": "stdout",
     "output_type": "stream",
     "text": [
      "[2024-09-16 16:52:25.169685] Arquivo PASP2402a.dbc salvo em /home/amcjr/pysus/PASP2402a.dbc.parquet.\n",
      "Arquivos processados: 193 de 217\n",
      "Percentual de processamento: 89%\n",
      "[2024-09-16 16:52:25.315043] Baixando e processando PASP2402b.dbc.\n"
     ]
    },
    {
     "name": "stderr",
     "output_type": "stream",
     "text": [
      "100%|█████████████████████████████████████████████████████████████████████████████████████████████████████████████████████████████████████████████████████████████████████████| 160M/160M [00:00<00:00, 11.1GB/s]"
     ]
    },
    {
     "name": "stdout",
     "output_type": "stream",
     "text": [
      "[2024-09-16 16:52:25.333006] Arquivo PASP2402b.dbc salvo em /home/amcjr/pysus/PASP2402b.dbc.parquet.\n"
     ]
    },
    {
     "name": "stderr",
     "output_type": "stream",
     "text": [
      "\n"
     ]
    },
    {
     "name": "stdout",
     "output_type": "stream",
     "text": [
      "Arquivos processados: 194 de 217\n",
      "Percentual de processamento: 89%\n",
      "[2024-09-16 16:52:25.463440] Baixando e processando PASP2402c.dbc.\n"
     ]
    },
    {
     "name": "stderr",
     "output_type": "stream",
     "text": [
      "100%|███████████████████████████████████████████████████████████████████████████████████████████████████████████████████████████████████████████████████████████████████████| 69.2M/69.2M [00:00<00:00, 6.75GB/s]"
     ]
    },
    {
     "name": "stdout",
     "output_type": "stream",
     "text": [
      "[2024-09-16 16:52:25.476771] Arquivo PASP2402c.dbc salvo em /home/amcjr/pysus/PASP2402c.dbc.parquet.\n"
     ]
    },
    {
     "name": "stderr",
     "output_type": "stream",
     "text": [
      "\n"
     ]
    },
    {
     "name": "stdout",
     "output_type": "stream",
     "text": [
      "Arquivos processados: 195 de 217\n",
      "Percentual de processamento: 90%\n",
      "[2024-09-16 16:52:25.601906] Baixando e processando PASP2403a.dbc.\n"
     ]
    },
    {
     "name": "stderr",
     "output_type": "stream",
     "text": [
      "100%|█████████████████████████████████████████████████████████████████████████████████████████████████████████████████████████████████████████████████████████████████████████| 135M/135M [00:00<00:00, 7.52GB/s]"
     ]
    },
    {
     "name": "stdout",
     "output_type": "stream",
     "text": [
      "[2024-09-16 16:52:25.628282] Arquivo PASP2403a.dbc salvo em /home/amcjr/pysus/PASP2403a.dbc.parquet.\n"
     ]
    },
    {
     "name": "stderr",
     "output_type": "stream",
     "text": [
      "\n"
     ]
    },
    {
     "name": "stdout",
     "output_type": "stream",
     "text": [
      "Arquivos processados: 196 de 217\n",
      "Percentual de processamento: 90%\n",
      "[2024-09-16 16:52:25.754451] Baixando e processando PASP2403b.dbc.\n"
     ]
    },
    {
     "name": "stderr",
     "output_type": "stream",
     "text": [
      "100%|█████████████████████████████████████████████████████████████████████████████████████████████████████████████████████████████████████████████████████████████████████████| 146M/146M [00:00<00:00, 15.1GB/s]\n"
     ]
    },
    {
     "name": "stdout",
     "output_type": "stream",
     "text": [
      "[2024-09-16 16:52:25.768249] Arquivo PASP2403b.dbc salvo em /home/amcjr/pysus/PASP2403b.dbc.parquet.\n",
      "Arquivos processados: 197 de 217\n",
      "Percentual de processamento: 91%\n",
      "[2024-09-16 16:52:25.923464] Baixando e processando PASP2403c.dbc.\n"
     ]
    },
    {
     "name": "stderr",
     "output_type": "stream",
     "text": [
      "100%|█████████████████████████████████████████████████████████████████████████████████████████████████████████████████████████████████████████████████████████████████████████| 105M/105M [00:00<00:00, 5.07GB/s]\n"
     ]
    },
    {
     "name": "stdout",
     "output_type": "stream",
     "text": [
      "[2024-09-16 16:52:25.952264] Arquivo PASP2403c.dbc salvo em /home/amcjr/pysus/PASP2403c.dbc.parquet.\n",
      "Arquivos processados: 198 de 217\n",
      "Percentual de processamento: 91%\n",
      "[2024-09-16 16:52:26.076730] Baixando e processando PASP2404a.dbc.\n"
     ]
    },
    {
     "name": "stderr",
     "output_type": "stream",
     "text": [
      "100%|█████████████████████████████████████████████████████████████████████████████████████████████████████████████████████████████████████████████████████████████████████████| 120M/120M [00:00<00:00, 6.60GB/s]"
     ]
    },
    {
     "name": "stdout",
     "output_type": "stream",
     "text": [
      "[2024-09-16 16:52:26.101540] Arquivo PASP2404a.dbc salvo em /home/amcjr/pysus/PASP2404a.dbc.parquet.\n",
      "Arquivos processados: 199 de 217\n",
      "Percentual de processamento: 92%\n"
     ]
    },
    {
     "name": "stderr",
     "output_type": "stream",
     "text": [
      "\n"
     ]
    },
    {
     "name": "stdout",
     "output_type": "stream",
     "text": [
      "[2024-09-16 16:52:26.228833] Baixando e processando PASP2404b.dbc.\n"
     ]
    },
    {
     "name": "stderr",
     "output_type": "stream",
     "text": [
      "100%|█████████████████████████████████████████████████████████████████████████████████████████████████████████████████████████████████████████████████████████████████████████| 124M/124M [00:00<00:00, 9.66GB/s]"
     ]
    },
    {
     "name": "stdout",
     "output_type": "stream",
     "text": [
      "[2024-09-16 16:52:26.245282] Arquivo PASP2404b.dbc salvo em /home/amcjr/pysus/PASP2404b.dbc.parquet.\n"
     ]
    },
    {
     "name": "stderr",
     "output_type": "stream",
     "text": [
      "\n"
     ]
    },
    {
     "name": "stdout",
     "output_type": "stream",
     "text": [
      "Arquivos processados: 200 de 217\n",
      "Percentual de processamento: 92%\n",
      "[2024-09-16 16:52:26.398066] Baixando e processando PASP2404c.dbc.\n"
     ]
    },
    {
     "name": "stderr",
     "output_type": "stream",
     "text": [
      "100%|███████████████████████████████████████████████████████████████████████████████████████████████████████████████████████████████████████████████████████████████████████| 98.8M/98.8M [00:00<00:00, 6.77GB/s]"
     ]
    },
    {
     "name": "stdout",
     "output_type": "stream",
     "text": [
      "[2024-09-16 16:52:26.421030] Arquivo PASP2404c.dbc salvo em /home/amcjr/pysus/PASP2404c.dbc.parquet.\n"
     ]
    },
    {
     "name": "stderr",
     "output_type": "stream",
     "text": [
      "\n"
     ]
    },
    {
     "name": "stdout",
     "output_type": "stream",
     "text": [
      "Arquivos processados: 201 de 217\n",
      "Percentual de processamento: 93%\n",
      "[2024-09-16 16:52:26.574036] Baixando e processando PASP2405a.dbc.\n"
     ]
    },
    {
     "name": "stderr",
     "output_type": "stream",
     "text": [
      "100%|█████████████████████████████████████████████████████████████████████████████████████████████████████████████████████████████████████████████████████████████████████████| 119M/119M [00:00<00:00, 3.08GB/s]\n"
     ]
    },
    {
     "name": "stdout",
     "output_type": "stream",
     "text": [
      "[2024-09-16 16:52:26.623262] Arquivo PASP2405a.dbc salvo em /home/amcjr/pysus/PASP2405a.dbc.parquet.\n",
      "Arquivos processados: 202 de 217\n",
      "Percentual de processamento: 93%\n",
      "[2024-09-16 16:52:26.754354] Baixando e processando PASP2405b.dbc.\n"
     ]
    },
    {
     "name": "stderr",
     "output_type": "stream",
     "text": [
      "100%|█████████████████████████████████████████████████████████████████████████████████████████████████████████████████████████████████████████████████████████████████████████| 131M/131M [00:00<00:00, 10.5GB/s]"
     ]
    },
    {
     "name": "stdout",
     "output_type": "stream",
     "text": [
      "[2024-09-16 16:52:26.770717] Arquivo PASP2405b.dbc salvo em /home/amcjr/pysus/PASP2405b.dbc.parquet.\n",
      "Arquivos processados: 203 de 217\n",
      "Percentual de processamento: 94%\n"
     ]
    },
    {
     "name": "stderr",
     "output_type": "stream",
     "text": [
      "\n"
     ]
    },
    {
     "name": "stdout",
     "output_type": "stream",
     "text": [
      "[2024-09-16 16:52:26.901055] Baixando e processando PASP2405c.dbc.\n"
     ]
    },
    {
     "name": "stderr",
     "output_type": "stream",
     "text": [
      "100%|█████████████████████████████████████████████████████████████████████████████████████████████████████████████████████████████████████████████████████████████████████████| 111M/111M [00:00<00:00, 12.7GB/s]"
     ]
    },
    {
     "name": "stdout",
     "output_type": "stream",
     "text": [
      "[2024-09-16 16:52:26.913191] Arquivo PASP2405c.dbc salvo em /home/amcjr/pysus/PASP2405c.dbc.parquet.\n"
     ]
    },
    {
     "name": "stderr",
     "output_type": "stream",
     "text": [
      "\n"
     ]
    },
    {
     "name": "stdout",
     "output_type": "stream",
     "text": [
      "Arquivos processados: 204 de 217\n",
      "Percentual de processamento: 94%\n",
      "[2024-09-16 16:52:27.039510] Baixando e processando PASP2406a.dbc.\n"
     ]
    },
    {
     "name": "stderr",
     "output_type": "stream",
     "text": [
      "PASP2406a.parquet: 100%|████████████████████████████████████████████████████████████████████████████████████████████████████████████████████████████████████████████████████| 10.4M/10.4M [05:55<00:00, 29.4kB/s]\n"
     ]
    },
    {
     "name": "stdout",
     "output_type": "stream",
     "text": [
      "[2024-09-16 16:59:02.395890] Arquivo PASP2406a.dbc salvo em /home/amcjr/pysus/PASP2406a.dbc.parquet.\n",
      "Arquivos processados: 205 de 217\n",
      "Percentual de processamento: 94%\n",
      "[2024-09-16 16:59:02.520986] Baixando e processando PASP2406b.dbc.\n"
     ]
    },
    {
     "name": "stderr",
     "output_type": "stream",
     "text": [
      "PASP2406b.parquet: 100%|████████████████████████████████████████████████████████████████████████████████████████████████████████████████████████████████████████████████████| 9.94M/9.94M [05:35<00:00, 29.7kB/s]\n"
     ]
    },
    {
     "name": "stdout",
     "output_type": "stream",
     "text": [
      "[2024-09-16 17:05:09.049623] Arquivo PASP2406b.dbc salvo em /home/amcjr/pysus/PASP2406b.dbc.parquet.\n",
      "Arquivos processados: 206 de 217\n",
      "Percentual de processamento: 95%\n",
      "[2024-09-16 17:05:09.178883] Baixando e processando PASP2406c.dbc.\n"
     ]
    },
    {
     "name": "stderr",
     "output_type": "stream",
     "text": [
      "PASP2406c.parquet: 100%|████████████████████████████████████████████████████████████████████████████████████████████████████████████████████████████████████████████████████| 5.50M/5.50M [03:06<00:00, 29.5kB/s]\n"
     ]
    },
    {
     "name": "stdout",
     "output_type": "stream",
     "text": [
      "[2024-09-16 17:08:34.398802] Arquivo PASP2406c.dbc salvo em /home/amcjr/pysus/PASP2406c.dbc.parquet.\n",
      "Arquivos processados: 207 de 217\n",
      "Percentual de processamento: 95%\n",
      "[2024-09-16 17:08:34.525761] Baixando e processando PASP2407a.dbc.\n"
     ]
    },
    {
     "name": "stderr",
     "output_type": "stream",
     "text": [
      "PASP2407a.parquet: 100%|████████████████████████████████████████████████████████████████████████████████████████████████████████████████████████████████████████████████████| 10.2M/10.2M [05:44<00:00, 29.5kB/s]\n"
     ]
    },
    {
     "name": "stdout",
     "output_type": "stream",
     "text": [
      "[2024-09-16 17:14:48.318870] Arquivo PASP2407a.dbc salvo em /home/amcjr/pysus/PASP2407a.dbc.parquet.\n",
      "Arquivos processados: 208 de 217\n",
      "Percentual de processamento: 96%\n",
      "[2024-09-16 17:14:48.450884] Baixando e processando PASP2407b.dbc.\n"
     ]
    },
    {
     "name": "stderr",
     "output_type": "stream",
     "text": [
      "PASP2407b.parquet: 100%|████████████████████████████████████████████████████████████████████████████████████████████████████████████████████████████████████████████████████| 9.99M/9.99M [05:38<00:00, 29.5kB/s]\n"
     ]
    },
    {
     "name": "stdout",
     "output_type": "stream",
     "text": [
      "[2024-09-16 17:20:54.535997] Arquivo PASP2407b.dbc salvo em /home/amcjr/pysus/PASP2407b.dbc.parquet.\n",
      "Arquivos processados: 209 de 217\n",
      "Percentual de processamento: 96%\n",
      "[2024-09-16 17:20:54.667663] Baixando e processando PASP2407c.dbc.\n"
     ]
    },
    {
     "name": "stderr",
     "output_type": "stream",
     "text": [
      "PASP2407c.parquet: 100%|████████████████████████████████████████████████████████████████████████████████████████████████████████████████████████████████████████████████████| 4.75M/4.75M [02:39<00:00, 29.7kB/s]\n"
     ]
    },
    {
     "name": "stdout",
     "output_type": "stream",
     "text": [
      "[2024-09-16 17:23:51.359078] Arquivo PASP2407c.dbc salvo em /home/amcjr/pysus/PASP2407c.dbc.parquet.\n",
      "Arquivos processados: 210 de 217\n",
      "Percentual de processamento: 97%\n",
      "[2024-09-16 17:23:51.485625] Baixando e processando PATO2401.dbc.\n"
     ]
    },
    {
     "name": "stderr",
     "output_type": "stream",
     "text": [
      "100%|████████████████████████████████████████████████████████████████████████████████████████████████████████████████████████████████████████████████████████████████████████| 6.27M/6.27M [00:00<00:00, 938MB/s]\n"
     ]
    },
    {
     "name": "stdout",
     "output_type": "stream",
     "text": [
      "[2024-09-16 17:23:51.500669] Arquivo PATO2401.dbc salvo em /home/amcjr/pysus/PATO2401.dbc.parquet.\n",
      "Arquivos processados: 211 de 217\n",
      "Percentual de processamento: 97%\n",
      "[2024-09-16 17:23:51.640541] Baixando e processando PATO2402.dbc.\n"
     ]
    },
    {
     "name": "stderr",
     "output_type": "stream",
     "text": [
      "100%|███████████████████████████████████████████████████████████████████████████████████████████████████████████████████████████████████████████████████████████████████████| 6.58M/6.58M [00:00<00:00, 1.52GB/s]\n"
     ]
    },
    {
     "name": "stdout",
     "output_type": "stream",
     "text": [
      "[2024-09-16 17:23:51.652259] Arquivo PATO2402.dbc salvo em /home/amcjr/pysus/PATO2402.dbc.parquet.\n",
      "Arquivos processados: 212 de 217\n",
      "Percentual de processamento: 98%\n",
      "[2024-09-16 17:23:51.779526] Baixando e processando PATO2403.dbc.\n"
     ]
    },
    {
     "name": "stderr",
     "output_type": "stream",
     "text": [
      "100%|████████████████████████████████████████████████████████████████████████████████████████████████████████████████████████████████████████████████████████████████████████| 6.92M/6.92M [00:00<00:00, 937MB/s]"
     ]
    },
    {
     "name": "stdout",
     "output_type": "stream",
     "text": [
      "[2024-09-16 17:23:51.790169] Arquivo PATO2403.dbc salvo em /home/amcjr/pysus/PATO2403.dbc.parquet.\n",
      "Arquivos processados: 213 de 217\n",
      "Percentual de processamento: 98%\n"
     ]
    },
    {
     "name": "stderr",
     "output_type": "stream",
     "text": [
      "\n"
     ]
    },
    {
     "name": "stdout",
     "output_type": "stream",
     "text": [
      "[2024-09-16 17:23:51.915886] Baixando e processando PATO2404.dbc.\n"
     ]
    },
    {
     "name": "stderr",
     "output_type": "stream",
     "text": [
      "100%|███████████████████████████████████████████████████████████████████████████████████████████████████████████████████████████████████████████████████████████████████████| 6.92M/6.92M [00:00<00:00, 2.60GB/s]\n"
     ]
    },
    {
     "name": "stdout",
     "output_type": "stream",
     "text": [
      "[2024-09-16 17:23:51.921469] Arquivo PATO2404.dbc salvo em /home/amcjr/pysus/PATO2404.dbc.parquet.\n",
      "Arquivos processados: 214 de 217\n",
      "Percentual de processamento: 99%\n",
      "[2024-09-16 17:23:52.068529] Baixando e processando PATO2405.dbc.\n"
     ]
    },
    {
     "name": "stderr",
     "output_type": "stream",
     "text": [
      "100%|███████████████████████████████████████████████████████████████████████████████████████████████████████████████████████████████████████████████████████████████████████| 7.68M/7.68M [00:00<00:00, 2.61GB/s]"
     ]
    },
    {
     "name": "stdout",
     "output_type": "stream",
     "text": [
      "[2024-09-16 17:23:52.076763] Arquivo PATO2405.dbc salvo em /home/amcjr/pysus/PATO2405.dbc.parquet.\n"
     ]
    },
    {
     "name": "stderr",
     "output_type": "stream",
     "text": [
      "\n"
     ]
    },
    {
     "name": "stdout",
     "output_type": "stream",
     "text": [
      "Arquivos processados: 215 de 217\n",
      "Percentual de processamento: 99%\n",
      "[2024-09-16 17:23:52.202870] Baixando e processando PATO2406.dbc.\n"
     ]
    },
    {
     "name": "stderr",
     "output_type": "stream",
     "text": [
      "PATO2406.parquet: 100%|███████████████████████████████████████████████████████████████████████████████████████████████████████████████████████████████████████████████████████| 417k/417k [00:14<00:00, 29.1kB/s]\n"
     ]
    },
    {
     "name": "stdout",
     "output_type": "stream",
     "text": [
      "[2024-09-16 17:24:08.147657] Arquivo PATO2406.dbc salvo em /home/amcjr/pysus/PATO2406.dbc.parquet.\n",
      "Arquivos processados: 216 de 217\n",
      "Percentual de processamento: 100%\n",
      "[2024-09-16 17:24:08.270480] Baixando e processando PATO2407.dbc.\n"
     ]
    },
    {
     "name": "stderr",
     "output_type": "stream",
     "text": [
      "PATO2407.parquet: 100%|███████████████████████████████████████████████████████████████████████████████████████████████████████████████████████████████████████████████████████| 403k/403k [00:13<00:00, 29.5kB/s]"
     ]
    },
    {
     "name": "stdout",
     "output_type": "stream",
     "text": [
      "[2024-09-16 17:24:23.515858] Arquivo PATO2407.dbc salvo em /home/amcjr/pysus/PATO2407.dbc.parquet.\n",
      "Arquivos processados: 217 de 217\n",
      "Percentual de processamento: 100%\n",
      "[2024-09-16 17:24:23.594704] Processo finalizado.\n"
     ]
    },
    {
     "name": "stderr",
     "output_type": "stream",
     "text": [
      "\n"
     ]
    }
   ],
   "source": [
    "import pandas as pd\n",
    "from pysus.online_data.SIA import SIA\n",
    "from datetime import datetime\n",
    "import os\n",
    "import gc\n",
    "\n",
    "# Configurações\n",
    "ano = 2024  # Atualizado para 2024\n",
    "grupos = ['PA']  # Foco apenas nos arquivos ambulatoriais \"PA\"\n",
    "output_dir = \"/home/amcjr/pysus/\"\n",
    "if not os.path.exists(output_dir):\n",
    "    os.makedirs(output_dir)\n",
    "\n",
    "log_file = os.path.join(output_dir, f\"log_processo_{datetime.now().strftime('%d%m%y_%H%M%S')}.xlsx\")\n",
    "\n",
    "def iniciar_log():\n",
    "    df_log = pd.DataFrame(columns=[\"Inicio\", \"Fim\", \"Duracao (horas)\", \"Arquivos Processados\"])\n",
    "    return df_log\n",
    "\n",
    "def registrar_log(df_log, inicio, fim, arquivos_processados):\n",
    "    duracao = (fim - inicio).total_seconds() / 3600.0\n",
    "    duracao_str = f\"{int(duracao)}:{int((duracao - int(duracao)) * 60)}\"\n",
    "    novo_registro = pd.DataFrame([{\n",
    "        \"Inicio\": inicio.strftime('%d-%m-%y %H:%M:%S'),\n",
    "        \"Fim\": fim.strftime('%d-%m-%y %H:%M:%S'),\n",
    "        \"Duracao (horas)\": duracao_str,\n",
    "        \"Arquivos Processados\": arquivos_processados\n",
    "    }])\n",
    "    df_log = pd.concat([df_log, novo_registro], ignore_index=True)\n",
    "    df_log.to_excel(log_file, index=False)\n",
    "\n",
    "def listar_arquivos_disponiveis(ano, grupos):\n",
    "    sia = SIA()\n",
    "    arquivos_disponiveis = []\n",
    "    sia.load()  # Load necessary paths or configurations\n",
    "    for grupo in grupos:\n",
    "        try:\n",
    "            print(f\"[{datetime.now()}] Tentando carregar arquivos do grupo {grupo} para o ano {ano}.\")\n",
    "            arquivos = sia.get_files(group=grupo, year=ano)\n",
    "            if arquivos:\n",
    "                arquivos_disponiveis.extend(arquivos)\n",
    "                print(f\"[{datetime.now()}] Arquivos carregados para {grupo}-{ano}: {arquivos}\")\n",
    "            else:\n",
    "                print(f\"[{datetime.now()}] Nenhum arquivo encontrado para {grupo}-{ano}.\")\n",
    "        except Exception as e:\n",
    "            print(f\"[{datetime.now()}] Erro ao carregar arquivos para {grupo}-{ano}: {e}\")\n",
    "    return arquivos_disponiveis\n",
    "\n",
    "def montar_dataframe_info(arquivos_disponiveis):\n",
    "    # Monta um DataFrame com informações gerais sobre os arquivos disponíveis\n",
    "    df_info = pd.DataFrame(arquivos_disponiveis, columns=['Arquivo'])\n",
    "    df_info['Ano'] = ano\n",
    "    df_info['Grupo'] = 'PA'\n",
    "    return df_info\n",
    "\n",
    "def processar_e_salvar(arquivo):\n",
    "    sia = SIA()\n",
    "    try:\n",
    "        parquet_file_path = os.path.join(output_dir, f\"{arquivo}.parquet\")\n",
    "        \n",
    "        # Verifica se o arquivo já foi baixado\n",
    "        if os.path.exists(parquet_file_path):\n",
    "            print(f\"[{datetime.now()}] {arquivo} já foi baixado. Pulando download.\")\n",
    "            return True\n",
    "\n",
    "        print(f\"[{datetime.now()}] Baixando e processando {arquivo}.\")\n",
    "        parquet_set = sia.download([arquivo])\n",
    "        \n",
    "        if not parquet_set:\n",
    "            print(f\"[{datetime.now()}] Não foi possível baixar o arquivo {arquivo}.\")\n",
    "            return False\n",
    "\n",
    "        print(f\"[{datetime.now()}] Arquivo {arquivo} salvo em {parquet_file_path}.\")\n",
    "        gc.collect()\n",
    "        return True\n",
    "        \n",
    "    except Exception as e:\n",
    "        print(f\"[{datetime.now()}] Erro ao processar {arquivo}: {e}\")\n",
    "        return False\n",
    "\n",
    "def main():\n",
    "    print(f\"[{datetime.now()}] Processo iniciado.\")\n",
    "    df_log = iniciar_log()\n",
    "    inicio = datetime.now()\n",
    "    \n",
    "    arquivos_disponiveis = listar_arquivos_disponiveis(ano, grupos)\n",
    "    total_arquivos = len(arquivos_disponiveis)\n",
    "    print(f\"[{datetime.now()}] Total de arquivos disponíveis: {total_arquivos}\")\n",
    "    \n",
    "    # Montar DataFrame com informações gerais dos arquivos disponíveis\n",
    "    df_info = montar_dataframe_info(arquivos_disponiveis)\n",
    "    print(df_info)  # Exibe o DataFrame com informações gerais dos arquivos\n",
    "    \n",
    "    arquivos_processados = 0\n",
    "    for i, arquivo in enumerate(arquivos_disponiveis, 1):\n",
    "        sucesso = processar_e_salvar(arquivo)\n",
    "        if sucesso:\n",
    "            arquivos_processados += 1\n",
    "        print(f\"Arquivos processados: {arquivos_processados} de {total_arquivos}\")\n",
    "        percentual_processado = (arquivos_processados / total_arquivos) * 100\n",
    "        print(f\"Percentual de processamento: {percentual_processado:.0f}%\")\n",
    "\n",
    "    fim = datetime.now()\n",
    "    print(f\"[{datetime.now()}] Processo finalizado.\")\n",
    "    registrar_log(df_log, inicio, fim, arquivos_processados)\n",
    "\n",
    "if __name__ == \"__main__\":\n",
    "    main()\n"
   ]
  },
  {
   "cell_type": "code",
   "execution_count": null,
   "id": "df7cab04-1348-4cde-94c3-def8e83699ab",
   "metadata": {},
   "outputs": [],
   "source": []
  },
  {
   "cell_type": "code",
   "execution_count": null,
   "id": "c85411f4-4cb6-481a-bd21-dc77cffdc3e5",
   "metadata": {},
   "outputs": [],
   "source": []
  }
 ],
 "metadata": {
  "kernelspec": {
   "display_name": "Python (pysus_env)",
   "language": "python",
   "name": "pysus_env"
  },
  "language_info": {
   "codemirror_mode": {
    "name": "ipython",
    "version": 3
   },
   "file_extension": ".py",
   "mimetype": "text/x-python",
   "name": "python",
   "nbconvert_exporter": "python",
   "pygments_lexer": "ipython3",
   "version": "3.10.12"
  }
 },
 "nbformat": 4,
 "nbformat_minor": 5
}
