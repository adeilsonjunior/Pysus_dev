{
 "cells": [
  {
   "cell_type": "code",
   "execution_count": 4,
   "id": "9b7ba30c-44af-49fb-873c-dab37821f4ba",
   "metadata": {},
   "outputs": [
    {
     "ename": "ModuleNotFoundError",
     "evalue": "No module named 'pysus.utilities.readdbc'",
     "output_type": "error",
     "traceback": [
      "\u001b[0;31m---------------------------------------------------------------------------\u001b[0m",
      "\u001b[0;31mModuleNotFoundError\u001b[0m                       Traceback (most recent call last)",
      "Cell \u001b[0;32mIn[4], line 3\u001b[0m\n\u001b[1;32m      1\u001b[0m \u001b[38;5;28;01mimport\u001b[39;00m \u001b[38;5;21;01mpandas\u001b[39;00m \u001b[38;5;28;01mas\u001b[39;00m \u001b[38;5;21;01mpd\u001b[39;00m\n\u001b[1;32m      2\u001b[0m \u001b[38;5;28;01mfrom\u001b[39;00m \u001b[38;5;21;01mpysus\u001b[39;00m\u001b[38;5;21;01m.\u001b[39;00m\u001b[38;5;21;01monline_data\u001b[39;00m\u001b[38;5;21;01m.\u001b[39;00m\u001b[38;5;21;01mSIA\u001b[39;00m \u001b[38;5;28;01mimport\u001b[39;00m download\n\u001b[0;32m----> 3\u001b[0m \u001b[38;5;28;01mfrom\u001b[39;00m \u001b[38;5;21;01mpysus\u001b[39;00m\u001b[38;5;21;01m.\u001b[39;00m\u001b[38;5;21;01mutilities\u001b[39;00m\u001b[38;5;21;01m.\u001b[39;00m\u001b[38;5;21;01mreaddbc\u001b[39;00m \u001b[38;5;28;01mimport\u001b[39;00m read_dbc\n\u001b[1;32m      4\u001b[0m \u001b[38;5;28;01mimport\u001b[39;00m \u001b[38;5;21;01mos\u001b[39;00m\n\u001b[1;32m      5\u001b[0m \u001b[38;5;28;01mimport\u001b[39;00m \u001b[38;5;21;01mglob\u001b[39;00m\n",
      "\u001b[0;31mModuleNotFoundError\u001b[0m: No module named 'pysus.utilities.readdbc'"
     ]
    }
   ],
   "source": [
    "import pandas as pd\n",
    "from pysus.online_data.SIA import download\n",
    "from pysus.utilities.readdbc import read_dbc\n",
    "import os\n",
    "import glob\n",
    "\n",
    "# Configurações\n",
    "output_dir = \"/home/amcjr/pysus/processed/\"\n",
    "if not os.path.exists(output_dir):\n",
    "    os.makedirs(output_dir)\n",
    "\n",
    "# Intervalo e condições do filtro\n",
    "ano_inicial = 2023\n",
    "ano_final = 2023\n",
    "mes_inicial = 1\n",
    "mes_final = 12\n",
    "condicao = \"PG\"\n",
    "tipo_financiamento = \"06\"\n",
    "\n",
    "# Função para carregar e processar os dados\n",
    "def processar_arquivos_sia(output_dir, ano_inicial, ano_final, mes_inicial, mes_final):\n",
    "    # Construir o range de meses no formato 'YYYYMM'\n",
    "    meses = [\n",
    "        f\"{ano}{str(mes).zfill(2)}\"\n",
    "        for ano in range(ano_inicial, ano_final + 1)\n",
    "        for mes in range(mes_inicial, mes_final + 1)\n",
    "    ]\n",
    "    \n",
    "    arquivos = glob.glob(os.path.join(output_dir, \"*.dbc\"))\n",
    "    \n",
    "    # Verifica se há arquivos para processar\n",
    "    if not arquivos:\n",
    "        raise ValueError(\"Nenhum arquivo DBC encontrado na pasta de saída.\")\n",
    "    \n",
    "    dados = []\n",
    "    \n",
    "    for arquivo in arquivos:\n",
    "        print(f\"Processando arquivo: {arquivo}\")\n",
    "        # Lê o arquivo DBC e converte para DataFrame\n",
    "        df = read_dbc(arquivo, encoding=\"iso-8859-1\")\n",
    "        dados.append(df)\n",
    "\n",
    "    # Combinar todos os dados em um único DataFrame\n",
    "    df_completo = pd.concat(dados, ignore_index=True)\n",
    "    \n",
    "    # Aplicar filtros\n",
    "    df_filtrado = df_completo[\n",
    "        (df_completo[\"CO_PA_MVM\"].isin(meses)) &\n",
    "        (df_completo[\"CO_PA_CONDIC\"] == condicao) &\n",
    "        (df_completo[\"CO_PA_TPFIN\"] == tipo_financiamento)\n",
    "    ]\n",
    "    \n",
    "    # Realizar o agrupamento e sumarização\n",
    "    df_resumo = (\n",
    "        df_filtrado.groupby(\n",
    "            [\"CO_PA_PROC_ID\", \"CO_PA_UFMUN\", \"CO_PA_MUNPCN\", \"CO_PA_DOCORIG\"],\n",
    "            as_index=False\n",
    "        )\n",
    "        .agg(\n",
    "            NU_QUANTIDADE=(\"NU_PA_QTDAPR\", \"sum\"),\n",
    "            NU_VALOR=(\"NU_PA_VALAPR\", \"sum\")\n",
    "        )\n",
    "    )\n",
    "    \n",
    "    return df_resumo\n",
    "\n",
    "# Execução do processamento\n",
    "try:\n",
    "    df_resultado = processar_arquivos_sia(output_dir, ano_inicial, ano_final, mes_inicial, mes_final)\n",
    "    print(df_resultado.head())  # Exibe uma prévia do DataFrame\n",
    "    # Salvar em CSV ou outra saída\n",
    "    df_resultado.to_csv(os.path.join(output_dir, \"resumo_sia_2023.csv\"), index=False)\n",
    "    print(\"Resumo salvo com sucesso.\")\n",
    "except Exception as e:\n",
    "    print(f\"Erro durante o processamento: {e}\")\n"
   ]
  },
  {
   "cell_type": "code",
   "execution_count": null,
   "id": "7e4d1ac6-01ea-4a78-9065-5474b317d503",
   "metadata": {},
   "outputs": [],
   "source": []
  }
 ],
 "metadata": {
  "kernelspec": {
   "display_name": "Python (pysus_env)",
   "language": "python",
   "name": "pysus_env"
  },
  "language_info": {
   "codemirror_mode": {
    "name": "ipython",
    "version": 3
   },
   "file_extension": ".py",
   "mimetype": "text/x-python",
   "name": "python",
   "nbconvert_exporter": "python",
   "pygments_lexer": "ipython3",
   "version": "3.10.12"
  }
 },
 "nbformat": 4,
 "nbformat_minor": 5
}
